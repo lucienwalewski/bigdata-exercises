{
 "cells": [
  {
   "cell_type": "markdown",
   "metadata": {},
   "source": [
    "# Big Data – Exercises\n",
    "\n",
    "# Fall 2022 -  Week 11 - RumbleDB\n",
    "\n"
   ]
  },
  {
   "cell_type": "markdown",
   "metadata": {},
   "source": [
    "# 1. Install RumbleDB"
   ]
  },
  {
   "cell_type": "markdown",
   "metadata": {},
   "source": [
    "We recommend you install RumbleDB locally. \n",
    "\n",
    "## Option 1: locally\n",
    "To install the latest version of RumbleDB locally, you can follow the steps given on the official rumbledb website: \n",
    "https://rumble.readthedocs.io/en/latest/Getting%20started/\n",
    "\n",
    "Please follow very carefully the instructions of [Method 1](https://rumble.readthedocs.io/en/latest/Getting%20started/#method-1-with-the-large-standalone-rumbledb-jar-experimental), in particular, download the big jar and execute it with the normal `java -jar` instruction, with Java 8 or 11. You can put the jar file in the working directory of this week. \n",
    "\n",
    "To launch a JSONiq shell with:\n",
    "\n",
    "`java -jar rumbledb-1.20.0-standalone.jar repl`\n",
    "\n",
    "This gives access to the RumbleDB shell where you can try commands. Note that to run each command, you should press 'Enter' two times, and you can quit with 'exit'. \n",
    "\n",
    "You need to make sure the Java version is correct and the JAVA_HOME environment variable is correctly set. \n",
    "\n",
    "E.g., on MacOS, (1) you can set `export JAVA_HOME=$(/usr/libexec/java_home -v 11)`; or (2) export `JAVA_HOME` to `/Library/Java/JavaVirtualMachines/jdk-11.0.1.jdk/Contents/Home/` or similar. On Linux/Windows OS there are similar methods to set `JAVA_HOME`. \n",
    "\n",
    "\n",
    "## Option 2: Github codespaces\n",
    "If the local installation does not work for you, please use this option. \n",
    "See this [tutorial](https://cloud.inf.ethz.ch/s/KHLnq9HsQHfLHHQ/download) for running RumbleDB on Github codespaces. \n"
   ]
  },
  {
   "cell_type": "markdown",
   "metadata": {},
   "source": [
    "# 2. Setup RumbleDB in Jupyter Notebook\n",
    "\n"
   ]
  },
  {
   "cell_type": "markdown",
   "metadata": {},
   "source": [
    "### Install Jupyter Notebook\n",
    "\n"
   ]
  },
  {
   "cell_type": "markdown",
   "metadata": {},
   "source": [
    "In order to execute the queries in this notebook, you need to [install](https://jupyter.org/install) jupyter notebook on your **own machine**, and then download this notebook and [run](https://jupyter.readthedocs.io/en/latest/running.html#running) it locally."
   ]
  },
  {
   "cell_type": "markdown",
   "metadata": {},
   "source": [
    "From now we want to run the code on this notebook instead of the shell, hence you can close the shell (Ctrl+C or type 'exit') and execute your own Rumble server by running:\n",
    "\n",
    "```\n",
    "java -jar rumbledb-1.20.0-standalone.jar --server yes --port 9090\n",
    "```\n",
    "\n",
    "The mount allows RumbleDB to directly read the files from your local disk, in this case your exercise folder of this week. \n",
    "\n",
    "It is recommended to use the port 9090 which normally does not get occupied by other applications.  \n",
    "\n",
    "To verify that the RumbleDB is up and running, you can go to `http://localhost:9090/public.html` in a web browser and you can type queries there.  \n",
    "<img src=\"https://cloud.inf.ethz.ch/s/i9HGoCcDQxxBNKH/download\" width=700>\n"
   ]
  },
  {
   "cell_type": "markdown",
   "metadata": {},
   "source": [
    "   "
   ]
  },
  {
   "cell_type": "markdown",
   "metadata": {},
   "source": [
    "To get started, you first need to execute the cell below to activate the RumbleDB magic (you do not need to understand what it does, this is just initialization Python code)."
   ]
  },
  {
   "cell_type": "code",
   "execution_count": 10,
   "metadata": {},
   "outputs": [
    {
     "ename": "UnboundLocalError",
     "evalue": "local variable 'child' referenced before assignment",
     "output_type": "error",
     "traceback": [
      "\u001b[0;31m---------------------------------------------------------------------------\u001b[0m",
      "\u001b[0;31mKeyboardInterrupt\u001b[0m                         Traceback (most recent call last)",
      "File \u001b[0;32m~/Library/Python/3.10/lib/python/site-packages/IPython/utils/_process_posix.py:148\u001b[0m, in \u001b[0;36mProcessHandler.system\u001b[0;34m(self, cmd)\u001b[0m\n\u001b[1;32m    147\u001b[0m \u001b[39melse\u001b[39;00m:\n\u001b[0;32m--> 148\u001b[0m     child \u001b[39m=\u001b[39m pexpect\u001b[39m.\u001b[39;49mspawn(\u001b[39mself\u001b[39;49m\u001b[39m.\u001b[39;49msh, args\u001b[39m=\u001b[39;49m[\u001b[39m'\u001b[39;49m\u001b[39m-c\u001b[39;49m\u001b[39m'\u001b[39;49m, cmd])  \u001b[39m# Vanilla Pexpect\u001b[39;00m\n\u001b[1;32m    149\u001b[0m flush \u001b[39m=\u001b[39m sys\u001b[39m.\u001b[39mstdout\u001b[39m.\u001b[39mflush\n",
      "File \u001b[0;32m~/Library/Python/3.10/lib/python/site-packages/pexpect/pty_spawn.py:205\u001b[0m, in \u001b[0;36mspawn.__init__\u001b[0;34m(self, command, args, timeout, maxread, searchwindowsize, logfile, cwd, env, ignore_sighup, echo, preexec_fn, encoding, codec_errors, dimensions, use_poll)\u001b[0m\n\u001b[1;32m    204\u001b[0m \u001b[39melse\u001b[39;00m:\n\u001b[0;32m--> 205\u001b[0m     \u001b[39mself\u001b[39;49m\u001b[39m.\u001b[39;49m_spawn(command, args, preexec_fn, dimensions)\n\u001b[1;32m    206\u001b[0m \u001b[39mself\u001b[39m\u001b[39m.\u001b[39muse_poll \u001b[39m=\u001b[39m use_poll\n",
      "File \u001b[0;32m~/Library/Python/3.10/lib/python/site-packages/pexpect/pty_spawn.py:303\u001b[0m, in \u001b[0;36mspawn._spawn\u001b[0;34m(self, command, args, preexec_fn, dimensions)\u001b[0m\n\u001b[1;32m    300\u001b[0m     \u001b[39mself\u001b[39m\u001b[39m.\u001b[39margs \u001b[39m=\u001b[39m [a \u001b[39mif\u001b[39;00m \u001b[39misinstance\u001b[39m(a, \u001b[39mbytes\u001b[39m) \u001b[39melse\u001b[39;00m a\u001b[39m.\u001b[39mencode(\u001b[39mself\u001b[39m\u001b[39m.\u001b[39mencoding)\n\u001b[1;32m    301\u001b[0m                  \u001b[39mfor\u001b[39;00m a \u001b[39min\u001b[39;00m \u001b[39mself\u001b[39m\u001b[39m.\u001b[39margs]\n\u001b[0;32m--> 303\u001b[0m \u001b[39mself\u001b[39m\u001b[39m.\u001b[39mptyproc \u001b[39m=\u001b[39m \u001b[39mself\u001b[39;49m\u001b[39m.\u001b[39;49m_spawnpty(\u001b[39mself\u001b[39;49m\u001b[39m.\u001b[39;49margs, env\u001b[39m=\u001b[39;49m\u001b[39mself\u001b[39;49m\u001b[39m.\u001b[39;49menv,\n\u001b[1;32m    304\u001b[0m                              cwd\u001b[39m=\u001b[39;49m\u001b[39mself\u001b[39;49m\u001b[39m.\u001b[39;49mcwd, \u001b[39m*\u001b[39;49m\u001b[39m*\u001b[39;49mkwargs)\n\u001b[1;32m    306\u001b[0m \u001b[39mself\u001b[39m\u001b[39m.\u001b[39mpid \u001b[39m=\u001b[39m \u001b[39mself\u001b[39m\u001b[39m.\u001b[39mptyproc\u001b[39m.\u001b[39mpid\n",
      "File \u001b[0;32m~/Library/Python/3.10/lib/python/site-packages/pexpect/pty_spawn.py:315\u001b[0m, in \u001b[0;36mspawn._spawnpty\u001b[0;34m(self, args, **kwargs)\u001b[0m\n\u001b[1;32m    314\u001b[0m \u001b[39m'''Spawn a pty and return an instance of PtyProcess.'''\u001b[39;00m\n\u001b[0;32m--> 315\u001b[0m \u001b[39mreturn\u001b[39;00m ptyprocess\u001b[39m.\u001b[39;49mPtyProcess\u001b[39m.\u001b[39;49mspawn(args, \u001b[39m*\u001b[39;49m\u001b[39m*\u001b[39;49mkwargs)\n",
      "File \u001b[0;32m~/Library/Python/3.10/lib/python/site-packages/ptyprocess/ptyprocess.py:315\u001b[0m, in \u001b[0;36mPtyProcess.spawn\u001b[0;34m(cls, argv, cwd, env, echo, preexec_fn, dimensions, pass_fds)\u001b[0m\n\u001b[1;32m    314\u001b[0m os\u001b[39m.\u001b[39mclose(exec_err_pipe_write)\n\u001b[0;32m--> 315\u001b[0m exec_err_data \u001b[39m=\u001b[39m os\u001b[39m.\u001b[39;49mread(exec_err_pipe_read, \u001b[39m4096\u001b[39;49m)\n\u001b[1;32m    316\u001b[0m os\u001b[39m.\u001b[39mclose(exec_err_pipe_read)\n",
      "\u001b[0;31mKeyboardInterrupt\u001b[0m: ",
      "\nDuring handling of the above exception, another exception occurred:\n",
      "\u001b[0;31mUnboundLocalError\u001b[0m                         Traceback (most recent call last)",
      "Cell \u001b[0;32mIn[10], line 1\u001b[0m\n\u001b[0;32m----> 1\u001b[0m get_ipython()\u001b[39m.\u001b[39;49msystem(\u001b[39m'\u001b[39;49m\u001b[39mpip install rumbledb\u001b[39;49m\u001b[39m'\u001b[39;49m)\n\u001b[1;32m      2\u001b[0m get_ipython()\u001b[39m.\u001b[39mrun_line_magic(\u001b[39m'\u001b[39m\u001b[39mload_ext\u001b[39m\u001b[39m'\u001b[39m, \u001b[39m'\u001b[39m\u001b[39mrumbledb\u001b[39m\u001b[39m'\u001b[39m)\n\u001b[1;32m      3\u001b[0m get_ipython()\u001b[39m.\u001b[39mrun_line_magic(\u001b[39m'\u001b[39m\u001b[39menv\u001b[39m\u001b[39m'\u001b[39m, \u001b[39m'\u001b[39m\u001b[39mRUMBLEDB_SERVER=http://localhost:9090/jsoniq\u001b[39m\u001b[39m'\u001b[39m)\n",
      "File \u001b[0;32m~/Library/Python/3.10/lib/python/site-packages/ipykernel/zmqshell.py:636\u001b[0m, in \u001b[0;36mZMQInteractiveShell.system_piped\u001b[0;34m(self, cmd)\u001b[0m\n\u001b[1;32m    634\u001b[0m         \u001b[39mself\u001b[39m\u001b[39m.\u001b[39muser_ns[\u001b[39m\"\u001b[39m\u001b[39m_exit_code\u001b[39m\u001b[39m\"\u001b[39m] \u001b[39m=\u001b[39m system(cmd)\n\u001b[1;32m    635\u001b[0m \u001b[39melse\u001b[39;00m:\n\u001b[0;32m--> 636\u001b[0m     \u001b[39mself\u001b[39m\u001b[39m.\u001b[39muser_ns[\u001b[39m\"\u001b[39m\u001b[39m_exit_code\u001b[39m\u001b[39m\"\u001b[39m] \u001b[39m=\u001b[39m system(\u001b[39mself\u001b[39;49m\u001b[39m.\u001b[39;49mvar_expand(cmd, depth\u001b[39m=\u001b[39;49m\u001b[39m1\u001b[39;49m))\n",
      "File \u001b[0;32m~/Library/Python/3.10/lib/python/site-packages/IPython/utils/_process_posix.py:164\u001b[0m, in \u001b[0;36mProcessHandler.system\u001b[0;34m(self, cmd)\u001b[0m\n\u001b[1;32m    159\u001b[0m         out_size \u001b[39m=\u001b[39m \u001b[39mlen\u001b[39m(child\u001b[39m.\u001b[39mbefore)\n\u001b[1;32m    160\u001b[0m \u001b[39mexcept\u001b[39;00m \u001b[39mKeyboardInterrupt\u001b[39;00m:\n\u001b[1;32m    161\u001b[0m     \u001b[39m# We need to send ^C to the process.  The ascii code for '^C' is 3\u001b[39;00m\n\u001b[1;32m    162\u001b[0m     \u001b[39m# (the character is known as ETX for 'End of Text', see\u001b[39;00m\n\u001b[1;32m    163\u001b[0m     \u001b[39m# curses.ascii.ETX).\u001b[39;00m\n\u001b[0;32m--> 164\u001b[0m     child\u001b[39m.\u001b[39msendline(\u001b[39mchr\u001b[39m(\u001b[39m3\u001b[39m))\n\u001b[1;32m    165\u001b[0m     \u001b[39m# Read and print any more output the program might produce on its\u001b[39;00m\n\u001b[1;32m    166\u001b[0m     \u001b[39m# way out.\u001b[39;00m\n\u001b[1;32m    167\u001b[0m     \u001b[39mtry\u001b[39;00m:\n",
      "\u001b[0;31mUnboundLocalError\u001b[0m: local variable 'child' referenced before assignment"
     ]
    }
   ],
   "source": [
    "!pip install rumbledb\n",
    "%load_ext rumbledb\n",
    "%env RUMBLEDB_SERVER=http://localhost:9090/jsoniq"
   ]
  },
  {
   "cell_type": "markdown",
   "metadata": {},
   "source": [
    "\n",
    "Now we are all set! You can now start reading and executing the JSONiq queries as you go, and you can even edit them!"
   ]
  },
  {
   "cell_type": "markdown",
   "metadata": {},
   "source": [
    "# 3. RumbleDB Sandbox\n",
    "Note that for convenience, we reuse [the official Rumble Sandbox tutorial](https://github.com/RumbleDB/rumble/blob/master/RumbleSandbox.ipynb) in this section with minimal adaptation. "
   ]
  },
  {
   "cell_type": "markdown",
   "metadata": {},
   "source": [
    "## JSON\n",
    "\n",
    "As explained on the [official JSON Web site](http://www.json.org/), JSON is a lightweight data-interchange format designed for humans as well as for computers. It supports as values:\n",
    "- objects (string-to-value maps)\n",
    "- arrays (ordered sequences of values)\n",
    "- strings\n",
    "- numbers\n",
    "- booleans (true, false)\n",
    "- null\n",
    "\n",
    "JSONiq provides declarative querying and updating capabilities on JSON data. You can refer to [the documentation of JSONiq](https://www.jsoniq.org/docs/JSONiq/webhelp/index.html) for more detail.\n",
    "\n",
    "## Elevator Pitch\n",
    "\n",
    "JSONiq is based on XQuery, which is a W3C standard (like XML and HTML). XQuery is a very powerful declarative language that originally manipulates XML data, but it turns out that it is also a very good fit for manipulating JSON natively.\n",
    "JSONiq, since it extends XQuery, is a very powerful general-purpose declarative programming language. Our experience is that, for the same task, you will probably write about 80% less code compared to imperative languages like JavaScript, Python or Ruby. Additionally, you get the benefits of strong type checking without actually having to write type declarations.\n",
    "Here is an appetizer before we start the tutorial from scratch.\n"
   ]
  },
  {
   "cell_type": "code",
   "execution_count": null,
   "metadata": {},
   "outputs": [
    {
     "name": "stdout",
     "output_type": "stream",
     "text": [
      "Took: 1.777951955795288 ms\n",
      "[{\"nb\": 1, \"state\": \"MA\", \"sold\": \"broiler\"}, {\"nb\": 1, \"state\": \"MA\", \"sold\": \"socks\"}, {\"nb\": 2, \"state\": \"MA\", \"sold\": \"toaster\"}, {\"nb\": 2, \"state\": \"MA\", \"sold\": \"toaster\"}, {\"nb\": 2, \"state\": \"MA\", \"sold\": \"socks\"}, {\"nb\": 3, \"state\": \"CA\", \"sold\": \"toaster\"}, {\"nb\": 3, \"state\": \"CA\", \"sold\": \"blender\"}, {\"nb\": 3, \"state\": \"CA\", \"sold\": \"blender\"}, {\"nb\": 3, \"state\": \"CA\", \"sold\": \"shirt\"}]\n"
     ]
    }
   ],
   "source": [
    "%%jsoniq\n",
    "\n",
    "let $stores :=\n",
    "[\n",
    "  { \"store number\" : 1, \"state\" : \"MA\" },\n",
    "  { \"store number\" : 2, \"state\" : \"MA\" },\n",
    "  { \"store number\" : 3, \"state\" : \"CA\" },\n",
    "  { \"store number\" : 4, \"state\" : \"CA\" }\n",
    "]\n",
    "let $sales := [\n",
    "   { \"product\" : \"broiler\", \"store number\" : 1, \"quantity\" : 20  },\n",
    "   { \"product\" : \"toaster\", \"store number\" : 2, \"quantity\" : 100 },\n",
    "   { \"product\" : \"toaster\", \"store number\" : 2, \"quantity\" : 50 },\n",
    "   { \"product\" : \"toaster\", \"store number\" : 3, \"quantity\" : 50 },\n",
    "   { \"product\" : \"blender\", \"store number\" : 3, \"quantity\" : 100 },\n",
    "   { \"product\" : \"blender\", \"store number\" : 3, \"quantity\" : 150 },\n",
    "   { \"product\" : \"socks\", \"store number\" : 1, \"quantity\" : 500 },\n",
    "   { \"product\" : \"socks\", \"store number\" : 2, \"quantity\" : 10 },\n",
    "   { \"product\" : \"shirt\", \"store number\" : 3, \"quantity\" : 10 }\n",
    "]\n",
    "let $join :=\n",
    "  for $store in $stores[], $sale in $sales[]\n",
    "  where $store.\"store number\" = $sale.\"store number\"\n",
    "  return {\n",
    "    \"nb\" : $store.\"store number\",\n",
    "    \"state\" : $store.state,\n",
    "    \"sold\" : $sale.product\n",
    "  }\n",
    "return [$join]\n",
    "\n"
   ]
  },
  {
   "cell_type": "markdown",
   "metadata": {},
   "source": [
    "## All JSON values are JSONiq, too\n",
    "\n",
    "The first thing you need to know is that a well-formed JSON document is a JSONiq expression as well.\n",
    "This means that you can copy-and-paste any JSON document into a query. The following are JSONiq queries that are \"idempotent\" (they just output themselves):"
   ]
  },
  {
   "cell_type": "code",
   "execution_count": null,
   "metadata": {},
   "outputs": [
    {
     "name": "stdout",
     "output_type": "stream",
     "text": [
      "Took: 0.029101848602294922 ms\n",
      "{\"pi\": 3.14, \"sq2\": 1.4}\n"
     ]
    }
   ],
   "source": [
    "%%jsoniq\n",
    "{ \"pi\" : 3.14, \"sq2\" : 1.4 }"
   ]
  },
  {
   "cell_type": "code",
   "execution_count": null,
   "metadata": {},
   "outputs": [
    {
     "name": "stdout",
     "output_type": "stream",
     "text": [
      "Took: 1.6681358814239502 ms\n",
      "[2, 3, 5, 7, 11, 13]\n"
     ]
    }
   ],
   "source": [
    "%%jsoniq\n",
    "[ 2, 3, 5, 7, 11, 13 ]"
   ]
  },
  {
   "cell_type": "code",
   "execution_count": null,
   "metadata": {},
   "outputs": [
    {
     "name": "stdout",
     "output_type": "stream",
     "text": [
      "Took: 0.03679299354553223 ms\n",
      "{\"operations\": [{\"binary\": [\"and\", \"or\"]}, {\"unary\": [\"not\"]}], \"bits\": [0, 1]}\n"
     ]
    }
   ],
   "source": [
    "%%jsoniq\n",
    "{\n",
    "      \"operations\" : [\n",
    "        { \"binary\" : [ \"and\", \"or\"] },\n",
    "        { \"unary\" : [\"not\"] }\n",
    "      ],\n",
    "      \"bits\" : [\n",
    "        0, 1\n",
    "      ]\n",
    "    }"
   ]
  },
  {
   "cell_type": "code",
   "execution_count": null,
   "metadata": {},
   "outputs": [
    {
     "name": "stdout",
     "output_type": "stream",
     "text": [
      "Took: 0.024512052536010742 ms\n",
      "[{\"Question\": \"Ultimate\"}, [\"Life\", \"the universe\", \"and everything\"]]\n"
     ]
    }
   ],
   "source": [
    "%%jsoniq\n",
    "[ { \"Question\" : \"Ultimate\" }, [\"Life\", \"the universe\", \"and everything\"] ]"
   ]
  },
  {
   "cell_type": "markdown",
   "metadata": {},
   "source": [
    "This works with objects, arrays (even nested), strings, numbers, booleans, null.\n",
    "\n",
    "It also works the other way round: if your query outputs an object, you can use it as a JSON document.\n",
    "JSONiq is a declarative language. This means that you only need to say what you want - the compiler will take care of the how. \n",
    "\n",
    "In the above queries, you are basically saying: I want to output this JSON content, and here it is."
   ]
  },
  {
   "cell_type": "markdown",
   "metadata": {},
   "source": [
    "In fact JSONiq makes JSON \"dynamic\": try to replace numbers with arithmetic formulas, keys with concatenations of strings, etc and see how the resulting JSON object is automatically created."
   ]
  },
  {
   "cell_type": "code",
   "execution_count": null,
   "metadata": {},
   "outputs": [],
   "source": [
    "%%jsoniq\n",
    "{\n",
    "    \"foo\" : 2 + 2,\n",
    "    \"foo\" || \"bar\" : if(2 gt 1) then true else false\n",
    "}"
   ]
  },
  {
   "cell_type": "markdown",
   "metadata": {},
   "source": [
    "## Navigating an existing JSON dataset\n",
    "\n",
    "Next, let us look at an existing dataset on the Web. We picked a [GitHub archive file](https://gharchive.org)\n",
    "that we stored for convenience at this location: https://www.rumbledb.org/samples/git-archive.json. \n",
    "\n",
    "\n",
    "The data schema is provided [here](https://github.com/igrigorik/gharchive.org/blob/master/bigquery/schema.js), which only includes common activity fields as per [https://gharchive.org](https://gharchive.org). \n",
    "\n",
    "\n",
    "Accessing a JSON dataset can be done in two ways depending on the exact format:\n",
    "\n",
    "- If this is a file that contains a single JSON object spread over multiple lines, use json-doc(URL).\n",
    "- If this is a file that contains one JSON object per line (JSON Lines), use json-file(URL).\n",
    "\n",
    "The GitHub archive dataset is in the JSON Lines format, so we open it with json-file.\n",
    "\n",
    "`git-archive-small.json` is the first 500 lines of `git-archive.json`. \n",
    "\n"
   ]
  },
  {
   "cell_type": "code",
   "execution_count": null,
   "metadata": {
    "scrolled": true
   },
   "outputs": [],
   "source": [
    "%%jsoniq\n",
    "json-file(\"http://www.rumbledb.org/samples/git-archive-small.json\")"
   ]
  },
  {
   "cell_type": "markdown",
   "metadata": {},
   "source": [
    "To view a JSON document in a formatted fashion, you can use oXygen or an online tool like [this](https://jsonformatter.org/json-viewer). A JSON document viewed as a tree can help you better understand the data structure. See the first JSON document in `git-archive-small.json` viewed as a tree. \n",
    "<img src=\"https://cloud.inf.ethz.ch/s/qcqWzck6Rdzmnim/download\" width=900>"
   ]
  },
  {
   "cell_type": "markdown",
   "metadata": {},
   "source": [
    "The previous query output 500 JSON objects. To look closer, let us start looking at just the first object with a number predicate."
   ]
  },
  {
   "cell_type": "code",
   "execution_count": null,
   "metadata": {},
   "outputs": [
    {
     "name": "stdout",
     "output_type": "stream",
     "text": [
      "Took: 26.774677991867065 ms\n",
      "{\"id\": \"7045118886\", \"type\": \"PushEvent\", \"actor\": {\"id\": 20090775, \"login\": \"lainrose\", \"display_login\": \"lainrose\", \"gravatar_id\": \"\", \"url\": \"https://api.github.com/users/lainrose\", \"avatar_url\": \"https://avatars.githubusercontent.com/u/20090775?\"}, \"repo\": {\"id\": 115387592, \"name\": \"lainrose/Python-Grammar\", \"url\": \"https://api.github.com/repos/lainrose/Python-Grammar\"}, \"payload\": {\"push_id\": 2226161589, \"size\": 1, \"distinct_size\": 1, \"ref\": \"refs/heads/master\", \"head\": \"27a01fbdbec8e26daa40fc8faa052dd0be23836a\", \"before\": \"d6fce97b8de28a31d021c9a9f7ac939baa14d208\", \"commits\": [{\"sha\": \"27a01fbdbec8e26daa40fc8faa052dd0be23836a\", \"author\": {\"name\": \"lainrose\", \"email\": \"fb4676bf30682e2ece361fd363a69ad11779c42e@Naver.com\"}, \"message\": \"Update Study Contents\", \"distinct\": true, \"url\": \"https://api.github.com/repos/lainrose/Python-Grammar/commits/27a01fbdbec8e26daa40fc8faa052dd0be23836a\"}]}, \"public\": true, \"created_at\": \"2018-01-01T15:00:00Z\"}\n"
     ]
    }
   ],
   "source": [
    "%%jsoniq\n",
    "json-file(\"http://www.rumbledb.org/samples/git-archive-small.json\")[1]"
   ]
  },
  {
   "cell_type": "markdown",
   "metadata": {},
   "source": [
    "We can see that there are nested objects and arrays. This is perfect for JSONiq. Let us now figure out all the keys used in this dataset with the `keys()` function."
   ]
  },
  {
   "cell_type": "code",
   "execution_count": null,
   "metadata": {},
   "outputs": [],
   "source": [
    "%%jsoniq\n",
    "keys(json-file(\"http://www.rumbledb.org/samples/git-archive-small.json\"))"
   ]
  },
  {
   "cell_type": "markdown",
   "metadata": {},
   "source": [
    "Let us look closer at the key called \"type\". What values does it take? We can use dot-based navigation to navigate down to these values. This will work nicely on the entire dataset."
   ]
  },
  {
   "cell_type": "code",
   "execution_count": null,
   "metadata": {},
   "outputs": [],
   "source": [
    "%%jsoniq\n",
    "json-file(\"http://www.rumbledb.org/samples/git-archive-small.json\").type"
   ]
  },
  {
   "cell_type": "markdown",
   "metadata": {},
   "source": [
    "It looks like there are a lot of duplicates in there. Let us use `distinct-values()` to figure out all unique values. "
   ]
  },
  {
   "cell_type": "code",
   "execution_count": null,
   "metadata": {},
   "outputs": [],
   "source": [
    "%%jsoniq\n",
    "distinct-values(json-file(\"http://www.rumbledb.org/samples/git-archive-small.json\").type)"
   ]
  },
  {
   "cell_type": "markdown",
   "metadata": {},
   "source": [
    "So we see that for the key \"type\", all values are strings and there are only... how many, by the way? Let us use count()."
   ]
  },
  {
   "cell_type": "code",
   "execution_count": null,
   "metadata": {},
   "outputs": [],
   "source": [
    "%%jsoniq\n",
    "count(distinct-values(json-file(\"http://www.rumbledb.org/samples/git-archive-small.json\").type))"
   ]
  },
  {
   "cell_type": "markdown",
   "metadata": {},
   "source": [
    "So there are 13. Note that `count()` works just as well on the entire dataset, to know how many objects there are."
   ]
  },
  {
   "cell_type": "code",
   "execution_count": null,
   "metadata": {},
   "outputs": [],
   "source": [
    "%%jsoniq\n",
    "count(json-file(\"http://www.rumbledb.org/samples/git-archive-small.json\"))"
   ]
  },
  {
   "cell_type": "markdown",
   "metadata": {},
   "source": [
    "Let us know look at nested objects. It seems the key \"actor\" has these, so let us now use the dot object lookup to find all these values."
   ]
  },
  {
   "cell_type": "code",
   "execution_count": null,
   "metadata": {},
   "outputs": [
    {
     "name": "stdout",
     "output_type": "stream",
     "text": [
      "Took: 0.5528261661529541 ms\n",
      "\"Warning! The output sequence contains 500 items but its materialization was capped at 200 items. This value can be configured with the result-size parameter in the query string of the HTTP request.\"\n",
      "{\"id\": 20090775, \"login\": \"lainrose\", \"display_login\": \"lainrose\", \"gravatar_id\": \"\", \"url\": \"https://api.github.com/users/lainrose\", \"avatar_url\": \"https://avatars.githubusercontent.com/u/20090775?\"}\n",
      "{\"id\": 17426563, \"login\": \"tumhopaasmere\", \"display_login\": \"tumhopaasmere\", \"gravatar_id\": \"\", \"url\": \"https://api.github.com/users/tumhopaasmere\", \"avatar_url\": \"https://avatars.githubusercontent.com/u/17426563?\"}\n",
      "{\"id\": 1449578, \"login\": \"daa84\", \"display_login\": \"daa84\", \"gravatar_id\": \"\", \"url\": \"https://api.github.com/users/daa84\", \"avatar_url\": \"https://avatars.githubusercontent.com/u/1449578?\"}\n",
      "{\"id\": 22536460, \"login\": \"thautwarm\", \"display_login\": \"thautwarm\", \"gravatar_id\": \"\", \"url\": \"https://api.github.com/users/thautwarm\", \"avatar_url\": \"https://avatars.githubusercontent.com/u/22536460?\"}\n",
      "{\"id\": 18603467, \"login\": \"markstachowski\", \"display_login\": \"markstachowski\", \"gravatar_id\": \"\", \"url\": \"https://api.github.com/users/markstachowski\", \"avatar_url\": \"https://avatars.githubusercontent.com/u/18603467?\"}\n",
      "{\"id\": 8517910, \"login\": \"LombiqBot\", \"display_login\": \"LombiqBot\", \"gravatar_id\": \"\", \"url\": \"https://api.github.com/users/LombiqBot\", \"avatar_url\": \"https://avatars.githubusercontent.com/u/8517910?\"}\n",
      "{\"id\": 34983100, \"login\": \"template72\", \"display_login\": \"template72\", \"gravatar_id\": \"\", \"url\": \"https://api.github.com/users/template72\", \"avatar_url\": \"https://avatars.githubusercontent.com/u/34983100?\"}\n",
      "{\"id\": 193435, \"login\": \"pgengler\", \"display_login\": \"pgengler\", \"gravatar_id\": \"\", \"url\": \"https://api.github.com/users/pgengler\", \"avatar_url\": \"https://avatars.githubusercontent.com/u/193435?\"}\n",
      "{\"id\": 6098160, \"login\": \"BlackYoup\", \"display_login\": \"BlackYoup\", \"gravatar_id\": \"\", \"url\": \"https://api.github.com/users/BlackYoup\", \"avatar_url\": \"https://avatars.githubusercontent.com/u/6098160?\"}\n",
      "{\"id\": 1449578, \"login\": \"daa84\", \"display_login\": \"daa84\", \"gravatar_id\": \"\", \"url\": \"https://api.github.com/users/daa84\", \"avatar_url\": \"https://avatars.githubusercontent.com/u/1449578?\"}\n",
      "{\"id\": 30130461, \"login\": \"questandachievement\", \"display_login\": \"questandachievement\", \"gravatar_id\": \"\", \"url\": \"https://api.github.com/users/questandachievement\", \"avatar_url\": \"https://avatars.githubusercontent.com/u/30130461?\"}\n",
      "{\"id\": 3840769, \"login\": \"GiladShoham\", \"display_login\": \"GiladShoham\", \"gravatar_id\": \"\", \"url\": \"https://api.github.com/users/GiladShoham\", \"avatar_url\": \"https://avatars.githubusercontent.com/u/3840769?\"}\n",
      "{\"id\": 4248851, \"login\": \"marionebl\", \"display_login\": \"marionebl\", \"gravatar_id\": \"\", \"url\": \"https://api.github.com/users/marionebl\", \"avatar_url\": \"https://avatars.githubusercontent.com/u/4248851?\"}\n",
      "{\"id\": 18074506, \"login\": \"iamvane\", \"display_login\": \"iamvane\", \"gravatar_id\": \"\", \"url\": \"https://api.github.com/users/iamvane\", \"avatar_url\": \"https://avatars.githubusercontent.com/u/18074506?\"}\n",
      "{\"id\": 6794355, \"login\": \"Hzzz\", \"display_login\": \"Hzzz\", \"gravatar_id\": \"\", \"url\": \"https://api.github.com/users/Hzzz\", \"avatar_url\": \"https://avatars.githubusercontent.com/u/6794355?\"}\n",
      "{\"id\": 34887732, \"login\": \"adschange\", \"display_login\": \"adschange\", \"gravatar_id\": \"\", \"url\": \"https://api.github.com/users/adschange\", \"avatar_url\": \"https://avatars.githubusercontent.com/u/34887732?\"}\n",
      "{\"id\": 2768053, \"login\": \"mothnode\", \"display_login\": \"mothnode\", \"gravatar_id\": \"\", \"url\": \"https://api.github.com/users/mothnode\", \"avatar_url\": \"https://avatars.githubusercontent.com/u/2768053?\"}\n",
      "{\"id\": 22879325, \"login\": \"zorori777\", \"display_login\": \"zorori777\", \"gravatar_id\": \"\", \"url\": \"https://api.github.com/users/zorori777\", \"avatar_url\": \"https://avatars.githubusercontent.com/u/22879325?\"}\n",
      "{\"id\": 3862727, \"login\": \"StefanBertels\", \"display_login\": \"StefanBertels\", \"gravatar_id\": \"\", \"url\": \"https://api.github.com/users/StefanBertels\", \"avatar_url\": \"https://avatars.githubusercontent.com/u/3862727?\"}\n",
      "{\"id\": 7939443, \"login\": \"yangshebing\", \"display_login\": \"yangshebing\", \"gravatar_id\": \"\", \"url\": \"https://api.github.com/users/yangshebing\", \"avatar_url\": \"https://avatars.githubusercontent.com/u/7939443?\"}\n",
      "{\"id\": 3054805, \"login\": \"tusharpm\", \"display_login\": \"tusharpm\", \"gravatar_id\": \"\", \"url\": \"https://api.github.com/users/tusharpm\", \"avatar_url\": \"https://avatars.githubusercontent.com/u/3054805?\"}\n",
      "{\"id\": 10273261, \"login\": \"thoced\", \"display_login\": \"thoced\", \"gravatar_id\": \"\", \"url\": \"https://api.github.com/users/thoced\", \"avatar_url\": \"https://avatars.githubusercontent.com/u/10273261?\"}\n",
      "{\"id\": 17426443, \"login\": \"kunfayakun\", \"display_login\": \"kunfayakun\", \"gravatar_id\": \"\", \"url\": \"https://api.github.com/users/kunfayakun\", \"avatar_url\": \"https://avatars.githubusercontent.com/u/17426443?\"}\n",
      "{\"id\": 6129250, \"login\": \"dasMulli\", \"display_login\": \"dasMulli\", \"gravatar_id\": \"\", \"url\": \"https://api.github.com/users/dasMulli\", \"avatar_url\": \"https://avatars.githubusercontent.com/u/6129250?\"}\n",
      "{\"id\": 1686007, \"login\": \"efarbereger\", \"display_login\": \"efarbereger\", \"gravatar_id\": \"\", \"url\": \"https://api.github.com/users/efarbereger\", \"avatar_url\": \"https://avatars.githubusercontent.com/u/1686007?\"}\n",
      "{\"id\": 29869049, \"login\": \"stach\", \"display_login\": \"stach\", \"gravatar_id\": \"\", \"url\": \"https://api.github.com/users/stach\", \"avatar_url\": \"https://avatars.githubusercontent.com/u/29869049?\"}\n",
      "{\"id\": 8517910, \"login\": \"LombiqBot\", \"display_login\": \"LombiqBot\", \"gravatar_id\": \"\", \"url\": \"https://api.github.com/users/LombiqBot\", \"avatar_url\": \"https://avatars.githubusercontent.com/u/8517910?\"}\n",
      "{\"id\": 19637814, \"login\": \"scherzoso\", \"display_login\": \"scherzoso\", \"gravatar_id\": \"\", \"url\": \"https://api.github.com/users/scherzoso\", \"avatar_url\": \"https://avatars.githubusercontent.com/u/19637814?\"}\n",
      "{\"id\": 34490595, \"login\": \"ofile\", \"display_login\": \"ofile\", \"gravatar_id\": \"\", \"url\": \"https://api.github.com/users/ofile\", \"avatar_url\": \"https://avatars.githubusercontent.com/u/34490595?\"}\n",
      "{\"id\": 15818174, \"login\": \"HoangHoi\", \"display_login\": \"HoangHoi\", \"gravatar_id\": \"\", \"url\": \"https://api.github.com/users/HoangHoi\", \"avatar_url\": \"https://avatars.githubusercontent.com/u/15818174?\"}\n",
      "{\"id\": 4029459, \"login\": \"wutthinun\", \"display_login\": \"wutthinun\", \"gravatar_id\": \"\", \"url\": \"https://api.github.com/users/wutthinun\", \"avatar_url\": \"https://avatars.githubusercontent.com/u/4029459?\"}\n",
      "{\"id\": 17591788, \"login\": \"MIN605472\", \"display_login\": \"MIN605472\", \"gravatar_id\": \"\", \"url\": \"https://api.github.com/users/MIN605472\", \"avatar_url\": \"https://avatars.githubusercontent.com/u/17591788?\"}\n",
      "{\"id\": 124741, \"login\": \"karuna\", \"display_login\": \"karuna\", \"gravatar_id\": \"\", \"url\": \"https://api.github.com/users/karuna\", \"avatar_url\": \"https://avatars.githubusercontent.com/u/124741?\"}\n",
      "{\"id\": 620258, \"login\": \"gkchristopher\", \"display_login\": \"gkchristopher\", \"gravatar_id\": \"\", \"url\": \"https://api.github.com/users/gkchristopher\", \"avatar_url\": \"https://avatars.githubusercontent.com/u/620258?\"}\n",
      "{\"id\": 1437341, \"login\": \"vdloo\", \"display_login\": \"vdloo\", \"gravatar_id\": \"\", \"url\": \"https://api.github.com/users/vdloo\", \"avatar_url\": \"https://avatars.githubusercontent.com/u/1437341?\"}\n",
      "{\"id\": 20947719, \"login\": \"RahulParmar-RP\", \"display_login\": \"RahulParmar-RP\", \"gravatar_id\": \"\", \"url\": \"https://api.github.com/users/RahulParmar-RP\", \"avatar_url\": \"https://avatars.githubusercontent.com/u/20947719?\"}\n",
      "{\"id\": 509047, \"login\": \"cjdelisle\", \"display_login\": \"cjdelisle\", \"gravatar_id\": \"\", \"url\": \"https://api.github.com/users/cjdelisle\", \"avatar_url\": \"https://avatars.githubusercontent.com/u/509047?\"}\n",
      "{\"id\": 23271642, \"login\": \"Visualised\", \"display_login\": \"Visualised\", \"gravatar_id\": \"\", \"url\": \"https://api.github.com/users/Visualised\", \"avatar_url\": \"https://avatars.githubusercontent.com/u/23271642?\"}\n",
      "{\"id\": 3218517, \"login\": \"schuppeste\", \"display_login\": \"schuppeste\", \"gravatar_id\": \"\", \"url\": \"https://api.github.com/users/schuppeste\", \"avatar_url\": \"https://avatars.githubusercontent.com/u/3218517?\"}\n",
      "{\"id\": 26708932, \"login\": \"heitaoflower\", \"display_login\": \"heitaoflower\", \"gravatar_id\": \"\", \"url\": \"https://api.github.com/users/heitaoflower\", \"avatar_url\": \"https://avatars.githubusercontent.com/u/26708932?\"}\n",
      "{\"id\": 24660310, \"login\": \"antigosu\", \"display_login\": \"antigosu\", \"gravatar_id\": \"\", \"url\": \"https://api.github.com/users/antigosu\", \"avatar_url\": \"https://avatars.githubusercontent.com/u/24660310?\"}\n",
      "{\"id\": 28597993, \"login\": \"jsyucker\", \"display_login\": \"jsyucker\", \"gravatar_id\": \"\", \"url\": \"https://api.github.com/users/jsyucker\", \"avatar_url\": \"https://avatars.githubusercontent.com/u/28597993?\"}\n",
      "{\"id\": 26363543, \"login\": \"ShawnMapperYT\", \"display_login\": \"ShawnMapperYT\", \"gravatar_id\": \"\", \"url\": \"https://api.github.com/users/ShawnMapperYT\", \"avatar_url\": \"https://avatars.githubusercontent.com/u/26363543?\"}\n",
      "{\"id\": 31409671, \"login\": \"stormxing\", \"display_login\": \"stormxing\", \"gravatar_id\": \"\", \"url\": \"https://api.github.com/users/stormxing\", \"avatar_url\": \"https://avatars.githubusercontent.com/u/31409671?\"}\n",
      "{\"id\": 9958703, \"login\": \"memk\", \"display_login\": \"memk\", \"gravatar_id\": \"\", \"url\": \"https://api.github.com/users/memk\", \"avatar_url\": \"https://avatars.githubusercontent.com/u/9958703?\"}\n",
      "{\"id\": 34921977, \"login\": \"kaushikichhabra\", \"display_login\": \"kaushikichhabra\", \"gravatar_id\": \"\", \"url\": \"https://api.github.com/users/kaushikichhabra\", \"avatar_url\": \"https://avatars.githubusercontent.com/u/34921977?\"}\n",
      "{\"id\": 2997229, \"login\": \"apievangelist\", \"display_login\": \"apievangelist\", \"gravatar_id\": \"\", \"url\": \"https://api.github.com/users/apievangelist\", \"avatar_url\": \"https://avatars.githubusercontent.com/u/2997229?\"}\n",
      "{\"id\": 620258, \"login\": \"gkchristopher\", \"display_login\": \"gkchristopher\", \"gravatar_id\": \"\", \"url\": \"https://api.github.com/users/gkchristopher\", \"avatar_url\": \"https://avatars.githubusercontent.com/u/620258?\"}\n",
      "{\"id\": 19636898, \"login\": \"dd0754\", \"display_login\": \"dd0754\", \"gravatar_id\": \"\", \"url\": \"https://api.github.com/users/dd0754\", \"avatar_url\": \"https://avatars.githubusercontent.com/u/19636898?\"}\n",
      "{\"id\": 34630228, \"login\": \"iFuzzyC\", \"display_login\": \"iFuzzyC\", \"gravatar_id\": \"\", \"url\": \"https://api.github.com/users/iFuzzyC\", \"avatar_url\": \"https://avatars.githubusercontent.com/u/34630228?\"}\n",
      "{\"id\": 20059758, \"login\": \"sumitbot\", \"display_login\": \"sumitbot\", \"gravatar_id\": \"\", \"url\": \"https://api.github.com/users/sumitbot\", \"avatar_url\": \"https://avatars.githubusercontent.com/u/20059758?\"}\n",
      "{\"id\": 3349546, \"login\": \"ycs0405\", \"display_login\": \"ycs0405\", \"gravatar_id\": \"\", \"url\": \"https://api.github.com/users/ycs0405\", \"avatar_url\": \"https://avatars.githubusercontent.com/u/3349546?\"}\n",
      "{\"id\": 5524549, \"login\": \"rizvi\", \"display_login\": \"rizvi\", \"gravatar_id\": \"\", \"url\": \"https://api.github.com/users/rizvi\", \"avatar_url\": \"https://avatars.githubusercontent.com/u/5524549?\"}\n",
      "{\"id\": 22598576, \"login\": \"dudelaw\", \"display_login\": \"dudelaw\", \"gravatar_id\": \"\", \"url\": \"https://api.github.com/users/dudelaw\", \"avatar_url\": \"https://avatars.githubusercontent.com/u/22598576?\"}\n",
      "{\"id\": 21559339, \"login\": \"ShawnNew\", \"display_login\": \"ShawnNew\", \"gravatar_id\": \"\", \"url\": \"https://api.github.com/users/ShawnNew\", \"avatar_url\": \"https://avatars.githubusercontent.com/u/21559339?\"}\n",
      "{\"id\": 2199894, \"login\": \"wstucco\", \"display_login\": \"wstucco\", \"gravatar_id\": \"\", \"url\": \"https://api.github.com/users/wstucco\", \"avatar_url\": \"https://avatars.githubusercontent.com/u/2199894?\"}\n",
      "{\"id\": 23026379, \"login\": \"jyc99\", \"display_login\": \"jyc99\", \"gravatar_id\": \"\", \"url\": \"https://api.github.com/users/jyc99\", \"avatar_url\": \"https://avatars.githubusercontent.com/u/23026379?\"}\n",
      "{\"id\": 12959339, \"login\": \"zhao1157\", \"display_login\": \"zhao1157\", \"gravatar_id\": \"\", \"url\": \"https://api.github.com/users/zhao1157\", \"avatar_url\": \"https://avatars.githubusercontent.com/u/12959339?\"}\n",
      "{\"id\": 24964592, \"login\": \"argo-testing\", \"display_login\": \"argo-testing\", \"gravatar_id\": \"\", \"url\": \"https://api.github.com/users/argo-testing\", \"avatar_url\": \"https://avatars.githubusercontent.com/u/24964592?\"}\n",
      "{\"id\": 20618693, \"login\": \"rwuhrman\", \"display_login\": \"rwuhrman\", \"gravatar_id\": \"\", \"url\": \"https://api.github.com/users/rwuhrman\", \"avatar_url\": \"https://avatars.githubusercontent.com/u/20618693?\"}\n",
      "{\"id\": 5524549, \"login\": \"rizvi\", \"display_login\": \"rizvi\", \"gravatar_id\": \"\", \"url\": \"https://api.github.com/users/rizvi\", \"avatar_url\": \"https://avatars.githubusercontent.com/u/5524549?\"}\n",
      "{\"id\": 19150604, \"login\": \"zhang0chao0\", \"display_login\": \"zhang0chao0\", \"gravatar_id\": \"\", \"url\": \"https://api.github.com/users/zhang0chao0\", \"avatar_url\": \"https://avatars.githubusercontent.com/u/19150604?\"}\n",
      "{\"id\": 86162, \"login\": \"ermaker\", \"display_login\": \"ermaker\", \"gravatar_id\": \"\", \"url\": \"https://api.github.com/users/ermaker\", \"avatar_url\": \"https://avatars.githubusercontent.com/u/86162?\"}\n",
      "{\"id\": 7507446, \"login\": \"minhliem86\", \"display_login\": \"minhliem86\", \"gravatar_id\": \"\", \"url\": \"https://api.github.com/users/minhliem86\", \"avatar_url\": \"https://avatars.githubusercontent.com/u/7507446?\"}\n",
      "{\"id\": 29452781, \"login\": \"ntbpm\", \"display_login\": \"ntbpm\", \"gravatar_id\": \"\", \"url\": \"https://api.github.com/users/ntbpm\", \"avatar_url\": \"https://avatars.githubusercontent.com/u/29452781?\"}\n",
      "{\"id\": 2067864, \"login\": \"Huevos\", \"display_login\": \"Huevos\", \"gravatar_id\": \"\", \"url\": \"https://api.github.com/users/Huevos\", \"avatar_url\": \"https://avatars.githubusercontent.com/u/2067864?\"}\n",
      "{\"id\": 24964592, \"login\": \"argo-testing\", \"display_login\": \"argo-testing\", \"gravatar_id\": \"\", \"url\": \"https://api.github.com/users/argo-testing\", \"avatar_url\": \"https://avatars.githubusercontent.com/u/24964592?\"}\n",
      "{\"id\": 31964343, \"login\": \"HemingNM\", \"display_login\": \"HemingNM\", \"gravatar_id\": \"\", \"url\": \"https://api.github.com/users/HemingNM\", \"avatar_url\": \"https://avatars.githubusercontent.com/u/31964343?\"}\n",
      "{\"id\": 282526, \"login\": \"deitch\", \"display_login\": \"deitch\", \"gravatar_id\": \"\", \"url\": \"https://api.github.com/users/deitch\", \"avatar_url\": \"https://avatars.githubusercontent.com/u/282526?\"}\n",
      "{\"id\": 33287483, \"login\": \"ViPPi98\", \"display_login\": \"ViPPi98\", \"gravatar_id\": \"\", \"url\": \"https://api.github.com/users/ViPPi98\", \"avatar_url\": \"https://avatars.githubusercontent.com/u/33287483?\"}\n",
      "{\"id\": 35003357, \"login\": \"rezaeifardz\", \"display_login\": \"rezaeifardz\", \"gravatar_id\": \"\", \"url\": \"https://api.github.com/users/rezaeifardz\", \"avatar_url\": \"https://avatars.githubusercontent.com/u/35003357?\"}\n",
      "{\"id\": 2997229, \"login\": \"apievangelist\", \"display_login\": \"apievangelist\", \"gravatar_id\": \"\", \"url\": \"https://api.github.com/users/apievangelist\", \"avatar_url\": \"https://avatars.githubusercontent.com/u/2997229?\"}\n",
      "{\"id\": 9958703, \"login\": \"memk\", \"display_login\": \"memk\", \"gravatar_id\": \"\", \"url\": \"https://api.github.com/users/memk\", \"avatar_url\": \"https://avatars.githubusercontent.com/u/9958703?\"}\n",
      "{\"id\": 34065952, \"login\": \"jettymadhankumar\", \"display_login\": \"jettymadhankumar\", \"gravatar_id\": \"\", \"url\": \"https://api.github.com/users/jettymadhankumar\", \"avatar_url\": \"https://avatars.githubusercontent.com/u/34065952?\"}\n",
      "{\"id\": 13733487, \"login\": \"heckflosse\", \"display_login\": \"heckflosse\", \"gravatar_id\": \"\", \"url\": \"https://api.github.com/users/heckflosse\", \"avatar_url\": \"https://avatars.githubusercontent.com/u/13733487?\"}\n",
      "{\"id\": 113001, \"login\": \"aaronpk\", \"display_login\": \"aaronpk\", \"gravatar_id\": \"\", \"url\": \"https://api.github.com/users/aaronpk\", \"avatar_url\": \"https://avatars.githubusercontent.com/u/113001?\"}\n",
      "{\"id\": 2997229, \"login\": \"apievangelist\", \"display_login\": \"apievangelist\", \"gravatar_id\": \"\", \"url\": \"https://api.github.com/users/apievangelist\", \"avatar_url\": \"https://avatars.githubusercontent.com/u/2997229?\"}\n",
      "{\"id\": 366851, \"login\": \"yshui\", \"display_login\": \"yshui\", \"gravatar_id\": \"\", \"url\": \"https://api.github.com/users/yshui\", \"avatar_url\": \"https://avatars.githubusercontent.com/u/366851?\"}\n",
      "{\"id\": 33563064, \"login\": \"SiamSami\", \"display_login\": \"SiamSami\", \"gravatar_id\": \"\", \"url\": \"https://api.github.com/users/SiamSami\", \"avatar_url\": \"https://avatars.githubusercontent.com/u/33563064?\"}\n",
      "{\"id\": 1767865, \"login\": \"Narigo\", \"display_login\": \"Narigo\", \"gravatar_id\": \"\", \"url\": \"https://api.github.com/users/Narigo\", \"avatar_url\": \"https://avatars.githubusercontent.com/u/1767865?\"}\n",
      "{\"id\": 177122, \"login\": \"Songmu\", \"display_login\": \"Songmu\", \"gravatar_id\": \"\", \"url\": \"https://api.github.com/users/Songmu\", \"avatar_url\": \"https://avatars.githubusercontent.com/u/177122?\"}\n",
      "{\"id\": 13733487, \"login\": \"heckflosse\", \"display_login\": \"heckflosse\", \"gravatar_id\": \"\", \"url\": \"https://api.github.com/users/heckflosse\", \"avatar_url\": \"https://avatars.githubusercontent.com/u/13733487?\"}\n",
      "{\"id\": 4039449, \"login\": \"samuelcolvin\", \"display_login\": \"samuelcolvin\", \"gravatar_id\": \"\", \"url\": \"https://api.github.com/users/samuelcolvin\", \"avatar_url\": \"https://avatars.githubusercontent.com/u/4039449?\"}\n",
      "{\"id\": 35003357, \"login\": \"rezaeifardz\", \"display_login\": \"rezaeifardz\", \"gravatar_id\": \"\", \"url\": \"https://api.github.com/users/rezaeifardz\", \"avatar_url\": \"https://avatars.githubusercontent.com/u/35003357?\"}\n",
      "{\"id\": 5261166, \"login\": \"ZMOM1031\", \"display_login\": \"ZMOM1031\", \"gravatar_id\": \"\", \"url\": \"https://api.github.com/users/ZMOM1031\", \"avatar_url\": \"https://avatars.githubusercontent.com/u/5261166?\"}\n",
      "{\"id\": 1484037, \"login\": \"jamesdotcuff\", \"display_login\": \"jamesdotcuff\", \"gravatar_id\": \"\", \"url\": \"https://api.github.com/users/jamesdotcuff\", \"avatar_url\": \"https://avatars.githubusercontent.com/u/1484037?\"}\n",
      "{\"id\": 23026379, \"login\": \"jyc99\", \"display_login\": \"jyc99\", \"gravatar_id\": \"\", \"url\": \"https://api.github.com/users/jyc99\", \"avatar_url\": \"https://avatars.githubusercontent.com/u/23026379?\"}\n",
      "{\"id\": 15712687, \"login\": \"natsupy\", \"display_login\": \"natsupy\", \"gravatar_id\": \"\", \"url\": \"https://api.github.com/users/natsupy\", \"avatar_url\": \"https://avatars.githubusercontent.com/u/15712687?\"}\n",
      "{\"id\": 2214426, \"login\": \"dokadon\", \"display_login\": \"dokadon\", \"gravatar_id\": \"\", \"url\": \"https://api.github.com/users/dokadon\", \"avatar_url\": \"https://avatars.githubusercontent.com/u/2214426?\"}\n",
      "{\"id\": 917142, \"login\": \"radare\", \"display_login\": \"radare\", \"gravatar_id\": \"\", \"url\": \"https://api.github.com/users/radare\", \"avatar_url\": \"https://avatars.githubusercontent.com/u/917142?\"}\n",
      "{\"id\": 18223215, \"login\": \"Salhi39\", \"display_login\": \"Salhi39\", \"gravatar_id\": \"\", \"url\": \"https://api.github.com/users/Salhi39\", \"avatar_url\": \"https://avatars.githubusercontent.com/u/18223215?\"}\n",
      "{\"id\": 29452781, \"login\": \"ntbpm\", \"display_login\": \"ntbpm\", \"gravatar_id\": \"\", \"url\": \"https://api.github.com/users/ntbpm\", \"avatar_url\": \"https://avatars.githubusercontent.com/u/29452781?\"}\n",
      "{\"id\": 255213, \"login\": \"funnythingz\", \"display_login\": \"funnythingz\", \"gravatar_id\": \"\", \"url\": \"https://api.github.com/users/funnythingz\", \"avatar_url\": \"https://avatars.githubusercontent.com/u/255213?\"}\n",
      "{\"id\": 5130500, \"login\": \"morpheus65535\", \"display_login\": \"morpheus65535\", \"gravatar_id\": \"\", \"url\": \"https://api.github.com/users/morpheus65535\", \"avatar_url\": \"https://avatars.githubusercontent.com/u/5130500?\"}\n",
      "{\"id\": 2997229, \"login\": \"apievangelist\", \"display_login\": \"apievangelist\", \"gravatar_id\": \"\", \"url\": \"https://api.github.com/users/apievangelist\", \"avatar_url\": \"https://avatars.githubusercontent.com/u/2997229?\"}\n",
      "{\"id\": 35003609, \"login\": \"ace-intelligence\", \"display_login\": \"ace-intelligence\", \"gravatar_id\": \"\", \"url\": \"https://api.github.com/users/ace-intelligence\", \"avatar_url\": \"https://avatars.githubusercontent.com/u/35003609?\"}\n",
      "{\"id\": 32428698, \"login\": \"hashibiroko\", \"display_login\": \"hashibiroko\", \"gravatar_id\": \"\", \"url\": \"https://api.github.com/users/hashibiroko\", \"avatar_url\": \"https://avatars.githubusercontent.com/u/32428698?\"}\n",
      "{\"id\": 23026379, \"login\": \"jyc99\", \"display_login\": \"jyc99\", \"gravatar_id\": \"\", \"url\": \"https://api.github.com/users/jyc99\", \"avatar_url\": \"https://avatars.githubusercontent.com/u/23026379?\"}\n",
      "{\"id\": 7681951, \"login\": \"romainnorberg\", \"display_login\": \"romainnorberg\", \"gravatar_id\": \"\", \"url\": \"https://api.github.com/users/romainnorberg\", \"avatar_url\": \"https://avatars.githubusercontent.com/u/7681951?\"}\n",
      "{\"id\": 34933730, \"login\": \"pinvondev\", \"display_login\": \"pinvondev\", \"gravatar_id\": \"\", \"url\": \"https://api.github.com/users/pinvondev\", \"avatar_url\": \"https://avatars.githubusercontent.com/u/34933730?\"}\n",
      "{\"id\": 1616850, \"login\": \"HenrikBengtsson\", \"display_login\": \"HenrikBengtsson\", \"gravatar_id\": \"\", \"url\": \"https://api.github.com/users/HenrikBengtsson\", \"avatar_url\": \"https://avatars.githubusercontent.com/u/1616850?\"}\n",
      "{\"id\": 12693984, \"login\": \"everypoliticianbot\", \"display_login\": \"everypoliticianbot\", \"gravatar_id\": \"\", \"url\": \"https://api.github.com/users/everypoliticianbot\", \"avatar_url\": \"https://avatars.githubusercontent.com/u/12693984?\"}\n",
      "{\"id\": 26699002, \"login\": \"YoshihisaSaitou\", \"display_login\": \"YoshihisaSaitou\", \"gravatar_id\": \"\", \"url\": \"https://api.github.com/users/YoshihisaSaitou\", \"avatar_url\": \"https://avatars.githubusercontent.com/u/26699002?\"}\n",
      "{\"id\": 8517910, \"login\": \"LombiqBot\", \"display_login\": \"LombiqBot\", \"gravatar_id\": \"\", \"url\": \"https://api.github.com/users/LombiqBot\", \"avatar_url\": \"https://avatars.githubusercontent.com/u/8517910?\"}\n",
      "{\"id\": 822090, \"login\": \"Jaex\", \"display_login\": \"Jaex\", \"gravatar_id\": \"\", \"url\": \"https://api.github.com/users/Jaex\", \"avatar_url\": \"https://avatars.githubusercontent.com/u/822090?\"}\n",
      "{\"id\": 4039449, \"login\": \"samuelcolvin\", \"display_login\": \"samuelcolvin\", \"gravatar_id\": \"\", \"url\": \"https://api.github.com/users/samuelcolvin\", \"avatar_url\": \"https://avatars.githubusercontent.com/u/4039449?\"}\n",
      "{\"id\": 8772188, \"login\": \"jdgcs\", \"display_login\": \"jdgcs\", \"gravatar_id\": \"\", \"url\": \"https://api.github.com/users/jdgcs\", \"avatar_url\": \"https://avatars.githubusercontent.com/u/8772188?\"}\n",
      "{\"id\": 15092932, \"login\": \"Ahmed-Ayman\", \"display_login\": \"Ahmed-Ayman\", \"gravatar_id\": \"\", \"url\": \"https://api.github.com/users/Ahmed-Ayman\", \"avatar_url\": \"https://avatars.githubusercontent.com/u/15092932?\"}\n",
      "{\"id\": 10363868, \"login\": \"coded-aesthetics\", \"display_login\": \"coded-aesthetics\", \"gravatar_id\": \"\", \"url\": \"https://api.github.com/users/coded-aesthetics\", \"avatar_url\": \"https://avatars.githubusercontent.com/u/10363868?\"}\n",
      "{\"id\": 12693984, \"login\": \"everypoliticianbot\", \"display_login\": \"everypoliticianbot\", \"gravatar_id\": \"\", \"url\": \"https://api.github.com/users/everypoliticianbot\", \"avatar_url\": \"https://avatars.githubusercontent.com/u/12693984?\"}\n",
      "{\"id\": 12929071, \"login\": \"nicecodeclub\", \"display_login\": \"nicecodeclub\", \"gravatar_id\": \"\", \"url\": \"https://api.github.com/users/nicecodeclub\", \"avatar_url\": \"https://avatars.githubusercontent.com/u/12929071?\"}\n",
      "{\"id\": 14126970, \"login\": \"opensuse-i18n\", \"display_login\": \"opensuse-i18n\", \"gravatar_id\": \"\", \"url\": \"https://api.github.com/users/opensuse-i18n\", \"avatar_url\": \"https://avatars.githubusercontent.com/u/14126970?\"}\n",
      "{\"id\": 23026379, \"login\": \"jyc99\", \"display_login\": \"jyc99\", \"gravatar_id\": \"\", \"url\": \"https://api.github.com/users/jyc99\", \"avatar_url\": \"https://avatars.githubusercontent.com/u/23026379?\"}\n",
      "{\"id\": 35003609, \"login\": \"ace-intelligence\", \"display_login\": \"ace-intelligence\", \"gravatar_id\": \"\", \"url\": \"https://api.github.com/users/ace-intelligence\", \"avatar_url\": \"https://avatars.githubusercontent.com/u/35003609?\"}\n",
      "{\"id\": 6701060, \"login\": \"bpb27\", \"display_login\": \"bpb27\", \"gravatar_id\": \"\", \"url\": \"https://api.github.com/users/bpb27\", \"avatar_url\": \"https://avatars.githubusercontent.com/u/6701060?\"}\n",
      "{\"id\": 29568960, \"login\": \"DeadlySoft\", \"display_login\": \"DeadlySoft\", \"gravatar_id\": \"\", \"url\": \"https://api.github.com/users/DeadlySoft\", \"avatar_url\": \"https://avatars.githubusercontent.com/u/29568960?\"}\n",
      "{\"id\": 12524030, \"login\": \"jsweber\", \"display_login\": \"jsweber\", \"gravatar_id\": \"\", \"url\": \"https://api.github.com/users/jsweber\", \"avatar_url\": \"https://avatars.githubusercontent.com/u/12524030?\"}\n",
      "{\"id\": 1437341, \"login\": \"vdloo\", \"display_login\": \"vdloo\", \"gravatar_id\": \"\", \"url\": \"https://api.github.com/users/vdloo\", \"avatar_url\": \"https://avatars.githubusercontent.com/u/1437341?\"}\n",
      "{\"id\": 30839409, \"login\": \"hugopm\", \"display_login\": \"hugopm\", \"gravatar_id\": \"\", \"url\": \"https://api.github.com/users/hugopm\", \"avatar_url\": \"https://avatars.githubusercontent.com/u/30839409?\"}\n",
      "{\"id\": 16750352, \"login\": \"WillisCat\", \"display_login\": \"WillisCat\", \"gravatar_id\": \"\", \"url\": \"https://api.github.com/users/WillisCat\", \"avatar_url\": \"https://avatars.githubusercontent.com/u/16750352?\"}\n",
      "{\"id\": 3400679, \"login\": \"kkh30\", \"display_login\": \"kkh30\", \"gravatar_id\": \"\", \"url\": \"https://api.github.com/users/kkh30\", \"avatar_url\": \"https://avatars.githubusercontent.com/u/3400679?\"}\n",
      "{\"id\": 8864479, \"login\": \"miscbits\", \"display_login\": \"miscbits\", \"gravatar_id\": \"\", \"url\": \"https://api.github.com/users/miscbits\", \"avatar_url\": \"https://avatars.githubusercontent.com/u/8864479?\"}\n",
      "{\"id\": 16347475, \"login\": \"laksa19\", \"display_login\": \"laksa19\", \"gravatar_id\": \"\", \"url\": \"https://api.github.com/users/laksa19\", \"avatar_url\": \"https://avatars.githubusercontent.com/u/16347475?\"}\n",
      "{\"id\": 34457192, \"login\": \"HaggredL2Code\", \"display_login\": \"HaggredL2Code\", \"gravatar_id\": \"\", \"url\": \"https://api.github.com/users/HaggredL2Code\", \"avatar_url\": \"https://avatars.githubusercontent.com/u/34457192?\"}\n",
      "{\"id\": 17070223, \"login\": \"Manpos\", \"display_login\": \"Manpos\", \"gravatar_id\": \"\", \"url\": \"https://api.github.com/users/Manpos\", \"avatar_url\": \"https://avatars.githubusercontent.com/u/17070223?\"}\n",
      "{\"id\": 5527248, \"login\": \"harald-lang\", \"display_login\": \"harald-lang\", \"gravatar_id\": \"\", \"url\": \"https://api.github.com/users/harald-lang\", \"avatar_url\": \"https://avatars.githubusercontent.com/u/5527248?\"}\n",
      "{\"id\": 34997530, \"login\": \"happynewyear-2018\", \"display_login\": \"happynewyear-2018\", \"gravatar_id\": \"\", \"url\": \"https://api.github.com/users/happynewyear-2018\", \"avatar_url\": \"https://avatars.githubusercontent.com/u/34997530?\"}\n",
      "{\"id\": 4638942, \"login\": \"andywhale\", \"display_login\": \"andywhale\", \"gravatar_id\": \"\", \"url\": \"https://api.github.com/users/andywhale\", \"avatar_url\": \"https://avatars.githubusercontent.com/u/4638942?\"}\n",
      "{\"id\": 23026379, \"login\": \"jyc99\", \"display_login\": \"jyc99\", \"gravatar_id\": \"\", \"url\": \"https://api.github.com/users/jyc99\", \"avatar_url\": \"https://avatars.githubusercontent.com/u/23026379?\"}\n",
      "{\"id\": 19212818, \"login\": \"esk205\", \"display_login\": \"esk205\", \"gravatar_id\": \"\", \"url\": \"https://api.github.com/users/esk205\", \"avatar_url\": \"https://avatars.githubusercontent.com/u/19212818?\"}\n",
      "{\"id\": 18074506, \"login\": \"iamvane\", \"display_login\": \"iamvane\", \"gravatar_id\": \"\", \"url\": \"https://api.github.com/users/iamvane\", \"avatar_url\": \"https://avatars.githubusercontent.com/u/18074506?\"}\n",
      "{\"id\": 31729134, \"login\": \"seinver\", \"display_login\": \"seinver\", \"gravatar_id\": \"\", \"url\": \"https://api.github.com/users/seinver\", \"avatar_url\": \"https://avatars.githubusercontent.com/u/31729134?\"}\n",
      "{\"id\": 32643866, \"login\": \"hordosikrisztian\", \"display_login\": \"hordosikrisztian\", \"gravatar_id\": \"\", \"url\": \"https://api.github.com/users/hordosikrisztian\", \"avatar_url\": \"https://avatars.githubusercontent.com/u/32643866?\"}\n",
      "{\"id\": 6795378, \"login\": \"JiraiyaGerotora\", \"display_login\": \"JiraiyaGerotora\", \"gravatar_id\": \"\", \"url\": \"https://api.github.com/users/JiraiyaGerotora\", \"avatar_url\": \"https://avatars.githubusercontent.com/u/6795378?\"}\n",
      "{\"id\": 16265444, \"login\": \"foxapple\", \"display_login\": \"foxapple\", \"gravatar_id\": \"\", \"url\": \"https://api.github.com/users/foxapple\", \"avatar_url\": \"https://avatars.githubusercontent.com/u/16265444?\"}\n",
      "{\"id\": 34997530, \"login\": \"happynewyear-2018\", \"display_login\": \"happynewyear-2018\", \"gravatar_id\": \"\", \"url\": \"https://api.github.com/users/happynewyear-2018\", \"avatar_url\": \"https://avatars.githubusercontent.com/u/34997530?\"}\n",
      "{\"id\": 1385823, \"login\": \"505aaron\", \"display_login\": \"505aaron\", \"gravatar_id\": \"\", \"url\": \"https://api.github.com/users/505aaron\", \"avatar_url\": \"https://avatars.githubusercontent.com/u/1385823?\"}\n",
      "{\"id\": 35000242, \"login\": \"ricky1995m12\", \"display_login\": \"ricky1995m12\", \"gravatar_id\": \"\", \"url\": \"https://api.github.com/users/ricky1995m12\", \"avatar_url\": \"https://avatars.githubusercontent.com/u/35000242?\"}\n",
      "{\"id\": 4039449, \"login\": \"samuelcolvin\", \"display_login\": \"samuelcolvin\", \"gravatar_id\": \"\", \"url\": \"https://api.github.com/users/samuelcolvin\", \"avatar_url\": \"https://avatars.githubusercontent.com/u/4039449?\"}\n",
      "{\"id\": 33388236, \"login\": \"yutingeko\", \"display_login\": \"yutingeko\", \"gravatar_id\": \"\", \"url\": \"https://api.github.com/users/yutingeko\", \"avatar_url\": \"https://avatars.githubusercontent.com/u/33388236?\"}\n",
      "{\"id\": 4883379, \"login\": \"detomon\", \"display_login\": \"detomon\", \"gravatar_id\": \"\", \"url\": \"https://api.github.com/users/detomon\", \"avatar_url\": \"https://avatars.githubusercontent.com/u/4883379?\"}\n",
      "{\"id\": 32526637, \"login\": \"gjkbot\", \"display_login\": \"gjkbot\", \"gravatar_id\": \"\", \"url\": \"https://api.github.com/users/gjkbot\", \"avatar_url\": \"https://avatars.githubusercontent.com/u/32526637?\"}\n",
      "{\"id\": 9758711, \"login\": \"axetroy\", \"display_login\": \"axetroy\", \"gravatar_id\": \"\", \"url\": \"https://api.github.com/users/axetroy\", \"avatar_url\": \"https://avatars.githubusercontent.com/u/9758711?\"}\n",
      "{\"id\": 13177974, \"login\": \"pujiaxun\", \"display_login\": \"pujiaxun\", \"gravatar_id\": \"\", \"url\": \"https://api.github.com/users/pujiaxun\", \"avatar_url\": \"https://avatars.githubusercontent.com/u/13177974?\"}\n",
      "{\"id\": 6906912, \"login\": \"bomb1e\", \"display_login\": \"bomb1e\", \"gravatar_id\": \"\", \"url\": \"https://api.github.com/users/bomb1e\", \"avatar_url\": \"https://avatars.githubusercontent.com/u/6906912?\"}\n",
      "{\"id\": 8517910, \"login\": \"LombiqBot\", \"display_login\": \"LombiqBot\", \"gravatar_id\": \"\", \"url\": \"https://api.github.com/users/LombiqBot\", \"avatar_url\": \"https://avatars.githubusercontent.com/u/8517910?\"}\n",
      "{\"id\": 3768851, \"login\": \"Prof9\", \"display_login\": \"Prof9\", \"gravatar_id\": \"\", \"url\": \"https://api.github.com/users/Prof9\", \"avatar_url\": \"https://avatars.githubusercontent.com/u/3768851?\"}\n",
      "{\"id\": 9016289, \"login\": \"mohamedelsayed95\", \"display_login\": \"mohamedelsayed95\", \"gravatar_id\": \"\", \"url\": \"https://api.github.com/users/mohamedelsayed95\", \"avatar_url\": \"https://avatars.githubusercontent.com/u/9016289?\"}\n",
      "{\"id\": 11330591, \"login\": \"buildroot-auto-update\", \"display_login\": \"buildroot-auto-update\", \"gravatar_id\": \"\", \"url\": \"https://api.github.com/users/buildroot-auto-update\", \"avatar_url\": \"https://avatars.githubusercontent.com/u/11330591?\"}\n",
      "{\"id\": 7764670, \"login\": \"media-lib\", \"display_login\": \"media-lib\", \"gravatar_id\": \"\", \"url\": \"https://api.github.com/users/media-lib\", \"avatar_url\": \"https://avatars.githubusercontent.com/u/7764670?\"}\n",
      "{\"id\": 34270507, \"login\": \"gotrending\", \"display_login\": \"gotrending\", \"gravatar_id\": \"\", \"url\": \"https://api.github.com/users/gotrending\", \"avatar_url\": \"https://avatars.githubusercontent.com/u/34270507?\"}\n",
      "{\"id\": 23026379, \"login\": \"jyc99\", \"display_login\": \"jyc99\", \"gravatar_id\": \"\", \"url\": \"https://api.github.com/users/jyc99\", \"avatar_url\": \"https://avatars.githubusercontent.com/u/23026379?\"}\n",
      "{\"id\": 7423020, \"login\": \"pleroy\", \"display_login\": \"pleroy\", \"gravatar_id\": \"\", \"url\": \"https://api.github.com/users/pleroy\", \"avatar_url\": \"https://avatars.githubusercontent.com/u/7423020?\"}\n",
      "{\"id\": 14183988, \"login\": \"2yan\", \"display_login\": \"2yan\", \"gravatar_id\": \"\", \"url\": \"https://api.github.com/users/2yan\", \"avatar_url\": \"https://avatars.githubusercontent.com/u/14183988?\"}\n",
      "{\"id\": 12632575, \"login\": \"Darv72\", \"display_login\": \"Darv72\", \"gravatar_id\": \"\", \"url\": \"https://api.github.com/users/Darv72\", \"avatar_url\": \"https://avatars.githubusercontent.com/u/12632575?\"}\n",
      "{\"id\": 2928442, \"login\": \"flexnst\", \"display_login\": \"flexnst\", \"gravatar_id\": \"\", \"url\": \"https://api.github.com/users/flexnst\", \"avatar_url\": \"https://avatars.githubusercontent.com/u/2928442?\"}\n",
      "{\"id\": 8772188, \"login\": \"jdgcs\", \"display_login\": \"jdgcs\", \"gravatar_id\": \"\", \"url\": \"https://api.github.com/users/jdgcs\", \"avatar_url\": \"https://avatars.githubusercontent.com/u/8772188?\"}\n",
      "{\"id\": 1581541, \"login\": \"bwhmather\", \"display_login\": \"bwhmather\", \"gravatar_id\": \"\", \"url\": \"https://api.github.com/users/bwhmather\", \"avatar_url\": \"https://avatars.githubusercontent.com/u/1581541?\"}\n",
      "{\"id\": 299787, \"login\": \"slowe\", \"display_login\": \"slowe\", \"gravatar_id\": \"\", \"url\": \"https://api.github.com/users/slowe\", \"avatar_url\": \"https://avatars.githubusercontent.com/u/299787?\"}\n",
      "{\"id\": 33388236, \"login\": \"yutingeko\", \"display_login\": \"yutingeko\", \"gravatar_id\": \"\", \"url\": \"https://api.github.com/users/yutingeko\", \"avatar_url\": \"https://avatars.githubusercontent.com/u/33388236?\"}\n",
      "{\"id\": 2318343, \"login\": \"treckstar\", \"display_login\": \"treckstar\", \"gravatar_id\": \"\", \"url\": \"https://api.github.com/users/treckstar\", \"avatar_url\": \"https://avatars.githubusercontent.com/u/2318343?\"}\n",
      "{\"id\": 6763624, \"login\": \"davidwessman\", \"display_login\": \"davidwessman\", \"gravatar_id\": \"\", \"url\": \"https://api.github.com/users/davidwessman\", \"avatar_url\": \"https://avatars.githubusercontent.com/u/6763624?\"}\n",
      "{\"id\": 4039449, \"login\": \"samuelcolvin\", \"display_login\": \"samuelcolvin\", \"gravatar_id\": \"\", \"url\": \"https://api.github.com/users/samuelcolvin\", \"avatar_url\": \"https://avatars.githubusercontent.com/u/4039449?\"}\n",
      "{\"id\": 32643866, \"login\": \"hordosikrisztian\", \"display_login\": \"hordosikrisztian\", \"gravatar_id\": \"\", \"url\": \"https://api.github.com/users/hordosikrisztian\", \"avatar_url\": \"https://avatars.githubusercontent.com/u/32643866?\"}\n",
      "{\"id\": 23132358, \"login\": \"americast\", \"display_login\": \"americast\", \"gravatar_id\": \"\", \"url\": \"https://api.github.com/users/americast\", \"avatar_url\": \"https://avatars.githubusercontent.com/u/23132358?\"}\n",
      "{\"id\": 18074506, \"login\": \"iamvane\", \"display_login\": \"iamvane\", \"gravatar_id\": \"\", \"url\": \"https://api.github.com/users/iamvane\", \"avatar_url\": \"https://avatars.githubusercontent.com/u/18074506?\"}\n",
      "{\"id\": 25561256, \"login\": \"adekmaulana\", \"display_login\": \"adekmaulana\", \"gravatar_id\": \"\", \"url\": \"https://api.github.com/users/adekmaulana\", \"avatar_url\": \"https://avatars.githubusercontent.com/u/25561256?\"}\n",
      "{\"id\": 30485389, \"login\": \"Ssenkowski\", \"display_login\": \"Ssenkowski\", \"gravatar_id\": \"\", \"url\": \"https://api.github.com/users/Ssenkowski\", \"avatar_url\": \"https://avatars.githubusercontent.com/u/30485389?\"}\n",
      "{\"id\": 15072580, \"login\": \"th174\", \"display_login\": \"th174\", \"gravatar_id\": \"\", \"url\": \"https://api.github.com/users/th174\", \"avatar_url\": \"https://avatars.githubusercontent.com/u/15072580?\"}\n",
      "{\"id\": 4970, \"login\": \"gugod\", \"display_login\": \"gugod\", \"gravatar_id\": \"\", \"url\": \"https://api.github.com/users/gugod\", \"avatar_url\": \"https://avatars.githubusercontent.com/u/4970?\"}\n",
      "{\"id\": 564768, \"login\": \"niccokunzmann\", \"display_login\": \"niccokunzmann\", \"gravatar_id\": \"\", \"url\": \"https://api.github.com/users/niccokunzmann\", \"avatar_url\": \"https://avatars.githubusercontent.com/u/564768?\"}\n",
      "{\"id\": 582346, \"login\": \"iluwatar\", \"display_login\": \"iluwatar\", \"gravatar_id\": \"\", \"url\": \"https://api.github.com/users/iluwatar\", \"avatar_url\": \"https://avatars.githubusercontent.com/u/582346?\"}\n",
      "{\"id\": 25877024, \"login\": \"znhocn\", \"display_login\": \"znhocn\", \"gravatar_id\": \"\", \"url\": \"https://api.github.com/users/znhocn\", \"avatar_url\": \"https://avatars.githubusercontent.com/u/25877024?\"}\n",
      "{\"id\": 13743792, \"login\": \"cheer4chai\", \"display_login\": \"cheer4chai\", \"gravatar_id\": \"\", \"url\": \"https://api.github.com/users/cheer4chai\", \"avatar_url\": \"https://avatars.githubusercontent.com/u/13743792?\"}\n",
      "{\"id\": 8644337, \"login\": \"FredFury\", \"display_login\": \"FredFury\", \"gravatar_id\": \"\", \"url\": \"https://api.github.com/users/FredFury\", \"avatar_url\": \"https://avatars.githubusercontent.com/u/8644337?\"}\n",
      "{\"id\": 1686007, \"login\": \"efarbereger\", \"display_login\": \"efarbereger\", \"gravatar_id\": \"\", \"url\": \"https://api.github.com/users/efarbereger\", \"avatar_url\": \"https://avatars.githubusercontent.com/u/1686007?\"}\n",
      "{\"id\": 404003, \"login\": \"peterfpeterson\", \"display_login\": \"peterfpeterson\", \"gravatar_id\": \"\", \"url\": \"https://api.github.com/users/peterfpeterson\", \"avatar_url\": \"https://avatars.githubusercontent.com/u/404003?\"}\n",
      "{\"id\": 31858072, \"login\": \"TalibAzir\", \"display_login\": \"TalibAzir\", \"gravatar_id\": \"\", \"url\": \"https://api.github.com/users/TalibAzir\", \"avatar_url\": \"https://avatars.githubusercontent.com/u/31858072?\"}\n",
      "{\"id\": 2678195, \"login\": \"lukemassa\", \"display_login\": \"lukemassa\", \"gravatar_id\": \"\", \"url\": \"https://api.github.com/users/lukemassa\", \"avatar_url\": \"https://avatars.githubusercontent.com/u/2678195?\"}\n",
      "{\"id\": 5897356, \"login\": \"toby1991\", \"display_login\": \"toby1991\", \"gravatar_id\": \"\", \"url\": \"https://api.github.com/users/toby1991\", \"avatar_url\": \"https://avatars.githubusercontent.com/u/5897356?\"}\n",
      "{\"id\": 5897356, \"login\": \"toby1991\", \"display_login\": \"toby1991\", \"gravatar_id\": \"\", \"url\": \"https://api.github.com/users/toby1991\", \"avatar_url\": \"https://avatars.githubusercontent.com/u/5897356?\"}\n",
      "{\"id\": 8112599, \"login\": \"sagiegurari\", \"display_login\": \"sagiegurari\", \"gravatar_id\": \"\", \"url\": \"https://api.github.com/users/sagiegurari\", \"avatar_url\": \"https://avatars.githubusercontent.com/u/8112599?\"}\n",
      "{\"id\": 19946467, \"login\": \"Vg1ee\", \"display_login\": \"Vg1ee\", \"gravatar_id\": \"\", \"url\": \"https://api.github.com/users/Vg1ee\", \"avatar_url\": \"https://avatars.githubusercontent.com/u/19946467?\"}\n",
      "{\"id\": 34997530, \"login\": \"happynewyear-2018\", \"display_login\": \"happynewyear-2018\", \"gravatar_id\": \"\", \"url\": \"https://api.github.com/users/happynewyear-2018\", \"avatar_url\": \"https://avatars.githubusercontent.com/u/34997530?\"}\n",
      "{\"id\": 7353366, \"login\": \"DarthJahus\", \"display_login\": \"DarthJahus\", \"gravatar_id\": \"\", \"url\": \"https://api.github.com/users/DarthJahus\", \"avatar_url\": \"https://avatars.githubusercontent.com/u/7353366?\"}\n",
      "{\"id\": 33619494, \"login\": \"luckymagic7\", \"display_login\": \"luckymagic7\", \"gravatar_id\": \"\", \"url\": \"https://api.github.com/users/luckymagic7\", \"avatar_url\": \"https://avatars.githubusercontent.com/u/33619494?\"}\n",
      "{\"id\": 533180, \"login\": \"scriptzteam\", \"display_login\": \"scriptzteam\", \"gravatar_id\": \"\", \"url\": \"https://api.github.com/users/scriptzteam\", \"avatar_url\": \"https://avatars.githubusercontent.com/u/533180?\"}\n",
      "{\"id\": 28746898, \"login\": \"kevinptx\", \"display_login\": \"kevinptx\", \"gravatar_id\": \"\", \"url\": \"https://api.github.com/users/kevinptx\", \"avatar_url\": \"https://avatars.githubusercontent.com/u/28746898?\"}\n",
      "{\"id\": 1581541, \"login\": \"bwhmather\", \"display_login\": \"bwhmather\", \"gravatar_id\": \"\", \"url\": \"https://api.github.com/users/bwhmather\", \"avatar_url\": \"https://avatars.githubusercontent.com/u/1581541?\"}\n",
      "{\"id\": 533180, \"login\": \"scriptzteam\", \"display_login\": \"scriptzteam\", \"gravatar_id\": \"\", \"url\": \"https://api.github.com/users/scriptzteam\", \"avatar_url\": \"https://avatars.githubusercontent.com/u/533180?\"}\n",
      "{\"id\": 28632854, \"login\": \"R3tter\", \"display_login\": \"R3tter\", \"gravatar_id\": \"\", \"url\": \"https://api.github.com/users/R3tter\", \"avatar_url\": \"https://avatars.githubusercontent.com/u/28632854?\"}\n",
      "{\"id\": 4408379, \"login\": \"lex111\", \"display_login\": \"lex111\", \"gravatar_id\": \"\", \"url\": \"https://api.github.com/users/lex111\", \"avatar_url\": \"https://avatars.githubusercontent.com/u/4408379?\"}\n",
      "{\"id\": 4447136, \"login\": \"su-github-machine-user\", \"display_login\": \"su-github-machine-user\", \"gravatar_id\": \"\", \"url\": \"https://api.github.com/users/su-github-machine-user\", \"avatar_url\": \"https://avatars.githubusercontent.com/u/4447136?\"}\n",
      "{\"id\": 8517910, \"login\": \"LombiqBot\", \"display_login\": \"LombiqBot\", \"gravatar_id\": \"\", \"url\": \"https://api.github.com/users/LombiqBot\", \"avatar_url\": \"https://avatars.githubusercontent.com/u/8517910?\"}\n",
      "{\"id\": 6955786, \"login\": \"Windos\", \"display_login\": \"Windos\", \"gravatar_id\": \"\", \"url\": \"https://api.github.com/users/Windos\", \"avatar_url\": \"https://avatars.githubusercontent.com/u/6955786?\"}\n",
      "{\"id\": 28730498, \"login\": \"ondrisel\", \"display_login\": \"ondrisel\", \"gravatar_id\": \"\", \"url\": \"https://api.github.com/users/ondrisel\", \"avatar_url\": \"https://avatars.githubusercontent.com/u/28730498?\"}\n",
      "{\"id\": 4039449, \"login\": \"samuelcolvin\", \"display_login\": \"samuelcolvin\", \"gravatar_id\": \"\", \"url\": \"https://api.github.com/users/samuelcolvin\", \"avatar_url\": \"https://avatars.githubusercontent.com/u/4039449?\"}\n",
      "{\"id\": 33546969, \"login\": \"nanase777\", \"display_login\": \"nanase777\", \"gravatar_id\": \"\", \"url\": \"https://api.github.com/users/nanase777\", \"avatar_url\": \"https://avatars.githubusercontent.com/u/33546969?\"}\n",
      "{\"id\": 34997530, \"login\": \"happynewyear-2018\", \"display_login\": \"happynewyear-2018\", \"gravatar_id\": \"\", \"url\": \"https://api.github.com/users/happynewyear-2018\", \"avatar_url\": \"https://avatars.githubusercontent.com/u/34997530?\"}\n",
      "{\"id\": 33187853, \"login\": \"penalhuset\", \"display_login\": \"penalhuset\", \"gravatar_id\": \"\", \"url\": \"https://api.github.com/users/penalhuset\", \"avatar_url\": \"https://avatars.githubusercontent.com/u/33187853?\"}\n"
     ]
    }
   ],
   "source": [
    "%%jsoniq\n",
    "json-file(\"http://www.rumbledb.org/samples/git-archive-small.json\").actor"
   ]
  },
  {
   "cell_type": "markdown",
   "metadata": {},
   "source": [
    "We can chain dot object lookups to navigate further down, for example to logins. Let us figure out how many distinct logins there are."
   ]
  },
  {
   "cell_type": "code",
   "execution_count": null,
   "metadata": {},
   "outputs": [],
   "source": [
    "%%jsoniq\n",
    "count(distinct-values(json-file(\"http://www.rumbledb.org/samples/git-archive-small.json\").actor.login))"
   ]
  },
  {
   "cell_type": "markdown",
   "metadata": {},
   "source": [
    "The id field inside the actor object seems to be an integer. What is the highest value? The `max()` function also works at large scales, just like `count()` and also `min()`, `avg()` and `sum()`."
   ]
  },
  {
   "cell_type": "code",
   "execution_count": null,
   "metadata": {},
   "outputs": [],
   "source": [
    "%%jsoniq\n",
    "max(json-file(\"http://www.rumbledb.org/samples/git-archive-small.json\").actor.id)"
   ]
  },
  {
   "cell_type": "markdown",
   "metadata": {},
   "source": [
    "Alright, let us know look for nested arrays. There does not seem to have any inside the actor object, so let us try the key \"payload\". Let us just look at the first one."
   ]
  },
  {
   "cell_type": "code",
   "execution_count": null,
   "metadata": {},
   "outputs": [],
   "source": [
    "%%jsoniq\n",
    "json-file(\"http://www.rumbledb.org/samples/git-archive-small.json\")[1].payload"
   ]
  },
  {
   "cell_type": "markdown",
   "metadata": {},
   "source": [
    "Here we see that there is a nested array associated with key \"commits\"."
   ]
  },
  {
   "cell_type": "code",
   "execution_count": null,
   "metadata": {},
   "outputs": [],
   "source": [
    "%%jsoniq\n",
    "json-file(\"http://www.rumbledb.org/samples/git-archive-small.json\")[1].payload.commits"
   ]
  },
  {
   "cell_type": "markdown",
   "metadata": {},
   "source": [
    "In this case, there is only one object in this array. Is there, by any chance, any one of these arrays that has more than one commit? For this, we can use a Boolean predicate. Let us evaluate the predicate\n",
    "\n",
    "`size($$) gt 1`\n",
    "\n",
    "which uses the size function and the `gt` (greater than) comparison and where `$$` is the current array being tested."
   ]
  },
  {
   "cell_type": "code",
   "execution_count": null,
   "metadata": {},
   "outputs": [],
   "source": [
    "%%jsoniq\n",
    "json-file(\"http://www.rumbledb.org/samples/git-archive-small.json\").payload.commits[size($$) gt 1]"
   ]
  },
  {
   "cell_type": "markdown",
   "metadata": {},
   "source": [
    "Let us just take the first one to have more visibility."
   ]
  },
  {
   "cell_type": "code",
   "execution_count": null,
   "metadata": {},
   "outputs": [],
   "source": [
    "%%jsoniq\n",
    "json-file(\"http://www.rumbledb.org/samples/git-archive-small.json\").payload.commits[size($$) gt 1][1]"
   ]
  },
  {
   "cell_type": "markdown",
   "metadata": {},
   "source": [
    "We can expand it to a sequence of objects using the `[]` array unboxing syntax."
   ]
  },
  {
   "cell_type": "code",
   "execution_count": null,
   "metadata": {},
   "outputs": [],
   "source": [
    "%%jsoniq\n",
    "json-file(\"http://www.rumbledb.org/samples/git-archive-small.json\").payload.commits[size($$) gt 1][1][]"
   ]
  },
  {
   "cell_type": "markdown",
   "metadata": {},
   "source": [
    "We can also lookup a specific position, say, the second object, with the `[[ ]]` array lookup syntax."
   ]
  },
  {
   "cell_type": "code",
   "execution_count": null,
   "metadata": {},
   "outputs": [],
   "source": [
    "%%jsoniq\n",
    "json-file(\"http://www.rumbledb.org/samples/git-archive-small.json\").payload.commits[size($$) gt 1][1][[2]]"
   ]
  },
  {
   "cell_type": "markdown",
   "metadata": {},
   "source": [
    "And now, please hold for something awesome. We can unbox all arrays of the entire collection at the same time by just using the `[]` syntax on the entire dataset."
   ]
  },
  {
   "cell_type": "code",
   "execution_count": null,
   "metadata": {},
   "outputs": [],
   "source": [
    "%%jsoniq\n",
    "json-file(\"http://www.rumbledb.org/samples/git-archive-small.json\").payload.commits[]"
   ]
  },
  {
   "cell_type": "markdown",
   "metadata": {},
   "source": [
    "These are objects. It is all too tempting to navigate further down with more dot object-lookup syntax. All at the same time, obviously. Let us figure out how many unique emails there are in all commits of all events."
   ]
  },
  {
   "cell_type": "code",
   "execution_count": null,
   "metadata": {},
   "outputs": [],
   "source": [
    "%%jsoniq\n",
    "count(distinct-values(json-file(\"http://www.rumbledb.org/samples/git-archive-small.json\").payload.commits[].author.email))"
   ]
  },
  {
   "cell_type": "markdown",
   "metadata": {},
   "source": [
    "Now, how many unique emails are there in first commits?"
   ]
  },
  {
   "cell_type": "code",
   "execution_count": null,
   "metadata": {},
   "outputs": [],
   "source": [
    "%%jsoniq\n",
    "count(distinct-values(json-file(\"http://www.rumbledb.org/samples/git-archive-small.json\").payload.commits[[1]].author.email))"
   ]
  },
  {
   "cell_type": "markdown",
   "metadata": {},
   "source": [
    "You have now learned how to navigate large JSON datasets with the dot object lookup syntax, the `[]` array unboxing syntax, the `[[ ]]` array lookup syntax, number predicates, and Boolean predicates.\n",
    "\n",
    "All of these work nicely on very large sequences, and you can chain them arbitrarily. In fact, this will all happen in parallel on the cores of your machine or even on a large cluster.\n",
    "\n",
    "You also saw how to aggregate large sequences of values with min, max, count, avg and sum.\n",
    "\n",
    "Finally, you saw how to eliminate duplicates with `distinct-values`."
   ]
  },
  {
   "cell_type": "markdown",
   "metadata": {},
   "source": [
    "# Variables"
   ]
  },
  {
   "cell_type": "markdown",
   "metadata": {},
   "source": [
    "Some of the queries seen previously involve several chained lookups and function calls. It can become complex."
   ]
  },
  {
   "cell_type": "code",
   "execution_count": null,
   "metadata": {},
   "outputs": [],
   "source": [
    "%%jsoniq\n",
    "count(distinct-values(json-file(\"http://www.rumbledb.org/samples/git-archive-small.json\").actor.login))"
   ]
  },
  {
   "cell_type": "markdown",
   "metadata": {},
   "source": [
    "It is then a natural thing to use variables to store intermediate results. This can be achieved with a series of let clauses. The final result is then put in a return clause."
   ]
  },
  {
   "cell_type": "code",
   "execution_count": null,
   "metadata": {},
   "outputs": [
    {
     "name": "stdout",
     "output_type": "stream",
     "text": [
      "Took: 0.9773142337799072 ms\n",
      "374\n"
     ]
    }
   ],
   "source": [
    "%%jsoniq\n",
    "let $path := \"http://www.rumbledb.org/samples/git-archive-small.json\"\n",
    "let $events := json-file($path)\n",
    "let $actors := $events.actor\n",
    "let $logins := $actors.login\n",
    "let $distinct-logins := distinct-values($logins)\n",
    "return count($distinct-logins)"
   ]
  },
  {
   "cell_type": "markdown",
   "metadata": {},
   "source": [
    "Note that types are not needed, however they exist! It is possible to add a static type to each variable.\n",
    "Since values can be sequences, you can add suffixes for cardinality: `*` for a sequence of arbitrary length, `?` for zero or one item, `+` for one or more items."
   ]
  },
  {
   "cell_type": "code",
   "execution_count": null,
   "metadata": {},
   "outputs": [],
   "source": [
    "%%jsoniq\n",
    "let $path as string := \"http://www.rumbledb.org/samples/git-archive-small.json\"\n",
    "let $events as object* := json-file($path)\n",
    "let $actors as object* := $events.actor\n",
    "let $logins as string* := $actors.login\n",
    "let $distinct-logins as string* := distinct-values($logins)\n",
    "let $count as integer := count($distinct-logins)\n",
    "return $count"
   ]
  },
  {
   "cell_type": "markdown",
   "metadata": {},
   "source": [
    "As you can see, variables can be used to store single items, as well as enormous sequences. RumbleDB will automatically select the best way to evaluate your query.\n",
    "\n",
    "Note that it is possible to reuse variable names. However, these are not assignments: these are bindings. Reusing a variable name hides the previous binding."
   ]
  },
  {
   "cell_type": "code",
   "execution_count": null,
   "metadata": {},
   "outputs": [],
   "source": [
    "%%jsoniq\n",
    "let $v as string := \"http://www.rumbledb.org/samples/git-archive-small.json\"\n",
    "let $v as object* := json-file($v)\n",
    "let $v as object* := $v.actor\n",
    "let $v as string* := $v.login\n",
    "let $v as string* := distinct-values($v)\n",
    "let $v as integer := count($v)\n",
    "return $v"
   ]
  },
  {
   "cell_type": "markdown",
   "metadata": {},
   "source": [
    "## Iteration"
   ]
  },
  {
   "cell_type": "markdown",
   "metadata": {},
   "source": [
    "It is possible to iterate on the elements in a sequence, like so:"
   ]
  },
  {
   "cell_type": "code",
   "execution_count": null,
   "metadata": {},
   "outputs": [],
   "source": [
    "%%jsoniq\n",
    "for $i in 1 to 10\n",
    "return $i * 2"
   ]
  },
  {
   "cell_type": "markdown",
   "metadata": {},
   "source": [
    "The sequence to iterator on can itself come from a dataset, such as the one we were using previously:"
   ]
  },
  {
   "cell_type": "code",
   "execution_count": null,
   "metadata": {},
   "outputs": [],
   "source": [
    "%%jsoniq\n",
    "for $event in json-file(\"http://www.rumbledb.org/samples/git-archive-small.json\")\n",
    "return size($event.payload.commits)"
   ]
  },
  {
   "cell_type": "markdown",
   "metadata": {},
   "source": [
    "`for` clauses can be mixed with `let` clauses:"
   ]
  },
  {
   "cell_type": "code",
   "execution_count": null,
   "metadata": {},
   "outputs": [],
   "source": [
    "%%jsoniq\n",
    "let $path := \"http://www.rumbledb.org/samples/git-archive-small.json\"\n",
    "for $event in json-file($path)\n",
    "let $commits := $event.payload.commits\n",
    "return size($commits)"
   ]
  },
  {
   "cell_type": "markdown",
   "metadata": {},
   "source": [
    "And the results can also be nested in a more complex query: for example, let us compute the max of all these array sizes."
   ]
  },
  {
   "cell_type": "code",
   "execution_count": null,
   "metadata": {},
   "outputs": [],
   "source": [
    "%%jsoniq\n",
    "max(\n",
    "  let $path := \"http://www.rumbledb.org/samples/git-archive-small.json\"\n",
    "  for $event in json-file($path)\n",
    "  let $commits := $event.payload.commits\n",
    "  return size($commits)\n",
    ")"
   ]
  },
  {
   "cell_type": "markdown",
   "metadata": {},
   "source": [
    "A third kind of clause is the `where` clause: it allows you to filter events. Let us only keep those with more than 10 commits, and count them."
   ]
  },
  {
   "cell_type": "code",
   "execution_count": null,
   "metadata": {},
   "outputs": [],
   "source": [
    "%%jsoniq\n",
    "count(\n",
    "  let $path := \"http://www.rumbledb.org/samples/git-archive-small.json\"\n",
    "  for $event in json-file($path)\n",
    "  let $commits := $event.payload.commits\n",
    "  where size($commits) gt 10\n",
    "  return $event\n",
    ")"
   ]
  },
  {
   "cell_type": "markdown",
   "metadata": {},
   "source": [
    "## Simple calculations"
   ]
  },
  {
   "cell_type": "markdown",
   "metadata": {},
   "source": [
    "Let us now look closer arithmetics, comparison and logic expressions. They are particularly useful in a where clause or in a Boolean predicate, however these expressions can be used just about anywhere as this is a functional language."
   ]
  },
  {
   "cell_type": "markdown",
   "metadata": {},
   "source": [
    "### Arithmetics"
   ]
  },
  {
   "cell_type": "markdown",
   "metadata": {},
   "source": [
    "JSONiq works like a calculator and can do arithmetics with the four basic operations."
   ]
  },
  {
   "cell_type": "code",
   "execution_count": null,
   "metadata": {},
   "outputs": [],
   "source": [
    "%%jsoniq\n",
    " (38 + 2) div 2 + 11 * 2\n"
   ]
  },
  {
   "cell_type": "markdown",
   "metadata": {},
   "source": [
    "(mind the division operator which is the \"div\" keyword. The slash operator has different semantics).\n",
    "\n",
    "Like JSON, JSONiq works with decimals and doubles:"
   ]
  },
  {
   "cell_type": "code",
   "execution_count": null,
   "metadata": {},
   "outputs": [],
   "source": [
    "%%jsoniq\n",
    " 6.022e23 * 42"
   ]
  },
  {
   "cell_type": "markdown",
   "metadata": {},
   "source": [
    "JSONiq also support modulos, integer division, and has a rich function library (trigonometry, logarithms, exponential, powers, etc)."
   ]
  },
  {
   "cell_type": "markdown",
   "metadata": {},
   "source": [
    "## Comparison"
   ]
  },
  {
   "cell_type": "markdown",
   "metadata": {},
   "source": [
    "Values (numbers, strings, dates, etc) can be compared with the binary operators `eq`, `ne`, `gt`, `ge`, `lt` and `le`.\n",
    "Let us change the comparison used in the where clause with other kinds."
   ]
  },
  {
   "cell_type": "code",
   "execution_count": null,
   "metadata": {},
   "outputs": [
    {
     "name": "stdout",
     "output_type": "stream",
     "text": [
      "Took: 25.07742476463318 ms\n",
      "6\n"
     ]
    }
   ],
   "source": [
    "%%jsoniq\n",
    "count(\n",
    "  let $path := \"http://www.rumbledb.org/samples/git-archive-small.json\"\n",
    "  for $event in json-file($path)\n",
    "  let $commits := $event.payload.commits\n",
    "  where size($commits) gt 10\n",
    "  return $event\n",
    ")"
   ]
  },
  {
   "cell_type": "code",
   "execution_count": null,
   "metadata": {},
   "outputs": [],
   "source": [
    "%%jsoniq\n",
    "count(\n",
    "  let $path := \"http://www.rumbledb.org/samples/git-archive-small.json\"\n",
    "  for $event in json-file($path)\n",
    "  let $commits := $event.payload.commits\n",
    "  where size($commits) eq 10\n",
    "  return $event\n",
    ")"
   ]
  },
  {
   "cell_type": "code",
   "execution_count": null,
   "metadata": {},
   "outputs": [],
   "source": [
    "%%jsoniq\n",
    "count(\n",
    "  let $path := \"http://www.rumbledb.org/samples/git-archive-small.json\"\n",
    "  for $event in json-file($path)\n",
    "  let $commits := $event.payload.commits\n",
    "  where size($commits) ne 10\n",
    "  return $event\n",
    ")"
   ]
  },
  {
   "cell_type": "code",
   "execution_count": null,
   "metadata": {},
   "outputs": [],
   "source": [
    "%%jsoniq\n",
    "count(\n",
    "  let $path := \"http://www.rumbledb.org/samples/git-archive-small.json\"\n",
    "  for $event in json-file($path)\n",
    "  let $commits := $event.payload.commits\n",
    "  where size($commits) le 10\n",
    "  return $event\n",
    ")"
   ]
  },
  {
   "cell_type": "markdown",
   "metadata": {},
   "source": [
    "Why not = or < or >=? This is because these are more powerful. In fact, they implicitly perform an existential quantification over the operands."
   ]
  },
  {
   "cell_type": "code",
   "execution_count": null,
   "metadata": {},
   "outputs": [
    {
     "name": "stdout",
     "output_type": "stream",
     "text": [
      "Took: 0.02307605743408203 ms\n",
      "true\n"
     ]
    }
   ],
   "source": [
    "%%jsoniq\n",
    "1 to 10 = 5"
   ]
  },
  {
   "cell_type": "code",
   "execution_count": null,
   "metadata": {},
   "outputs": [
    {
     "name": "stdout",
     "output_type": "stream",
     "text": [
      "Took: 0.021193265914916992 ms\n",
      "false\n"
     ]
    }
   ],
   "source": [
    "%%jsoniq\n",
    "1 to 10 > 11 to 20"
   ]
  },
  {
   "cell_type": "markdown",
   "metadata": {},
   "source": [
    "### Logical operations\n",
    "\n",
    "JSONiq supports Boolean logic."
   ]
  },
  {
   "cell_type": "code",
   "execution_count": null,
   "metadata": {},
   "outputs": [],
   "source": [
    "%%jsoniq\n",
    "true and false"
   ]
  },
  {
   "cell_type": "code",
   "execution_count": null,
   "metadata": {},
   "outputs": [],
   "source": [
    "%%jsoniq\n",
    "(true or false) and (false or true)"
   ]
  },
  {
   "cell_type": "markdown",
   "metadata": {},
   "source": [
    "The unary not is also available:"
   ]
  },
  {
   "cell_type": "code",
   "execution_count": null,
   "metadata": {
    "cell_status": {
     "execute_time": {
      "duration": 243.537109375,
      "end_time": 1557235032261.665
     }
    }
   },
   "outputs": [],
   "source": [
    "%%jsoniq\n",
    "not true"
   ]
  },
  {
   "cell_type": "markdown",
   "metadata": {},
   "source": [
    "Note that JSONiq, unlike SQL, does two-valued logic. Nulls are automatically converted to false."
   ]
  },
  {
   "cell_type": "code",
   "execution_count": null,
   "metadata": {},
   "outputs": [],
   "source": [
    "%%jsoniq\n",
    "null and true"
   ]
  },
  {
   "cell_type": "markdown",
   "metadata": {},
   "source": [
    "Some non-Booleans can also get converted. For example, non-empty strings are converted to true and empty strings to false."
   ]
  },
  {
   "cell_type": "code",
   "execution_count": null,
   "metadata": {},
   "outputs": [],
   "source": [
    "%%jsoniq\n",
    "not \"\""
   ]
  },
  {
   "cell_type": "code",
   "execution_count": null,
   "metadata": {},
   "outputs": [],
   "source": [
    "%%jsoniq\n",
    "not \"non empty\""
   ]
  },
  {
   "cell_type": "markdown",
   "metadata": {},
   "source": [
    "Zero is converted to false, non-zero numbers to true."
   ]
  },
  {
   "cell_type": "code",
   "execution_count": null,
   "metadata": {},
   "outputs": [],
   "source": [
    "%%jsoniq\n",
    "not 0"
   ]
  },
  {
   "cell_type": "code",
   "execution_count": null,
   "metadata": {},
   "outputs": [],
   "source": [
    "%%jsoniq\n",
    "not 1e10"
   ]
  },
  {
   "cell_type": "markdown",
   "metadata": {},
   "source": [
    "### Strings\n",
    "\n",
    "JSONiq is capable of manipulating strings as well, using functions:\n"
   ]
  },
  {
   "cell_type": "code",
   "execution_count": null,
   "metadata": {
    "cell_status": {
     "execute_time": {
      "duration": 21398.401123046875,
      "end_time": 1557212587338.105
     }
    }
   },
   "outputs": [],
   "source": [
    "%%jsoniq\n",
    "concat(\"Hello \", \"Captain \", \"Kirk\")"
   ]
  },
  {
   "cell_type": "code",
   "execution_count": null,
   "metadata": {
    "cell_status": {
     "execute_time": {
      "duration": 752.509033203125,
      "end_time": 1557234001018.501
     }
    }
   },
   "outputs": [],
   "source": [
    "%%jsoniq\n",
    "substring(\"Mister Spock\", 8, 5)"
   ]
  },
  {
   "cell_type": "markdown",
   "metadata": {},
   "source": [
    "JSONiq comes up with a rich string function library out of the box, inherited from its base language. These functions are listed [here](https://www.w3.org/TR/xpath-functions-30/) (actually, you will find many more for numbers, dates, etc).\n"
   ]
  },
  {
   "cell_type": "markdown",
   "metadata": {
    "cell_status": {
     "execute_time": {
      "duration": 17337.39599609375,
      "end_time": 1557230774662.657
     }
    }
   },
   "source": [
    "\n",
    "### Sequences\n",
    "\n",
    "Until now, we have only been working with single values (an object, an array, a number, a string, a boolean). JSONiq supports sequences of values. You can build a sequence using commas:\n"
   ]
  },
  {
   "cell_type": "code",
   "execution_count": null,
   "metadata": {},
   "outputs": [
    {
     "name": "stdout",
     "output_type": "stream",
     "text": [
      "Took: 0.024641990661621094 ms\n",
      "1\n",
      "2\n",
      "3\n",
      "4\n",
      "5\n",
      "6\n",
      "7\n",
      "8\n",
      "9\n",
      "10\n"
     ]
    }
   ],
   "source": [
    "%%jsoniq\n",
    " (1, 2, 3, 4, 5, 6, 7, 8, 9, 10)"
   ]
  },
  {
   "cell_type": "code",
   "execution_count": null,
   "metadata": {
    "cell_status": {
     "execute_time": {
      "duration": 222241.63500976562,
      "end_time": 1557387411306.792
     }
    }
   },
   "outputs": [
    {
     "name": "stdout",
     "output_type": "stream",
     "text": [
      "Took: 0.03013014793395996 ms\n",
      "1\n",
      "true\n",
      "42\n",
      "\"Life\"\n"
     ]
    }
   ],
   "source": [
    "%%jsoniq\n",
    "1, true, 4.2e1, \"Life\""
   ]
  },
  {
   "cell_type": "markdown",
   "metadata": {},
   "source": [
    "The \"to\" operator is very convenient, too:"
   ]
  },
  {
   "cell_type": "code",
   "execution_count": null,
   "metadata": {
    "cell_status": {
     "execute_time": {
      "duration": 39579.559814453125,
      "end_time": 1557387951481.842
     }
    }
   },
   "outputs": [],
   "source": [
    "%%jsoniq\n",
    " (1 to 100)"
   ]
  },
  {
   "cell_type": "markdown",
   "metadata": {},
   "source": [
    "Some functions even work on sequences:"
   ]
  },
  {
   "cell_type": "code",
   "execution_count": null,
   "metadata": {
    "cell_status": {
     "execute_time": {
      "duration": 27601.31787109375,
      "end_time": 1557171455208.987
     }
    }
   },
   "outputs": [],
   "source": [
    "%%jsoniq\n",
    "sum(1 to 100)"
   ]
  },
  {
   "cell_type": "code",
   "execution_count": null,
   "metadata": {
    "cell_status": {
     "execute_time": {
      "duration": 55527.44091796875,
      "end_time": 1557229508578.007
     }
    }
   },
   "outputs": [],
   "source": [
    "%%jsoniq\n",
    "string-join((\"These\", \"are\", \"some\", \"words\"), \"-\")"
   ]
  },
  {
   "cell_type": "code",
   "execution_count": null,
   "metadata": {
    "cell_status": {
     "execute_time": {
      "duration": 13343.739013671875,
      "end_time": 1557224627704.526
     }
    }
   },
   "outputs": [],
   "source": [
    "%%jsoniq\n",
    "count(10 to 20)"
   ]
  },
  {
   "cell_type": "code",
   "execution_count": null,
   "metadata": {
    "cell_status": {
     "execute_time": {
      "duration": 19340.81201171875,
      "end_time": 1557220260002.04
     }
    }
   },
   "outputs": [],
   "source": [
    "%%jsoniq\n",
    "avg(1 to 100)"
   ]
  },
  {
   "cell_type": "markdown",
   "metadata": {},
   "source": [
    "Unlike arrays, sequences are flat. The sequence (3) is identical to the integer 3, and (1, (2, 3)) is identical to (1, 2, 3). See [this post](https://www.jsoniq.org/docs/Introduction_to_JSONiq/html/ch17.html#:~:text=Any%20value%20returned%20by%20or,them%20to%20form%20bigger%20sequences.) for more detail on sequences vs. arrays."
   ]
  },
  {
   "cell_type": "markdown",
   "metadata": {},
   "source": [
    "and even filter out some values:"
   ]
  },
  {
   "cell_type": "code",
   "execution_count": 11,
   "metadata": {},
   "outputs": [
    {
     "ename": "KeyboardInterrupt",
     "evalue": "",
     "output_type": "error",
     "traceback": [
      "\u001b[0;31m---------------------------------------------------------------------------\u001b[0m",
      "\u001b[0;31mKeyboardInterrupt\u001b[0m                         Traceback (most recent call last)",
      "Cell \u001b[0;32mIn[11], line 1\u001b[0m\n\u001b[0;32m----> 1\u001b[0m get_ipython()\u001b[39m.\u001b[39;49mrun_cell_magic(\u001b[39m'\u001b[39;49m\u001b[39mjsoniq\u001b[39;49m\u001b[39m'\u001b[39;49m, \u001b[39m'\u001b[39;49m\u001b[39m'\u001b[39;49m, \u001b[39m'\u001b[39;49m\u001b[39mlet $sequence := 1 to 10\u001b[39;49m\u001b[39m\\n\u001b[39;49;00m\u001b[39mfor $value in $sequence\u001b[39;49m\u001b[39m\\n\u001b[39;49;00m\u001b[39mlet $square := $value * $value\u001b[39;49m\u001b[39m\\n\u001b[39;49;00m\u001b[39mwhere $square < 10\u001b[39;49m\u001b[39m\\n\u001b[39;49;00m\u001b[39mreturn $square\u001b[39;49m\u001b[39m\\n\u001b[39;49;00m\u001b[39m'\u001b[39;49m)\n",
      "File \u001b[0;32m~/Library/Python/3.10/lib/python/site-packages/IPython/core/interactiveshell.py:2417\u001b[0m, in \u001b[0;36mInteractiveShell.run_cell_magic\u001b[0;34m(self, magic_name, line, cell)\u001b[0m\n\u001b[1;32m   2415\u001b[0m \u001b[39mwith\u001b[39;00m \u001b[39mself\u001b[39m\u001b[39m.\u001b[39mbuiltin_trap:\n\u001b[1;32m   2416\u001b[0m     args \u001b[39m=\u001b[39m (magic_arg_s, cell)\n\u001b[0;32m-> 2417\u001b[0m     result \u001b[39m=\u001b[39m fn(\u001b[39m*\u001b[39;49margs, \u001b[39m*\u001b[39;49m\u001b[39m*\u001b[39;49mkwargs)\n\u001b[1;32m   2418\u001b[0m \u001b[39mreturn\u001b[39;00m result\n",
      "File \u001b[0;32m/usr/local/lib/python3.10/site-packages/rumbledb/rumbledb.py:16\u001b[0m, in \u001b[0;36mRumbleDBServerMagic.jsoniq\u001b[0;34m(self, line, cell)\u001b[0m\n\u001b[1;32m     13\u001b[0m     data \u001b[39m=\u001b[39m cell\n\u001b[1;32m     15\u001b[0m start \u001b[39m=\u001b[39m time\u001b[39m.\u001b[39mtime()                                                         \n\u001b[0;32m---> 16\u001b[0m response \u001b[39m=\u001b[39m json\u001b[39m.\u001b[39mloads(requests\u001b[39m.\u001b[39;49mpost(os\u001b[39m.\u001b[39;49menviron[\u001b[39m\"\u001b[39;49m\u001b[39mRUMBLEDB_SERVER\u001b[39;49m\u001b[39m\"\u001b[39;49m], data\u001b[39m=\u001b[39;49mdata)\u001b[39m.\u001b[39mtext)                   \n\u001b[1;32m     17\u001b[0m end \u001b[39m=\u001b[39m time\u001b[39m.\u001b[39mtime()                                                              \n\u001b[1;32m     18\u001b[0m \u001b[39mprint\u001b[39m(\u001b[39m\"\u001b[39m\u001b[39mTook: \u001b[39m\u001b[39m%s\u001b[39;00m\u001b[39m ms\u001b[39m\u001b[39m\"\u001b[39m \u001b[39m%\u001b[39m (end \u001b[39m-\u001b[39m start))\n",
      "File \u001b[0;32m/usr/local/lib/python3.10/site-packages/requests/api.py:115\u001b[0m, in \u001b[0;36mpost\u001b[0;34m(url, data, json, **kwargs)\u001b[0m\n\u001b[1;32m    103\u001b[0m \u001b[39mdef\u001b[39;00m \u001b[39mpost\u001b[39m(url, data\u001b[39m=\u001b[39m\u001b[39mNone\u001b[39;00m, json\u001b[39m=\u001b[39m\u001b[39mNone\u001b[39;00m, \u001b[39m*\u001b[39m\u001b[39m*\u001b[39mkwargs):\n\u001b[1;32m    104\u001b[0m     \u001b[39mr\u001b[39m\u001b[39m\"\"\"Sends a POST request.\u001b[39;00m\n\u001b[1;32m    105\u001b[0m \n\u001b[1;32m    106\u001b[0m \u001b[39m    :param url: URL for the new :class:`Request` object.\u001b[39;00m\n\u001b[0;32m   (...)\u001b[0m\n\u001b[1;32m    112\u001b[0m \u001b[39m    :rtype: requests.Response\u001b[39;00m\n\u001b[1;32m    113\u001b[0m \u001b[39m    \"\"\"\u001b[39;00m\n\u001b[0;32m--> 115\u001b[0m     \u001b[39mreturn\u001b[39;00m request(\u001b[39m\"\u001b[39;49m\u001b[39mpost\u001b[39;49m\u001b[39m\"\u001b[39;49m, url, data\u001b[39m=\u001b[39;49mdata, json\u001b[39m=\u001b[39;49mjson, \u001b[39m*\u001b[39;49m\u001b[39m*\u001b[39;49mkwargs)\n",
      "File \u001b[0;32m/usr/local/lib/python3.10/site-packages/requests/api.py:59\u001b[0m, in \u001b[0;36mrequest\u001b[0;34m(method, url, **kwargs)\u001b[0m\n\u001b[1;32m     55\u001b[0m \u001b[39m# By using the 'with' statement we are sure the session is closed, thus we\u001b[39;00m\n\u001b[1;32m     56\u001b[0m \u001b[39m# avoid leaving sockets open which can trigger a ResourceWarning in some\u001b[39;00m\n\u001b[1;32m     57\u001b[0m \u001b[39m# cases, and look like a memory leak in others.\u001b[39;00m\n\u001b[1;32m     58\u001b[0m \u001b[39mwith\u001b[39;00m sessions\u001b[39m.\u001b[39mSession() \u001b[39mas\u001b[39;00m session:\n\u001b[0;32m---> 59\u001b[0m     \u001b[39mreturn\u001b[39;00m session\u001b[39m.\u001b[39;49mrequest(method\u001b[39m=\u001b[39;49mmethod, url\u001b[39m=\u001b[39;49murl, \u001b[39m*\u001b[39;49m\u001b[39m*\u001b[39;49mkwargs)\n",
      "File \u001b[0;32m/usr/local/lib/python3.10/site-packages/requests/sessions.py:587\u001b[0m, in \u001b[0;36mSession.request\u001b[0;34m(self, method, url, params, data, headers, cookies, files, auth, timeout, allow_redirects, proxies, hooks, stream, verify, cert, json)\u001b[0m\n\u001b[1;32m    582\u001b[0m send_kwargs \u001b[39m=\u001b[39m {\n\u001b[1;32m    583\u001b[0m     \u001b[39m\"\u001b[39m\u001b[39mtimeout\u001b[39m\u001b[39m\"\u001b[39m: timeout,\n\u001b[1;32m    584\u001b[0m     \u001b[39m\"\u001b[39m\u001b[39mallow_redirects\u001b[39m\u001b[39m\"\u001b[39m: allow_redirects,\n\u001b[1;32m    585\u001b[0m }\n\u001b[1;32m    586\u001b[0m send_kwargs\u001b[39m.\u001b[39mupdate(settings)\n\u001b[0;32m--> 587\u001b[0m resp \u001b[39m=\u001b[39m \u001b[39mself\u001b[39;49m\u001b[39m.\u001b[39;49msend(prep, \u001b[39m*\u001b[39;49m\u001b[39m*\u001b[39;49msend_kwargs)\n\u001b[1;32m    589\u001b[0m \u001b[39mreturn\u001b[39;00m resp\n",
      "File \u001b[0;32m/usr/local/lib/python3.10/site-packages/requests/sessions.py:701\u001b[0m, in \u001b[0;36mSession.send\u001b[0;34m(self, request, **kwargs)\u001b[0m\n\u001b[1;32m    698\u001b[0m start \u001b[39m=\u001b[39m preferred_clock()\n\u001b[1;32m    700\u001b[0m \u001b[39m# Send the request\u001b[39;00m\n\u001b[0;32m--> 701\u001b[0m r \u001b[39m=\u001b[39m adapter\u001b[39m.\u001b[39;49msend(request, \u001b[39m*\u001b[39;49m\u001b[39m*\u001b[39;49mkwargs)\n\u001b[1;32m    703\u001b[0m \u001b[39m# Total elapsed time of the request (approximately)\u001b[39;00m\n\u001b[1;32m    704\u001b[0m elapsed \u001b[39m=\u001b[39m preferred_clock() \u001b[39m-\u001b[39m start\n",
      "File \u001b[0;32m/usr/local/lib/python3.10/site-packages/requests/adapters.py:489\u001b[0m, in \u001b[0;36mHTTPAdapter.send\u001b[0;34m(self, request, stream, timeout, verify, cert, proxies)\u001b[0m\n\u001b[1;32m    487\u001b[0m \u001b[39mtry\u001b[39;00m:\n\u001b[1;32m    488\u001b[0m     \u001b[39mif\u001b[39;00m \u001b[39mnot\u001b[39;00m chunked:\n\u001b[0;32m--> 489\u001b[0m         resp \u001b[39m=\u001b[39m conn\u001b[39m.\u001b[39;49murlopen(\n\u001b[1;32m    490\u001b[0m             method\u001b[39m=\u001b[39;49mrequest\u001b[39m.\u001b[39;49mmethod,\n\u001b[1;32m    491\u001b[0m             url\u001b[39m=\u001b[39;49murl,\n\u001b[1;32m    492\u001b[0m             body\u001b[39m=\u001b[39;49mrequest\u001b[39m.\u001b[39;49mbody,\n\u001b[1;32m    493\u001b[0m             headers\u001b[39m=\u001b[39;49mrequest\u001b[39m.\u001b[39;49mheaders,\n\u001b[1;32m    494\u001b[0m             redirect\u001b[39m=\u001b[39;49m\u001b[39mFalse\u001b[39;49;00m,\n\u001b[1;32m    495\u001b[0m             assert_same_host\u001b[39m=\u001b[39;49m\u001b[39mFalse\u001b[39;49;00m,\n\u001b[1;32m    496\u001b[0m             preload_content\u001b[39m=\u001b[39;49m\u001b[39mFalse\u001b[39;49;00m,\n\u001b[1;32m    497\u001b[0m             decode_content\u001b[39m=\u001b[39;49m\u001b[39mFalse\u001b[39;49;00m,\n\u001b[1;32m    498\u001b[0m             retries\u001b[39m=\u001b[39;49m\u001b[39mself\u001b[39;49m\u001b[39m.\u001b[39;49mmax_retries,\n\u001b[1;32m    499\u001b[0m             timeout\u001b[39m=\u001b[39;49mtimeout,\n\u001b[1;32m    500\u001b[0m         )\n\u001b[1;32m    502\u001b[0m     \u001b[39m# Send the request.\u001b[39;00m\n\u001b[1;32m    503\u001b[0m     \u001b[39melse\u001b[39;00m:\n\u001b[1;32m    504\u001b[0m         \u001b[39mif\u001b[39;00m \u001b[39mhasattr\u001b[39m(conn, \u001b[39m\"\u001b[39m\u001b[39mproxy_pool\u001b[39m\u001b[39m\"\u001b[39m):\n",
      "File \u001b[0;32m/usr/local/lib/python3.10/site-packages/urllib3/connectionpool.py:703\u001b[0m, in \u001b[0;36mHTTPConnectionPool.urlopen\u001b[0;34m(self, method, url, body, headers, retries, redirect, assert_same_host, timeout, pool_timeout, release_conn, chunked, body_pos, **response_kw)\u001b[0m\n\u001b[1;32m    700\u001b[0m     \u001b[39mself\u001b[39m\u001b[39m.\u001b[39m_prepare_proxy(conn)\n\u001b[1;32m    702\u001b[0m \u001b[39m# Make the request on the httplib connection object.\u001b[39;00m\n\u001b[0;32m--> 703\u001b[0m httplib_response \u001b[39m=\u001b[39m \u001b[39mself\u001b[39;49m\u001b[39m.\u001b[39;49m_make_request(\n\u001b[1;32m    704\u001b[0m     conn,\n\u001b[1;32m    705\u001b[0m     method,\n\u001b[1;32m    706\u001b[0m     url,\n\u001b[1;32m    707\u001b[0m     timeout\u001b[39m=\u001b[39;49mtimeout_obj,\n\u001b[1;32m    708\u001b[0m     body\u001b[39m=\u001b[39;49mbody,\n\u001b[1;32m    709\u001b[0m     headers\u001b[39m=\u001b[39;49mheaders,\n\u001b[1;32m    710\u001b[0m     chunked\u001b[39m=\u001b[39;49mchunked,\n\u001b[1;32m    711\u001b[0m )\n\u001b[1;32m    713\u001b[0m \u001b[39m# If we're going to release the connection in ``finally:``, then\u001b[39;00m\n\u001b[1;32m    714\u001b[0m \u001b[39m# the response doesn't need to know about the connection. Otherwise\u001b[39;00m\n\u001b[1;32m    715\u001b[0m \u001b[39m# it will also try to release it and we'll have a double-release\u001b[39;00m\n\u001b[1;32m    716\u001b[0m \u001b[39m# mess.\u001b[39;00m\n\u001b[1;32m    717\u001b[0m response_conn \u001b[39m=\u001b[39m conn \u001b[39mif\u001b[39;00m \u001b[39mnot\u001b[39;00m release_conn \u001b[39melse\u001b[39;00m \u001b[39mNone\u001b[39;00m\n",
      "File \u001b[0;32m/usr/local/lib/python3.10/site-packages/urllib3/connectionpool.py:449\u001b[0m, in \u001b[0;36mHTTPConnectionPool._make_request\u001b[0;34m(self, conn, method, url, timeout, chunked, **httplib_request_kw)\u001b[0m\n\u001b[1;32m    444\u001b[0m             httplib_response \u001b[39m=\u001b[39m conn\u001b[39m.\u001b[39mgetresponse()\n\u001b[1;32m    445\u001b[0m         \u001b[39mexcept\u001b[39;00m \u001b[39mBaseException\u001b[39;00m \u001b[39mas\u001b[39;00m e:\n\u001b[1;32m    446\u001b[0m             \u001b[39m# Remove the TypeError from the exception chain in\u001b[39;00m\n\u001b[1;32m    447\u001b[0m             \u001b[39m# Python 3 (including for exceptions like SystemExit).\u001b[39;00m\n\u001b[1;32m    448\u001b[0m             \u001b[39m# Otherwise it looks like a bug in the code.\u001b[39;00m\n\u001b[0;32m--> 449\u001b[0m             six\u001b[39m.\u001b[39;49mraise_from(e, \u001b[39mNone\u001b[39;49;00m)\n\u001b[1;32m    450\u001b[0m \u001b[39mexcept\u001b[39;00m (SocketTimeout, BaseSSLError, SocketError) \u001b[39mas\u001b[39;00m e:\n\u001b[1;32m    451\u001b[0m     \u001b[39mself\u001b[39m\u001b[39m.\u001b[39m_raise_timeout(err\u001b[39m=\u001b[39me, url\u001b[39m=\u001b[39murl, timeout_value\u001b[39m=\u001b[39mread_timeout)\n",
      "File \u001b[0;32m<string>:3\u001b[0m, in \u001b[0;36mraise_from\u001b[0;34m(value, from_value)\u001b[0m\n",
      "File \u001b[0;32m/usr/local/lib/python3.10/site-packages/urllib3/connectionpool.py:444\u001b[0m, in \u001b[0;36mHTTPConnectionPool._make_request\u001b[0;34m(self, conn, method, url, timeout, chunked, **httplib_request_kw)\u001b[0m\n\u001b[1;32m    441\u001b[0m \u001b[39mexcept\u001b[39;00m \u001b[39mTypeError\u001b[39;00m:\n\u001b[1;32m    442\u001b[0m     \u001b[39m# Python 3\u001b[39;00m\n\u001b[1;32m    443\u001b[0m     \u001b[39mtry\u001b[39;00m:\n\u001b[0;32m--> 444\u001b[0m         httplib_response \u001b[39m=\u001b[39m conn\u001b[39m.\u001b[39;49mgetresponse()\n\u001b[1;32m    445\u001b[0m     \u001b[39mexcept\u001b[39;00m \u001b[39mBaseException\u001b[39;00m \u001b[39mas\u001b[39;00m e:\n\u001b[1;32m    446\u001b[0m         \u001b[39m# Remove the TypeError from the exception chain in\u001b[39;00m\n\u001b[1;32m    447\u001b[0m         \u001b[39m# Python 3 (including for exceptions like SystemExit).\u001b[39;00m\n\u001b[1;32m    448\u001b[0m         \u001b[39m# Otherwise it looks like a bug in the code.\u001b[39;00m\n\u001b[1;32m    449\u001b[0m         six\u001b[39m.\u001b[39mraise_from(e, \u001b[39mNone\u001b[39;00m)\n",
      "File \u001b[0;32m/usr/local/Cellar/python@3.10/3.10.8/Frameworks/Python.framework/Versions/3.10/lib/python3.10/http/client.py:1374\u001b[0m, in \u001b[0;36mHTTPConnection.getresponse\u001b[0;34m(self)\u001b[0m\n\u001b[1;32m   1372\u001b[0m \u001b[39mtry\u001b[39;00m:\n\u001b[1;32m   1373\u001b[0m     \u001b[39mtry\u001b[39;00m:\n\u001b[0;32m-> 1374\u001b[0m         response\u001b[39m.\u001b[39;49mbegin()\n\u001b[1;32m   1375\u001b[0m     \u001b[39mexcept\u001b[39;00m \u001b[39mConnectionError\u001b[39;00m:\n\u001b[1;32m   1376\u001b[0m         \u001b[39mself\u001b[39m\u001b[39m.\u001b[39mclose()\n",
      "File \u001b[0;32m/usr/local/Cellar/python@3.10/3.10.8/Frameworks/Python.framework/Versions/3.10/lib/python3.10/http/client.py:318\u001b[0m, in \u001b[0;36mHTTPResponse.begin\u001b[0;34m(self)\u001b[0m\n\u001b[1;32m    316\u001b[0m \u001b[39m# read until we get a non-100 response\u001b[39;00m\n\u001b[1;32m    317\u001b[0m \u001b[39mwhile\u001b[39;00m \u001b[39mTrue\u001b[39;00m:\n\u001b[0;32m--> 318\u001b[0m     version, status, reason \u001b[39m=\u001b[39m \u001b[39mself\u001b[39;49m\u001b[39m.\u001b[39;49m_read_status()\n\u001b[1;32m    319\u001b[0m     \u001b[39mif\u001b[39;00m status \u001b[39m!=\u001b[39m CONTINUE:\n\u001b[1;32m    320\u001b[0m         \u001b[39mbreak\u001b[39;00m\n",
      "File \u001b[0;32m/usr/local/Cellar/python@3.10/3.10.8/Frameworks/Python.framework/Versions/3.10/lib/python3.10/http/client.py:279\u001b[0m, in \u001b[0;36mHTTPResponse._read_status\u001b[0;34m(self)\u001b[0m\n\u001b[1;32m    278\u001b[0m \u001b[39mdef\u001b[39;00m \u001b[39m_read_status\u001b[39m(\u001b[39mself\u001b[39m):\n\u001b[0;32m--> 279\u001b[0m     line \u001b[39m=\u001b[39m \u001b[39mstr\u001b[39m(\u001b[39mself\u001b[39;49m\u001b[39m.\u001b[39;49mfp\u001b[39m.\u001b[39;49mreadline(_MAXLINE \u001b[39m+\u001b[39;49m \u001b[39m1\u001b[39;49m), \u001b[39m\"\u001b[39m\u001b[39miso-8859-1\u001b[39m\u001b[39m\"\u001b[39m)\n\u001b[1;32m    280\u001b[0m     \u001b[39mif\u001b[39;00m \u001b[39mlen\u001b[39m(line) \u001b[39m>\u001b[39m _MAXLINE:\n\u001b[1;32m    281\u001b[0m         \u001b[39mraise\u001b[39;00m LineTooLong(\u001b[39m\"\u001b[39m\u001b[39mstatus line\u001b[39m\u001b[39m\"\u001b[39m)\n",
      "File \u001b[0;32m/usr/local/Cellar/python@3.10/3.10.8/Frameworks/Python.framework/Versions/3.10/lib/python3.10/socket.py:705\u001b[0m, in \u001b[0;36mSocketIO.readinto\u001b[0;34m(self, b)\u001b[0m\n\u001b[1;32m    703\u001b[0m \u001b[39mwhile\u001b[39;00m \u001b[39mTrue\u001b[39;00m:\n\u001b[1;32m    704\u001b[0m     \u001b[39mtry\u001b[39;00m:\n\u001b[0;32m--> 705\u001b[0m         \u001b[39mreturn\u001b[39;00m \u001b[39mself\u001b[39;49m\u001b[39m.\u001b[39;49m_sock\u001b[39m.\u001b[39;49mrecv_into(b)\n\u001b[1;32m    706\u001b[0m     \u001b[39mexcept\u001b[39;00m timeout:\n\u001b[1;32m    707\u001b[0m         \u001b[39mself\u001b[39m\u001b[39m.\u001b[39m_timeout_occurred \u001b[39m=\u001b[39m \u001b[39mTrue\u001b[39;00m\n",
      "\u001b[0;31mKeyboardInterrupt\u001b[0m: "
     ]
    }
   ],
   "source": [
    "%%jsoniq\n",
    "let $sequence := 1 to 10\n",
    "for $value in $sequence\n",
    "let $square := $value * $value\n",
    "where $square < 10\n",
    "return $square"
   ]
  },
  {
   "cell_type": "markdown",
   "metadata": {},
   "source": [
    "Note that you can only iterate over sequences, not arrays. To iterate over an array, you can obtain the sequence of its values with the `[]` operator, like so:\n"
   ]
  },
  {
   "cell_type": "code",
   "execution_count": 12,
   "metadata": {},
   "outputs": [
    {
     "ename": "KeyboardInterrupt",
     "evalue": "",
     "output_type": "error",
     "traceback": [
      "\u001b[0;31m---------------------------------------------------------------------------\u001b[0m",
      "\u001b[0;31mKeyboardInterrupt\u001b[0m                         Traceback (most recent call last)",
      "Cell \u001b[0;32mIn[12], line 1\u001b[0m\n\u001b[0;32m----> 1\u001b[0m get_ipython()\u001b[39m.\u001b[39;49mrun_cell_magic(\u001b[39m'\u001b[39;49m\u001b[39mjsoniq\u001b[39;49m\u001b[39m'\u001b[39;49m, \u001b[39m'\u001b[39;49m\u001b[39m'\u001b[39;49m, \u001b[39m'\u001b[39;49m\u001b[39m[1, 2, 3][]\u001b[39;49m\u001b[39m\\n\u001b[39;49;00m\u001b[39m'\u001b[39;49m)\n",
      "File \u001b[0;32m~/Library/Python/3.10/lib/python/site-packages/IPython/core/interactiveshell.py:2417\u001b[0m, in \u001b[0;36mInteractiveShell.run_cell_magic\u001b[0;34m(self, magic_name, line, cell)\u001b[0m\n\u001b[1;32m   2415\u001b[0m \u001b[39mwith\u001b[39;00m \u001b[39mself\u001b[39m\u001b[39m.\u001b[39mbuiltin_trap:\n\u001b[1;32m   2416\u001b[0m     args \u001b[39m=\u001b[39m (magic_arg_s, cell)\n\u001b[0;32m-> 2417\u001b[0m     result \u001b[39m=\u001b[39m fn(\u001b[39m*\u001b[39;49margs, \u001b[39m*\u001b[39;49m\u001b[39m*\u001b[39;49mkwargs)\n\u001b[1;32m   2418\u001b[0m \u001b[39mreturn\u001b[39;00m result\n",
      "File \u001b[0;32m/usr/local/lib/python3.10/site-packages/rumbledb/rumbledb.py:16\u001b[0m, in \u001b[0;36mRumbleDBServerMagic.jsoniq\u001b[0;34m(self, line, cell)\u001b[0m\n\u001b[1;32m     13\u001b[0m     data \u001b[39m=\u001b[39m cell\n\u001b[1;32m     15\u001b[0m start \u001b[39m=\u001b[39m time\u001b[39m.\u001b[39mtime()                                                         \n\u001b[0;32m---> 16\u001b[0m response \u001b[39m=\u001b[39m json\u001b[39m.\u001b[39mloads(requests\u001b[39m.\u001b[39;49mpost(os\u001b[39m.\u001b[39;49menviron[\u001b[39m\"\u001b[39;49m\u001b[39mRUMBLEDB_SERVER\u001b[39;49m\u001b[39m\"\u001b[39;49m], data\u001b[39m=\u001b[39;49mdata)\u001b[39m.\u001b[39mtext)                   \n\u001b[1;32m     17\u001b[0m end \u001b[39m=\u001b[39m time\u001b[39m.\u001b[39mtime()                                                              \n\u001b[1;32m     18\u001b[0m \u001b[39mprint\u001b[39m(\u001b[39m\"\u001b[39m\u001b[39mTook: \u001b[39m\u001b[39m%s\u001b[39;00m\u001b[39m ms\u001b[39m\u001b[39m\"\u001b[39m \u001b[39m%\u001b[39m (end \u001b[39m-\u001b[39m start))\n",
      "File \u001b[0;32m/usr/local/lib/python3.10/site-packages/requests/api.py:115\u001b[0m, in \u001b[0;36mpost\u001b[0;34m(url, data, json, **kwargs)\u001b[0m\n\u001b[1;32m    103\u001b[0m \u001b[39mdef\u001b[39;00m \u001b[39mpost\u001b[39m(url, data\u001b[39m=\u001b[39m\u001b[39mNone\u001b[39;00m, json\u001b[39m=\u001b[39m\u001b[39mNone\u001b[39;00m, \u001b[39m*\u001b[39m\u001b[39m*\u001b[39mkwargs):\n\u001b[1;32m    104\u001b[0m     \u001b[39mr\u001b[39m\u001b[39m\"\"\"Sends a POST request.\u001b[39;00m\n\u001b[1;32m    105\u001b[0m \n\u001b[1;32m    106\u001b[0m \u001b[39m    :param url: URL for the new :class:`Request` object.\u001b[39;00m\n\u001b[0;32m   (...)\u001b[0m\n\u001b[1;32m    112\u001b[0m \u001b[39m    :rtype: requests.Response\u001b[39;00m\n\u001b[1;32m    113\u001b[0m \u001b[39m    \"\"\"\u001b[39;00m\n\u001b[0;32m--> 115\u001b[0m     \u001b[39mreturn\u001b[39;00m request(\u001b[39m\"\u001b[39;49m\u001b[39mpost\u001b[39;49m\u001b[39m\"\u001b[39;49m, url, data\u001b[39m=\u001b[39;49mdata, json\u001b[39m=\u001b[39;49mjson, \u001b[39m*\u001b[39;49m\u001b[39m*\u001b[39;49mkwargs)\n",
      "File \u001b[0;32m/usr/local/lib/python3.10/site-packages/requests/api.py:59\u001b[0m, in \u001b[0;36mrequest\u001b[0;34m(method, url, **kwargs)\u001b[0m\n\u001b[1;32m     55\u001b[0m \u001b[39m# By using the 'with' statement we are sure the session is closed, thus we\u001b[39;00m\n\u001b[1;32m     56\u001b[0m \u001b[39m# avoid leaving sockets open which can trigger a ResourceWarning in some\u001b[39;00m\n\u001b[1;32m     57\u001b[0m \u001b[39m# cases, and look like a memory leak in others.\u001b[39;00m\n\u001b[1;32m     58\u001b[0m \u001b[39mwith\u001b[39;00m sessions\u001b[39m.\u001b[39mSession() \u001b[39mas\u001b[39;00m session:\n\u001b[0;32m---> 59\u001b[0m     \u001b[39mreturn\u001b[39;00m session\u001b[39m.\u001b[39;49mrequest(method\u001b[39m=\u001b[39;49mmethod, url\u001b[39m=\u001b[39;49murl, \u001b[39m*\u001b[39;49m\u001b[39m*\u001b[39;49mkwargs)\n",
      "File \u001b[0;32m/usr/local/lib/python3.10/site-packages/requests/sessions.py:587\u001b[0m, in \u001b[0;36mSession.request\u001b[0;34m(self, method, url, params, data, headers, cookies, files, auth, timeout, allow_redirects, proxies, hooks, stream, verify, cert, json)\u001b[0m\n\u001b[1;32m    582\u001b[0m send_kwargs \u001b[39m=\u001b[39m {\n\u001b[1;32m    583\u001b[0m     \u001b[39m\"\u001b[39m\u001b[39mtimeout\u001b[39m\u001b[39m\"\u001b[39m: timeout,\n\u001b[1;32m    584\u001b[0m     \u001b[39m\"\u001b[39m\u001b[39mallow_redirects\u001b[39m\u001b[39m\"\u001b[39m: allow_redirects,\n\u001b[1;32m    585\u001b[0m }\n\u001b[1;32m    586\u001b[0m send_kwargs\u001b[39m.\u001b[39mupdate(settings)\n\u001b[0;32m--> 587\u001b[0m resp \u001b[39m=\u001b[39m \u001b[39mself\u001b[39;49m\u001b[39m.\u001b[39;49msend(prep, \u001b[39m*\u001b[39;49m\u001b[39m*\u001b[39;49msend_kwargs)\n\u001b[1;32m    589\u001b[0m \u001b[39mreturn\u001b[39;00m resp\n",
      "File \u001b[0;32m/usr/local/lib/python3.10/site-packages/requests/sessions.py:701\u001b[0m, in \u001b[0;36mSession.send\u001b[0;34m(self, request, **kwargs)\u001b[0m\n\u001b[1;32m    698\u001b[0m start \u001b[39m=\u001b[39m preferred_clock()\n\u001b[1;32m    700\u001b[0m \u001b[39m# Send the request\u001b[39;00m\n\u001b[0;32m--> 701\u001b[0m r \u001b[39m=\u001b[39m adapter\u001b[39m.\u001b[39;49msend(request, \u001b[39m*\u001b[39;49m\u001b[39m*\u001b[39;49mkwargs)\n\u001b[1;32m    703\u001b[0m \u001b[39m# Total elapsed time of the request (approximately)\u001b[39;00m\n\u001b[1;32m    704\u001b[0m elapsed \u001b[39m=\u001b[39m preferred_clock() \u001b[39m-\u001b[39m start\n",
      "File \u001b[0;32m/usr/local/lib/python3.10/site-packages/requests/adapters.py:489\u001b[0m, in \u001b[0;36mHTTPAdapter.send\u001b[0;34m(self, request, stream, timeout, verify, cert, proxies)\u001b[0m\n\u001b[1;32m    487\u001b[0m \u001b[39mtry\u001b[39;00m:\n\u001b[1;32m    488\u001b[0m     \u001b[39mif\u001b[39;00m \u001b[39mnot\u001b[39;00m chunked:\n\u001b[0;32m--> 489\u001b[0m         resp \u001b[39m=\u001b[39m conn\u001b[39m.\u001b[39;49murlopen(\n\u001b[1;32m    490\u001b[0m             method\u001b[39m=\u001b[39;49mrequest\u001b[39m.\u001b[39;49mmethod,\n\u001b[1;32m    491\u001b[0m             url\u001b[39m=\u001b[39;49murl,\n\u001b[1;32m    492\u001b[0m             body\u001b[39m=\u001b[39;49mrequest\u001b[39m.\u001b[39;49mbody,\n\u001b[1;32m    493\u001b[0m             headers\u001b[39m=\u001b[39;49mrequest\u001b[39m.\u001b[39;49mheaders,\n\u001b[1;32m    494\u001b[0m             redirect\u001b[39m=\u001b[39;49m\u001b[39mFalse\u001b[39;49;00m,\n\u001b[1;32m    495\u001b[0m             assert_same_host\u001b[39m=\u001b[39;49m\u001b[39mFalse\u001b[39;49;00m,\n\u001b[1;32m    496\u001b[0m             preload_content\u001b[39m=\u001b[39;49m\u001b[39mFalse\u001b[39;49;00m,\n\u001b[1;32m    497\u001b[0m             decode_content\u001b[39m=\u001b[39;49m\u001b[39mFalse\u001b[39;49;00m,\n\u001b[1;32m    498\u001b[0m             retries\u001b[39m=\u001b[39;49m\u001b[39mself\u001b[39;49m\u001b[39m.\u001b[39;49mmax_retries,\n\u001b[1;32m    499\u001b[0m             timeout\u001b[39m=\u001b[39;49mtimeout,\n\u001b[1;32m    500\u001b[0m         )\n\u001b[1;32m    502\u001b[0m     \u001b[39m# Send the request.\u001b[39;00m\n\u001b[1;32m    503\u001b[0m     \u001b[39melse\u001b[39;00m:\n\u001b[1;32m    504\u001b[0m         \u001b[39mif\u001b[39;00m \u001b[39mhasattr\u001b[39m(conn, \u001b[39m\"\u001b[39m\u001b[39mproxy_pool\u001b[39m\u001b[39m\"\u001b[39m):\n",
      "File \u001b[0;32m/usr/local/lib/python3.10/site-packages/urllib3/connectionpool.py:703\u001b[0m, in \u001b[0;36mHTTPConnectionPool.urlopen\u001b[0;34m(self, method, url, body, headers, retries, redirect, assert_same_host, timeout, pool_timeout, release_conn, chunked, body_pos, **response_kw)\u001b[0m\n\u001b[1;32m    700\u001b[0m     \u001b[39mself\u001b[39m\u001b[39m.\u001b[39m_prepare_proxy(conn)\n\u001b[1;32m    702\u001b[0m \u001b[39m# Make the request on the httplib connection object.\u001b[39;00m\n\u001b[0;32m--> 703\u001b[0m httplib_response \u001b[39m=\u001b[39m \u001b[39mself\u001b[39;49m\u001b[39m.\u001b[39;49m_make_request(\n\u001b[1;32m    704\u001b[0m     conn,\n\u001b[1;32m    705\u001b[0m     method,\n\u001b[1;32m    706\u001b[0m     url,\n\u001b[1;32m    707\u001b[0m     timeout\u001b[39m=\u001b[39;49mtimeout_obj,\n\u001b[1;32m    708\u001b[0m     body\u001b[39m=\u001b[39;49mbody,\n\u001b[1;32m    709\u001b[0m     headers\u001b[39m=\u001b[39;49mheaders,\n\u001b[1;32m    710\u001b[0m     chunked\u001b[39m=\u001b[39;49mchunked,\n\u001b[1;32m    711\u001b[0m )\n\u001b[1;32m    713\u001b[0m \u001b[39m# If we're going to release the connection in ``finally:``, then\u001b[39;00m\n\u001b[1;32m    714\u001b[0m \u001b[39m# the response doesn't need to know about the connection. Otherwise\u001b[39;00m\n\u001b[1;32m    715\u001b[0m \u001b[39m# it will also try to release it and we'll have a double-release\u001b[39;00m\n\u001b[1;32m    716\u001b[0m \u001b[39m# mess.\u001b[39;00m\n\u001b[1;32m    717\u001b[0m response_conn \u001b[39m=\u001b[39m conn \u001b[39mif\u001b[39;00m \u001b[39mnot\u001b[39;00m release_conn \u001b[39melse\u001b[39;00m \u001b[39mNone\u001b[39;00m\n",
      "File \u001b[0;32m/usr/local/lib/python3.10/site-packages/urllib3/connectionpool.py:449\u001b[0m, in \u001b[0;36mHTTPConnectionPool._make_request\u001b[0;34m(self, conn, method, url, timeout, chunked, **httplib_request_kw)\u001b[0m\n\u001b[1;32m    444\u001b[0m             httplib_response \u001b[39m=\u001b[39m conn\u001b[39m.\u001b[39mgetresponse()\n\u001b[1;32m    445\u001b[0m         \u001b[39mexcept\u001b[39;00m \u001b[39mBaseException\u001b[39;00m \u001b[39mas\u001b[39;00m e:\n\u001b[1;32m    446\u001b[0m             \u001b[39m# Remove the TypeError from the exception chain in\u001b[39;00m\n\u001b[1;32m    447\u001b[0m             \u001b[39m# Python 3 (including for exceptions like SystemExit).\u001b[39;00m\n\u001b[1;32m    448\u001b[0m             \u001b[39m# Otherwise it looks like a bug in the code.\u001b[39;00m\n\u001b[0;32m--> 449\u001b[0m             six\u001b[39m.\u001b[39;49mraise_from(e, \u001b[39mNone\u001b[39;49;00m)\n\u001b[1;32m    450\u001b[0m \u001b[39mexcept\u001b[39;00m (SocketTimeout, BaseSSLError, SocketError) \u001b[39mas\u001b[39;00m e:\n\u001b[1;32m    451\u001b[0m     \u001b[39mself\u001b[39m\u001b[39m.\u001b[39m_raise_timeout(err\u001b[39m=\u001b[39me, url\u001b[39m=\u001b[39murl, timeout_value\u001b[39m=\u001b[39mread_timeout)\n",
      "File \u001b[0;32m<string>:3\u001b[0m, in \u001b[0;36mraise_from\u001b[0;34m(value, from_value)\u001b[0m\n",
      "File \u001b[0;32m/usr/local/lib/python3.10/site-packages/urllib3/connectionpool.py:444\u001b[0m, in \u001b[0;36mHTTPConnectionPool._make_request\u001b[0;34m(self, conn, method, url, timeout, chunked, **httplib_request_kw)\u001b[0m\n\u001b[1;32m    441\u001b[0m \u001b[39mexcept\u001b[39;00m \u001b[39mTypeError\u001b[39;00m:\n\u001b[1;32m    442\u001b[0m     \u001b[39m# Python 3\u001b[39;00m\n\u001b[1;32m    443\u001b[0m     \u001b[39mtry\u001b[39;00m:\n\u001b[0;32m--> 444\u001b[0m         httplib_response \u001b[39m=\u001b[39m conn\u001b[39m.\u001b[39;49mgetresponse()\n\u001b[1;32m    445\u001b[0m     \u001b[39mexcept\u001b[39;00m \u001b[39mBaseException\u001b[39;00m \u001b[39mas\u001b[39;00m e:\n\u001b[1;32m    446\u001b[0m         \u001b[39m# Remove the TypeError from the exception chain in\u001b[39;00m\n\u001b[1;32m    447\u001b[0m         \u001b[39m# Python 3 (including for exceptions like SystemExit).\u001b[39;00m\n\u001b[1;32m    448\u001b[0m         \u001b[39m# Otherwise it looks like a bug in the code.\u001b[39;00m\n\u001b[1;32m    449\u001b[0m         six\u001b[39m.\u001b[39mraise_from(e, \u001b[39mNone\u001b[39;00m)\n",
      "File \u001b[0;32m/usr/local/Cellar/python@3.10/3.10.8/Frameworks/Python.framework/Versions/3.10/lib/python3.10/http/client.py:1374\u001b[0m, in \u001b[0;36mHTTPConnection.getresponse\u001b[0;34m(self)\u001b[0m\n\u001b[1;32m   1372\u001b[0m \u001b[39mtry\u001b[39;00m:\n\u001b[1;32m   1373\u001b[0m     \u001b[39mtry\u001b[39;00m:\n\u001b[0;32m-> 1374\u001b[0m         response\u001b[39m.\u001b[39;49mbegin()\n\u001b[1;32m   1375\u001b[0m     \u001b[39mexcept\u001b[39;00m \u001b[39mConnectionError\u001b[39;00m:\n\u001b[1;32m   1376\u001b[0m         \u001b[39mself\u001b[39m\u001b[39m.\u001b[39mclose()\n",
      "File \u001b[0;32m/usr/local/Cellar/python@3.10/3.10.8/Frameworks/Python.framework/Versions/3.10/lib/python3.10/http/client.py:318\u001b[0m, in \u001b[0;36mHTTPResponse.begin\u001b[0;34m(self)\u001b[0m\n\u001b[1;32m    316\u001b[0m \u001b[39m# read until we get a non-100 response\u001b[39;00m\n\u001b[1;32m    317\u001b[0m \u001b[39mwhile\u001b[39;00m \u001b[39mTrue\u001b[39;00m:\n\u001b[0;32m--> 318\u001b[0m     version, status, reason \u001b[39m=\u001b[39m \u001b[39mself\u001b[39;49m\u001b[39m.\u001b[39;49m_read_status()\n\u001b[1;32m    319\u001b[0m     \u001b[39mif\u001b[39;00m status \u001b[39m!=\u001b[39m CONTINUE:\n\u001b[1;32m    320\u001b[0m         \u001b[39mbreak\u001b[39;00m\n",
      "File \u001b[0;32m/usr/local/Cellar/python@3.10/3.10.8/Frameworks/Python.framework/Versions/3.10/lib/python3.10/http/client.py:279\u001b[0m, in \u001b[0;36mHTTPResponse._read_status\u001b[0;34m(self)\u001b[0m\n\u001b[1;32m    278\u001b[0m \u001b[39mdef\u001b[39;00m \u001b[39m_read_status\u001b[39m(\u001b[39mself\u001b[39m):\n\u001b[0;32m--> 279\u001b[0m     line \u001b[39m=\u001b[39m \u001b[39mstr\u001b[39m(\u001b[39mself\u001b[39;49m\u001b[39m.\u001b[39;49mfp\u001b[39m.\u001b[39;49mreadline(_MAXLINE \u001b[39m+\u001b[39;49m \u001b[39m1\u001b[39;49m), \u001b[39m\"\u001b[39m\u001b[39miso-8859-1\u001b[39m\u001b[39m\"\u001b[39m)\n\u001b[1;32m    280\u001b[0m     \u001b[39mif\u001b[39;00m \u001b[39mlen\u001b[39m(line) \u001b[39m>\u001b[39m _MAXLINE:\n\u001b[1;32m    281\u001b[0m         \u001b[39mraise\u001b[39;00m LineTooLong(\u001b[39m\"\u001b[39m\u001b[39mstatus line\u001b[39m\u001b[39m\"\u001b[39m)\n",
      "File \u001b[0;32m/usr/local/Cellar/python@3.10/3.10.8/Frameworks/Python.framework/Versions/3.10/lib/python3.10/socket.py:705\u001b[0m, in \u001b[0;36mSocketIO.readinto\u001b[0;34m(self, b)\u001b[0m\n\u001b[1;32m    703\u001b[0m \u001b[39mwhile\u001b[39;00m \u001b[39mTrue\u001b[39;00m:\n\u001b[1;32m    704\u001b[0m     \u001b[39mtry\u001b[39;00m:\n\u001b[0;32m--> 705\u001b[0m         \u001b[39mreturn\u001b[39;00m \u001b[39mself\u001b[39;49m\u001b[39m.\u001b[39;49m_sock\u001b[39m.\u001b[39;49mrecv_into(b)\n\u001b[1;32m    706\u001b[0m     \u001b[39mexcept\u001b[39;00m timeout:\n\u001b[1;32m    707\u001b[0m         \u001b[39mself\u001b[39m\u001b[39m.\u001b[39m_timeout_occurred \u001b[39m=\u001b[39m \u001b[39mTrue\u001b[39;00m\n",
      "\u001b[0;31mKeyboardInterrupt\u001b[0m: "
     ]
    }
   ],
   "source": [
    "%%jsoniq\n",
    "[1, 2, 3][]"
   ]
  },
  {
   "cell_type": "markdown",
   "metadata": {},
   "source": [
    "Compare the following two queries:"
   ]
  },
  {
   "cell_type": "code",
   "execution_count": null,
   "metadata": {},
   "outputs": [],
   "source": [
    "%%jsoniq\n",
    "let $sequence := [1, 2, 3][]\n",
    "for $value in $sequence\n",
    "let $square := $value * $value\n",
    "where $square < 10\n",
    "return $square"
   ]
  },
  {
   "cell_type": "code",
   "execution_count": null,
   "metadata": {},
   "outputs": [],
   "source": [
    "%%jsoniq\n",
    "let $sequence := [1, 2, 3]\n",
    "for $value in $sequence\n",
    "let $square := $value * $value\n",
    "where $square < 10\n",
    "return $square"
   ]
  },
  {
   "cell_type": "markdown",
   "metadata": {},
   "source": [
    "### Conditions\n",
    "\n",
    "You can make the output depend on a condition with an `if-then-else` construct:"
   ]
  },
  {
   "cell_type": "code",
   "execution_count": null,
   "metadata": {},
   "outputs": [],
   "source": [
    "%%jsoniq\n",
    "for $x in 1 to 10\n",
    "return if ($x < 5) then $x\n",
    "                   else -$x"
   ]
  },
  {
   "cell_type": "markdown",
   "metadata": {},
   "source": [
    "Note that the `else` clause is required - however, it can be the empty sequence `()` which is often when you need if only the `then` clause is relevant to you. For instance,"
   ]
  },
  {
   "cell_type": "code",
   "execution_count": null,
   "metadata": {},
   "outputs": [],
   "source": [
    "%%jsoniq\n",
    "for $x in 1 to 10\n",
    "return if ($x < 5) then $x\n",
    "                   else ()"
   ]
  },
  {
   "cell_type": "markdown",
   "metadata": {},
   "source": [
    "### Composability of Expressions\n",
    "\n",
    "Now that you know of a couple of elementary JSONiq expressions, you can combine them in more elaborate expressions. For example, you can put any sequence of values in an array:"
   ]
  },
  {
   "cell_type": "code",
   "execution_count": null,
   "metadata": {},
   "outputs": [],
   "source": [
    "%%jsoniq\n",
    "[ 1 to 10 ]"
   ]
  },
  {
   "cell_type": "markdown",
   "metadata": {},
   "source": [
    "Or you can dynamically compute the value of object pairs (or their key):"
   ]
  },
  {
   "cell_type": "code",
   "execution_count": null,
   "metadata": {},
   "outputs": [],
   "source": [
    "%%jsoniq\n",
    "{\n",
    "      \"Greeting\" : (let $d := \"Mister Spock\"\n",
    "                    return concat(\"Hello, \", $d)),\n",
    "      \"Farewell\" : string-join((\"Live\", \"long\", \"and\", \"prosper\"),\n",
    "                               \" \")\n",
    "}"
   ]
  },
  {
   "cell_type": "markdown",
   "metadata": {},
   "source": [
    "You can dynamically generate object singletons (with a single pair):\n"
   ]
  },
  {
   "cell_type": "code",
   "execution_count": 13,
   "metadata": {},
   "outputs": [
    {
     "ename": "ConnectionError",
     "evalue": "HTTPConnectionPool(host='localhost', port=9090): Max retries exceeded with url: /jsoniq (Caused by NewConnectionError('<urllib3.connection.HTTPConnection object at 0x10c7b95d0>: Failed to establish a new connection: [Errno 61] Connection refused'))",
     "output_type": "error",
     "traceback": [
      "\u001b[0;31m---------------------------------------------------------------------------\u001b[0m",
      "\u001b[0;31mConnectionRefusedError\u001b[0m                    Traceback (most recent call last)",
      "File \u001b[0;32m/usr/local/lib/python3.10/site-packages/urllib3/connection.py:174\u001b[0m, in \u001b[0;36mHTTPConnection._new_conn\u001b[0;34m(self)\u001b[0m\n\u001b[1;32m    173\u001b[0m \u001b[39mtry\u001b[39;00m:\n\u001b[0;32m--> 174\u001b[0m     conn \u001b[39m=\u001b[39m connection\u001b[39m.\u001b[39;49mcreate_connection(\n\u001b[1;32m    175\u001b[0m         (\u001b[39mself\u001b[39;49m\u001b[39m.\u001b[39;49m_dns_host, \u001b[39mself\u001b[39;49m\u001b[39m.\u001b[39;49mport), \u001b[39mself\u001b[39;49m\u001b[39m.\u001b[39;49mtimeout, \u001b[39m*\u001b[39;49m\u001b[39m*\u001b[39;49mextra_kw\n\u001b[1;32m    176\u001b[0m     )\n\u001b[1;32m    178\u001b[0m \u001b[39mexcept\u001b[39;00m SocketTimeout:\n",
      "File \u001b[0;32m/usr/local/lib/python3.10/site-packages/urllib3/util/connection.py:95\u001b[0m, in \u001b[0;36mcreate_connection\u001b[0;34m(address, timeout, source_address, socket_options)\u001b[0m\n\u001b[1;32m     94\u001b[0m \u001b[39mif\u001b[39;00m err \u001b[39mis\u001b[39;00m \u001b[39mnot\u001b[39;00m \u001b[39mNone\u001b[39;00m:\n\u001b[0;32m---> 95\u001b[0m     \u001b[39mraise\u001b[39;00m err\n\u001b[1;32m     97\u001b[0m \u001b[39mraise\u001b[39;00m socket\u001b[39m.\u001b[39merror(\u001b[39m\"\u001b[39m\u001b[39mgetaddrinfo returns an empty list\u001b[39m\u001b[39m\"\u001b[39m)\n",
      "File \u001b[0;32m/usr/local/lib/python3.10/site-packages/urllib3/util/connection.py:85\u001b[0m, in \u001b[0;36mcreate_connection\u001b[0;34m(address, timeout, source_address, socket_options)\u001b[0m\n\u001b[1;32m     84\u001b[0m     sock\u001b[39m.\u001b[39mbind(source_address)\n\u001b[0;32m---> 85\u001b[0m sock\u001b[39m.\u001b[39;49mconnect(sa)\n\u001b[1;32m     86\u001b[0m \u001b[39mreturn\u001b[39;00m sock\n",
      "\u001b[0;31mConnectionRefusedError\u001b[0m: [Errno 61] Connection refused",
      "\nDuring handling of the above exception, another exception occurred:\n",
      "\u001b[0;31mNewConnectionError\u001b[0m                        Traceback (most recent call last)",
      "File \u001b[0;32m/usr/local/lib/python3.10/site-packages/urllib3/connectionpool.py:703\u001b[0m, in \u001b[0;36mHTTPConnectionPool.urlopen\u001b[0;34m(self, method, url, body, headers, retries, redirect, assert_same_host, timeout, pool_timeout, release_conn, chunked, body_pos, **response_kw)\u001b[0m\n\u001b[1;32m    702\u001b[0m \u001b[39m# Make the request on the httplib connection object.\u001b[39;00m\n\u001b[0;32m--> 703\u001b[0m httplib_response \u001b[39m=\u001b[39m \u001b[39mself\u001b[39;49m\u001b[39m.\u001b[39;49m_make_request(\n\u001b[1;32m    704\u001b[0m     conn,\n\u001b[1;32m    705\u001b[0m     method,\n\u001b[1;32m    706\u001b[0m     url,\n\u001b[1;32m    707\u001b[0m     timeout\u001b[39m=\u001b[39;49mtimeout_obj,\n\u001b[1;32m    708\u001b[0m     body\u001b[39m=\u001b[39;49mbody,\n\u001b[1;32m    709\u001b[0m     headers\u001b[39m=\u001b[39;49mheaders,\n\u001b[1;32m    710\u001b[0m     chunked\u001b[39m=\u001b[39;49mchunked,\n\u001b[1;32m    711\u001b[0m )\n\u001b[1;32m    713\u001b[0m \u001b[39m# If we're going to release the connection in ``finally:``, then\u001b[39;00m\n\u001b[1;32m    714\u001b[0m \u001b[39m# the response doesn't need to know about the connection. Otherwise\u001b[39;00m\n\u001b[1;32m    715\u001b[0m \u001b[39m# it will also try to release it and we'll have a double-release\u001b[39;00m\n\u001b[1;32m    716\u001b[0m \u001b[39m# mess.\u001b[39;00m\n",
      "File \u001b[0;32m/usr/local/lib/python3.10/site-packages/urllib3/connectionpool.py:398\u001b[0m, in \u001b[0;36mHTTPConnectionPool._make_request\u001b[0;34m(self, conn, method, url, timeout, chunked, **httplib_request_kw)\u001b[0m\n\u001b[1;32m    397\u001b[0m     \u001b[39melse\u001b[39;00m:\n\u001b[0;32m--> 398\u001b[0m         conn\u001b[39m.\u001b[39;49mrequest(method, url, \u001b[39m*\u001b[39;49m\u001b[39m*\u001b[39;49mhttplib_request_kw)\n\u001b[1;32m    400\u001b[0m \u001b[39m# We are swallowing BrokenPipeError (errno.EPIPE) since the server is\u001b[39;00m\n\u001b[1;32m    401\u001b[0m \u001b[39m# legitimately able to close the connection after sending a valid response.\u001b[39;00m\n\u001b[1;32m    402\u001b[0m \u001b[39m# With this behaviour, the received response is still readable.\u001b[39;00m\n",
      "File \u001b[0;32m/usr/local/lib/python3.10/site-packages/urllib3/connection.py:239\u001b[0m, in \u001b[0;36mHTTPConnection.request\u001b[0;34m(self, method, url, body, headers)\u001b[0m\n\u001b[1;32m    238\u001b[0m     headers[\u001b[39m\"\u001b[39m\u001b[39mUser-Agent\u001b[39m\u001b[39m\"\u001b[39m] \u001b[39m=\u001b[39m _get_default_user_agent()\n\u001b[0;32m--> 239\u001b[0m \u001b[39msuper\u001b[39;49m(HTTPConnection, \u001b[39mself\u001b[39;49m)\u001b[39m.\u001b[39;49mrequest(method, url, body\u001b[39m=\u001b[39;49mbody, headers\u001b[39m=\u001b[39;49mheaders)\n",
      "File \u001b[0;32m/usr/local/Cellar/python@3.10/3.10.8/Frameworks/Python.framework/Versions/3.10/lib/python3.10/http/client.py:1282\u001b[0m, in \u001b[0;36mHTTPConnection.request\u001b[0;34m(self, method, url, body, headers, encode_chunked)\u001b[0m\n\u001b[1;32m   1281\u001b[0m \u001b[39m\"\"\"Send a complete request to the server.\"\"\"\u001b[39;00m\n\u001b[0;32m-> 1282\u001b[0m \u001b[39mself\u001b[39;49m\u001b[39m.\u001b[39;49m_send_request(method, url, body, headers, encode_chunked)\n",
      "File \u001b[0;32m/usr/local/Cellar/python@3.10/3.10.8/Frameworks/Python.framework/Versions/3.10/lib/python3.10/http/client.py:1328\u001b[0m, in \u001b[0;36mHTTPConnection._send_request\u001b[0;34m(self, method, url, body, headers, encode_chunked)\u001b[0m\n\u001b[1;32m   1327\u001b[0m     body \u001b[39m=\u001b[39m _encode(body, \u001b[39m'\u001b[39m\u001b[39mbody\u001b[39m\u001b[39m'\u001b[39m)\n\u001b[0;32m-> 1328\u001b[0m \u001b[39mself\u001b[39;49m\u001b[39m.\u001b[39;49mendheaders(body, encode_chunked\u001b[39m=\u001b[39;49mencode_chunked)\n",
      "File \u001b[0;32m/usr/local/Cellar/python@3.10/3.10.8/Frameworks/Python.framework/Versions/3.10/lib/python3.10/http/client.py:1277\u001b[0m, in \u001b[0;36mHTTPConnection.endheaders\u001b[0;34m(self, message_body, encode_chunked)\u001b[0m\n\u001b[1;32m   1276\u001b[0m     \u001b[39mraise\u001b[39;00m CannotSendHeader()\n\u001b[0;32m-> 1277\u001b[0m \u001b[39mself\u001b[39;49m\u001b[39m.\u001b[39;49m_send_output(message_body, encode_chunked\u001b[39m=\u001b[39;49mencode_chunked)\n",
      "File \u001b[0;32m/usr/local/Cellar/python@3.10/3.10.8/Frameworks/Python.framework/Versions/3.10/lib/python3.10/http/client.py:1037\u001b[0m, in \u001b[0;36mHTTPConnection._send_output\u001b[0;34m(self, message_body, encode_chunked)\u001b[0m\n\u001b[1;32m   1036\u001b[0m \u001b[39mdel\u001b[39;00m \u001b[39mself\u001b[39m\u001b[39m.\u001b[39m_buffer[:]\n\u001b[0;32m-> 1037\u001b[0m \u001b[39mself\u001b[39;49m\u001b[39m.\u001b[39;49msend(msg)\n\u001b[1;32m   1039\u001b[0m \u001b[39mif\u001b[39;00m message_body \u001b[39mis\u001b[39;00m \u001b[39mnot\u001b[39;00m \u001b[39mNone\u001b[39;00m:\n\u001b[1;32m   1040\u001b[0m \n\u001b[1;32m   1041\u001b[0m     \u001b[39m# create a consistent interface to message_body\u001b[39;00m\n",
      "File \u001b[0;32m/usr/local/Cellar/python@3.10/3.10.8/Frameworks/Python.framework/Versions/3.10/lib/python3.10/http/client.py:975\u001b[0m, in \u001b[0;36mHTTPConnection.send\u001b[0;34m(self, data)\u001b[0m\n\u001b[1;32m    974\u001b[0m \u001b[39mif\u001b[39;00m \u001b[39mself\u001b[39m\u001b[39m.\u001b[39mauto_open:\n\u001b[0;32m--> 975\u001b[0m     \u001b[39mself\u001b[39;49m\u001b[39m.\u001b[39;49mconnect()\n\u001b[1;32m    976\u001b[0m \u001b[39melse\u001b[39;00m:\n",
      "File \u001b[0;32m/usr/local/lib/python3.10/site-packages/urllib3/connection.py:205\u001b[0m, in \u001b[0;36mHTTPConnection.connect\u001b[0;34m(self)\u001b[0m\n\u001b[1;32m    204\u001b[0m \u001b[39mdef\u001b[39;00m \u001b[39mconnect\u001b[39m(\u001b[39mself\u001b[39m):\n\u001b[0;32m--> 205\u001b[0m     conn \u001b[39m=\u001b[39m \u001b[39mself\u001b[39;49m\u001b[39m.\u001b[39;49m_new_conn()\n\u001b[1;32m    206\u001b[0m     \u001b[39mself\u001b[39m\u001b[39m.\u001b[39m_prepare_conn(conn)\n",
      "File \u001b[0;32m/usr/local/lib/python3.10/site-packages/urllib3/connection.py:186\u001b[0m, in \u001b[0;36mHTTPConnection._new_conn\u001b[0;34m(self)\u001b[0m\n\u001b[1;32m    185\u001b[0m \u001b[39mexcept\u001b[39;00m SocketError \u001b[39mas\u001b[39;00m e:\n\u001b[0;32m--> 186\u001b[0m     \u001b[39mraise\u001b[39;00m NewConnectionError(\n\u001b[1;32m    187\u001b[0m         \u001b[39mself\u001b[39m, \u001b[39m\"\u001b[39m\u001b[39mFailed to establish a new connection: \u001b[39m\u001b[39m%s\u001b[39;00m\u001b[39m\"\u001b[39m \u001b[39m%\u001b[39m e\n\u001b[1;32m    188\u001b[0m     )\n\u001b[1;32m    190\u001b[0m \u001b[39mreturn\u001b[39;00m conn\n",
      "\u001b[0;31mNewConnectionError\u001b[0m: <urllib3.connection.HTTPConnection object at 0x10c7b95d0>: Failed to establish a new connection: [Errno 61] Connection refused",
      "\nDuring handling of the above exception, another exception occurred:\n",
      "\u001b[0;31mMaxRetryError\u001b[0m                             Traceback (most recent call last)",
      "File \u001b[0;32m/usr/local/lib/python3.10/site-packages/requests/adapters.py:489\u001b[0m, in \u001b[0;36mHTTPAdapter.send\u001b[0;34m(self, request, stream, timeout, verify, cert, proxies)\u001b[0m\n\u001b[1;32m    488\u001b[0m \u001b[39mif\u001b[39;00m \u001b[39mnot\u001b[39;00m chunked:\n\u001b[0;32m--> 489\u001b[0m     resp \u001b[39m=\u001b[39m conn\u001b[39m.\u001b[39;49murlopen(\n\u001b[1;32m    490\u001b[0m         method\u001b[39m=\u001b[39;49mrequest\u001b[39m.\u001b[39;49mmethod,\n\u001b[1;32m    491\u001b[0m         url\u001b[39m=\u001b[39;49murl,\n\u001b[1;32m    492\u001b[0m         body\u001b[39m=\u001b[39;49mrequest\u001b[39m.\u001b[39;49mbody,\n\u001b[1;32m    493\u001b[0m         headers\u001b[39m=\u001b[39;49mrequest\u001b[39m.\u001b[39;49mheaders,\n\u001b[1;32m    494\u001b[0m         redirect\u001b[39m=\u001b[39;49m\u001b[39mFalse\u001b[39;49;00m,\n\u001b[1;32m    495\u001b[0m         assert_same_host\u001b[39m=\u001b[39;49m\u001b[39mFalse\u001b[39;49;00m,\n\u001b[1;32m    496\u001b[0m         preload_content\u001b[39m=\u001b[39;49m\u001b[39mFalse\u001b[39;49;00m,\n\u001b[1;32m    497\u001b[0m         decode_content\u001b[39m=\u001b[39;49m\u001b[39mFalse\u001b[39;49;00m,\n\u001b[1;32m    498\u001b[0m         retries\u001b[39m=\u001b[39;49m\u001b[39mself\u001b[39;49m\u001b[39m.\u001b[39;49mmax_retries,\n\u001b[1;32m    499\u001b[0m         timeout\u001b[39m=\u001b[39;49mtimeout,\n\u001b[1;32m    500\u001b[0m     )\n\u001b[1;32m    502\u001b[0m \u001b[39m# Send the request.\u001b[39;00m\n\u001b[1;32m    503\u001b[0m \u001b[39melse\u001b[39;00m:\n",
      "File \u001b[0;32m/usr/local/lib/python3.10/site-packages/urllib3/connectionpool.py:787\u001b[0m, in \u001b[0;36mHTTPConnectionPool.urlopen\u001b[0;34m(self, method, url, body, headers, retries, redirect, assert_same_host, timeout, pool_timeout, release_conn, chunked, body_pos, **response_kw)\u001b[0m\n\u001b[1;32m    785\u001b[0m     e \u001b[39m=\u001b[39m ProtocolError(\u001b[39m\"\u001b[39m\u001b[39mConnection aborted.\u001b[39m\u001b[39m\"\u001b[39m, e)\n\u001b[0;32m--> 787\u001b[0m retries \u001b[39m=\u001b[39m retries\u001b[39m.\u001b[39;49mincrement(\n\u001b[1;32m    788\u001b[0m     method, url, error\u001b[39m=\u001b[39;49me, _pool\u001b[39m=\u001b[39;49m\u001b[39mself\u001b[39;49m, _stacktrace\u001b[39m=\u001b[39;49msys\u001b[39m.\u001b[39;49mexc_info()[\u001b[39m2\u001b[39;49m]\n\u001b[1;32m    789\u001b[0m )\n\u001b[1;32m    790\u001b[0m retries\u001b[39m.\u001b[39msleep()\n",
      "File \u001b[0;32m/usr/local/lib/python3.10/site-packages/urllib3/util/retry.py:592\u001b[0m, in \u001b[0;36mRetry.increment\u001b[0;34m(self, method, url, response, error, _pool, _stacktrace)\u001b[0m\n\u001b[1;32m    591\u001b[0m \u001b[39mif\u001b[39;00m new_retry\u001b[39m.\u001b[39mis_exhausted():\n\u001b[0;32m--> 592\u001b[0m     \u001b[39mraise\u001b[39;00m MaxRetryError(_pool, url, error \u001b[39mor\u001b[39;00m ResponseError(cause))\n\u001b[1;32m    594\u001b[0m log\u001b[39m.\u001b[39mdebug(\u001b[39m\"\u001b[39m\u001b[39mIncremented Retry for (url=\u001b[39m\u001b[39m'\u001b[39m\u001b[39m%s\u001b[39;00m\u001b[39m'\u001b[39m\u001b[39m): \u001b[39m\u001b[39m%r\u001b[39;00m\u001b[39m\"\u001b[39m, url, new_retry)\n",
      "\u001b[0;31mMaxRetryError\u001b[0m: HTTPConnectionPool(host='localhost', port=9090): Max retries exceeded with url: /jsoniq (Caused by NewConnectionError('<urllib3.connection.HTTPConnection object at 0x10c7b95d0>: Failed to establish a new connection: [Errno 61] Connection refused'))",
      "\nDuring handling of the above exception, another exception occurred:\n",
      "\u001b[0;31mConnectionError\u001b[0m                           Traceback (most recent call last)",
      "Cell \u001b[0;32mIn[13], line 1\u001b[0m\n\u001b[0;32m----> 1\u001b[0m get_ipython()\u001b[39m.\u001b[39;49mrun_cell_magic(\u001b[39m'\u001b[39;49m\u001b[39mjsoniq\u001b[39;49m\u001b[39m'\u001b[39;49m, \u001b[39m'\u001b[39;49m\u001b[39m'\u001b[39;49m, \u001b[39m'\u001b[39;49m\u001b[39m{\u001b[39;49m\u001b[39m concat(\u001b[39;49m\u001b[39m\"\u001b[39;49m\u001b[39mInteger \u001b[39;49m\u001b[39m\"\u001b[39;49m\u001b[39m, 2) : 2 * 2 }\u001b[39;49m\u001b[39m\\n\u001b[39;49;00m\u001b[39m'\u001b[39;49m)\n",
      "File \u001b[0;32m~/Library/Python/3.10/lib/python/site-packages/IPython/core/interactiveshell.py:2417\u001b[0m, in \u001b[0;36mInteractiveShell.run_cell_magic\u001b[0;34m(self, magic_name, line, cell)\u001b[0m\n\u001b[1;32m   2415\u001b[0m \u001b[39mwith\u001b[39;00m \u001b[39mself\u001b[39m\u001b[39m.\u001b[39mbuiltin_trap:\n\u001b[1;32m   2416\u001b[0m     args \u001b[39m=\u001b[39m (magic_arg_s, cell)\n\u001b[0;32m-> 2417\u001b[0m     result \u001b[39m=\u001b[39m fn(\u001b[39m*\u001b[39;49margs, \u001b[39m*\u001b[39;49m\u001b[39m*\u001b[39;49mkwargs)\n\u001b[1;32m   2418\u001b[0m \u001b[39mreturn\u001b[39;00m result\n",
      "File \u001b[0;32m/usr/local/lib/python3.10/site-packages/rumbledb/rumbledb.py:16\u001b[0m, in \u001b[0;36mRumbleDBServerMagic.jsoniq\u001b[0;34m(self, line, cell)\u001b[0m\n\u001b[1;32m     13\u001b[0m     data \u001b[39m=\u001b[39m cell\n\u001b[1;32m     15\u001b[0m start \u001b[39m=\u001b[39m time\u001b[39m.\u001b[39mtime()                                                         \n\u001b[0;32m---> 16\u001b[0m response \u001b[39m=\u001b[39m json\u001b[39m.\u001b[39mloads(requests\u001b[39m.\u001b[39;49mpost(os\u001b[39m.\u001b[39;49menviron[\u001b[39m\"\u001b[39;49m\u001b[39mRUMBLEDB_SERVER\u001b[39;49m\u001b[39m\"\u001b[39;49m], data\u001b[39m=\u001b[39;49mdata)\u001b[39m.\u001b[39mtext)                   \n\u001b[1;32m     17\u001b[0m end \u001b[39m=\u001b[39m time\u001b[39m.\u001b[39mtime()                                                              \n\u001b[1;32m     18\u001b[0m \u001b[39mprint\u001b[39m(\u001b[39m\"\u001b[39m\u001b[39mTook: \u001b[39m\u001b[39m%s\u001b[39;00m\u001b[39m ms\u001b[39m\u001b[39m\"\u001b[39m \u001b[39m%\u001b[39m (end \u001b[39m-\u001b[39m start))\n",
      "File \u001b[0;32m/usr/local/lib/python3.10/site-packages/requests/api.py:115\u001b[0m, in \u001b[0;36mpost\u001b[0;34m(url, data, json, **kwargs)\u001b[0m\n\u001b[1;32m    103\u001b[0m \u001b[39mdef\u001b[39;00m \u001b[39mpost\u001b[39m(url, data\u001b[39m=\u001b[39m\u001b[39mNone\u001b[39;00m, json\u001b[39m=\u001b[39m\u001b[39mNone\u001b[39;00m, \u001b[39m*\u001b[39m\u001b[39m*\u001b[39mkwargs):\n\u001b[1;32m    104\u001b[0m     \u001b[39mr\u001b[39m\u001b[39m\"\"\"Sends a POST request.\u001b[39;00m\n\u001b[1;32m    105\u001b[0m \n\u001b[1;32m    106\u001b[0m \u001b[39m    :param url: URL for the new :class:`Request` object.\u001b[39;00m\n\u001b[0;32m   (...)\u001b[0m\n\u001b[1;32m    112\u001b[0m \u001b[39m    :rtype: requests.Response\u001b[39;00m\n\u001b[1;32m    113\u001b[0m \u001b[39m    \"\"\"\u001b[39;00m\n\u001b[0;32m--> 115\u001b[0m     \u001b[39mreturn\u001b[39;00m request(\u001b[39m\"\u001b[39;49m\u001b[39mpost\u001b[39;49m\u001b[39m\"\u001b[39;49m, url, data\u001b[39m=\u001b[39;49mdata, json\u001b[39m=\u001b[39;49mjson, \u001b[39m*\u001b[39;49m\u001b[39m*\u001b[39;49mkwargs)\n",
      "File \u001b[0;32m/usr/local/lib/python3.10/site-packages/requests/api.py:59\u001b[0m, in \u001b[0;36mrequest\u001b[0;34m(method, url, **kwargs)\u001b[0m\n\u001b[1;32m     55\u001b[0m \u001b[39m# By using the 'with' statement we are sure the session is closed, thus we\u001b[39;00m\n\u001b[1;32m     56\u001b[0m \u001b[39m# avoid leaving sockets open which can trigger a ResourceWarning in some\u001b[39;00m\n\u001b[1;32m     57\u001b[0m \u001b[39m# cases, and look like a memory leak in others.\u001b[39;00m\n\u001b[1;32m     58\u001b[0m \u001b[39mwith\u001b[39;00m sessions\u001b[39m.\u001b[39mSession() \u001b[39mas\u001b[39;00m session:\n\u001b[0;32m---> 59\u001b[0m     \u001b[39mreturn\u001b[39;00m session\u001b[39m.\u001b[39;49mrequest(method\u001b[39m=\u001b[39;49mmethod, url\u001b[39m=\u001b[39;49murl, \u001b[39m*\u001b[39;49m\u001b[39m*\u001b[39;49mkwargs)\n",
      "File \u001b[0;32m/usr/local/lib/python3.10/site-packages/requests/sessions.py:587\u001b[0m, in \u001b[0;36mSession.request\u001b[0;34m(self, method, url, params, data, headers, cookies, files, auth, timeout, allow_redirects, proxies, hooks, stream, verify, cert, json)\u001b[0m\n\u001b[1;32m    582\u001b[0m send_kwargs \u001b[39m=\u001b[39m {\n\u001b[1;32m    583\u001b[0m     \u001b[39m\"\u001b[39m\u001b[39mtimeout\u001b[39m\u001b[39m\"\u001b[39m: timeout,\n\u001b[1;32m    584\u001b[0m     \u001b[39m\"\u001b[39m\u001b[39mallow_redirects\u001b[39m\u001b[39m\"\u001b[39m: allow_redirects,\n\u001b[1;32m    585\u001b[0m }\n\u001b[1;32m    586\u001b[0m send_kwargs\u001b[39m.\u001b[39mupdate(settings)\n\u001b[0;32m--> 587\u001b[0m resp \u001b[39m=\u001b[39m \u001b[39mself\u001b[39;49m\u001b[39m.\u001b[39;49msend(prep, \u001b[39m*\u001b[39;49m\u001b[39m*\u001b[39;49msend_kwargs)\n\u001b[1;32m    589\u001b[0m \u001b[39mreturn\u001b[39;00m resp\n",
      "File \u001b[0;32m/usr/local/lib/python3.10/site-packages/requests/sessions.py:701\u001b[0m, in \u001b[0;36mSession.send\u001b[0;34m(self, request, **kwargs)\u001b[0m\n\u001b[1;32m    698\u001b[0m start \u001b[39m=\u001b[39m preferred_clock()\n\u001b[1;32m    700\u001b[0m \u001b[39m# Send the request\u001b[39;00m\n\u001b[0;32m--> 701\u001b[0m r \u001b[39m=\u001b[39m adapter\u001b[39m.\u001b[39;49msend(request, \u001b[39m*\u001b[39;49m\u001b[39m*\u001b[39;49mkwargs)\n\u001b[1;32m    703\u001b[0m \u001b[39m# Total elapsed time of the request (approximately)\u001b[39;00m\n\u001b[1;32m    704\u001b[0m elapsed \u001b[39m=\u001b[39m preferred_clock() \u001b[39m-\u001b[39m start\n",
      "File \u001b[0;32m/usr/local/lib/python3.10/site-packages/requests/adapters.py:565\u001b[0m, in \u001b[0;36mHTTPAdapter.send\u001b[0;34m(self, request, stream, timeout, verify, cert, proxies)\u001b[0m\n\u001b[1;32m    561\u001b[0m     \u001b[39mif\u001b[39;00m \u001b[39misinstance\u001b[39m(e\u001b[39m.\u001b[39mreason, _SSLError):\n\u001b[1;32m    562\u001b[0m         \u001b[39m# This branch is for urllib3 v1.22 and later.\u001b[39;00m\n\u001b[1;32m    563\u001b[0m         \u001b[39mraise\u001b[39;00m SSLError(e, request\u001b[39m=\u001b[39mrequest)\n\u001b[0;32m--> 565\u001b[0m     \u001b[39mraise\u001b[39;00m \u001b[39mConnectionError\u001b[39;00m(e, request\u001b[39m=\u001b[39mrequest)\n\u001b[1;32m    567\u001b[0m \u001b[39mexcept\u001b[39;00m ClosedPoolError \u001b[39mas\u001b[39;00m e:\n\u001b[1;32m    568\u001b[0m     \u001b[39mraise\u001b[39;00m \u001b[39mConnectionError\u001b[39;00m(e, request\u001b[39m=\u001b[39mrequest)\n",
      "\u001b[0;31mConnectionError\u001b[0m: HTTPConnectionPool(host='localhost', port=9090): Max retries exceeded with url: /jsoniq (Caused by NewConnectionError('<urllib3.connection.HTTPConnection object at 0x10c7b95d0>: Failed to establish a new connection: [Errno 61] Connection refused'))"
     ]
    }
   ],
   "source": [
    "%%jsoniq\n",
    "{ concat(\"Integer \", 2) : 2 * 2 }"
   ]
  },
  {
   "cell_type": "markdown",
   "metadata": {},
   "source": [
    "and then merge lots of them into a new object with the `{| |}` notation:"
   ]
  },
  {
   "cell_type": "code",
   "execution_count": null,
   "metadata": {},
   "outputs": [],
   "source": [
    "%%jsoniq\n",
    "{|\n",
    "    for $i in 1 to 10\n",
    "    return { concat(\"Square of \", $i) : $i * $i }\n",
    "|}"
   ]
  },
  {
   "cell_type": "markdown",
   "metadata": {},
   "source": [
    "## JSON Navigation\n",
    "\n",
    "Up to now, you have learnt how to compose expressions so as to do some computations and to build objects and arrays. It also works the other way round: if you have some JSON data, you can access it and navigate.\n",
    "All you need to know is: JSONiq views\n",
    "an array as an ordered list of values,\n",
    "an object as a set of key/value pairs.\n"
   ]
  },
  {
   "cell_type": "markdown",
   "metadata": {},
   "source": [
    "### Objects\n",
    "\n",
    "You can use the dot operator to retrieve the value associated with a key. Quotes are optional, except if the key has special characters such as spaces. It will return the value associated thereto:"
   ]
  },
  {
   "cell_type": "code",
   "execution_count": null,
   "metadata": {},
   "outputs": [],
   "source": [
    "%%jsoniq\n",
    "let $person := {\n",
    "    \"first name\" : \"Sarah\",\n",
    "    \"age\" : 13,\n",
    "    \"gender\" : \"female\",\n",
    "    \"friends\" : [ \"Jim\", \"Mary\", \"Jennifer\"]\n",
    "}\n",
    "return $person.\"first name\""
   ]
  },
  {
   "cell_type": "markdown",
   "metadata": {},
   "source": [
    "You can also ask for all keys in an object:"
   ]
  },
  {
   "cell_type": "code",
   "execution_count": null,
   "metadata": {},
   "outputs": [],
   "source": [
    "%%jsoniq\n",
    "let $person := {\n",
    "    \"name\" : \"Sarah\",\n",
    "    \"age\" : 13,\n",
    "    \"gender\" : \"female\",\n",
    "    \"friends\" : [ \"Jim\", \"Mary\", \"Jennifer\"]\n",
    "}\n",
    "return { \"keys\" : [ keys($person)] }"
   ]
  },
  {
   "cell_type": "markdown",
   "metadata": {},
   "source": [
    "### Arrays\n",
    "\n",
    "The `[[]]` operator retrieves the entry at the given position:"
   ]
  },
  {
   "cell_type": "code",
   "execution_count": null,
   "metadata": {},
   "outputs": [],
   "source": [
    "%%jsoniq\n",
    "let $friends := [ \"Jim\", \"Mary\", \"Jennifer\"]\n",
    "return $friends[[1+1]]"
   ]
  },
  {
   "cell_type": "markdown",
   "metadata": {},
   "source": [
    "It is also possible to get the size of an array:"
   ]
  },
  {
   "cell_type": "code",
   "execution_count": null,
   "metadata": {},
   "outputs": [],
   "source": [
    "%%jsoniq\n",
    "let $person := {\n",
    "    \"name\" : \"Sarah\",\n",
    "    \"age\" : 13,\n",
    "    \"gender\" : \"female\",\n",
    "    \"friends\" : [ \"Jim\", \"Mary\", \"Jennifer\"]\n",
    "}\n",
    "return { \"how many friends\" : size($person.friends) }"
   ]
  },
  {
   "cell_type": "markdown",
   "metadata": {},
   "source": [
    "Finally, the `[]` operator returns all elements in an array, as a sequence:"
   ]
  },
  {
   "cell_type": "code",
   "execution_count": null,
   "metadata": {},
   "outputs": [],
   "source": [
    "%%jsoniq\n",
    "let $person := {\n",
    "    \"name\" : \"Sarah\",\n",
    "    \"age\" : 13,\n",
    "    \"gender\" : \"female\",\n",
    "    \"friends\" : [ \"Jim\", \"Mary\", \"Jennifer\"]\n",
    "}\n",
    "return $person.friends[]"
   ]
  },
  {
   "cell_type": "markdown",
   "metadata": {},
   "source": [
    "### Relational Algebra\n",
    "\n",
    "Do you remember SQL's `SELECT FROM WHERE` statements? JSONiq inherits selection, projection and join capability from XQuery, too. Let's read the appetizer example we showed at the beginning of this tutorial again, at this point you should be able to understand it better. "
   ]
  },
  {
   "cell_type": "code",
   "execution_count": null,
   "metadata": {},
   "outputs": [
    {
     "name": "stdout",
     "output_type": "stream",
     "text": [
      "Took: 0.047170162200927734 ms\n",
      "[{\"nb\": 1, \"state\": \"MA\", \"sold\": \"broiler\"}, {\"nb\": 1, \"state\": \"MA\", \"sold\": \"socks\"}, {\"nb\": 2, \"state\": \"MA\", \"sold\": \"toaster\"}, {\"nb\": 2, \"state\": \"MA\", \"sold\": \"toaster\"}, {\"nb\": 2, \"state\": \"MA\", \"sold\": \"socks\"}, {\"nb\": 3, \"state\": \"CA\", \"sold\": \"toaster\"}, {\"nb\": 3, \"state\": \"CA\", \"sold\": \"blender\"}, {\"nb\": 3, \"state\": \"CA\", \"sold\": \"blender\"}, {\"nb\": 3, \"state\": \"CA\", \"sold\": \"shirt\"}]\n"
     ]
    }
   ],
   "source": [
    "%%jsoniq\n",
    "let $stores :=\n",
    "[\n",
    "    { \"store number\" : 1, \"state\" : \"MA\" },\n",
    "    { \"store number\" : 2, \"state\" : \"MA\" },\n",
    "    { \"store number\" : 3, \"state\" : \"CA\" },\n",
    "    { \"store number\" : 4, \"state\" : \"CA\" }\n",
    "]\n",
    "let $sales := [\n",
    "    { \"product\" : \"broiler\", \"store number\" : 1, \"quantity\" : 20  },\n",
    "    { \"product\" : \"toaster\", \"store number\" : 2, \"quantity\" : 100 },\n",
    "    { \"product\" : \"toaster\", \"store number\" : 2, \"quantity\" : 50 },\n",
    "    { \"product\" : \"toaster\", \"store number\" : 3, \"quantity\" : 50 },\n",
    "    { \"product\" : \"blender\", \"store number\" : 3, \"quantity\" : 100 },\n",
    "    { \"product\" : \"blender\", \"store number\" : 3, \"quantity\" : 150 },\n",
    "    { \"product\" : \"socks\", \"store number\" : 1, \"quantity\" : 500 },\n",
    "    { \"product\" : \"socks\", \"store number\" : 2, \"quantity\" : 10 },\n",
    "    { \"product\" : \"shirt\", \"store number\" : 3, \"quantity\" : 10 }\n",
    "]\n",
    "let $join :=\n",
    "    for $store in $stores[], $sale in $sales[]\n",
    "    where $store.\"store number\" = $sale.\"store number\"\n",
    "    return {\n",
    "        \"nb\" : $store.\"store number\",\n",
    "        \"state\" : $store.state,\n",
    "        \"sold\" : $sale.product\n",
    "    }\n",
    "return [$join]"
   ]
  },
  {
   "cell_type": "markdown",
   "metadata": {},
   "source": [
    "### Access yet another dataset\n",
    "\n",
    "RumbleDB can read input from many file systems and many file formats. If you are using our backend, you can only use `json-doc()` with any URI pointing to a JSON file and navigate it as you see fit. \n",
    "\n",
    "You can read data from your local disk, from S3, from HDFS, and also from the Web. For this tutorial, we'll read from the Web because, well, we are already on the Web.\n",
    "\n",
    "We have put a sample at http://rumbledb.org/samples/products-small.json that contains 100,000 small objects like:\n",
    "\n"
   ]
  },
  {
   "cell_type": "code",
   "execution_count": null,
   "metadata": {},
   "outputs": [
    {
     "name": "stdout",
     "output_type": "stream",
     "text": [
      "Took: 5.391219139099121 ms\n",
      "{\"product\": \"blender\", \"store-number\": 20, \"quantity\": 920}\n"
     ]
    }
   ],
   "source": [
    "%%jsoniq\n",
    "json-file(\"http://rumbledb.org/samples/products-small.json\", 10)[1]"
   ]
  },
  {
   "cell_type": "code",
   "execution_count": null,
   "metadata": {},
   "outputs": [],
   "source": [
    "%%jsoniq\n",
    "count(json-file(\"http://rumbledb.org/samples/products-small.json\", 10))"
   ]
  },
  {
   "cell_type": "markdown",
   "metadata": {},
   "source": [
    "The second parameter to json-file, 10, indicates to RumbleDB that it should organize the data in ten partitions after downloading it, and process it in parallel. If you were reading from HDFS or S3, the parallelization of these partitions would be pushed down to the distributed file system.\n",
    "\n",
    "JSONiq supports the relational algebra. For example, you can do a selection with a where clause, like so:"
   ]
  },
  {
   "cell_type": "code",
   "execution_count": null,
   "metadata": {},
   "outputs": [
    {
     "name": "stdout",
     "output_type": "stream",
     "text": [
      "Took: 28.69406819343567 ms\n",
      "\"Warning! The output sequence contains 600 items but its materialization was capped at 200 items. This value can be configured with the result-size parameter in the query string of the HTTP request.\"\n",
      "{\"product\": \"toaster\", \"store-number\": 97, \"quantity\": 997}\n",
      "{\"product\": \"phone\", \"store-number\": 100, \"quantity\": 1000}\n",
      "{\"product\": \"tv\", \"store-number\": 96, \"quantity\": 996}\n",
      "{\"product\": \"socks\", \"store-number\": 99, \"quantity\": 999}\n",
      "{\"product\": \"shirt\", \"store-number\": 95, \"quantity\": 995}\n",
      "{\"product\": \"toaster\", \"store-number\": 98, \"quantity\": 998}\n",
      "{\"product\": \"tv\", \"store-number\": 97, \"quantity\": 997}\n",
      "{\"product\": \"socks\", \"store-number\": 100, \"quantity\": 1000}\n",
      "{\"product\": \"shirt\", \"store-number\": 96, \"quantity\": 996}\n",
      "{\"product\": \"toaster\", \"store-number\": 99, \"quantity\": 999}\n",
      "{\"product\": \"blender\", \"store-number\": 95, \"quantity\": 995}\n",
      "{\"product\": \"tv\", \"store-number\": 98, \"quantity\": 998}\n",
      "{\"product\": \"shirt\", \"store-number\": 97, \"quantity\": 997}\n",
      "{\"product\": \"toaster\", \"store-number\": 100, \"quantity\": 1000}\n",
      "{\"product\": \"blender\", \"store-number\": 96, \"quantity\": 996}\n",
      "{\"product\": \"tv\", \"store-number\": 99, \"quantity\": 999}\n",
      "{\"product\": \"broiler\", \"store-number\": 95, \"quantity\": 995}\n",
      "{\"product\": \"shirt\", \"store-number\": 98, \"quantity\": 998}\n",
      "{\"product\": \"blender\", \"store-number\": 97, \"quantity\": 997}\n",
      "{\"product\": \"tv\", \"store-number\": 100, \"quantity\": 1000}\n",
      "{\"product\": \"broiler\", \"store-number\": 96, \"quantity\": 996}\n",
      "{\"product\": \"shirt\", \"store-number\": 99, \"quantity\": 999}\n",
      "{\"product\": \"phone\", \"store-number\": 95, \"quantity\": 995}\n",
      "{\"product\": \"blender\", \"store-number\": 98, \"quantity\": 998}\n",
      "{\"product\": \"broiler\", \"store-number\": 97, \"quantity\": 997}\n",
      "{\"product\": \"shirt\", \"store-number\": 100, \"quantity\": 1000}\n",
      "{\"product\": \"phone\", \"store-number\": 96, \"quantity\": 996}\n",
      "{\"product\": \"blender\", \"store-number\": 99, \"quantity\": 999}\n",
      "{\"product\": \"socks\", \"store-number\": 95, \"quantity\": 995}\n",
      "{\"product\": \"broiler\", \"store-number\": 98, \"quantity\": 998}\n",
      "{\"product\": \"phone\", \"store-number\": 97, \"quantity\": 997}\n",
      "{\"product\": \"blender\", \"store-number\": 100, \"quantity\": 1000}\n",
      "{\"product\": \"socks\", \"store-number\": 96, \"quantity\": 996}\n",
      "{\"product\": \"broiler\", \"store-number\": 99, \"quantity\": 999}\n",
      "{\"product\": \"toaster\", \"store-number\": 95, \"quantity\": 995}\n",
      "{\"product\": \"phone\", \"store-number\": 98, \"quantity\": 998}\n",
      "{\"product\": \"socks\", \"store-number\": 97, \"quantity\": 997}\n",
      "{\"product\": \"broiler\", \"store-number\": 100, \"quantity\": 1000}\n",
      "{\"product\": \"toaster\", \"store-number\": 96, \"quantity\": 996}\n",
      "{\"product\": \"phone\", \"store-number\": 99, \"quantity\": 999}\n",
      "{\"product\": \"tv\", \"store-number\": 95, \"quantity\": 995}\n",
      "{\"product\": \"socks\", \"store-number\": 98, \"quantity\": 998}\n",
      "{\"product\": \"toaster\", \"store-number\": 97, \"quantity\": 997}\n",
      "{\"product\": \"phone\", \"store-number\": 100, \"quantity\": 1000}\n",
      "{\"product\": \"tv\", \"store-number\": 96, \"quantity\": 996}\n",
      "{\"product\": \"socks\", \"store-number\": 99, \"quantity\": 999}\n",
      "{\"product\": \"shirt\", \"store-number\": 95, \"quantity\": 995}\n",
      "{\"product\": \"toaster\", \"store-number\": 98, \"quantity\": 998}\n",
      "{\"product\": \"tv\", \"store-number\": 97, \"quantity\": 997}\n",
      "{\"product\": \"socks\", \"store-number\": 100, \"quantity\": 1000}\n",
      "{\"product\": \"shirt\", \"store-number\": 96, \"quantity\": 996}\n",
      "{\"product\": \"toaster\", \"store-number\": 99, \"quantity\": 999}\n",
      "{\"product\": \"blender\", \"store-number\": 95, \"quantity\": 995}\n",
      "{\"product\": \"tv\", \"store-number\": 98, \"quantity\": 998}\n",
      "{\"product\": \"shirt\", \"store-number\": 97, \"quantity\": 997}\n",
      "{\"product\": \"toaster\", \"store-number\": 100, \"quantity\": 1000}\n",
      "{\"product\": \"blender\", \"store-number\": 96, \"quantity\": 996}\n",
      "{\"product\": \"tv\", \"store-number\": 99, \"quantity\": 999}\n",
      "{\"product\": \"broiler\", \"store-number\": 95, \"quantity\": 995}\n",
      "{\"product\": \"shirt\", \"store-number\": 98, \"quantity\": 998}\n",
      "{\"product\": \"blender\", \"store-number\": 97, \"quantity\": 997}\n",
      "{\"product\": \"tv\", \"store-number\": 100, \"quantity\": 1000}\n",
      "{\"product\": \"broiler\", \"store-number\": 96, \"quantity\": 996}\n",
      "{\"product\": \"shirt\", \"store-number\": 99, \"quantity\": 999}\n",
      "{\"product\": \"phone\", \"store-number\": 95, \"quantity\": 995}\n",
      "{\"product\": \"blender\", \"store-number\": 98, \"quantity\": 998}\n",
      "{\"product\": \"broiler\", \"store-number\": 97, \"quantity\": 997}\n",
      "{\"product\": \"shirt\", \"store-number\": 100, \"quantity\": 1000}\n",
      "{\"product\": \"phone\", \"store-number\": 96, \"quantity\": 996}\n",
      "{\"product\": \"blender\", \"store-number\": 99, \"quantity\": 999}\n",
      "{\"product\": \"socks\", \"store-number\": 95, \"quantity\": 995}\n",
      "{\"product\": \"broiler\", \"store-number\": 98, \"quantity\": 998}\n",
      "{\"product\": \"phone\", \"store-number\": 97, \"quantity\": 997}\n",
      "{\"product\": \"blender\", \"store-number\": 100, \"quantity\": 1000}\n",
      "{\"product\": \"socks\", \"store-number\": 96, \"quantity\": 996}\n",
      "{\"product\": \"broiler\", \"store-number\": 99, \"quantity\": 999}\n",
      "{\"product\": \"toaster\", \"store-number\": 95, \"quantity\": 995}\n",
      "{\"product\": \"phone\", \"store-number\": 98, \"quantity\": 998}\n",
      "{\"product\": \"socks\", \"store-number\": 97, \"quantity\": 997}\n",
      "{\"product\": \"broiler\", \"store-number\": 100, \"quantity\": 1000}\n",
      "{\"product\": \"toaster\", \"store-number\": 96, \"quantity\": 996}\n",
      "{\"product\": \"phone\", \"store-number\": 99, \"quantity\": 999}\n",
      "{\"product\": \"tv\", \"store-number\": 95, \"quantity\": 995}\n",
      "{\"product\": \"socks\", \"store-number\": 98, \"quantity\": 998}\n",
      "{\"product\": \"toaster\", \"store-number\": 97, \"quantity\": 997}\n",
      "{\"product\": \"phone\", \"store-number\": 100, \"quantity\": 1000}\n",
      "{\"product\": \"tv\", \"store-number\": 96, \"quantity\": 996}\n",
      "{\"product\": \"socks\", \"store-number\": 99, \"quantity\": 999}\n",
      "{\"product\": \"shirt\", \"store-number\": 95, \"quantity\": 995}\n",
      "{\"product\": \"toaster\", \"store-number\": 98, \"quantity\": 998}\n",
      "{\"product\": \"tv\", \"store-number\": 97, \"quantity\": 997}\n",
      "{\"product\": \"socks\", \"store-number\": 100, \"quantity\": 1000}\n",
      "{\"product\": \"shirt\", \"store-number\": 96, \"quantity\": 996}\n",
      "{\"product\": \"toaster\", \"store-number\": 99, \"quantity\": 999}\n",
      "{\"product\": \"blender\", \"store-number\": 95, \"quantity\": 995}\n",
      "{\"product\": \"tv\", \"store-number\": 98, \"quantity\": 998}\n",
      "{\"product\": \"shirt\", \"store-number\": 97, \"quantity\": 997}\n",
      "{\"product\": \"toaster\", \"store-number\": 100, \"quantity\": 1000}\n",
      "{\"product\": \"blender\", \"store-number\": 96, \"quantity\": 996}\n",
      "{\"product\": \"tv\", \"store-number\": 99, \"quantity\": 999}\n",
      "{\"product\": \"broiler\", \"store-number\": 95, \"quantity\": 995}\n",
      "{\"product\": \"shirt\", \"store-number\": 98, \"quantity\": 998}\n",
      "{\"product\": \"blender\", \"store-number\": 97, \"quantity\": 997}\n",
      "{\"product\": \"tv\", \"store-number\": 100, \"quantity\": 1000}\n",
      "{\"product\": \"broiler\", \"store-number\": 96, \"quantity\": 996}\n",
      "{\"product\": \"shirt\", \"store-number\": 99, \"quantity\": 999}\n",
      "{\"product\": \"phone\", \"store-number\": 95, \"quantity\": 995}\n",
      "{\"product\": \"blender\", \"store-number\": 98, \"quantity\": 998}\n",
      "{\"product\": \"broiler\", \"store-number\": 97, \"quantity\": 997}\n",
      "{\"product\": \"shirt\", \"store-number\": 100, \"quantity\": 1000}\n",
      "{\"product\": \"phone\", \"store-number\": 96, \"quantity\": 996}\n",
      "{\"product\": \"blender\", \"store-number\": 99, \"quantity\": 999}\n",
      "{\"product\": \"socks\", \"store-number\": 95, \"quantity\": 995}\n",
      "{\"product\": \"broiler\", \"store-number\": 98, \"quantity\": 998}\n",
      "{\"product\": \"phone\", \"store-number\": 97, \"quantity\": 997}\n",
      "{\"product\": \"blender\", \"store-number\": 100, \"quantity\": 1000}\n",
      "{\"product\": \"socks\", \"store-number\": 96, \"quantity\": 996}\n",
      "{\"product\": \"broiler\", \"store-number\": 99, \"quantity\": 999}\n",
      "{\"product\": \"toaster\", \"store-number\": 95, \"quantity\": 995}\n",
      "{\"product\": \"phone\", \"store-number\": 98, \"quantity\": 998}\n",
      "{\"product\": \"socks\", \"store-number\": 97, \"quantity\": 997}\n",
      "{\"product\": \"broiler\", \"store-number\": 100, \"quantity\": 1000}\n",
      "{\"product\": \"toaster\", \"store-number\": 96, \"quantity\": 996}\n",
      "{\"product\": \"phone\", \"store-number\": 99, \"quantity\": 999}\n",
      "{\"product\": \"tv\", \"store-number\": 95, \"quantity\": 995}\n",
      "{\"product\": \"socks\", \"store-number\": 98, \"quantity\": 998}\n",
      "{\"product\": \"toaster\", \"store-number\": 97, \"quantity\": 997}\n",
      "{\"product\": \"phone\", \"store-number\": 100, \"quantity\": 1000}\n",
      "{\"product\": \"tv\", \"store-number\": 96, \"quantity\": 996}\n",
      "{\"product\": \"socks\", \"store-number\": 99, \"quantity\": 999}\n",
      "{\"product\": \"shirt\", \"store-number\": 95, \"quantity\": 995}\n",
      "{\"product\": \"toaster\", \"store-number\": 98, \"quantity\": 998}\n",
      "{\"product\": \"tv\", \"store-number\": 97, \"quantity\": 997}\n",
      "{\"product\": \"socks\", \"store-number\": 100, \"quantity\": 1000}\n",
      "{\"product\": \"shirt\", \"store-number\": 96, \"quantity\": 996}\n",
      "{\"product\": \"toaster\", \"store-number\": 99, \"quantity\": 999}\n",
      "{\"product\": \"blender\", \"store-number\": 95, \"quantity\": 995}\n",
      "{\"product\": \"tv\", \"store-number\": 98, \"quantity\": 998}\n",
      "{\"product\": \"shirt\", \"store-number\": 97, \"quantity\": 997}\n",
      "{\"product\": \"toaster\", \"store-number\": 100, \"quantity\": 1000}\n",
      "{\"product\": \"blender\", \"store-number\": 96, \"quantity\": 996}\n",
      "{\"product\": \"tv\", \"store-number\": 99, \"quantity\": 999}\n",
      "{\"product\": \"broiler\", \"store-number\": 95, \"quantity\": 995}\n",
      "{\"product\": \"shirt\", \"store-number\": 98, \"quantity\": 998}\n",
      "{\"product\": \"blender\", \"store-number\": 97, \"quantity\": 997}\n",
      "{\"product\": \"tv\", \"store-number\": 100, \"quantity\": 1000}\n",
      "{\"product\": \"broiler\", \"store-number\": 96, \"quantity\": 996}\n",
      "{\"product\": \"shirt\", \"store-number\": 99, \"quantity\": 999}\n",
      "{\"product\": \"phone\", \"store-number\": 95, \"quantity\": 995}\n",
      "{\"product\": \"blender\", \"store-number\": 98, \"quantity\": 998}\n",
      "{\"product\": \"broiler\", \"store-number\": 97, \"quantity\": 997}\n",
      "{\"product\": \"shirt\", \"store-number\": 100, \"quantity\": 1000}\n",
      "{\"product\": \"phone\", \"store-number\": 96, \"quantity\": 996}\n",
      "{\"product\": \"blender\", \"store-number\": 99, \"quantity\": 999}\n",
      "{\"product\": \"socks\", \"store-number\": 95, \"quantity\": 995}\n",
      "{\"product\": \"broiler\", \"store-number\": 98, \"quantity\": 998}\n",
      "{\"product\": \"phone\", \"store-number\": 97, \"quantity\": 997}\n",
      "{\"product\": \"blender\", \"store-number\": 100, \"quantity\": 1000}\n",
      "{\"product\": \"socks\", \"store-number\": 96, \"quantity\": 996}\n",
      "{\"product\": \"broiler\", \"store-number\": 99, \"quantity\": 999}\n",
      "{\"product\": \"toaster\", \"store-number\": 95, \"quantity\": 995}\n",
      "{\"product\": \"phone\", \"store-number\": 98, \"quantity\": 998}\n",
      "{\"product\": \"socks\", \"store-number\": 97, \"quantity\": 997}\n",
      "{\"product\": \"broiler\", \"store-number\": 100, \"quantity\": 1000}\n",
      "{\"product\": \"toaster\", \"store-number\": 96, \"quantity\": 996}\n",
      "{\"product\": \"phone\", \"store-number\": 99, \"quantity\": 999}\n",
      "{\"product\": \"tv\", \"store-number\": 95, \"quantity\": 995}\n",
      "{\"product\": \"socks\", \"store-number\": 98, \"quantity\": 998}\n",
      "{\"product\": \"toaster\", \"store-number\": 97, \"quantity\": 997}\n",
      "{\"product\": \"phone\", \"store-number\": 100, \"quantity\": 1000}\n",
      "{\"product\": \"tv\", \"store-number\": 96, \"quantity\": 996}\n",
      "{\"product\": \"socks\", \"store-number\": 99, \"quantity\": 999}\n",
      "{\"product\": \"shirt\", \"store-number\": 95, \"quantity\": 995}\n",
      "{\"product\": \"toaster\", \"store-number\": 98, \"quantity\": 998}\n",
      "{\"product\": \"tv\", \"store-number\": 97, \"quantity\": 997}\n",
      "{\"product\": \"socks\", \"store-number\": 100, \"quantity\": 1000}\n",
      "{\"product\": \"shirt\", \"store-number\": 96, \"quantity\": 996}\n",
      "{\"product\": \"toaster\", \"store-number\": 99, \"quantity\": 999}\n",
      "{\"product\": \"blender\", \"store-number\": 95, \"quantity\": 995}\n",
      "{\"product\": \"tv\", \"store-number\": 98, \"quantity\": 998}\n",
      "{\"product\": \"shirt\", \"store-number\": 97, \"quantity\": 997}\n",
      "{\"product\": \"toaster\", \"store-number\": 100, \"quantity\": 1000}\n",
      "{\"product\": \"blender\", \"store-number\": 96, \"quantity\": 996}\n",
      "{\"product\": \"tv\", \"store-number\": 99, \"quantity\": 999}\n",
      "{\"product\": \"broiler\", \"store-number\": 95, \"quantity\": 995}\n",
      "{\"product\": \"shirt\", \"store-number\": 98, \"quantity\": 998}\n",
      "{\"product\": \"blender\", \"store-number\": 97, \"quantity\": 997}\n",
      "{\"product\": \"tv\", \"store-number\": 100, \"quantity\": 1000}\n",
      "{\"product\": \"broiler\", \"store-number\": 96, \"quantity\": 996}\n",
      "{\"product\": \"shirt\", \"store-number\": 99, \"quantity\": 999}\n",
      "{\"product\": \"phone\", \"store-number\": 95, \"quantity\": 995}\n",
      "{\"product\": \"blender\", \"store-number\": 98, \"quantity\": 998}\n",
      "{\"product\": \"broiler\", \"store-number\": 97, \"quantity\": 997}\n",
      "{\"product\": \"shirt\", \"store-number\": 100, \"quantity\": 1000}\n",
      "{\"product\": \"phone\", \"store-number\": 96, \"quantity\": 996}\n",
      "{\"product\": \"blender\", \"store-number\": 99, \"quantity\": 999}\n",
      "{\"product\": \"socks\", \"store-number\": 95, \"quantity\": 995}\n",
      "{\"product\": \"broiler\", \"store-number\": 98, \"quantity\": 998}\n",
      "{\"product\": \"phone\", \"store-number\": 97, \"quantity\": 997}\n",
      "{\"product\": \"blender\", \"store-number\": 100, \"quantity\": 1000}\n"
     ]
    }
   ],
   "source": [
    "%%jsoniq\n",
    "for $product in json-file(\"http://rumbledb.org/samples/products-small.json\", 10)\n",
    "where $product.quantity ge 995\n",
    "return $product"
   ]
  },
  {
   "cell_type": "markdown",
   "metadata": {
    "collapsed": true
   },
   "source": [
    "Notice that by default only the first 200 items are shown. In a typical setup, it is possible to output the result of a query to a distributed system, so it is also possible to output all the results if needed. In this case, however, as this is printed on your screen, it is more convenient not to materialize the entire sequence.\n",
    "\n",
    "For a projection, there is `project()`:"
   ]
  },
  {
   "cell_type": "code",
   "execution_count": null,
   "metadata": {},
   "outputs": [],
   "source": [
    "%%jsoniq\n",
    "for $product in json-file(\"http://rumbledb.org/samples/products-small.json\", 10)\n",
    "where $product.quantity ge 995\n",
    "return project($product, (\"store-number\", \"product\"))"
   ]
  },
  {
   "cell_type": "markdown",
   "metadata": {},
   "source": [
    "You can also page the results (like OFFSET and LIMIT in SQL) with a `count` clause and a `where` clause. The following query takes the 10th record to the 20th record in the dataset. "
   ]
  },
  {
   "cell_type": "code",
   "execution_count": null,
   "metadata": {},
   "outputs": [],
   "source": [
    "%%jsoniq\n",
    "for $product in json-file(\"http://rumbledb.org/samples/products-small.json\", 10)\n",
    "where $product.quantity ge 995\n",
    "count $c\n",
    "where $c gt 10 and $c le 20\n",
    "return project($product, (\"store-number\", \"product\"))"
   ]
  },
  {
   "cell_type": "markdown",
   "metadata": {},
   "source": [
    "JSONiq also supports grouping with a `group by` clause:"
   ]
  },
  {
   "cell_type": "code",
   "execution_count": null,
   "metadata": {},
   "outputs": [
    {
     "ename": "KeyboardInterrupt",
     "evalue": "",
     "output_type": "error",
     "traceback": [
      "\u001b[0;31m---------------------------------------------------------------------------\u001b[0m",
      "\u001b[0;31mKeyboardInterrupt\u001b[0m                         Traceback (most recent call last)",
      "Cell \u001b[0;32mIn[76], line 1\u001b[0m\n\u001b[0;32m----> 1\u001b[0m get_ipython()\u001b[39m.\u001b[39;49mrun_cell_magic(\u001b[39m'\u001b[39;49m\u001b[39mjsoniq\u001b[39;49m\u001b[39m'\u001b[39;49m, \u001b[39m'\u001b[39;49m\u001b[39m'\u001b[39;49m, \u001b[39m'\u001b[39;49m\u001b[39mfor $product in json-file(\u001b[39;49m\u001b[39m\"\u001b[39;49m\u001b[39mhttp://rumbledb.org/samples/products-small.json\u001b[39;49m\u001b[39m\"\u001b[39;49m\u001b[39m, 10)\u001b[39;49m\u001b[39m\\n\u001b[39;49;00m\u001b[39mgroup by $store-number := $product.store-number\u001b[39;49m\u001b[39m\\n\u001b[39;49;00m\u001b[39mreturn \u001b[39;49m\u001b[39m{\u001b[39;49m\u001b[39m\\n\u001b[39;49;00m\u001b[39m    \u001b[39;49m\u001b[39m\"\u001b[39;49m\u001b[39mstore\u001b[39;49m\u001b[39m\"\u001b[39;49m\u001b[39m : $store-number,\u001b[39;49m\u001b[39m\\n\u001b[39;49;00m\u001b[39m    \u001b[39;49m\u001b[39m\"\u001b[39;49m\u001b[39mcount\u001b[39;49m\u001b[39m\"\u001b[39;49m\u001b[39m : count($product)\u001b[39;49m\u001b[39m\\n\u001b[39;49;00m\u001b[39m}\u001b[39;49m\u001b[39m\\n\u001b[39;49;00m\u001b[39m'\u001b[39;49m)\n",
      "File \u001b[0;32m~/Library/Python/3.10/lib/python/site-packages/IPython/core/interactiveshell.py:2417\u001b[0m, in \u001b[0;36mInteractiveShell.run_cell_magic\u001b[0;34m(self, magic_name, line, cell)\u001b[0m\n\u001b[1;32m   2415\u001b[0m \u001b[39mwith\u001b[39;00m \u001b[39mself\u001b[39m\u001b[39m.\u001b[39mbuiltin_trap:\n\u001b[1;32m   2416\u001b[0m     args \u001b[39m=\u001b[39m (magic_arg_s, cell)\n\u001b[0;32m-> 2417\u001b[0m     result \u001b[39m=\u001b[39m fn(\u001b[39m*\u001b[39;49margs, \u001b[39m*\u001b[39;49m\u001b[39m*\u001b[39;49mkwargs)\n\u001b[1;32m   2418\u001b[0m \u001b[39mreturn\u001b[39;00m result\n",
      "File \u001b[0;32m/usr/local/lib/python3.10/site-packages/rumbledb/rumbledb.py:16\u001b[0m, in \u001b[0;36mRumbleDBServerMagic.jsoniq\u001b[0;34m(self, line, cell)\u001b[0m\n\u001b[1;32m     13\u001b[0m     data \u001b[39m=\u001b[39m cell\n\u001b[1;32m     15\u001b[0m start \u001b[39m=\u001b[39m time\u001b[39m.\u001b[39mtime()                                                         \n\u001b[0;32m---> 16\u001b[0m response \u001b[39m=\u001b[39m json\u001b[39m.\u001b[39mloads(requests\u001b[39m.\u001b[39;49mpost(os\u001b[39m.\u001b[39;49menviron[\u001b[39m\"\u001b[39;49m\u001b[39mRUMBLEDB_SERVER\u001b[39;49m\u001b[39m\"\u001b[39;49m], data\u001b[39m=\u001b[39;49mdata)\u001b[39m.\u001b[39mtext)                   \n\u001b[1;32m     17\u001b[0m end \u001b[39m=\u001b[39m time\u001b[39m.\u001b[39mtime()                                                              \n\u001b[1;32m     18\u001b[0m \u001b[39mprint\u001b[39m(\u001b[39m\"\u001b[39m\u001b[39mTook: \u001b[39m\u001b[39m%s\u001b[39;00m\u001b[39m ms\u001b[39m\u001b[39m\"\u001b[39m \u001b[39m%\u001b[39m (end \u001b[39m-\u001b[39m start))\n",
      "File \u001b[0;32m/usr/local/lib/python3.10/site-packages/requests/api.py:115\u001b[0m, in \u001b[0;36mpost\u001b[0;34m(url, data, json, **kwargs)\u001b[0m\n\u001b[1;32m    103\u001b[0m \u001b[39mdef\u001b[39;00m \u001b[39mpost\u001b[39m(url, data\u001b[39m=\u001b[39m\u001b[39mNone\u001b[39;00m, json\u001b[39m=\u001b[39m\u001b[39mNone\u001b[39;00m, \u001b[39m*\u001b[39m\u001b[39m*\u001b[39mkwargs):\n\u001b[1;32m    104\u001b[0m     \u001b[39mr\u001b[39m\u001b[39m\"\"\"Sends a POST request.\u001b[39;00m\n\u001b[1;32m    105\u001b[0m \n\u001b[1;32m    106\u001b[0m \u001b[39m    :param url: URL for the new :class:`Request` object.\u001b[39;00m\n\u001b[0;32m   (...)\u001b[0m\n\u001b[1;32m    112\u001b[0m \u001b[39m    :rtype: requests.Response\u001b[39;00m\n\u001b[1;32m    113\u001b[0m \u001b[39m    \"\"\"\u001b[39;00m\n\u001b[0;32m--> 115\u001b[0m     \u001b[39mreturn\u001b[39;00m request(\u001b[39m\"\u001b[39;49m\u001b[39mpost\u001b[39;49m\u001b[39m\"\u001b[39;49m, url, data\u001b[39m=\u001b[39;49mdata, json\u001b[39m=\u001b[39;49mjson, \u001b[39m*\u001b[39;49m\u001b[39m*\u001b[39;49mkwargs)\n",
      "File \u001b[0;32m/usr/local/lib/python3.10/site-packages/requests/api.py:59\u001b[0m, in \u001b[0;36mrequest\u001b[0;34m(method, url, **kwargs)\u001b[0m\n\u001b[1;32m     55\u001b[0m \u001b[39m# By using the 'with' statement we are sure the session is closed, thus we\u001b[39;00m\n\u001b[1;32m     56\u001b[0m \u001b[39m# avoid leaving sockets open which can trigger a ResourceWarning in some\u001b[39;00m\n\u001b[1;32m     57\u001b[0m \u001b[39m# cases, and look like a memory leak in others.\u001b[39;00m\n\u001b[1;32m     58\u001b[0m \u001b[39mwith\u001b[39;00m sessions\u001b[39m.\u001b[39mSession() \u001b[39mas\u001b[39;00m session:\n\u001b[0;32m---> 59\u001b[0m     \u001b[39mreturn\u001b[39;00m session\u001b[39m.\u001b[39;49mrequest(method\u001b[39m=\u001b[39;49mmethod, url\u001b[39m=\u001b[39;49murl, \u001b[39m*\u001b[39;49m\u001b[39m*\u001b[39;49mkwargs)\n",
      "File \u001b[0;32m/usr/local/lib/python3.10/site-packages/requests/sessions.py:587\u001b[0m, in \u001b[0;36mSession.request\u001b[0;34m(self, method, url, params, data, headers, cookies, files, auth, timeout, allow_redirects, proxies, hooks, stream, verify, cert, json)\u001b[0m\n\u001b[1;32m    582\u001b[0m send_kwargs \u001b[39m=\u001b[39m {\n\u001b[1;32m    583\u001b[0m     \u001b[39m\"\u001b[39m\u001b[39mtimeout\u001b[39m\u001b[39m\"\u001b[39m: timeout,\n\u001b[1;32m    584\u001b[0m     \u001b[39m\"\u001b[39m\u001b[39mallow_redirects\u001b[39m\u001b[39m\"\u001b[39m: allow_redirects,\n\u001b[1;32m    585\u001b[0m }\n\u001b[1;32m    586\u001b[0m send_kwargs\u001b[39m.\u001b[39mupdate(settings)\n\u001b[0;32m--> 587\u001b[0m resp \u001b[39m=\u001b[39m \u001b[39mself\u001b[39;49m\u001b[39m.\u001b[39;49msend(prep, \u001b[39m*\u001b[39;49m\u001b[39m*\u001b[39;49msend_kwargs)\n\u001b[1;32m    589\u001b[0m \u001b[39mreturn\u001b[39;00m resp\n",
      "File \u001b[0;32m/usr/local/lib/python3.10/site-packages/requests/sessions.py:701\u001b[0m, in \u001b[0;36mSession.send\u001b[0;34m(self, request, **kwargs)\u001b[0m\n\u001b[1;32m    698\u001b[0m start \u001b[39m=\u001b[39m preferred_clock()\n\u001b[1;32m    700\u001b[0m \u001b[39m# Send the request\u001b[39;00m\n\u001b[0;32m--> 701\u001b[0m r \u001b[39m=\u001b[39m adapter\u001b[39m.\u001b[39;49msend(request, \u001b[39m*\u001b[39;49m\u001b[39m*\u001b[39;49mkwargs)\n\u001b[1;32m    703\u001b[0m \u001b[39m# Total elapsed time of the request (approximately)\u001b[39;00m\n\u001b[1;32m    704\u001b[0m elapsed \u001b[39m=\u001b[39m preferred_clock() \u001b[39m-\u001b[39m start\n",
      "File \u001b[0;32m/usr/local/lib/python3.10/site-packages/requests/adapters.py:489\u001b[0m, in \u001b[0;36mHTTPAdapter.send\u001b[0;34m(self, request, stream, timeout, verify, cert, proxies)\u001b[0m\n\u001b[1;32m    487\u001b[0m \u001b[39mtry\u001b[39;00m:\n\u001b[1;32m    488\u001b[0m     \u001b[39mif\u001b[39;00m \u001b[39mnot\u001b[39;00m chunked:\n\u001b[0;32m--> 489\u001b[0m         resp \u001b[39m=\u001b[39m conn\u001b[39m.\u001b[39;49murlopen(\n\u001b[1;32m    490\u001b[0m             method\u001b[39m=\u001b[39;49mrequest\u001b[39m.\u001b[39;49mmethod,\n\u001b[1;32m    491\u001b[0m             url\u001b[39m=\u001b[39;49murl,\n\u001b[1;32m    492\u001b[0m             body\u001b[39m=\u001b[39;49mrequest\u001b[39m.\u001b[39;49mbody,\n\u001b[1;32m    493\u001b[0m             headers\u001b[39m=\u001b[39;49mrequest\u001b[39m.\u001b[39;49mheaders,\n\u001b[1;32m    494\u001b[0m             redirect\u001b[39m=\u001b[39;49m\u001b[39mFalse\u001b[39;49;00m,\n\u001b[1;32m    495\u001b[0m             assert_same_host\u001b[39m=\u001b[39;49m\u001b[39mFalse\u001b[39;49;00m,\n\u001b[1;32m    496\u001b[0m             preload_content\u001b[39m=\u001b[39;49m\u001b[39mFalse\u001b[39;49;00m,\n\u001b[1;32m    497\u001b[0m             decode_content\u001b[39m=\u001b[39;49m\u001b[39mFalse\u001b[39;49;00m,\n\u001b[1;32m    498\u001b[0m             retries\u001b[39m=\u001b[39;49m\u001b[39mself\u001b[39;49m\u001b[39m.\u001b[39;49mmax_retries,\n\u001b[1;32m    499\u001b[0m             timeout\u001b[39m=\u001b[39;49mtimeout,\n\u001b[1;32m    500\u001b[0m         )\n\u001b[1;32m    502\u001b[0m     \u001b[39m# Send the request.\u001b[39;00m\n\u001b[1;32m    503\u001b[0m     \u001b[39melse\u001b[39;00m:\n\u001b[1;32m    504\u001b[0m         \u001b[39mif\u001b[39;00m \u001b[39mhasattr\u001b[39m(conn, \u001b[39m\"\u001b[39m\u001b[39mproxy_pool\u001b[39m\u001b[39m\"\u001b[39m):\n",
      "File \u001b[0;32m/usr/local/lib/python3.10/site-packages/urllib3/connectionpool.py:703\u001b[0m, in \u001b[0;36mHTTPConnectionPool.urlopen\u001b[0;34m(self, method, url, body, headers, retries, redirect, assert_same_host, timeout, pool_timeout, release_conn, chunked, body_pos, **response_kw)\u001b[0m\n\u001b[1;32m    700\u001b[0m     \u001b[39mself\u001b[39m\u001b[39m.\u001b[39m_prepare_proxy(conn)\n\u001b[1;32m    702\u001b[0m \u001b[39m# Make the request on the httplib connection object.\u001b[39;00m\n\u001b[0;32m--> 703\u001b[0m httplib_response \u001b[39m=\u001b[39m \u001b[39mself\u001b[39;49m\u001b[39m.\u001b[39;49m_make_request(\n\u001b[1;32m    704\u001b[0m     conn,\n\u001b[1;32m    705\u001b[0m     method,\n\u001b[1;32m    706\u001b[0m     url,\n\u001b[1;32m    707\u001b[0m     timeout\u001b[39m=\u001b[39;49mtimeout_obj,\n\u001b[1;32m    708\u001b[0m     body\u001b[39m=\u001b[39;49mbody,\n\u001b[1;32m    709\u001b[0m     headers\u001b[39m=\u001b[39;49mheaders,\n\u001b[1;32m    710\u001b[0m     chunked\u001b[39m=\u001b[39;49mchunked,\n\u001b[1;32m    711\u001b[0m )\n\u001b[1;32m    713\u001b[0m \u001b[39m# If we're going to release the connection in ``finally:``, then\u001b[39;00m\n\u001b[1;32m    714\u001b[0m \u001b[39m# the response doesn't need to know about the connection. Otherwise\u001b[39;00m\n\u001b[1;32m    715\u001b[0m \u001b[39m# it will also try to release it and we'll have a double-release\u001b[39;00m\n\u001b[1;32m    716\u001b[0m \u001b[39m# mess.\u001b[39;00m\n\u001b[1;32m    717\u001b[0m response_conn \u001b[39m=\u001b[39m conn \u001b[39mif\u001b[39;00m \u001b[39mnot\u001b[39;00m release_conn \u001b[39melse\u001b[39;00m \u001b[39mNone\u001b[39;00m\n",
      "File \u001b[0;32m/usr/local/lib/python3.10/site-packages/urllib3/connectionpool.py:449\u001b[0m, in \u001b[0;36mHTTPConnectionPool._make_request\u001b[0;34m(self, conn, method, url, timeout, chunked, **httplib_request_kw)\u001b[0m\n\u001b[1;32m    444\u001b[0m             httplib_response \u001b[39m=\u001b[39m conn\u001b[39m.\u001b[39mgetresponse()\n\u001b[1;32m    445\u001b[0m         \u001b[39mexcept\u001b[39;00m \u001b[39mBaseException\u001b[39;00m \u001b[39mas\u001b[39;00m e:\n\u001b[1;32m    446\u001b[0m             \u001b[39m# Remove the TypeError from the exception chain in\u001b[39;00m\n\u001b[1;32m    447\u001b[0m             \u001b[39m# Python 3 (including for exceptions like SystemExit).\u001b[39;00m\n\u001b[1;32m    448\u001b[0m             \u001b[39m# Otherwise it looks like a bug in the code.\u001b[39;00m\n\u001b[0;32m--> 449\u001b[0m             six\u001b[39m.\u001b[39;49mraise_from(e, \u001b[39mNone\u001b[39;49;00m)\n\u001b[1;32m    450\u001b[0m \u001b[39mexcept\u001b[39;00m (SocketTimeout, BaseSSLError, SocketError) \u001b[39mas\u001b[39;00m e:\n\u001b[1;32m    451\u001b[0m     \u001b[39mself\u001b[39m\u001b[39m.\u001b[39m_raise_timeout(err\u001b[39m=\u001b[39me, url\u001b[39m=\u001b[39murl, timeout_value\u001b[39m=\u001b[39mread_timeout)\n",
      "File \u001b[0;32m<string>:3\u001b[0m, in \u001b[0;36mraise_from\u001b[0;34m(value, from_value)\u001b[0m\n",
      "File \u001b[0;32m/usr/local/lib/python3.10/site-packages/urllib3/connectionpool.py:444\u001b[0m, in \u001b[0;36mHTTPConnectionPool._make_request\u001b[0;34m(self, conn, method, url, timeout, chunked, **httplib_request_kw)\u001b[0m\n\u001b[1;32m    441\u001b[0m \u001b[39mexcept\u001b[39;00m \u001b[39mTypeError\u001b[39;00m:\n\u001b[1;32m    442\u001b[0m     \u001b[39m# Python 3\u001b[39;00m\n\u001b[1;32m    443\u001b[0m     \u001b[39mtry\u001b[39;00m:\n\u001b[0;32m--> 444\u001b[0m         httplib_response \u001b[39m=\u001b[39m conn\u001b[39m.\u001b[39;49mgetresponse()\n\u001b[1;32m    445\u001b[0m     \u001b[39mexcept\u001b[39;00m \u001b[39mBaseException\u001b[39;00m \u001b[39mas\u001b[39;00m e:\n\u001b[1;32m    446\u001b[0m         \u001b[39m# Remove the TypeError from the exception chain in\u001b[39;00m\n\u001b[1;32m    447\u001b[0m         \u001b[39m# Python 3 (including for exceptions like SystemExit).\u001b[39;00m\n\u001b[1;32m    448\u001b[0m         \u001b[39m# Otherwise it looks like a bug in the code.\u001b[39;00m\n\u001b[1;32m    449\u001b[0m         six\u001b[39m.\u001b[39mraise_from(e, \u001b[39mNone\u001b[39;00m)\n",
      "File \u001b[0;32m/usr/local/Cellar/python@3.10/3.10.8/Frameworks/Python.framework/Versions/3.10/lib/python3.10/http/client.py:1374\u001b[0m, in \u001b[0;36mHTTPConnection.getresponse\u001b[0;34m(self)\u001b[0m\n\u001b[1;32m   1372\u001b[0m \u001b[39mtry\u001b[39;00m:\n\u001b[1;32m   1373\u001b[0m     \u001b[39mtry\u001b[39;00m:\n\u001b[0;32m-> 1374\u001b[0m         response\u001b[39m.\u001b[39;49mbegin()\n\u001b[1;32m   1375\u001b[0m     \u001b[39mexcept\u001b[39;00m \u001b[39mConnectionError\u001b[39;00m:\n\u001b[1;32m   1376\u001b[0m         \u001b[39mself\u001b[39m\u001b[39m.\u001b[39mclose()\n",
      "File \u001b[0;32m/usr/local/Cellar/python@3.10/3.10.8/Frameworks/Python.framework/Versions/3.10/lib/python3.10/http/client.py:318\u001b[0m, in \u001b[0;36mHTTPResponse.begin\u001b[0;34m(self)\u001b[0m\n\u001b[1;32m    316\u001b[0m \u001b[39m# read until we get a non-100 response\u001b[39;00m\n\u001b[1;32m    317\u001b[0m \u001b[39mwhile\u001b[39;00m \u001b[39mTrue\u001b[39;00m:\n\u001b[0;32m--> 318\u001b[0m     version, status, reason \u001b[39m=\u001b[39m \u001b[39mself\u001b[39;49m\u001b[39m.\u001b[39;49m_read_status()\n\u001b[1;32m    319\u001b[0m     \u001b[39mif\u001b[39;00m status \u001b[39m!=\u001b[39m CONTINUE:\n\u001b[1;32m    320\u001b[0m         \u001b[39mbreak\u001b[39;00m\n",
      "File \u001b[0;32m/usr/local/Cellar/python@3.10/3.10.8/Frameworks/Python.framework/Versions/3.10/lib/python3.10/http/client.py:279\u001b[0m, in \u001b[0;36mHTTPResponse._read_status\u001b[0;34m(self)\u001b[0m\n\u001b[1;32m    278\u001b[0m \u001b[39mdef\u001b[39;00m \u001b[39m_read_status\u001b[39m(\u001b[39mself\u001b[39m):\n\u001b[0;32m--> 279\u001b[0m     line \u001b[39m=\u001b[39m \u001b[39mstr\u001b[39m(\u001b[39mself\u001b[39;49m\u001b[39m.\u001b[39;49mfp\u001b[39m.\u001b[39;49mreadline(_MAXLINE \u001b[39m+\u001b[39;49m \u001b[39m1\u001b[39;49m), \u001b[39m\"\u001b[39m\u001b[39miso-8859-1\u001b[39m\u001b[39m\"\u001b[39m)\n\u001b[1;32m    280\u001b[0m     \u001b[39mif\u001b[39;00m \u001b[39mlen\u001b[39m(line) \u001b[39m>\u001b[39m _MAXLINE:\n\u001b[1;32m    281\u001b[0m         \u001b[39mraise\u001b[39;00m LineTooLong(\u001b[39m\"\u001b[39m\u001b[39mstatus line\u001b[39m\u001b[39m\"\u001b[39m)\n",
      "File \u001b[0;32m/usr/local/Cellar/python@3.10/3.10.8/Frameworks/Python.framework/Versions/3.10/lib/python3.10/socket.py:705\u001b[0m, in \u001b[0;36mSocketIO.readinto\u001b[0;34m(self, b)\u001b[0m\n\u001b[1;32m    703\u001b[0m \u001b[39mwhile\u001b[39;00m \u001b[39mTrue\u001b[39;00m:\n\u001b[1;32m    704\u001b[0m     \u001b[39mtry\u001b[39;00m:\n\u001b[0;32m--> 705\u001b[0m         \u001b[39mreturn\u001b[39;00m \u001b[39mself\u001b[39;49m\u001b[39m.\u001b[39;49m_sock\u001b[39m.\u001b[39;49mrecv_into(b)\n\u001b[1;32m    706\u001b[0m     \u001b[39mexcept\u001b[39;00m timeout:\n\u001b[1;32m    707\u001b[0m         \u001b[39mself\u001b[39m\u001b[39m.\u001b[39m_timeout_occurred \u001b[39m=\u001b[39m \u001b[39mTrue\u001b[39;00m\n",
      "\u001b[0;31mKeyboardInterrupt\u001b[0m: "
     ]
    }
   ],
   "source": [
    "%%jsoniq\n",
    "for $product in json-file(\"http://rumbledb.org/samples/products-small.json\", 10)\n",
    "group by $store-number := $product.store-number\n",
    "return {\n",
    "    \"store\" : $store-number,\n",
    "    \"count\" : count($product)\n",
    "}"
   ]
  },
  {
   "cell_type": "markdown",
   "metadata": {},
   "source": [
    "As well as ordering with an `order by` clause:"
   ]
  },
  {
   "cell_type": "code",
   "execution_count": null,
   "metadata": {},
   "outputs": [],
   "source": [
    "%%jsoniq\n",
    "for $product in json-file(\"http://rumbledb.org/samples/products-small.json\", 10)\n",
    "group by $store-number := $product.store-number\n",
    "order by $store-number ascending\n",
    "return {\n",
    "    \"store\" : $store-number,\n",
    "    \"count\" : count($product)\n",
    "}"
   ]
  },
  {
   "cell_type": "markdown",
   "metadata": {},
   "source": [
    "JSONiq supports denormalized data, so you are not forced to aggregate after a grouping, you can also nest data like so:"
   ]
  },
  {
   "cell_type": "code",
   "execution_count": null,
   "metadata": {
    "scrolled": true
   },
   "outputs": [
    {
     "name": "stdout",
     "output_type": "stream",
     "text": [
      "Took: 9.077660083770752 ms\n",
      "{\"store\": 1, \"products\": [\"shirt\", \"toaster\", \"phone\", \"blender\", \"tv\", \"socks\", \"broiler\"]}\n",
      "{\"store\": 2, \"products\": [\"shirt\", \"toaster\", \"phone\", \"blender\", \"tv\", \"socks\", \"broiler\"]}\n",
      "{\"store\": 3, \"products\": [\"shirt\", \"toaster\", \"phone\", \"blender\", \"tv\", \"socks\", \"broiler\"]}\n",
      "{\"store\": 4, \"products\": [\"shirt\", \"toaster\", \"phone\", \"blender\", \"tv\", \"socks\", \"broiler\"]}\n",
      "{\"store\": 5, \"products\": [\"shirt\", \"toaster\", \"phone\", \"blender\", \"tv\", \"socks\", \"broiler\"]}\n",
      "{\"store\": 6, \"products\": [\"toaster\", \"phone\", \"blender\", \"tv\", \"socks\", \"broiler\", \"shirt\"]}\n",
      "{\"store\": 7, \"products\": [\"toaster\", \"phone\", \"blender\", \"tv\", \"socks\", \"broiler\", \"shirt\"]}\n",
      "{\"store\": 8, \"products\": [\"toaster\", \"phone\", \"blender\", \"tv\", \"socks\", \"broiler\", \"shirt\"]}\n",
      "{\"store\": 9, \"products\": [\"toaster\", \"phone\", \"blender\", \"tv\", \"socks\", \"broiler\", \"shirt\"]}\n",
      "{\"store\": 10, \"products\": [\"toaster\", \"phone\", \"blender\", \"tv\", \"socks\", \"broiler\", \"shirt\"]}\n",
      "{\"store\": 11, \"products\": [\"phone\", \"blender\", \"tv\", \"socks\", \"broiler\", \"shirt\", \"toaster\"]}\n",
      "{\"store\": 12, \"products\": [\"phone\", \"blender\", \"tv\", \"socks\", \"broiler\", \"shirt\", \"toaster\"]}\n",
      "{\"store\": 13, \"products\": [\"phone\", \"blender\", \"tv\", \"socks\", \"broiler\", \"shirt\", \"toaster\"]}\n",
      "{\"store\": 14, \"products\": [\"phone\", \"blender\", \"tv\", \"socks\", \"broiler\", \"shirt\", \"toaster\"]}\n",
      "{\"store\": 15, \"products\": [\"phone\", \"blender\", \"tv\", \"socks\", \"broiler\", \"shirt\", \"toaster\"]}\n",
      "{\"store\": 16, \"products\": [\"blender\", \"tv\", \"socks\", \"broiler\", \"shirt\", \"toaster\", \"phone\"]}\n",
      "{\"store\": 17, \"products\": [\"blender\", \"tv\", \"socks\", \"broiler\", \"shirt\", \"toaster\", \"phone\"]}\n",
      "{\"store\": 18, \"products\": [\"blender\", \"tv\", \"socks\", \"broiler\", \"shirt\", \"toaster\", \"phone\"]}\n",
      "{\"store\": 19, \"products\": [\"blender\", \"tv\", \"socks\", \"broiler\", \"shirt\", \"toaster\", \"phone\"]}\n",
      "{\"store\": 20, \"products\": [\"blender\", \"tv\", \"socks\", \"broiler\", \"shirt\", \"toaster\", \"phone\"]}\n",
      "{\"store\": 21, \"products\": [\"tv\", \"socks\", \"broiler\", \"shirt\", \"toaster\", \"phone\", \"blender\"]}\n",
      "{\"store\": 22, \"products\": [\"tv\", \"socks\", \"broiler\", \"shirt\", \"toaster\", \"phone\", \"blender\"]}\n",
      "{\"store\": 23, \"products\": [\"tv\", \"socks\", \"broiler\", \"shirt\", \"toaster\", \"phone\", \"blender\"]}\n",
      "{\"store\": 24, \"products\": [\"tv\", \"socks\", \"broiler\", \"shirt\", \"toaster\", \"phone\", \"blender\"]}\n",
      "{\"store\": 25, \"products\": [\"socks\", \"broiler\", \"shirt\", \"toaster\", \"phone\", \"blender\", \"tv\"]}\n",
      "{\"store\": 26, \"products\": [\"socks\", \"broiler\", \"shirt\", \"toaster\", \"phone\", \"blender\", \"tv\"]}\n",
      "{\"store\": 27, \"products\": [\"socks\", \"broiler\", \"shirt\", \"toaster\", \"phone\", \"blender\", \"tv\"]}\n",
      "{\"store\": 28, \"products\": [\"socks\", \"broiler\", \"shirt\", \"toaster\", \"phone\", \"blender\", \"tv\"]}\n",
      "{\"store\": 29, \"products\": [\"socks\", \"broiler\", \"shirt\", \"toaster\", \"phone\", \"blender\", \"tv\"]}\n",
      "{\"store\": 30, \"products\": [\"broiler\", \"shirt\", \"toaster\", \"phone\", \"blender\", \"tv\", \"socks\"]}\n",
      "{\"store\": 31, \"products\": [\"broiler\", \"shirt\", \"toaster\", \"phone\", \"blender\", \"tv\", \"socks\"]}\n",
      "{\"store\": 32, \"products\": [\"broiler\", \"shirt\", \"toaster\", \"phone\", \"blender\", \"tv\", \"socks\"]}\n",
      "{\"store\": 33, \"products\": [\"broiler\", \"shirt\", \"toaster\", \"phone\", \"blender\", \"tv\", \"socks\"]}\n",
      "{\"store\": 34, \"products\": [\"broiler\", \"shirt\", \"toaster\", \"phone\", \"blender\", \"tv\", \"socks\"]}\n",
      "{\"store\": 35, \"products\": [\"shirt\", \"toaster\", \"phone\", \"blender\", \"tv\", \"socks\", \"broiler\"]}\n",
      "{\"store\": 36, \"products\": [\"shirt\", \"toaster\", \"phone\", \"blender\", \"tv\", \"socks\", \"broiler\"]}\n",
      "{\"store\": 37, \"products\": [\"shirt\", \"toaster\", \"phone\", \"blender\", \"tv\", \"socks\", \"broiler\"]}\n",
      "{\"store\": 38, \"products\": [\"shirt\", \"toaster\", \"phone\", \"blender\", \"tv\", \"socks\", \"broiler\"]}\n",
      "{\"store\": 39, \"products\": [\"shirt\", \"toaster\", \"phone\", \"blender\", \"tv\", \"socks\", \"broiler\"]}\n",
      "{\"store\": 40, \"products\": [\"toaster\", \"phone\", \"blender\", \"tv\", \"socks\", \"broiler\", \"shirt\"]}\n",
      "{\"store\": 41, \"products\": [\"toaster\", \"phone\", \"blender\", \"tv\", \"socks\", \"broiler\", \"shirt\"]}\n",
      "{\"store\": 42, \"products\": [\"toaster\", \"phone\", \"blender\", \"tv\", \"socks\", \"broiler\", \"shirt\"]}\n",
      "{\"store\": 43, \"products\": [\"toaster\", \"phone\", \"blender\", \"tv\", \"socks\", \"broiler\", \"shirt\"]}\n",
      "{\"store\": 44, \"products\": [\"phone\", \"blender\", \"tv\", \"socks\", \"broiler\", \"shirt\", \"toaster\"]}\n",
      "{\"store\": 45, \"products\": [\"phone\", \"blender\", \"tv\", \"socks\", \"broiler\", \"shirt\", \"toaster\"]}\n",
      "{\"store\": 46, \"products\": [\"phone\", \"blender\", \"tv\", \"socks\", \"broiler\", \"shirt\", \"toaster\"]}\n",
      "{\"store\": 47, \"products\": [\"phone\", \"blender\", \"tv\", \"socks\", \"broiler\", \"shirt\", \"toaster\"]}\n",
      "{\"store\": 48, \"products\": [\"phone\", \"blender\", \"tv\", \"socks\", \"broiler\", \"shirt\", \"toaster\"]}\n",
      "{\"store\": 49, \"products\": [\"blender\", \"tv\", \"socks\", \"broiler\", \"shirt\", \"toaster\", \"phone\"]}\n",
      "{\"store\": 50, \"products\": [\"blender\", \"tv\", \"socks\", \"broiler\", \"shirt\", \"toaster\", \"phone\"]}\n",
      "{\"store\": 51, \"products\": [\"blender\", \"tv\", \"socks\", \"broiler\", \"shirt\", \"toaster\", \"phone\"]}\n",
      "{\"store\": 52, \"products\": [\"blender\", \"tv\", \"socks\", \"broiler\", \"shirt\", \"toaster\", \"phone\"]}\n",
      "{\"store\": 53, \"products\": [\"blender\", \"tv\", \"socks\", \"broiler\", \"shirt\", \"toaster\", \"phone\"]}\n",
      "{\"store\": 54, \"products\": [\"tv\", \"socks\", \"broiler\", \"shirt\", \"toaster\", \"phone\", \"blender\"]}\n",
      "{\"store\": 55, \"products\": [\"tv\", \"socks\", \"broiler\", \"shirt\", \"toaster\", \"phone\", \"blender\"]}\n",
      "{\"store\": 56, \"products\": [\"tv\", \"socks\", \"broiler\", \"shirt\", \"toaster\", \"phone\", \"blender\"]}\n",
      "{\"store\": 57, \"products\": [\"tv\", \"socks\", \"broiler\", \"shirt\", \"toaster\", \"phone\", \"blender\"]}\n",
      "{\"store\": 58, \"products\": [\"tv\", \"socks\", \"broiler\", \"shirt\", \"toaster\", \"phone\", \"blender\"]}\n",
      "{\"store\": 59, \"products\": [\"socks\", \"broiler\", \"shirt\", \"toaster\", \"phone\", \"blender\", \"tv\"]}\n",
      "{\"store\": 60, \"products\": [\"socks\", \"broiler\", \"shirt\", \"toaster\", \"phone\", \"blender\", \"tv\"]}\n",
      "{\"store\": 61, \"products\": [\"socks\", \"broiler\", \"shirt\", \"toaster\", \"phone\", \"blender\", \"tv\"]}\n",
      "{\"store\": 62, \"products\": [\"socks\", \"broiler\", \"shirt\", \"toaster\", \"phone\", \"blender\", \"tv\"]}\n",
      "{\"store\": 63, \"products\": [\"broiler\", \"shirt\", \"toaster\", \"phone\", \"blender\", \"tv\", \"socks\"]}\n",
      "{\"store\": 64, \"products\": [\"broiler\", \"shirt\", \"toaster\", \"phone\", \"blender\", \"tv\", \"socks\"]}\n",
      "{\"store\": 65, \"products\": [\"broiler\", \"shirt\", \"toaster\", \"phone\", \"blender\", \"tv\", \"socks\"]}\n",
      "{\"store\": 66, \"products\": [\"broiler\", \"shirt\", \"toaster\", \"phone\", \"blender\", \"tv\", \"socks\"]}\n",
      "{\"store\": 67, \"products\": [\"broiler\", \"shirt\", \"toaster\", \"phone\", \"blender\", \"tv\", \"socks\"]}\n",
      "{\"store\": 68, \"products\": [\"shirt\", \"toaster\", \"phone\", \"blender\", \"tv\", \"socks\", \"broiler\"]}\n",
      "{\"store\": 69, \"products\": [\"shirt\", \"toaster\", \"phone\", \"blender\", \"tv\", \"socks\", \"broiler\"]}\n",
      "{\"store\": 70, \"products\": [\"shirt\", \"toaster\", \"phone\", \"blender\", \"tv\", \"socks\", \"broiler\"]}\n",
      "{\"store\": 71, \"products\": [\"shirt\", \"toaster\", \"phone\", \"blender\", \"tv\", \"socks\", \"broiler\"]}\n",
      "{\"store\": 72, \"products\": [\"shirt\", \"toaster\", \"phone\", \"blender\", \"tv\", \"socks\", \"broiler\"]}\n",
      "{\"store\": 73, \"products\": [\"toaster\", \"phone\", \"blender\", \"tv\", \"socks\", \"broiler\", \"shirt\"]}\n",
      "{\"store\": 74, \"products\": [\"toaster\", \"phone\", \"blender\", \"tv\", \"socks\", \"broiler\", \"shirt\"]}\n",
      "{\"store\": 75, \"products\": [\"toaster\", \"phone\", \"blender\", \"tv\", \"socks\", \"broiler\", \"shirt\"]}\n",
      "{\"store\": 76, \"products\": [\"toaster\", \"phone\", \"blender\", \"tv\", \"socks\", \"broiler\", \"shirt\"]}\n",
      "{\"store\": 77, \"products\": [\"toaster\", \"phone\", \"blender\", \"tv\", \"socks\", \"broiler\", \"shirt\"]}\n",
      "{\"store\": 78, \"products\": [\"phone\", \"blender\", \"tv\", \"socks\", \"broiler\", \"shirt\", \"toaster\"]}\n",
      "{\"store\": 79, \"products\": [\"phone\", \"blender\", \"tv\", \"socks\", \"broiler\", \"shirt\", \"toaster\"]}\n",
      "{\"store\": 80, \"products\": [\"phone\", \"blender\", \"tv\", \"socks\", \"broiler\", \"shirt\", \"toaster\"]}\n",
      "{\"store\": 81, \"products\": [\"phone\", \"blender\", \"tv\", \"socks\", \"broiler\", \"shirt\", \"toaster\"]}\n",
      "{\"store\": 82, \"products\": [\"blender\", \"tv\", \"socks\", \"broiler\", \"shirt\", \"toaster\", \"phone\"]}\n",
      "{\"store\": 83, \"products\": [\"blender\", \"tv\", \"socks\", \"broiler\", \"shirt\", \"toaster\", \"phone\"]}\n",
      "{\"store\": 84, \"products\": [\"blender\", \"tv\", \"socks\", \"broiler\", \"shirt\", \"toaster\", \"phone\"]}\n",
      "{\"store\": 85, \"products\": [\"blender\", \"tv\", \"socks\", \"broiler\", \"shirt\", \"toaster\", \"phone\"]}\n",
      "{\"store\": 86, \"products\": [\"blender\", \"tv\", \"socks\", \"broiler\", \"shirt\", \"toaster\", \"phone\"]}\n",
      "{\"store\": 87, \"products\": [\"tv\", \"socks\", \"broiler\", \"shirt\", \"toaster\", \"phone\", \"blender\"]}\n",
      "{\"store\": 88, \"products\": [\"tv\", \"socks\", \"broiler\", \"shirt\", \"toaster\", \"phone\", \"blender\"]}\n",
      "{\"store\": 89, \"products\": [\"tv\", \"socks\", \"broiler\", \"shirt\", \"toaster\", \"phone\", \"blender\"]}\n",
      "{\"store\": 90, \"products\": [\"tv\", \"socks\", \"broiler\", \"shirt\", \"toaster\", \"phone\", \"blender\"]}\n",
      "{\"store\": 91, \"products\": [\"tv\", \"socks\", \"broiler\", \"shirt\", \"toaster\", \"phone\", \"blender\"]}\n",
      "{\"store\": 92, \"products\": [\"socks\", \"broiler\", \"shirt\", \"toaster\", \"phone\", \"blender\", \"tv\"]}\n",
      "{\"store\": 93, \"products\": [\"socks\", \"broiler\", \"shirt\", \"toaster\", \"phone\", \"blender\", \"tv\"]}\n",
      "{\"store\": 94, \"products\": [\"socks\", \"broiler\", \"shirt\", \"toaster\", \"phone\", \"blender\", \"tv\"]}\n",
      "{\"store\": 95, \"products\": [\"socks\", \"broiler\", \"shirt\", \"toaster\", \"phone\", \"blender\", \"tv\"]}\n",
      "{\"store\": 96, \"products\": [\"socks\", \"broiler\", \"shirt\", \"toaster\", \"phone\", \"blender\", \"tv\"]}\n",
      "{\"store\": 97, \"products\": [\"broiler\", \"shirt\", \"toaster\", \"phone\", \"blender\", \"tv\", \"socks\"]}\n",
      "{\"store\": 98, \"products\": [\"broiler\", \"shirt\", \"toaster\", \"phone\", \"blender\", \"tv\", \"socks\"]}\n",
      "{\"store\": 99, \"products\": [\"broiler\", \"shirt\", \"toaster\", \"phone\", \"blender\", \"tv\", \"socks\"]}\n",
      "{\"store\": 100, \"products\": [\"broiler\", \"shirt\", \"toaster\", \"phone\", \"blender\", \"tv\", \"socks\"]}\n"
     ]
    }
   ],
   "source": [
    "%%jsoniq\n",
    "for $product in json-file(\"http://rumbledb.org/samples/products-small.json\", 10)\n",
    "group by $store-number := $product.store-number\n",
    "order by $store-number ascending\n",
    "return {\n",
    "    \"store\" : $store-number,\n",
    "    \"products\" : [ distinct-values($product.product) ]\n",
    "}"
   ]
  },
  {
   "cell_type": "markdown",
   "metadata": {},
   "source": [
    "Or"
   ]
  },
  {
   "cell_type": "code",
   "execution_count": null,
   "metadata": {},
   "outputs": [
    {
     "name": "stdout",
     "output_type": "stream",
     "text": [
      "Took: 11.862331867218018 ms\n",
      "{\"store\": 1, \"products\": [{\"product\": \"shirt\", \"quantity\": 901}, {\"product\": \"toaster\", \"quantity\": 801}, {\"product\": \"phone\", \"quantity\": 701}, {\"product\": \"blender\", \"quantity\": 601}, {\"product\": \"tv\", \"quantity\": 501}, {\"product\": \"socks\", \"quantity\": 401}, {\"product\": \"broiler\", \"quantity\": 301}, {\"product\": \"shirt\", \"quantity\": 201}, {\"product\": \"toaster\", \"quantity\": 101}, {\"product\": \"phone\", \"quantity\": 1}], \"inventory\": 451000}\n",
      "{\"store\": 2, \"products\": [{\"product\": \"shirt\", \"quantity\": 602}, {\"product\": \"toaster\", \"quantity\": 502}, {\"product\": \"phone\", \"quantity\": 402}, {\"product\": \"blender\", \"quantity\": 302}, {\"product\": \"tv\", \"quantity\": 202}, {\"product\": \"socks\", \"quantity\": 102}, {\"product\": \"broiler\", \"quantity\": 2}, {\"product\": \"shirt\", \"quantity\": 902}, {\"product\": \"toaster\", \"quantity\": 802}, {\"product\": \"phone\", \"quantity\": 702}], \"inventory\": 452000}\n",
      "{\"store\": 3, \"products\": [{\"product\": \"shirt\", \"quantity\": 303}, {\"product\": \"toaster\", \"quantity\": 203}, {\"product\": \"phone\", \"quantity\": 103}, {\"product\": \"blender\", \"quantity\": 3}, {\"product\": \"tv\", \"quantity\": 903}, {\"product\": \"socks\", \"quantity\": 803}, {\"product\": \"broiler\", \"quantity\": 703}, {\"product\": \"shirt\", \"quantity\": 603}, {\"product\": \"toaster\", \"quantity\": 503}, {\"product\": \"phone\", \"quantity\": 403}], \"inventory\": 453000}\n",
      "{\"store\": 4, \"products\": [{\"product\": \"shirt\", \"quantity\": 4}, {\"product\": \"toaster\", \"quantity\": 904}, {\"product\": \"phone\", \"quantity\": 804}, {\"product\": \"blender\", \"quantity\": 704}, {\"product\": \"tv\", \"quantity\": 604}, {\"product\": \"socks\", \"quantity\": 504}, {\"product\": \"broiler\", \"quantity\": 404}, {\"product\": \"shirt\", \"quantity\": 304}, {\"product\": \"toaster\", \"quantity\": 204}, {\"product\": \"phone\", \"quantity\": 104}], \"inventory\": 454000}\n",
      "{\"store\": 5, \"products\": [{\"product\": \"shirt\", \"quantity\": 705}, {\"product\": \"toaster\", \"quantity\": 605}, {\"product\": \"phone\", \"quantity\": 505}, {\"product\": \"blender\", \"quantity\": 405}, {\"product\": \"tv\", \"quantity\": 305}, {\"product\": \"socks\", \"quantity\": 205}, {\"product\": \"broiler\", \"quantity\": 105}, {\"product\": \"shirt\", \"quantity\": 5}, {\"product\": \"toaster\", \"quantity\": 905}, {\"product\": \"phone\", \"quantity\": 805}], \"inventory\": 455000}\n",
      "{\"store\": 6, \"products\": [{\"product\": \"toaster\", \"quantity\": 306}, {\"product\": \"phone\", \"quantity\": 206}, {\"product\": \"blender\", \"quantity\": 106}, {\"product\": \"tv\", \"quantity\": 6}, {\"product\": \"socks\", \"quantity\": 906}, {\"product\": \"broiler\", \"quantity\": 806}, {\"product\": \"shirt\", \"quantity\": 706}, {\"product\": \"toaster\", \"quantity\": 606}, {\"product\": \"phone\", \"quantity\": 506}, {\"product\": \"blender\", \"quantity\": 406}], \"inventory\": 456000}\n",
      "{\"store\": 7, \"products\": [{\"product\": \"toaster\", \"quantity\": 7}, {\"product\": \"phone\", \"quantity\": 907}, {\"product\": \"blender\", \"quantity\": 807}, {\"product\": \"tv\", \"quantity\": 707}, {\"product\": \"socks\", \"quantity\": 607}, {\"product\": \"broiler\", \"quantity\": 507}, {\"product\": \"shirt\", \"quantity\": 407}, {\"product\": \"toaster\", \"quantity\": 307}, {\"product\": \"phone\", \"quantity\": 207}, {\"product\": \"blender\", \"quantity\": 107}], \"inventory\": 457000}\n",
      "{\"store\": 8, \"products\": [{\"product\": \"toaster\", \"quantity\": 708}, {\"product\": \"phone\", \"quantity\": 608}, {\"product\": \"blender\", \"quantity\": 508}, {\"product\": \"tv\", \"quantity\": 408}, {\"product\": \"socks\", \"quantity\": 308}, {\"product\": \"broiler\", \"quantity\": 208}, {\"product\": \"shirt\", \"quantity\": 108}, {\"product\": \"toaster\", \"quantity\": 8}, {\"product\": \"phone\", \"quantity\": 908}, {\"product\": \"blender\", \"quantity\": 808}], \"inventory\": 458000}\n",
      "{\"store\": 9, \"products\": [{\"product\": \"toaster\", \"quantity\": 409}, {\"product\": \"phone\", \"quantity\": 309}, {\"product\": \"blender\", \"quantity\": 209}, {\"product\": \"tv\", \"quantity\": 109}, {\"product\": \"socks\", \"quantity\": 9}, {\"product\": \"broiler\", \"quantity\": 909}, {\"product\": \"shirt\", \"quantity\": 809}, {\"product\": \"toaster\", \"quantity\": 709}, {\"product\": \"phone\", \"quantity\": 609}, {\"product\": \"blender\", \"quantity\": 509}], \"inventory\": 459000}\n",
      "{\"store\": 10, \"products\": [{\"product\": \"toaster\", \"quantity\": 110}, {\"product\": \"phone\", \"quantity\": 10}, {\"product\": \"blender\", \"quantity\": 910}, {\"product\": \"tv\", \"quantity\": 810}, {\"product\": \"socks\", \"quantity\": 710}, {\"product\": \"broiler\", \"quantity\": 610}, {\"product\": \"shirt\", \"quantity\": 510}, {\"product\": \"toaster\", \"quantity\": 410}, {\"product\": \"phone\", \"quantity\": 310}, {\"product\": \"blender\", \"quantity\": 210}], \"inventory\": 460000}\n",
      "{\"store\": 11, \"products\": [{\"product\": \"phone\", \"quantity\": 711}, {\"product\": \"blender\", \"quantity\": 611}, {\"product\": \"tv\", \"quantity\": 511}, {\"product\": \"socks\", \"quantity\": 411}, {\"product\": \"broiler\", \"quantity\": 311}, {\"product\": \"shirt\", \"quantity\": 211}, {\"product\": \"toaster\", \"quantity\": 111}, {\"product\": \"phone\", \"quantity\": 11}, {\"product\": \"blender\", \"quantity\": 911}, {\"product\": \"tv\", \"quantity\": 811}], \"inventory\": 461000}\n",
      "{\"store\": 12, \"products\": [{\"product\": \"phone\", \"quantity\": 412}, {\"product\": \"blender\", \"quantity\": 312}, {\"product\": \"tv\", \"quantity\": 212}, {\"product\": \"socks\", \"quantity\": 112}, {\"product\": \"broiler\", \"quantity\": 12}, {\"product\": \"shirt\", \"quantity\": 912}, {\"product\": \"toaster\", \"quantity\": 812}, {\"product\": \"phone\", \"quantity\": 712}, {\"product\": \"blender\", \"quantity\": 612}, {\"product\": \"tv\", \"quantity\": 512}], \"inventory\": 462000}\n",
      "{\"store\": 13, \"products\": [{\"product\": \"phone\", \"quantity\": 113}, {\"product\": \"blender\", \"quantity\": 13}, {\"product\": \"tv\", \"quantity\": 913}, {\"product\": \"socks\", \"quantity\": 813}, {\"product\": \"broiler\", \"quantity\": 713}, {\"product\": \"shirt\", \"quantity\": 613}, {\"product\": \"toaster\", \"quantity\": 513}, {\"product\": \"phone\", \"quantity\": 413}, {\"product\": \"blender\", \"quantity\": 313}, {\"product\": \"tv\", \"quantity\": 213}], \"inventory\": 463000}\n",
      "{\"store\": 14, \"products\": [{\"product\": \"phone\", \"quantity\": 814}, {\"product\": \"blender\", \"quantity\": 714}, {\"product\": \"tv\", \"quantity\": 614}, {\"product\": \"socks\", \"quantity\": 514}, {\"product\": \"broiler\", \"quantity\": 414}, {\"product\": \"shirt\", \"quantity\": 314}, {\"product\": \"toaster\", \"quantity\": 214}, {\"product\": \"phone\", \"quantity\": 114}, {\"product\": \"blender\", \"quantity\": 14}, {\"product\": \"tv\", \"quantity\": 914}], \"inventory\": 464000}\n",
      "{\"store\": 15, \"products\": [{\"product\": \"phone\", \"quantity\": 515}, {\"product\": \"blender\", \"quantity\": 415}, {\"product\": \"tv\", \"quantity\": 315}, {\"product\": \"socks\", \"quantity\": 215}, {\"product\": \"broiler\", \"quantity\": 115}, {\"product\": \"shirt\", \"quantity\": 15}, {\"product\": \"toaster\", \"quantity\": 915}, {\"product\": \"phone\", \"quantity\": 815}, {\"product\": \"blender\", \"quantity\": 715}, {\"product\": \"tv\", \"quantity\": 615}], \"inventory\": 465000}\n",
      "{\"store\": 16, \"products\": [{\"product\": \"blender\", \"quantity\": 116}, {\"product\": \"tv\", \"quantity\": 16}, {\"product\": \"socks\", \"quantity\": 916}, {\"product\": \"broiler\", \"quantity\": 816}, {\"product\": \"shirt\", \"quantity\": 716}, {\"product\": \"toaster\", \"quantity\": 616}, {\"product\": \"phone\", \"quantity\": 516}, {\"product\": \"blender\", \"quantity\": 416}, {\"product\": \"tv\", \"quantity\": 316}, {\"product\": \"socks\", \"quantity\": 216}], \"inventory\": 466000}\n",
      "{\"store\": 17, \"products\": [{\"product\": \"blender\", \"quantity\": 817}, {\"product\": \"tv\", \"quantity\": 717}, {\"product\": \"socks\", \"quantity\": 617}, {\"product\": \"broiler\", \"quantity\": 517}, {\"product\": \"shirt\", \"quantity\": 417}, {\"product\": \"toaster\", \"quantity\": 317}, {\"product\": \"phone\", \"quantity\": 217}, {\"product\": \"blender\", \"quantity\": 117}, {\"product\": \"tv\", \"quantity\": 17}, {\"product\": \"socks\", \"quantity\": 917}], \"inventory\": 467000}\n",
      "{\"store\": 18, \"products\": [{\"product\": \"blender\", \"quantity\": 518}, {\"product\": \"tv\", \"quantity\": 418}, {\"product\": \"socks\", \"quantity\": 318}, {\"product\": \"broiler\", \"quantity\": 218}, {\"product\": \"shirt\", \"quantity\": 118}, {\"product\": \"toaster\", \"quantity\": 18}, {\"product\": \"phone\", \"quantity\": 918}, {\"product\": \"blender\", \"quantity\": 818}, {\"product\": \"tv\", \"quantity\": 718}, {\"product\": \"socks\", \"quantity\": 618}], \"inventory\": 468000}\n",
      "{\"store\": 19, \"products\": [{\"product\": \"blender\", \"quantity\": 219}, {\"product\": \"tv\", \"quantity\": 119}, {\"product\": \"socks\", \"quantity\": 19}, {\"product\": \"broiler\", \"quantity\": 919}, {\"product\": \"shirt\", \"quantity\": 819}, {\"product\": \"toaster\", \"quantity\": 719}, {\"product\": \"phone\", \"quantity\": 619}, {\"product\": \"blender\", \"quantity\": 519}, {\"product\": \"tv\", \"quantity\": 419}, {\"product\": \"socks\", \"quantity\": 319}], \"inventory\": 469000}\n",
      "{\"store\": 20, \"products\": [{\"product\": \"blender\", \"quantity\": 920}, {\"product\": \"tv\", \"quantity\": 820}, {\"product\": \"socks\", \"quantity\": 720}, {\"product\": \"broiler\", \"quantity\": 620}, {\"product\": \"shirt\", \"quantity\": 520}, {\"product\": \"toaster\", \"quantity\": 420}, {\"product\": \"phone\", \"quantity\": 320}, {\"product\": \"blender\", \"quantity\": 220}, {\"product\": \"tv\", \"quantity\": 120}, {\"product\": \"socks\", \"quantity\": 20}], \"inventory\": 470000}\n",
      "{\"store\": 21, \"products\": [{\"product\": \"tv\", \"quantity\": 521}, {\"product\": \"socks\", \"quantity\": 421}, {\"product\": \"broiler\", \"quantity\": 321}, {\"product\": \"shirt\", \"quantity\": 221}, {\"product\": \"toaster\", \"quantity\": 121}, {\"product\": \"phone\", \"quantity\": 21}, {\"product\": \"blender\", \"quantity\": 921}, {\"product\": \"tv\", \"quantity\": 821}, {\"product\": \"socks\", \"quantity\": 721}, {\"product\": \"broiler\", \"quantity\": 621}], \"inventory\": 471000}\n",
      "{\"store\": 22, \"products\": [{\"product\": \"tv\", \"quantity\": 222}, {\"product\": \"socks\", \"quantity\": 122}, {\"product\": \"broiler\", \"quantity\": 22}, {\"product\": \"shirt\", \"quantity\": 922}, {\"product\": \"toaster\", \"quantity\": 822}, {\"product\": \"phone\", \"quantity\": 722}, {\"product\": \"blender\", \"quantity\": 622}, {\"product\": \"tv\", \"quantity\": 522}, {\"product\": \"socks\", \"quantity\": 422}, {\"product\": \"broiler\", \"quantity\": 322}], \"inventory\": 472000}\n",
      "{\"store\": 23, \"products\": [{\"product\": \"tv\", \"quantity\": 923}, {\"product\": \"socks\", \"quantity\": 823}, {\"product\": \"broiler\", \"quantity\": 723}, {\"product\": \"shirt\", \"quantity\": 623}, {\"product\": \"toaster\", \"quantity\": 523}, {\"product\": \"phone\", \"quantity\": 423}, {\"product\": \"blender\", \"quantity\": 323}, {\"product\": \"tv\", \"quantity\": 223}, {\"product\": \"socks\", \"quantity\": 123}, {\"product\": \"broiler\", \"quantity\": 23}], \"inventory\": 473000}\n",
      "{\"store\": 24, \"products\": [{\"product\": \"tv\", \"quantity\": 624}, {\"product\": \"socks\", \"quantity\": 524}, {\"product\": \"broiler\", \"quantity\": 424}, {\"product\": \"shirt\", \"quantity\": 324}, {\"product\": \"toaster\", \"quantity\": 224}, {\"product\": \"phone\", \"quantity\": 124}, {\"product\": \"blender\", \"quantity\": 24}, {\"product\": \"tv\", \"quantity\": 924}, {\"product\": \"socks\", \"quantity\": 824}, {\"product\": \"broiler\", \"quantity\": 724}], \"inventory\": 474000}\n",
      "{\"store\": 25, \"products\": [{\"product\": \"socks\", \"quantity\": 225}, {\"product\": \"broiler\", \"quantity\": 125}, {\"product\": \"shirt\", \"quantity\": 25}, {\"product\": \"toaster\", \"quantity\": 925}, {\"product\": \"phone\", \"quantity\": 825}, {\"product\": \"blender\", \"quantity\": 725}, {\"product\": \"tv\", \"quantity\": 625}, {\"product\": \"socks\", \"quantity\": 525}, {\"product\": \"broiler\", \"quantity\": 425}, {\"product\": \"shirt\", \"quantity\": 325}], \"inventory\": 475000}\n",
      "{\"store\": 26, \"products\": [{\"product\": \"socks\", \"quantity\": 926}, {\"product\": \"broiler\", \"quantity\": 826}, {\"product\": \"shirt\", \"quantity\": 726}, {\"product\": \"toaster\", \"quantity\": 626}, {\"product\": \"phone\", \"quantity\": 526}, {\"product\": \"blender\", \"quantity\": 426}, {\"product\": \"tv\", \"quantity\": 326}, {\"product\": \"socks\", \"quantity\": 226}, {\"product\": \"broiler\", \"quantity\": 126}, {\"product\": \"shirt\", \"quantity\": 26}], \"inventory\": 476000}\n",
      "{\"store\": 27, \"products\": [{\"product\": \"socks\", \"quantity\": 627}, {\"product\": \"broiler\", \"quantity\": 527}, {\"product\": \"shirt\", \"quantity\": 427}, {\"product\": \"toaster\", \"quantity\": 327}, {\"product\": \"phone\", \"quantity\": 227}, {\"product\": \"blender\", \"quantity\": 127}, {\"product\": \"tv\", \"quantity\": 27}, {\"product\": \"socks\", \"quantity\": 927}, {\"product\": \"broiler\", \"quantity\": 827}, {\"product\": \"shirt\", \"quantity\": 727}], \"inventory\": 477000}\n",
      "{\"store\": 28, \"products\": [{\"product\": \"socks\", \"quantity\": 328}, {\"product\": \"broiler\", \"quantity\": 228}, {\"product\": \"shirt\", \"quantity\": 128}, {\"product\": \"toaster\", \"quantity\": 28}, {\"product\": \"phone\", \"quantity\": 928}, {\"product\": \"blender\", \"quantity\": 828}, {\"product\": \"tv\", \"quantity\": 728}, {\"product\": \"socks\", \"quantity\": 628}, {\"product\": \"broiler\", \"quantity\": 528}, {\"product\": \"shirt\", \"quantity\": 428}], \"inventory\": 478000}\n",
      "{\"store\": 29, \"products\": [{\"product\": \"socks\", \"quantity\": 29}, {\"product\": \"broiler\", \"quantity\": 929}, {\"product\": \"shirt\", \"quantity\": 829}, {\"product\": \"toaster\", \"quantity\": 729}, {\"product\": \"phone\", \"quantity\": 629}, {\"product\": \"blender\", \"quantity\": 529}, {\"product\": \"tv\", \"quantity\": 429}, {\"product\": \"socks\", \"quantity\": 329}, {\"product\": \"broiler\", \"quantity\": 229}, {\"product\": \"shirt\", \"quantity\": 129}], \"inventory\": 479000}\n",
      "{\"store\": 30, \"products\": [{\"product\": \"broiler\", \"quantity\": 630}, {\"product\": \"shirt\", \"quantity\": 530}, {\"product\": \"toaster\", \"quantity\": 430}, {\"product\": \"phone\", \"quantity\": 330}, {\"product\": \"blender\", \"quantity\": 230}, {\"product\": \"tv\", \"quantity\": 130}, {\"product\": \"socks\", \"quantity\": 30}, {\"product\": \"broiler\", \"quantity\": 930}, {\"product\": \"shirt\", \"quantity\": 830}, {\"product\": \"toaster\", \"quantity\": 730}], \"inventory\": 480000}\n",
      "{\"store\": 31, \"products\": [{\"product\": \"broiler\", \"quantity\": 331}, {\"product\": \"shirt\", \"quantity\": 231}, {\"product\": \"toaster\", \"quantity\": 131}, {\"product\": \"phone\", \"quantity\": 31}, {\"product\": \"blender\", \"quantity\": 931}, {\"product\": \"tv\", \"quantity\": 831}, {\"product\": \"socks\", \"quantity\": 731}, {\"product\": \"broiler\", \"quantity\": 631}, {\"product\": \"shirt\", \"quantity\": 531}, {\"product\": \"toaster\", \"quantity\": 431}], \"inventory\": 481000}\n",
      "{\"store\": 32, \"products\": [{\"product\": \"broiler\", \"quantity\": 32}, {\"product\": \"shirt\", \"quantity\": 932}, {\"product\": \"toaster\", \"quantity\": 832}, {\"product\": \"phone\", \"quantity\": 732}, {\"product\": \"blender\", \"quantity\": 632}, {\"product\": \"tv\", \"quantity\": 532}, {\"product\": \"socks\", \"quantity\": 432}, {\"product\": \"broiler\", \"quantity\": 332}, {\"product\": \"shirt\", \"quantity\": 232}, {\"product\": \"toaster\", \"quantity\": 132}], \"inventory\": 482000}\n",
      "{\"store\": 33, \"products\": [{\"product\": \"broiler\", \"quantity\": 733}, {\"product\": \"shirt\", \"quantity\": 633}, {\"product\": \"toaster\", \"quantity\": 533}, {\"product\": \"phone\", \"quantity\": 433}, {\"product\": \"blender\", \"quantity\": 333}, {\"product\": \"tv\", \"quantity\": 233}, {\"product\": \"socks\", \"quantity\": 133}, {\"product\": \"broiler\", \"quantity\": 33}, {\"product\": \"shirt\", \"quantity\": 933}, {\"product\": \"toaster\", \"quantity\": 833}], \"inventory\": 483000}\n",
      "{\"store\": 34, \"products\": [{\"product\": \"broiler\", \"quantity\": 434}, {\"product\": \"shirt\", \"quantity\": 334}, {\"product\": \"toaster\", \"quantity\": 234}, {\"product\": \"phone\", \"quantity\": 134}, {\"product\": \"blender\", \"quantity\": 34}, {\"product\": \"tv\", \"quantity\": 934}, {\"product\": \"socks\", \"quantity\": 834}, {\"product\": \"broiler\", \"quantity\": 734}, {\"product\": \"shirt\", \"quantity\": 634}, {\"product\": \"toaster\", \"quantity\": 534}], \"inventory\": 484000}\n",
      "{\"store\": 35, \"products\": [{\"product\": \"shirt\", \"quantity\": 35}, {\"product\": \"toaster\", \"quantity\": 935}, {\"product\": \"phone\", \"quantity\": 835}, {\"product\": \"blender\", \"quantity\": 735}, {\"product\": \"tv\", \"quantity\": 635}, {\"product\": \"socks\", \"quantity\": 535}, {\"product\": \"broiler\", \"quantity\": 435}, {\"product\": \"shirt\", \"quantity\": 335}, {\"product\": \"toaster\", \"quantity\": 235}, {\"product\": \"phone\", \"quantity\": 135}], \"inventory\": 485000}\n",
      "{\"store\": 36, \"products\": [{\"product\": \"shirt\", \"quantity\": 736}, {\"product\": \"toaster\", \"quantity\": 636}, {\"product\": \"phone\", \"quantity\": 536}, {\"product\": \"blender\", \"quantity\": 436}, {\"product\": \"tv\", \"quantity\": 336}, {\"product\": \"socks\", \"quantity\": 236}, {\"product\": \"broiler\", \"quantity\": 136}, {\"product\": \"shirt\", \"quantity\": 36}, {\"product\": \"toaster\", \"quantity\": 936}, {\"product\": \"phone\", \"quantity\": 836}], \"inventory\": 486000}\n",
      "{\"store\": 37, \"products\": [{\"product\": \"shirt\", \"quantity\": 437}, {\"product\": \"toaster\", \"quantity\": 337}, {\"product\": \"phone\", \"quantity\": 237}, {\"product\": \"blender\", \"quantity\": 137}, {\"product\": \"tv\", \"quantity\": 37}, {\"product\": \"socks\", \"quantity\": 937}, {\"product\": \"broiler\", \"quantity\": 837}, {\"product\": \"shirt\", \"quantity\": 737}, {\"product\": \"toaster\", \"quantity\": 637}, {\"product\": \"phone\", \"quantity\": 537}], \"inventory\": 487000}\n",
      "{\"store\": 38, \"products\": [{\"product\": \"shirt\", \"quantity\": 138}, {\"product\": \"toaster\", \"quantity\": 38}, {\"product\": \"phone\", \"quantity\": 938}, {\"product\": \"blender\", \"quantity\": 838}, {\"product\": \"tv\", \"quantity\": 738}, {\"product\": \"socks\", \"quantity\": 638}, {\"product\": \"broiler\", \"quantity\": 538}, {\"product\": \"shirt\", \"quantity\": 438}, {\"product\": \"toaster\", \"quantity\": 338}, {\"product\": \"phone\", \"quantity\": 238}], \"inventory\": 488000}\n",
      "{\"store\": 39, \"products\": [{\"product\": \"shirt\", \"quantity\": 839}, {\"product\": \"toaster\", \"quantity\": 739}, {\"product\": \"phone\", \"quantity\": 639}, {\"product\": \"blender\", \"quantity\": 539}, {\"product\": \"tv\", \"quantity\": 439}, {\"product\": \"socks\", \"quantity\": 339}, {\"product\": \"broiler\", \"quantity\": 239}, {\"product\": \"shirt\", \"quantity\": 139}, {\"product\": \"toaster\", \"quantity\": 39}, {\"product\": \"phone\", \"quantity\": 939}], \"inventory\": 489000}\n",
      "{\"store\": 40, \"products\": [{\"product\": \"toaster\", \"quantity\": 440}, {\"product\": \"phone\", \"quantity\": 340}, {\"product\": \"blender\", \"quantity\": 240}, {\"product\": \"tv\", \"quantity\": 140}, {\"product\": \"socks\", \"quantity\": 40}, {\"product\": \"broiler\", \"quantity\": 940}, {\"product\": \"shirt\", \"quantity\": 840}, {\"product\": \"toaster\", \"quantity\": 740}, {\"product\": \"phone\", \"quantity\": 640}, {\"product\": \"blender\", \"quantity\": 540}], \"inventory\": 490000}\n",
      "{\"store\": 41, \"products\": [{\"product\": \"toaster\", \"quantity\": 141}, {\"product\": \"phone\", \"quantity\": 41}, {\"product\": \"blender\", \"quantity\": 941}, {\"product\": \"tv\", \"quantity\": 841}, {\"product\": \"socks\", \"quantity\": 741}, {\"product\": \"broiler\", \"quantity\": 641}, {\"product\": \"shirt\", \"quantity\": 541}, {\"product\": \"toaster\", \"quantity\": 441}, {\"product\": \"phone\", \"quantity\": 341}, {\"product\": \"blender\", \"quantity\": 241}], \"inventory\": 491000}\n",
      "{\"store\": 42, \"products\": [{\"product\": \"toaster\", \"quantity\": 842}, {\"product\": \"phone\", \"quantity\": 742}, {\"product\": \"blender\", \"quantity\": 642}, {\"product\": \"tv\", \"quantity\": 542}, {\"product\": \"socks\", \"quantity\": 442}, {\"product\": \"broiler\", \"quantity\": 342}, {\"product\": \"shirt\", \"quantity\": 242}, {\"product\": \"toaster\", \"quantity\": 142}, {\"product\": \"phone\", \"quantity\": 42}, {\"product\": \"blender\", \"quantity\": 942}], \"inventory\": 492000}\n",
      "{\"store\": 43, \"products\": [{\"product\": \"toaster\", \"quantity\": 543}, {\"product\": \"phone\", \"quantity\": 443}, {\"product\": \"blender\", \"quantity\": 343}, {\"product\": \"tv\", \"quantity\": 243}, {\"product\": \"socks\", \"quantity\": 143}, {\"product\": \"broiler\", \"quantity\": 43}, {\"product\": \"shirt\", \"quantity\": 943}, {\"product\": \"toaster\", \"quantity\": 843}, {\"product\": \"phone\", \"quantity\": 743}, {\"product\": \"blender\", \"quantity\": 643}], \"inventory\": 493000}\n",
      "{\"store\": 44, \"products\": [{\"product\": \"phone\", \"quantity\": 144}, {\"product\": \"blender\", \"quantity\": 44}, {\"product\": \"tv\", \"quantity\": 944}, {\"product\": \"socks\", \"quantity\": 844}, {\"product\": \"broiler\", \"quantity\": 744}, {\"product\": \"shirt\", \"quantity\": 644}, {\"product\": \"toaster\", \"quantity\": 544}, {\"product\": \"phone\", \"quantity\": 444}, {\"product\": \"blender\", \"quantity\": 344}, {\"product\": \"tv\", \"quantity\": 244}], \"inventory\": 494000}\n",
      "{\"store\": 45, \"products\": [{\"product\": \"phone\", \"quantity\": 845}, {\"product\": \"blender\", \"quantity\": 745}, {\"product\": \"tv\", \"quantity\": 645}, {\"product\": \"socks\", \"quantity\": 545}, {\"product\": \"broiler\", \"quantity\": 445}, {\"product\": \"shirt\", \"quantity\": 345}, {\"product\": \"toaster\", \"quantity\": 245}, {\"product\": \"phone\", \"quantity\": 145}, {\"product\": \"blender\", \"quantity\": 45}, {\"product\": \"tv\", \"quantity\": 945}], \"inventory\": 495000}\n",
      "{\"store\": 46, \"products\": [{\"product\": \"phone\", \"quantity\": 546}, {\"product\": \"blender\", \"quantity\": 446}, {\"product\": \"tv\", \"quantity\": 346}, {\"product\": \"socks\", \"quantity\": 246}, {\"product\": \"broiler\", \"quantity\": 146}, {\"product\": \"shirt\", \"quantity\": 46}, {\"product\": \"toaster\", \"quantity\": 946}, {\"product\": \"phone\", \"quantity\": 846}, {\"product\": \"blender\", \"quantity\": 746}, {\"product\": \"tv\", \"quantity\": 646}], \"inventory\": 496000}\n",
      "{\"store\": 47, \"products\": [{\"product\": \"phone\", \"quantity\": 247}, {\"product\": \"blender\", \"quantity\": 147}, {\"product\": \"tv\", \"quantity\": 47}, {\"product\": \"socks\", \"quantity\": 947}, {\"product\": \"broiler\", \"quantity\": 847}, {\"product\": \"shirt\", \"quantity\": 747}, {\"product\": \"toaster\", \"quantity\": 647}, {\"product\": \"phone\", \"quantity\": 547}, {\"product\": \"blender\", \"quantity\": 447}, {\"product\": \"tv\", \"quantity\": 347}], \"inventory\": 497000}\n",
      "{\"store\": 48, \"products\": [{\"product\": \"phone\", \"quantity\": 948}, {\"product\": \"blender\", \"quantity\": 848}, {\"product\": \"tv\", \"quantity\": 748}, {\"product\": \"socks\", \"quantity\": 648}, {\"product\": \"broiler\", \"quantity\": 548}, {\"product\": \"shirt\", \"quantity\": 448}, {\"product\": \"toaster\", \"quantity\": 348}, {\"product\": \"phone\", \"quantity\": 248}, {\"product\": \"blender\", \"quantity\": 148}, {\"product\": \"tv\", \"quantity\": 48}], \"inventory\": 498000}\n",
      "{\"store\": 49, \"products\": [{\"product\": \"blender\", \"quantity\": 549}, {\"product\": \"tv\", \"quantity\": 449}, {\"product\": \"socks\", \"quantity\": 349}, {\"product\": \"broiler\", \"quantity\": 249}, {\"product\": \"shirt\", \"quantity\": 149}, {\"product\": \"toaster\", \"quantity\": 49}, {\"product\": \"phone\", \"quantity\": 949}, {\"product\": \"blender\", \"quantity\": 849}, {\"product\": \"tv\", \"quantity\": 749}, {\"product\": \"socks\", \"quantity\": 649}], \"inventory\": 499000}\n",
      "{\"store\": 50, \"products\": [{\"product\": \"blender\", \"quantity\": 250}, {\"product\": \"tv\", \"quantity\": 150}, {\"product\": \"socks\", \"quantity\": 50}, {\"product\": \"broiler\", \"quantity\": 950}, {\"product\": \"shirt\", \"quantity\": 850}, {\"product\": \"toaster\", \"quantity\": 750}, {\"product\": \"phone\", \"quantity\": 650}, {\"product\": \"blender\", \"quantity\": 550}, {\"product\": \"tv\", \"quantity\": 450}, {\"product\": \"socks\", \"quantity\": 350}], \"inventory\": 500000}\n",
      "{\"store\": 51, \"products\": [{\"product\": \"blender\", \"quantity\": 951}, {\"product\": \"tv\", \"quantity\": 851}, {\"product\": \"socks\", \"quantity\": 751}, {\"product\": \"broiler\", \"quantity\": 651}, {\"product\": \"shirt\", \"quantity\": 551}, {\"product\": \"toaster\", \"quantity\": 451}, {\"product\": \"phone\", \"quantity\": 351}, {\"product\": \"blender\", \"quantity\": 251}, {\"product\": \"tv\", \"quantity\": 151}, {\"product\": \"socks\", \"quantity\": 51}], \"inventory\": 501000}\n",
      "{\"store\": 52, \"products\": [{\"product\": \"blender\", \"quantity\": 652}, {\"product\": \"tv\", \"quantity\": 552}, {\"product\": \"socks\", \"quantity\": 452}, {\"product\": \"broiler\", \"quantity\": 352}, {\"product\": \"shirt\", \"quantity\": 252}, {\"product\": \"toaster\", \"quantity\": 152}, {\"product\": \"phone\", \"quantity\": 52}, {\"product\": \"blender\", \"quantity\": 952}, {\"product\": \"tv\", \"quantity\": 852}, {\"product\": \"socks\", \"quantity\": 752}], \"inventory\": 502000}\n",
      "{\"store\": 53, \"products\": [{\"product\": \"blender\", \"quantity\": 353}, {\"product\": \"tv\", \"quantity\": 253}, {\"product\": \"socks\", \"quantity\": 153}, {\"product\": \"broiler\", \"quantity\": 53}, {\"product\": \"shirt\", \"quantity\": 953}, {\"product\": \"toaster\", \"quantity\": 853}, {\"product\": \"phone\", \"quantity\": 753}, {\"product\": \"blender\", \"quantity\": 653}, {\"product\": \"tv\", \"quantity\": 553}, {\"product\": \"socks\", \"quantity\": 453}], \"inventory\": 503000}\n",
      "{\"store\": 54, \"products\": [{\"product\": \"tv\", \"quantity\": 954}, {\"product\": \"socks\", \"quantity\": 854}, {\"product\": \"broiler\", \"quantity\": 754}, {\"product\": \"shirt\", \"quantity\": 654}, {\"product\": \"toaster\", \"quantity\": 554}, {\"product\": \"phone\", \"quantity\": 454}, {\"product\": \"blender\", \"quantity\": 354}, {\"product\": \"tv\", \"quantity\": 254}, {\"product\": \"socks\", \"quantity\": 154}, {\"product\": \"broiler\", \"quantity\": 54}], \"inventory\": 504000}\n",
      "{\"store\": 55, \"products\": [{\"product\": \"tv\", \"quantity\": 655}, {\"product\": \"socks\", \"quantity\": 555}, {\"product\": \"broiler\", \"quantity\": 455}, {\"product\": \"shirt\", \"quantity\": 355}, {\"product\": \"toaster\", \"quantity\": 255}, {\"product\": \"phone\", \"quantity\": 155}, {\"product\": \"blender\", \"quantity\": 55}, {\"product\": \"tv\", \"quantity\": 955}, {\"product\": \"socks\", \"quantity\": 855}, {\"product\": \"broiler\", \"quantity\": 755}], \"inventory\": 505000}\n",
      "{\"store\": 56, \"products\": [{\"product\": \"tv\", \"quantity\": 356}, {\"product\": \"socks\", \"quantity\": 256}, {\"product\": \"broiler\", \"quantity\": 156}, {\"product\": \"shirt\", \"quantity\": 56}, {\"product\": \"toaster\", \"quantity\": 956}, {\"product\": \"phone\", \"quantity\": 856}, {\"product\": \"blender\", \"quantity\": 756}, {\"product\": \"tv\", \"quantity\": 656}, {\"product\": \"socks\", \"quantity\": 556}, {\"product\": \"broiler\", \"quantity\": 456}], \"inventory\": 506000}\n",
      "{\"store\": 57, \"products\": [{\"product\": \"tv\", \"quantity\": 57}, {\"product\": \"socks\", \"quantity\": 957}, {\"product\": \"broiler\", \"quantity\": 857}, {\"product\": \"shirt\", \"quantity\": 757}, {\"product\": \"toaster\", \"quantity\": 657}, {\"product\": \"phone\", \"quantity\": 557}, {\"product\": \"blender\", \"quantity\": 457}, {\"product\": \"tv\", \"quantity\": 357}, {\"product\": \"socks\", \"quantity\": 257}, {\"product\": \"broiler\", \"quantity\": 157}], \"inventory\": 507000}\n",
      "{\"store\": 58, \"products\": [{\"product\": \"tv\", \"quantity\": 758}, {\"product\": \"socks\", \"quantity\": 658}, {\"product\": \"broiler\", \"quantity\": 558}, {\"product\": \"shirt\", \"quantity\": 458}, {\"product\": \"toaster\", \"quantity\": 358}, {\"product\": \"phone\", \"quantity\": 258}, {\"product\": \"blender\", \"quantity\": 158}, {\"product\": \"tv\", \"quantity\": 58}, {\"product\": \"socks\", \"quantity\": 958}, {\"product\": \"broiler\", \"quantity\": 858}], \"inventory\": 508000}\n",
      "{\"store\": 59, \"products\": [{\"product\": \"socks\", \"quantity\": 359}, {\"product\": \"broiler\", \"quantity\": 259}, {\"product\": \"shirt\", \"quantity\": 159}, {\"product\": \"toaster\", \"quantity\": 59}, {\"product\": \"phone\", \"quantity\": 959}, {\"product\": \"blender\", \"quantity\": 859}, {\"product\": \"tv\", \"quantity\": 759}, {\"product\": \"socks\", \"quantity\": 659}, {\"product\": \"broiler\", \"quantity\": 559}, {\"product\": \"shirt\", \"quantity\": 459}], \"inventory\": 509000}\n",
      "{\"store\": 60, \"products\": [{\"product\": \"socks\", \"quantity\": 60}, {\"product\": \"broiler\", \"quantity\": 960}, {\"product\": \"shirt\", \"quantity\": 860}, {\"product\": \"toaster\", \"quantity\": 760}, {\"product\": \"phone\", \"quantity\": 660}, {\"product\": \"blender\", \"quantity\": 560}, {\"product\": \"tv\", \"quantity\": 460}, {\"product\": \"socks\", \"quantity\": 360}, {\"product\": \"broiler\", \"quantity\": 260}, {\"product\": \"shirt\", \"quantity\": 160}], \"inventory\": 510000}\n",
      "{\"store\": 61, \"products\": [{\"product\": \"socks\", \"quantity\": 761}, {\"product\": \"broiler\", \"quantity\": 661}, {\"product\": \"shirt\", \"quantity\": 561}, {\"product\": \"toaster\", \"quantity\": 461}, {\"product\": \"phone\", \"quantity\": 361}, {\"product\": \"blender\", \"quantity\": 261}, {\"product\": \"tv\", \"quantity\": 161}, {\"product\": \"socks\", \"quantity\": 61}, {\"product\": \"broiler\", \"quantity\": 961}, {\"product\": \"shirt\", \"quantity\": 861}], \"inventory\": 511000}\n",
      "{\"store\": 62, \"products\": [{\"product\": \"socks\", \"quantity\": 462}, {\"product\": \"broiler\", \"quantity\": 362}, {\"product\": \"shirt\", \"quantity\": 262}, {\"product\": \"toaster\", \"quantity\": 162}, {\"product\": \"phone\", \"quantity\": 62}, {\"product\": \"blender\", \"quantity\": 962}, {\"product\": \"tv\", \"quantity\": 862}, {\"product\": \"socks\", \"quantity\": 762}, {\"product\": \"broiler\", \"quantity\": 662}, {\"product\": \"shirt\", \"quantity\": 562}], \"inventory\": 512000}\n",
      "{\"store\": 63, \"products\": [{\"product\": \"broiler\", \"quantity\": 63}, {\"product\": \"shirt\", \"quantity\": 963}, {\"product\": \"toaster\", \"quantity\": 863}, {\"product\": \"phone\", \"quantity\": 763}, {\"product\": \"blender\", \"quantity\": 663}, {\"product\": \"tv\", \"quantity\": 563}, {\"product\": \"socks\", \"quantity\": 463}, {\"product\": \"broiler\", \"quantity\": 363}, {\"product\": \"shirt\", \"quantity\": 263}, {\"product\": \"toaster\", \"quantity\": 163}], \"inventory\": 513000}\n",
      "{\"store\": 64, \"products\": [{\"product\": \"broiler\", \"quantity\": 764}, {\"product\": \"shirt\", \"quantity\": 664}, {\"product\": \"toaster\", \"quantity\": 564}, {\"product\": \"phone\", \"quantity\": 464}, {\"product\": \"blender\", \"quantity\": 364}, {\"product\": \"tv\", \"quantity\": 264}, {\"product\": \"socks\", \"quantity\": 164}, {\"product\": \"broiler\", \"quantity\": 64}, {\"product\": \"shirt\", \"quantity\": 964}, {\"product\": \"toaster\", \"quantity\": 864}], \"inventory\": 514000}\n",
      "{\"store\": 65, \"products\": [{\"product\": \"broiler\", \"quantity\": 465}, {\"product\": \"shirt\", \"quantity\": 365}, {\"product\": \"toaster\", \"quantity\": 265}, {\"product\": \"phone\", \"quantity\": 165}, {\"product\": \"blender\", \"quantity\": 65}, {\"product\": \"tv\", \"quantity\": 965}, {\"product\": \"socks\", \"quantity\": 865}, {\"product\": \"broiler\", \"quantity\": 765}, {\"product\": \"shirt\", \"quantity\": 665}, {\"product\": \"toaster\", \"quantity\": 565}], \"inventory\": 515000}\n",
      "{\"store\": 66, \"products\": [{\"product\": \"broiler\", \"quantity\": 166}, {\"product\": \"shirt\", \"quantity\": 66}, {\"product\": \"toaster\", \"quantity\": 966}, {\"product\": \"phone\", \"quantity\": 866}, {\"product\": \"blender\", \"quantity\": 766}, {\"product\": \"tv\", \"quantity\": 666}, {\"product\": \"socks\", \"quantity\": 566}, {\"product\": \"broiler\", \"quantity\": 466}, {\"product\": \"shirt\", \"quantity\": 366}, {\"product\": \"toaster\", \"quantity\": 266}], \"inventory\": 516000}\n",
      "{\"store\": 67, \"products\": [{\"product\": \"broiler\", \"quantity\": 867}, {\"product\": \"shirt\", \"quantity\": 767}, {\"product\": \"toaster\", \"quantity\": 667}, {\"product\": \"phone\", \"quantity\": 567}, {\"product\": \"blender\", \"quantity\": 467}, {\"product\": \"tv\", \"quantity\": 367}, {\"product\": \"socks\", \"quantity\": 267}, {\"product\": \"broiler\", \"quantity\": 167}, {\"product\": \"shirt\", \"quantity\": 67}, {\"product\": \"toaster\", \"quantity\": 967}], \"inventory\": 517000}\n",
      "{\"store\": 68, \"products\": [{\"product\": \"shirt\", \"quantity\": 468}, {\"product\": \"toaster\", \"quantity\": 368}, {\"product\": \"phone\", \"quantity\": 268}, {\"product\": \"blender\", \"quantity\": 168}, {\"product\": \"tv\", \"quantity\": 68}, {\"product\": \"socks\", \"quantity\": 968}, {\"product\": \"broiler\", \"quantity\": 868}, {\"product\": \"shirt\", \"quantity\": 768}, {\"product\": \"toaster\", \"quantity\": 668}, {\"product\": \"phone\", \"quantity\": 568}], \"inventory\": 518000}\n",
      "{\"store\": 69, \"products\": [{\"product\": \"shirt\", \"quantity\": 169}, {\"product\": \"toaster\", \"quantity\": 69}, {\"product\": \"phone\", \"quantity\": 969}, {\"product\": \"blender\", \"quantity\": 869}, {\"product\": \"tv\", \"quantity\": 769}, {\"product\": \"socks\", \"quantity\": 669}, {\"product\": \"broiler\", \"quantity\": 569}, {\"product\": \"shirt\", \"quantity\": 469}, {\"product\": \"toaster\", \"quantity\": 369}, {\"product\": \"phone\", \"quantity\": 269}], \"inventory\": 519000}\n",
      "{\"store\": 70, \"products\": [{\"product\": \"shirt\", \"quantity\": 870}, {\"product\": \"toaster\", \"quantity\": 770}, {\"product\": \"phone\", \"quantity\": 670}, {\"product\": \"blender\", \"quantity\": 570}, {\"product\": \"tv\", \"quantity\": 470}, {\"product\": \"socks\", \"quantity\": 370}, {\"product\": \"broiler\", \"quantity\": 270}, {\"product\": \"shirt\", \"quantity\": 170}, {\"product\": \"toaster\", \"quantity\": 70}, {\"product\": \"phone\", \"quantity\": 970}], \"inventory\": 520000}\n",
      "{\"store\": 71, \"products\": [{\"product\": \"shirt\", \"quantity\": 571}, {\"product\": \"toaster\", \"quantity\": 471}, {\"product\": \"phone\", \"quantity\": 371}, {\"product\": \"blender\", \"quantity\": 271}, {\"product\": \"tv\", \"quantity\": 171}, {\"product\": \"socks\", \"quantity\": 71}, {\"product\": \"broiler\", \"quantity\": 971}, {\"product\": \"shirt\", \"quantity\": 871}, {\"product\": \"toaster\", \"quantity\": 771}, {\"product\": \"phone\", \"quantity\": 671}], \"inventory\": 521000}\n",
      "{\"store\": 72, \"products\": [{\"product\": \"shirt\", \"quantity\": 272}, {\"product\": \"toaster\", \"quantity\": 172}, {\"product\": \"phone\", \"quantity\": 72}, {\"product\": \"blender\", \"quantity\": 972}, {\"product\": \"tv\", \"quantity\": 872}, {\"product\": \"socks\", \"quantity\": 772}, {\"product\": \"broiler\", \"quantity\": 672}, {\"product\": \"shirt\", \"quantity\": 572}, {\"product\": \"toaster\", \"quantity\": 472}, {\"product\": \"phone\", \"quantity\": 372}], \"inventory\": 522000}\n",
      "{\"store\": 73, \"products\": [{\"product\": \"toaster\", \"quantity\": 873}, {\"product\": \"phone\", \"quantity\": 773}, {\"product\": \"blender\", \"quantity\": 673}, {\"product\": \"tv\", \"quantity\": 573}, {\"product\": \"socks\", \"quantity\": 473}, {\"product\": \"broiler\", \"quantity\": 373}, {\"product\": \"shirt\", \"quantity\": 273}, {\"product\": \"toaster\", \"quantity\": 173}, {\"product\": \"phone\", \"quantity\": 73}, {\"product\": \"blender\", \"quantity\": 973}], \"inventory\": 523000}\n",
      "{\"store\": 74, \"products\": [{\"product\": \"toaster\", \"quantity\": 574}, {\"product\": \"phone\", \"quantity\": 474}, {\"product\": \"blender\", \"quantity\": 374}, {\"product\": \"tv\", \"quantity\": 274}, {\"product\": \"socks\", \"quantity\": 174}, {\"product\": \"broiler\", \"quantity\": 74}, {\"product\": \"shirt\", \"quantity\": 974}, {\"product\": \"toaster\", \"quantity\": 874}, {\"product\": \"phone\", \"quantity\": 774}, {\"product\": \"blender\", \"quantity\": 674}], \"inventory\": 524000}\n",
      "{\"store\": 75, \"products\": [{\"product\": \"toaster\", \"quantity\": 275}, {\"product\": \"phone\", \"quantity\": 175}, {\"product\": \"blender\", \"quantity\": 75}, {\"product\": \"tv\", \"quantity\": 975}, {\"product\": \"socks\", \"quantity\": 875}, {\"product\": \"broiler\", \"quantity\": 775}, {\"product\": \"shirt\", \"quantity\": 675}, {\"product\": \"toaster\", \"quantity\": 575}, {\"product\": \"phone\", \"quantity\": 475}, {\"product\": \"blender\", \"quantity\": 375}], \"inventory\": 525000}\n",
      "{\"store\": 76, \"products\": [{\"product\": \"toaster\", \"quantity\": 976}, {\"product\": \"phone\", \"quantity\": 876}, {\"product\": \"blender\", \"quantity\": 776}, {\"product\": \"tv\", \"quantity\": 676}, {\"product\": \"socks\", \"quantity\": 576}, {\"product\": \"broiler\", \"quantity\": 476}, {\"product\": \"shirt\", \"quantity\": 376}, {\"product\": \"toaster\", \"quantity\": 276}, {\"product\": \"phone\", \"quantity\": 176}, {\"product\": \"blender\", \"quantity\": 76}], \"inventory\": 526000}\n",
      "{\"store\": 77, \"products\": [{\"product\": \"toaster\", \"quantity\": 677}, {\"product\": \"phone\", \"quantity\": 577}, {\"product\": \"blender\", \"quantity\": 477}, {\"product\": \"tv\", \"quantity\": 377}, {\"product\": \"socks\", \"quantity\": 277}, {\"product\": \"broiler\", \"quantity\": 177}, {\"product\": \"shirt\", \"quantity\": 77}, {\"product\": \"toaster\", \"quantity\": 977}, {\"product\": \"phone\", \"quantity\": 877}, {\"product\": \"blender\", \"quantity\": 777}], \"inventory\": 527000}\n",
      "{\"store\": 78, \"products\": [{\"product\": \"phone\", \"quantity\": 278}, {\"product\": \"blender\", \"quantity\": 178}, {\"product\": \"tv\", \"quantity\": 78}, {\"product\": \"socks\", \"quantity\": 978}, {\"product\": \"broiler\", \"quantity\": 878}, {\"product\": \"shirt\", \"quantity\": 778}, {\"product\": \"toaster\", \"quantity\": 678}, {\"product\": \"phone\", \"quantity\": 578}, {\"product\": \"blender\", \"quantity\": 478}, {\"product\": \"tv\", \"quantity\": 378}], \"inventory\": 528000}\n",
      "{\"store\": 79, \"products\": [{\"product\": \"phone\", \"quantity\": 979}, {\"product\": \"blender\", \"quantity\": 879}, {\"product\": \"tv\", \"quantity\": 779}, {\"product\": \"socks\", \"quantity\": 679}, {\"product\": \"broiler\", \"quantity\": 579}, {\"product\": \"shirt\", \"quantity\": 479}, {\"product\": \"toaster\", \"quantity\": 379}, {\"product\": \"phone\", \"quantity\": 279}, {\"product\": \"blender\", \"quantity\": 179}, {\"product\": \"tv\", \"quantity\": 79}], \"inventory\": 529000}\n",
      "{\"store\": 80, \"products\": [{\"product\": \"phone\", \"quantity\": 680}, {\"product\": \"blender\", \"quantity\": 580}, {\"product\": \"tv\", \"quantity\": 480}, {\"product\": \"socks\", \"quantity\": 380}, {\"product\": \"broiler\", \"quantity\": 280}, {\"product\": \"shirt\", \"quantity\": 180}, {\"product\": \"toaster\", \"quantity\": 80}, {\"product\": \"phone\", \"quantity\": 980}, {\"product\": \"blender\", \"quantity\": 880}, {\"product\": \"tv\", \"quantity\": 780}], \"inventory\": 530000}\n",
      "{\"store\": 81, \"products\": [{\"product\": \"phone\", \"quantity\": 381}, {\"product\": \"blender\", \"quantity\": 281}, {\"product\": \"tv\", \"quantity\": 181}, {\"product\": \"socks\", \"quantity\": 81}, {\"product\": \"broiler\", \"quantity\": 981}, {\"product\": \"shirt\", \"quantity\": 881}, {\"product\": \"toaster\", \"quantity\": 781}, {\"product\": \"phone\", \"quantity\": 681}, {\"product\": \"blender\", \"quantity\": 581}, {\"product\": \"tv\", \"quantity\": 481}], \"inventory\": 531000}\n",
      "{\"store\": 82, \"products\": [{\"product\": \"blender\", \"quantity\": 982}, {\"product\": \"tv\", \"quantity\": 882}, {\"product\": \"socks\", \"quantity\": 782}, {\"product\": \"broiler\", \"quantity\": 682}, {\"product\": \"shirt\", \"quantity\": 582}, {\"product\": \"toaster\", \"quantity\": 482}, {\"product\": \"phone\", \"quantity\": 382}, {\"product\": \"blender\", \"quantity\": 282}, {\"product\": \"tv\", \"quantity\": 182}, {\"product\": \"socks\", \"quantity\": 82}], \"inventory\": 532000}\n",
      "{\"store\": 83, \"products\": [{\"product\": \"blender\", \"quantity\": 683}, {\"product\": \"tv\", \"quantity\": 583}, {\"product\": \"socks\", \"quantity\": 483}, {\"product\": \"broiler\", \"quantity\": 383}, {\"product\": \"shirt\", \"quantity\": 283}, {\"product\": \"toaster\", \"quantity\": 183}, {\"product\": \"phone\", \"quantity\": 83}, {\"product\": \"blender\", \"quantity\": 983}, {\"product\": \"tv\", \"quantity\": 883}, {\"product\": \"socks\", \"quantity\": 783}], \"inventory\": 533000}\n",
      "{\"store\": 84, \"products\": [{\"product\": \"blender\", \"quantity\": 384}, {\"product\": \"tv\", \"quantity\": 284}, {\"product\": \"socks\", \"quantity\": 184}, {\"product\": \"broiler\", \"quantity\": 84}, {\"product\": \"shirt\", \"quantity\": 984}, {\"product\": \"toaster\", \"quantity\": 884}, {\"product\": \"phone\", \"quantity\": 784}, {\"product\": \"blender\", \"quantity\": 684}, {\"product\": \"tv\", \"quantity\": 584}, {\"product\": \"socks\", \"quantity\": 484}], \"inventory\": 534000}\n",
      "{\"store\": 85, \"products\": [{\"product\": \"blender\", \"quantity\": 85}, {\"product\": \"tv\", \"quantity\": 985}, {\"product\": \"socks\", \"quantity\": 885}, {\"product\": \"broiler\", \"quantity\": 785}, {\"product\": \"shirt\", \"quantity\": 685}, {\"product\": \"toaster\", \"quantity\": 585}, {\"product\": \"phone\", \"quantity\": 485}, {\"product\": \"blender\", \"quantity\": 385}, {\"product\": \"tv\", \"quantity\": 285}, {\"product\": \"socks\", \"quantity\": 185}], \"inventory\": 535000}\n",
      "{\"store\": 86, \"products\": [{\"product\": \"blender\", \"quantity\": 786}, {\"product\": \"tv\", \"quantity\": 686}, {\"product\": \"socks\", \"quantity\": 586}, {\"product\": \"broiler\", \"quantity\": 486}, {\"product\": \"shirt\", \"quantity\": 386}, {\"product\": \"toaster\", \"quantity\": 286}, {\"product\": \"phone\", \"quantity\": 186}, {\"product\": \"blender\", \"quantity\": 86}, {\"product\": \"tv\", \"quantity\": 986}, {\"product\": \"socks\", \"quantity\": 886}], \"inventory\": 536000}\n",
      "{\"store\": 87, \"products\": [{\"product\": \"tv\", \"quantity\": 387}, {\"product\": \"socks\", \"quantity\": 287}, {\"product\": \"broiler\", \"quantity\": 187}, {\"product\": \"shirt\", \"quantity\": 87}, {\"product\": \"toaster\", \"quantity\": 987}, {\"product\": \"phone\", \"quantity\": 887}, {\"product\": \"blender\", \"quantity\": 787}, {\"product\": \"tv\", \"quantity\": 687}, {\"product\": \"socks\", \"quantity\": 587}, {\"product\": \"broiler\", \"quantity\": 487}], \"inventory\": 537000}\n",
      "{\"store\": 88, \"products\": [{\"product\": \"tv\", \"quantity\": 88}, {\"product\": \"socks\", \"quantity\": 988}, {\"product\": \"broiler\", \"quantity\": 888}, {\"product\": \"shirt\", \"quantity\": 788}, {\"product\": \"toaster\", \"quantity\": 688}, {\"product\": \"phone\", \"quantity\": 588}, {\"product\": \"blender\", \"quantity\": 488}, {\"product\": \"tv\", \"quantity\": 388}, {\"product\": \"socks\", \"quantity\": 288}, {\"product\": \"broiler\", \"quantity\": 188}], \"inventory\": 538000}\n",
      "{\"store\": 89, \"products\": [{\"product\": \"tv\", \"quantity\": 789}, {\"product\": \"socks\", \"quantity\": 689}, {\"product\": \"broiler\", \"quantity\": 589}, {\"product\": \"shirt\", \"quantity\": 489}, {\"product\": \"toaster\", \"quantity\": 389}, {\"product\": \"phone\", \"quantity\": 289}, {\"product\": \"blender\", \"quantity\": 189}, {\"product\": \"tv\", \"quantity\": 89}, {\"product\": \"socks\", \"quantity\": 989}, {\"product\": \"broiler\", \"quantity\": 889}], \"inventory\": 539000}\n",
      "{\"store\": 90, \"products\": [{\"product\": \"tv\", \"quantity\": 490}, {\"product\": \"socks\", \"quantity\": 390}, {\"product\": \"broiler\", \"quantity\": 290}, {\"product\": \"shirt\", \"quantity\": 190}, {\"product\": \"toaster\", \"quantity\": 90}, {\"product\": \"phone\", \"quantity\": 990}, {\"product\": \"blender\", \"quantity\": 890}, {\"product\": \"tv\", \"quantity\": 790}, {\"product\": \"socks\", \"quantity\": 690}, {\"product\": \"broiler\", \"quantity\": 590}], \"inventory\": 540000}\n",
      "{\"store\": 91, \"products\": [{\"product\": \"tv\", \"quantity\": 191}, {\"product\": \"socks\", \"quantity\": 91}, {\"product\": \"broiler\", \"quantity\": 991}, {\"product\": \"shirt\", \"quantity\": 891}, {\"product\": \"toaster\", \"quantity\": 791}, {\"product\": \"phone\", \"quantity\": 691}, {\"product\": \"blender\", \"quantity\": 591}, {\"product\": \"tv\", \"quantity\": 491}, {\"product\": \"socks\", \"quantity\": 391}, {\"product\": \"broiler\", \"quantity\": 291}], \"inventory\": 541000}\n",
      "{\"store\": 92, \"products\": [{\"product\": \"socks\", \"quantity\": 792}, {\"product\": \"broiler\", \"quantity\": 692}, {\"product\": \"shirt\", \"quantity\": 592}, {\"product\": \"toaster\", \"quantity\": 492}, {\"product\": \"phone\", \"quantity\": 392}, {\"product\": \"blender\", \"quantity\": 292}, {\"product\": \"tv\", \"quantity\": 192}, {\"product\": \"socks\", \"quantity\": 92}, {\"product\": \"broiler\", \"quantity\": 992}, {\"product\": \"shirt\", \"quantity\": 892}], \"inventory\": 542000}\n",
      "{\"store\": 93, \"products\": [{\"product\": \"socks\", \"quantity\": 493}, {\"product\": \"broiler\", \"quantity\": 393}, {\"product\": \"shirt\", \"quantity\": 293}, {\"product\": \"toaster\", \"quantity\": 193}, {\"product\": \"phone\", \"quantity\": 93}, {\"product\": \"blender\", \"quantity\": 993}, {\"product\": \"tv\", \"quantity\": 893}, {\"product\": \"socks\", \"quantity\": 793}, {\"product\": \"broiler\", \"quantity\": 693}, {\"product\": \"shirt\", \"quantity\": 593}], \"inventory\": 543000}\n",
      "{\"store\": 94, \"products\": [{\"product\": \"socks\", \"quantity\": 194}, {\"product\": \"broiler\", \"quantity\": 94}, {\"product\": \"shirt\", \"quantity\": 994}, {\"product\": \"toaster\", \"quantity\": 894}, {\"product\": \"phone\", \"quantity\": 794}, {\"product\": \"blender\", \"quantity\": 694}, {\"product\": \"tv\", \"quantity\": 594}, {\"product\": \"socks\", \"quantity\": 494}, {\"product\": \"broiler\", \"quantity\": 394}, {\"product\": \"shirt\", \"quantity\": 294}], \"inventory\": 544000}\n",
      "{\"store\": 95, \"products\": [{\"product\": \"socks\", \"quantity\": 895}, {\"product\": \"broiler\", \"quantity\": 795}, {\"product\": \"shirt\", \"quantity\": 695}, {\"product\": \"toaster\", \"quantity\": 595}, {\"product\": \"phone\", \"quantity\": 495}, {\"product\": \"blender\", \"quantity\": 395}, {\"product\": \"tv\", \"quantity\": 295}, {\"product\": \"socks\", \"quantity\": 195}, {\"product\": \"broiler\", \"quantity\": 95}, {\"product\": \"shirt\", \"quantity\": 995}], \"inventory\": 545000}\n",
      "{\"store\": 96, \"products\": [{\"product\": \"socks\", \"quantity\": 596}, {\"product\": \"broiler\", \"quantity\": 496}, {\"product\": \"shirt\", \"quantity\": 396}, {\"product\": \"toaster\", \"quantity\": 296}, {\"product\": \"phone\", \"quantity\": 196}, {\"product\": \"blender\", \"quantity\": 96}, {\"product\": \"tv\", \"quantity\": 996}, {\"product\": \"socks\", \"quantity\": 896}, {\"product\": \"broiler\", \"quantity\": 796}, {\"product\": \"shirt\", \"quantity\": 696}], \"inventory\": 546000}\n",
      "{\"store\": 97, \"products\": [{\"product\": \"broiler\", \"quantity\": 197}, {\"product\": \"shirt\", \"quantity\": 97}, {\"product\": \"toaster\", \"quantity\": 997}, {\"product\": \"phone\", \"quantity\": 897}, {\"product\": \"blender\", \"quantity\": 797}, {\"product\": \"tv\", \"quantity\": 697}, {\"product\": \"socks\", \"quantity\": 597}, {\"product\": \"broiler\", \"quantity\": 497}, {\"product\": \"shirt\", \"quantity\": 397}, {\"product\": \"toaster\", \"quantity\": 297}], \"inventory\": 547000}\n",
      "{\"store\": 98, \"products\": [{\"product\": \"broiler\", \"quantity\": 898}, {\"product\": \"shirt\", \"quantity\": 798}, {\"product\": \"toaster\", \"quantity\": 698}, {\"product\": \"phone\", \"quantity\": 598}, {\"product\": \"blender\", \"quantity\": 498}, {\"product\": \"tv\", \"quantity\": 398}, {\"product\": \"socks\", \"quantity\": 298}, {\"product\": \"broiler\", \"quantity\": 198}, {\"product\": \"shirt\", \"quantity\": 98}, {\"product\": \"toaster\", \"quantity\": 998}], \"inventory\": 548000}\n",
      "{\"store\": 99, \"products\": [{\"product\": \"broiler\", \"quantity\": 599}, {\"product\": \"shirt\", \"quantity\": 499}, {\"product\": \"toaster\", \"quantity\": 399}, {\"product\": \"phone\", \"quantity\": 299}, {\"product\": \"blender\", \"quantity\": 199}, {\"product\": \"tv\", \"quantity\": 99}, {\"product\": \"socks\", \"quantity\": 999}, {\"product\": \"broiler\", \"quantity\": 899}, {\"product\": \"shirt\", \"quantity\": 799}, {\"product\": \"toaster\", \"quantity\": 699}], \"inventory\": 549000}\n",
      "{\"store\": 100, \"products\": [{\"product\": \"broiler\", \"quantity\": 300}, {\"product\": \"shirt\", \"quantity\": 200}, {\"product\": \"toaster\", \"quantity\": 100}, {\"product\": \"phone\", \"quantity\": 1000}, {\"product\": \"blender\", \"quantity\": 900}, {\"product\": \"tv\", \"quantity\": 800}, {\"product\": \"socks\", \"quantity\": 700}, {\"product\": \"broiler\", \"quantity\": 600}, {\"product\": \"shirt\", \"quantity\": 500}, {\"product\": \"toaster\", \"quantity\": 400}], \"inventory\": 550000}\n"
     ]
    }
   ],
   "source": [
    "%%jsoniq\n",
    "for $product in json-file(\"http://rumbledb.org/samples/products-small.json\", 10)\n",
    "group by $store-number := $product.store-number\n",
    "order by $store-number ascending\n",
    "return {\n",
    "    \"store\" : $store-number,\n",
    "    \"products\" : [ project($product[position() le 10], (\"product\", \"quantity\")) ],\n",
    "    \"inventory\" : sum($product.quantity)\n",
    "}"
   ]
  },
  {
   "cell_type": "markdown",
   "metadata": {},
   "source": [
    "See the explanation of predict on positions `position()` [here](https://rumble.readthedocs.io/en/latest/JSONiq/). "
   ]
  },
  {
   "cell_type": "markdown",
   "metadata": {},
   "source": [
    "That's it! You know the basics of JSONiq. \n",
    "\n",
    "<!-- Now you can also download the RumbleDB jar and run it on your own laptop. Or [on a Spark cluster, reading data from and to HDFS](https://rumble.readthedocs.io/en/latest/Run%20on%20a%20cluster/), etc. -->\n",
    "\n"
   ]
  },
  {
   "cell_type": "markdown",
   "metadata": {},
   "source": [
    "\n",
    "Feel free to try the many functions available, here is a link with the exhaustive list: https://rumble.readthedocs.io/en/latest/Function%20library/. \n"
   ]
  },
  {
   "cell_type": "code",
   "execution_count": null,
   "metadata": {},
   "outputs": [],
   "source": []
  },
  {
   "cell_type": "markdown",
   "metadata": {},
   "source": [
    "# Moodle quiz (11.2): querying a bigger git-archive dataset\n",
    "\n",
    "\n",
    "You will have to submit the results of this exercise to Moodle to obtain the weekly bonus. You will need these things:\n",
    "- The query you wrote (ungraded)\n",
    "- Something related to its output (which you will be graded on)\n",
    "- The time it took you to run it (ungraded)\n",
    "\n",
    "The execution time of the queries will be reported by Rumble."
   ]
  },
  {
   "cell_type": "markdown",
   "metadata": {},
   "source": [
    "### Check the data\n",
    "We provide you with a bigger git-archive dataset [git-archive-big.json](https://www.rumbledb.org/samples/git-archive-big.json), you can already check that you get the correct number of records. The dataset should contain 206978 records. You can either use `wget` to download and read the dataset locally or simply read with `json-file` from the URI."
   ]
  },
  {
   "cell_type": "code",
   "execution_count": null,
   "metadata": {},
   "outputs": [
    {
     "name": "stdout",
     "output_type": "stream",
     "text": [
      "Took: 0.21592283248901367 ms\n",
      "There was an error on line 2 in file:/Users/lucienwalewski/rumbledb/:\n",
      "\n",
      "\n",
      "Code: [XPST0003]\n",
      "Message: Parser failed. \n",
      "\n",
      "Metadata: file:/Users/lucienwalewski/rumbledb/:LINE:2:COLUMN:0:\n",
      "This code can also be looked up in the documentation and specifications for more information.\n",
      "\n"
     ]
    }
   ],
   "source": [
    "%%jsoniq\n",
    "let $git_path := \"/Users/lucienwalewski/Library/CloudStorage/OneDrive-Personal/ETH/Year 1/Fall/Big Data/bigdata-exercises/Big_Data/exercise11/git-archive-big.json\""
   ]
  },
  {
   "cell_type": "code",
   "execution_count": null,
   "metadata": {},
   "outputs": [
    {
     "ename": "KeyboardInterrupt",
     "evalue": "",
     "output_type": "error",
     "traceback": [
      "\u001b[0;31m---------------------------------------------------------------------------\u001b[0m",
      "\u001b[0;31mKeyboardInterrupt\u001b[0m                         Traceback (most recent call last)",
      "Cell \u001b[0;32mIn[6], line 1\u001b[0m\n\u001b[0;32m----> 1\u001b[0m get_ipython()\u001b[39m.\u001b[39;49mrun_cell_magic(\u001b[39m'\u001b[39;49m\u001b[39mjsoniq\u001b[39;49m\u001b[39m'\u001b[39;49m, \u001b[39m'\u001b[39;49m\u001b[39m'\u001b[39;49m, \u001b[39m'\u001b[39;49m\u001b[39mcount(for $i in json-file(\u001b[39;49m\u001b[39m\"\u001b[39;49m\u001b[39mgit-archive-big.json\u001b[39;49m\u001b[39m\"\u001b[39;49m\u001b[39m)\u001b[39;49m\u001b[39m\\n\u001b[39;49;00m\u001b[39mreturn $i)\u001b[39;49m\u001b[39m\\n\u001b[39;49;00m\u001b[39m'\u001b[39;49m)\n",
      "File \u001b[0;32m~/Library/Python/3.10/lib/python/site-packages/IPython/core/interactiveshell.py:2417\u001b[0m, in \u001b[0;36mInteractiveShell.run_cell_magic\u001b[0;34m(self, magic_name, line, cell)\u001b[0m\n\u001b[1;32m   2415\u001b[0m \u001b[39mwith\u001b[39;00m \u001b[39mself\u001b[39m\u001b[39m.\u001b[39mbuiltin_trap:\n\u001b[1;32m   2416\u001b[0m     args \u001b[39m=\u001b[39m (magic_arg_s, cell)\n\u001b[0;32m-> 2417\u001b[0m     result \u001b[39m=\u001b[39m fn(\u001b[39m*\u001b[39;49margs, \u001b[39m*\u001b[39;49m\u001b[39m*\u001b[39;49mkwargs)\n\u001b[1;32m   2418\u001b[0m \u001b[39mreturn\u001b[39;00m result\n",
      "File \u001b[0;32m/usr/local/lib/python3.10/site-packages/rumbledb/rumbledb.py:16\u001b[0m, in \u001b[0;36mRumbleDBServerMagic.jsoniq\u001b[0;34m(self, line, cell)\u001b[0m\n\u001b[1;32m     13\u001b[0m     data \u001b[39m=\u001b[39m cell\n\u001b[1;32m     15\u001b[0m start \u001b[39m=\u001b[39m time\u001b[39m.\u001b[39mtime()                                                         \n\u001b[0;32m---> 16\u001b[0m response \u001b[39m=\u001b[39m json\u001b[39m.\u001b[39mloads(requests\u001b[39m.\u001b[39;49mpost(os\u001b[39m.\u001b[39;49menviron[\u001b[39m\"\u001b[39;49m\u001b[39mRUMBLEDB_SERVER\u001b[39;49m\u001b[39m\"\u001b[39;49m], data\u001b[39m=\u001b[39;49mdata)\u001b[39m.\u001b[39mtext)                   \n\u001b[1;32m     17\u001b[0m end \u001b[39m=\u001b[39m time\u001b[39m.\u001b[39mtime()                                                              \n\u001b[1;32m     18\u001b[0m \u001b[39mprint\u001b[39m(\u001b[39m\"\u001b[39m\u001b[39mTook: \u001b[39m\u001b[39m%s\u001b[39;00m\u001b[39m ms\u001b[39m\u001b[39m\"\u001b[39m \u001b[39m%\u001b[39m (end \u001b[39m-\u001b[39m start))\n",
      "File \u001b[0;32m/usr/local/lib/python3.10/site-packages/requests/api.py:115\u001b[0m, in \u001b[0;36mpost\u001b[0;34m(url, data, json, **kwargs)\u001b[0m\n\u001b[1;32m    103\u001b[0m \u001b[39mdef\u001b[39;00m \u001b[39mpost\u001b[39m(url, data\u001b[39m=\u001b[39m\u001b[39mNone\u001b[39;00m, json\u001b[39m=\u001b[39m\u001b[39mNone\u001b[39;00m, \u001b[39m*\u001b[39m\u001b[39m*\u001b[39mkwargs):\n\u001b[1;32m    104\u001b[0m     \u001b[39mr\u001b[39m\u001b[39m\"\"\"Sends a POST request.\u001b[39;00m\n\u001b[1;32m    105\u001b[0m \n\u001b[1;32m    106\u001b[0m \u001b[39m    :param url: URL for the new :class:`Request` object.\u001b[39;00m\n\u001b[0;32m   (...)\u001b[0m\n\u001b[1;32m    112\u001b[0m \u001b[39m    :rtype: requests.Response\u001b[39;00m\n\u001b[1;32m    113\u001b[0m \u001b[39m    \"\"\"\u001b[39;00m\n\u001b[0;32m--> 115\u001b[0m     \u001b[39mreturn\u001b[39;00m request(\u001b[39m\"\u001b[39;49m\u001b[39mpost\u001b[39;49m\u001b[39m\"\u001b[39;49m, url, data\u001b[39m=\u001b[39;49mdata, json\u001b[39m=\u001b[39;49mjson, \u001b[39m*\u001b[39;49m\u001b[39m*\u001b[39;49mkwargs)\n",
      "File \u001b[0;32m/usr/local/lib/python3.10/site-packages/requests/api.py:59\u001b[0m, in \u001b[0;36mrequest\u001b[0;34m(method, url, **kwargs)\u001b[0m\n\u001b[1;32m     55\u001b[0m \u001b[39m# By using the 'with' statement we are sure the session is closed, thus we\u001b[39;00m\n\u001b[1;32m     56\u001b[0m \u001b[39m# avoid leaving sockets open which can trigger a ResourceWarning in some\u001b[39;00m\n\u001b[1;32m     57\u001b[0m \u001b[39m# cases, and look like a memory leak in others.\u001b[39;00m\n\u001b[1;32m     58\u001b[0m \u001b[39mwith\u001b[39;00m sessions\u001b[39m.\u001b[39mSession() \u001b[39mas\u001b[39;00m session:\n\u001b[0;32m---> 59\u001b[0m     \u001b[39mreturn\u001b[39;00m session\u001b[39m.\u001b[39;49mrequest(method\u001b[39m=\u001b[39;49mmethod, url\u001b[39m=\u001b[39;49murl, \u001b[39m*\u001b[39;49m\u001b[39m*\u001b[39;49mkwargs)\n",
      "File \u001b[0;32m/usr/local/lib/python3.10/site-packages/requests/sessions.py:587\u001b[0m, in \u001b[0;36mSession.request\u001b[0;34m(self, method, url, params, data, headers, cookies, files, auth, timeout, allow_redirects, proxies, hooks, stream, verify, cert, json)\u001b[0m\n\u001b[1;32m    582\u001b[0m send_kwargs \u001b[39m=\u001b[39m {\n\u001b[1;32m    583\u001b[0m     \u001b[39m\"\u001b[39m\u001b[39mtimeout\u001b[39m\u001b[39m\"\u001b[39m: timeout,\n\u001b[1;32m    584\u001b[0m     \u001b[39m\"\u001b[39m\u001b[39mallow_redirects\u001b[39m\u001b[39m\"\u001b[39m: allow_redirects,\n\u001b[1;32m    585\u001b[0m }\n\u001b[1;32m    586\u001b[0m send_kwargs\u001b[39m.\u001b[39mupdate(settings)\n\u001b[0;32m--> 587\u001b[0m resp \u001b[39m=\u001b[39m \u001b[39mself\u001b[39;49m\u001b[39m.\u001b[39;49msend(prep, \u001b[39m*\u001b[39;49m\u001b[39m*\u001b[39;49msend_kwargs)\n\u001b[1;32m    589\u001b[0m \u001b[39mreturn\u001b[39;00m resp\n",
      "File \u001b[0;32m/usr/local/lib/python3.10/site-packages/requests/sessions.py:701\u001b[0m, in \u001b[0;36mSession.send\u001b[0;34m(self, request, **kwargs)\u001b[0m\n\u001b[1;32m    698\u001b[0m start \u001b[39m=\u001b[39m preferred_clock()\n\u001b[1;32m    700\u001b[0m \u001b[39m# Send the request\u001b[39;00m\n\u001b[0;32m--> 701\u001b[0m r \u001b[39m=\u001b[39m adapter\u001b[39m.\u001b[39;49msend(request, \u001b[39m*\u001b[39;49m\u001b[39m*\u001b[39;49mkwargs)\n\u001b[1;32m    703\u001b[0m \u001b[39m# Total elapsed time of the request (approximately)\u001b[39;00m\n\u001b[1;32m    704\u001b[0m elapsed \u001b[39m=\u001b[39m preferred_clock() \u001b[39m-\u001b[39m start\n",
      "File \u001b[0;32m/usr/local/lib/python3.10/site-packages/requests/adapters.py:489\u001b[0m, in \u001b[0;36mHTTPAdapter.send\u001b[0;34m(self, request, stream, timeout, verify, cert, proxies)\u001b[0m\n\u001b[1;32m    487\u001b[0m \u001b[39mtry\u001b[39;00m:\n\u001b[1;32m    488\u001b[0m     \u001b[39mif\u001b[39;00m \u001b[39mnot\u001b[39;00m chunked:\n\u001b[0;32m--> 489\u001b[0m         resp \u001b[39m=\u001b[39m conn\u001b[39m.\u001b[39;49murlopen(\n\u001b[1;32m    490\u001b[0m             method\u001b[39m=\u001b[39;49mrequest\u001b[39m.\u001b[39;49mmethod,\n\u001b[1;32m    491\u001b[0m             url\u001b[39m=\u001b[39;49murl,\n\u001b[1;32m    492\u001b[0m             body\u001b[39m=\u001b[39;49mrequest\u001b[39m.\u001b[39;49mbody,\n\u001b[1;32m    493\u001b[0m             headers\u001b[39m=\u001b[39;49mrequest\u001b[39m.\u001b[39;49mheaders,\n\u001b[1;32m    494\u001b[0m             redirect\u001b[39m=\u001b[39;49m\u001b[39mFalse\u001b[39;49;00m,\n\u001b[1;32m    495\u001b[0m             assert_same_host\u001b[39m=\u001b[39;49m\u001b[39mFalse\u001b[39;49;00m,\n\u001b[1;32m    496\u001b[0m             preload_content\u001b[39m=\u001b[39;49m\u001b[39mFalse\u001b[39;49;00m,\n\u001b[1;32m    497\u001b[0m             decode_content\u001b[39m=\u001b[39;49m\u001b[39mFalse\u001b[39;49;00m,\n\u001b[1;32m    498\u001b[0m             retries\u001b[39m=\u001b[39;49m\u001b[39mself\u001b[39;49m\u001b[39m.\u001b[39;49mmax_retries,\n\u001b[1;32m    499\u001b[0m             timeout\u001b[39m=\u001b[39;49mtimeout,\n\u001b[1;32m    500\u001b[0m         )\n\u001b[1;32m    502\u001b[0m     \u001b[39m# Send the request.\u001b[39;00m\n\u001b[1;32m    503\u001b[0m     \u001b[39melse\u001b[39;00m:\n\u001b[1;32m    504\u001b[0m         \u001b[39mif\u001b[39;00m \u001b[39mhasattr\u001b[39m(conn, \u001b[39m\"\u001b[39m\u001b[39mproxy_pool\u001b[39m\u001b[39m\"\u001b[39m):\n",
      "File \u001b[0;32m/usr/local/lib/python3.10/site-packages/urllib3/connectionpool.py:703\u001b[0m, in \u001b[0;36mHTTPConnectionPool.urlopen\u001b[0;34m(self, method, url, body, headers, retries, redirect, assert_same_host, timeout, pool_timeout, release_conn, chunked, body_pos, **response_kw)\u001b[0m\n\u001b[1;32m    700\u001b[0m     \u001b[39mself\u001b[39m\u001b[39m.\u001b[39m_prepare_proxy(conn)\n\u001b[1;32m    702\u001b[0m \u001b[39m# Make the request on the httplib connection object.\u001b[39;00m\n\u001b[0;32m--> 703\u001b[0m httplib_response \u001b[39m=\u001b[39m \u001b[39mself\u001b[39;49m\u001b[39m.\u001b[39;49m_make_request(\n\u001b[1;32m    704\u001b[0m     conn,\n\u001b[1;32m    705\u001b[0m     method,\n\u001b[1;32m    706\u001b[0m     url,\n\u001b[1;32m    707\u001b[0m     timeout\u001b[39m=\u001b[39;49mtimeout_obj,\n\u001b[1;32m    708\u001b[0m     body\u001b[39m=\u001b[39;49mbody,\n\u001b[1;32m    709\u001b[0m     headers\u001b[39m=\u001b[39;49mheaders,\n\u001b[1;32m    710\u001b[0m     chunked\u001b[39m=\u001b[39;49mchunked,\n\u001b[1;32m    711\u001b[0m )\n\u001b[1;32m    713\u001b[0m \u001b[39m# If we're going to release the connection in ``finally:``, then\u001b[39;00m\n\u001b[1;32m    714\u001b[0m \u001b[39m# the response doesn't need to know about the connection. Otherwise\u001b[39;00m\n\u001b[1;32m    715\u001b[0m \u001b[39m# it will also try to release it and we'll have a double-release\u001b[39;00m\n\u001b[1;32m    716\u001b[0m \u001b[39m# mess.\u001b[39;00m\n\u001b[1;32m    717\u001b[0m response_conn \u001b[39m=\u001b[39m conn \u001b[39mif\u001b[39;00m \u001b[39mnot\u001b[39;00m release_conn \u001b[39melse\u001b[39;00m \u001b[39mNone\u001b[39;00m\n",
      "File \u001b[0;32m/usr/local/lib/python3.10/site-packages/urllib3/connectionpool.py:449\u001b[0m, in \u001b[0;36mHTTPConnectionPool._make_request\u001b[0;34m(self, conn, method, url, timeout, chunked, **httplib_request_kw)\u001b[0m\n\u001b[1;32m    444\u001b[0m             httplib_response \u001b[39m=\u001b[39m conn\u001b[39m.\u001b[39mgetresponse()\n\u001b[1;32m    445\u001b[0m         \u001b[39mexcept\u001b[39;00m \u001b[39mBaseException\u001b[39;00m \u001b[39mas\u001b[39;00m e:\n\u001b[1;32m    446\u001b[0m             \u001b[39m# Remove the TypeError from the exception chain in\u001b[39;00m\n\u001b[1;32m    447\u001b[0m             \u001b[39m# Python 3 (including for exceptions like SystemExit).\u001b[39;00m\n\u001b[1;32m    448\u001b[0m             \u001b[39m# Otherwise it looks like a bug in the code.\u001b[39;00m\n\u001b[0;32m--> 449\u001b[0m             six\u001b[39m.\u001b[39;49mraise_from(e, \u001b[39mNone\u001b[39;49;00m)\n\u001b[1;32m    450\u001b[0m \u001b[39mexcept\u001b[39;00m (SocketTimeout, BaseSSLError, SocketError) \u001b[39mas\u001b[39;00m e:\n\u001b[1;32m    451\u001b[0m     \u001b[39mself\u001b[39m\u001b[39m.\u001b[39m_raise_timeout(err\u001b[39m=\u001b[39me, url\u001b[39m=\u001b[39murl, timeout_value\u001b[39m=\u001b[39mread_timeout)\n",
      "File \u001b[0;32m<string>:3\u001b[0m, in \u001b[0;36mraise_from\u001b[0;34m(value, from_value)\u001b[0m\n",
      "File \u001b[0;32m/usr/local/lib/python3.10/site-packages/urllib3/connectionpool.py:444\u001b[0m, in \u001b[0;36mHTTPConnectionPool._make_request\u001b[0;34m(self, conn, method, url, timeout, chunked, **httplib_request_kw)\u001b[0m\n\u001b[1;32m    441\u001b[0m \u001b[39mexcept\u001b[39;00m \u001b[39mTypeError\u001b[39;00m:\n\u001b[1;32m    442\u001b[0m     \u001b[39m# Python 3\u001b[39;00m\n\u001b[1;32m    443\u001b[0m     \u001b[39mtry\u001b[39;00m:\n\u001b[0;32m--> 444\u001b[0m         httplib_response \u001b[39m=\u001b[39m conn\u001b[39m.\u001b[39;49mgetresponse()\n\u001b[1;32m    445\u001b[0m     \u001b[39mexcept\u001b[39;00m \u001b[39mBaseException\u001b[39;00m \u001b[39mas\u001b[39;00m e:\n\u001b[1;32m    446\u001b[0m         \u001b[39m# Remove the TypeError from the exception chain in\u001b[39;00m\n\u001b[1;32m    447\u001b[0m         \u001b[39m# Python 3 (including for exceptions like SystemExit).\u001b[39;00m\n\u001b[1;32m    448\u001b[0m         \u001b[39m# Otherwise it looks like a bug in the code.\u001b[39;00m\n\u001b[1;32m    449\u001b[0m         six\u001b[39m.\u001b[39mraise_from(e, \u001b[39mNone\u001b[39;00m)\n",
      "File \u001b[0;32m/usr/local/Cellar/python@3.10/3.10.8/Frameworks/Python.framework/Versions/3.10/lib/python3.10/http/client.py:1374\u001b[0m, in \u001b[0;36mHTTPConnection.getresponse\u001b[0;34m(self)\u001b[0m\n\u001b[1;32m   1372\u001b[0m \u001b[39mtry\u001b[39;00m:\n\u001b[1;32m   1373\u001b[0m     \u001b[39mtry\u001b[39;00m:\n\u001b[0;32m-> 1374\u001b[0m         response\u001b[39m.\u001b[39;49mbegin()\n\u001b[1;32m   1375\u001b[0m     \u001b[39mexcept\u001b[39;00m \u001b[39mConnectionError\u001b[39;00m:\n\u001b[1;32m   1376\u001b[0m         \u001b[39mself\u001b[39m\u001b[39m.\u001b[39mclose()\n",
      "File \u001b[0;32m/usr/local/Cellar/python@3.10/3.10.8/Frameworks/Python.framework/Versions/3.10/lib/python3.10/http/client.py:318\u001b[0m, in \u001b[0;36mHTTPResponse.begin\u001b[0;34m(self)\u001b[0m\n\u001b[1;32m    316\u001b[0m \u001b[39m# read until we get a non-100 response\u001b[39;00m\n\u001b[1;32m    317\u001b[0m \u001b[39mwhile\u001b[39;00m \u001b[39mTrue\u001b[39;00m:\n\u001b[0;32m--> 318\u001b[0m     version, status, reason \u001b[39m=\u001b[39m \u001b[39mself\u001b[39;49m\u001b[39m.\u001b[39;49m_read_status()\n\u001b[1;32m    319\u001b[0m     \u001b[39mif\u001b[39;00m status \u001b[39m!=\u001b[39m CONTINUE:\n\u001b[1;32m    320\u001b[0m         \u001b[39mbreak\u001b[39;00m\n",
      "File \u001b[0;32m/usr/local/Cellar/python@3.10/3.10.8/Frameworks/Python.framework/Versions/3.10/lib/python3.10/http/client.py:279\u001b[0m, in \u001b[0;36mHTTPResponse._read_status\u001b[0;34m(self)\u001b[0m\n\u001b[1;32m    278\u001b[0m \u001b[39mdef\u001b[39;00m \u001b[39m_read_status\u001b[39m(\u001b[39mself\u001b[39m):\n\u001b[0;32m--> 279\u001b[0m     line \u001b[39m=\u001b[39m \u001b[39mstr\u001b[39m(\u001b[39mself\u001b[39;49m\u001b[39m.\u001b[39;49mfp\u001b[39m.\u001b[39;49mreadline(_MAXLINE \u001b[39m+\u001b[39;49m \u001b[39m1\u001b[39;49m), \u001b[39m\"\u001b[39m\u001b[39miso-8859-1\u001b[39m\u001b[39m\"\u001b[39m)\n\u001b[1;32m    280\u001b[0m     \u001b[39mif\u001b[39;00m \u001b[39mlen\u001b[39m(line) \u001b[39m>\u001b[39m _MAXLINE:\n\u001b[1;32m    281\u001b[0m         \u001b[39mraise\u001b[39;00m LineTooLong(\u001b[39m\"\u001b[39m\u001b[39mstatus line\u001b[39m\u001b[39m\"\u001b[39m)\n",
      "File \u001b[0;32m/usr/local/Cellar/python@3.10/3.10.8/Frameworks/Python.framework/Versions/3.10/lib/python3.10/socket.py:705\u001b[0m, in \u001b[0;36mSocketIO.readinto\u001b[0;34m(self, b)\u001b[0m\n\u001b[1;32m    703\u001b[0m \u001b[39mwhile\u001b[39;00m \u001b[39mTrue\u001b[39;00m:\n\u001b[1;32m    704\u001b[0m     \u001b[39mtry\u001b[39;00m:\n\u001b[0;32m--> 705\u001b[0m         \u001b[39mreturn\u001b[39;00m \u001b[39mself\u001b[39;49m\u001b[39m.\u001b[39;49m_sock\u001b[39m.\u001b[39;49mrecv_into(b)\n\u001b[1;32m    706\u001b[0m     \u001b[39mexcept\u001b[39;00m timeout:\n\u001b[1;32m    707\u001b[0m         \u001b[39mself\u001b[39m\u001b[39m.\u001b[39m_timeout_occurred \u001b[39m=\u001b[39m \u001b[39mTrue\u001b[39;00m\n",
      "\u001b[0;31mKeyboardInterrupt\u001b[0m: "
     ]
    }
   ],
   "source": [
    "%%jsoniq\n",
    "count(for $i in json-file(\"git-archive-big.json\")\n",
    "return $i)"
   ]
  },
  {
   "cell_type": "code",
   "execution_count": null,
   "metadata": {},
   "outputs": [
    {
     "ename": "KeyboardInterrupt",
     "evalue": "",
     "output_type": "error",
     "traceback": [
      "\u001b[0;31m---------------------------------------------------------------------------\u001b[0m",
      "\u001b[0;31mKeyboardInterrupt\u001b[0m                         Traceback (most recent call last)",
      "Cell \u001b[0;32mIn[5], line 1\u001b[0m\n\u001b[0;32m----> 1\u001b[0m get_ipython()\u001b[39m.\u001b[39;49mrun_cell_magic(\u001b[39m'\u001b[39;49m\u001b[39mjsoniq\u001b[39;49m\u001b[39m'\u001b[39;49m, \u001b[39m'\u001b[39;49m\u001b[39m'\u001b[39;49m, \u001b[39m'\u001b[39;49m\u001b[39mcount(for $i in json-file(\u001b[39;49m\u001b[39m\"\u001b[39;49m\u001b[39mhttps://www.rumbledb.org/samples/git-archive-big.json\u001b[39;49m\u001b[39m\"\u001b[39;49m\u001b[39m)\u001b[39;49m\u001b[39m\\n\u001b[39;49;00m\u001b[39mreturn $i)\u001b[39;49m\u001b[39m\\n\u001b[39;49;00m\u001b[39m'\u001b[39;49m)\n",
      "File \u001b[0;32m~/Library/Python/3.10/lib/python/site-packages/IPython/core/interactiveshell.py:2417\u001b[0m, in \u001b[0;36mInteractiveShell.run_cell_magic\u001b[0;34m(self, magic_name, line, cell)\u001b[0m\n\u001b[1;32m   2415\u001b[0m \u001b[39mwith\u001b[39;00m \u001b[39mself\u001b[39m\u001b[39m.\u001b[39mbuiltin_trap:\n\u001b[1;32m   2416\u001b[0m     args \u001b[39m=\u001b[39m (magic_arg_s, cell)\n\u001b[0;32m-> 2417\u001b[0m     result \u001b[39m=\u001b[39m fn(\u001b[39m*\u001b[39;49margs, \u001b[39m*\u001b[39;49m\u001b[39m*\u001b[39;49mkwargs)\n\u001b[1;32m   2418\u001b[0m \u001b[39mreturn\u001b[39;00m result\n",
      "File \u001b[0;32m/usr/local/lib/python3.10/site-packages/rumbledb/rumbledb.py:16\u001b[0m, in \u001b[0;36mRumbleDBServerMagic.jsoniq\u001b[0;34m(self, line, cell)\u001b[0m\n\u001b[1;32m     13\u001b[0m     data \u001b[39m=\u001b[39m cell\n\u001b[1;32m     15\u001b[0m start \u001b[39m=\u001b[39m time\u001b[39m.\u001b[39mtime()                                                         \n\u001b[0;32m---> 16\u001b[0m response \u001b[39m=\u001b[39m json\u001b[39m.\u001b[39mloads(requests\u001b[39m.\u001b[39;49mpost(os\u001b[39m.\u001b[39;49menviron[\u001b[39m\"\u001b[39;49m\u001b[39mRUMBLEDB_SERVER\u001b[39;49m\u001b[39m\"\u001b[39;49m], data\u001b[39m=\u001b[39;49mdata)\u001b[39m.\u001b[39mtext)                   \n\u001b[1;32m     17\u001b[0m end \u001b[39m=\u001b[39m time\u001b[39m.\u001b[39mtime()                                                              \n\u001b[1;32m     18\u001b[0m \u001b[39mprint\u001b[39m(\u001b[39m\"\u001b[39m\u001b[39mTook: \u001b[39m\u001b[39m%s\u001b[39;00m\u001b[39m ms\u001b[39m\u001b[39m\"\u001b[39m \u001b[39m%\u001b[39m (end \u001b[39m-\u001b[39m start))\n",
      "File \u001b[0;32m/usr/local/lib/python3.10/site-packages/requests/api.py:115\u001b[0m, in \u001b[0;36mpost\u001b[0;34m(url, data, json, **kwargs)\u001b[0m\n\u001b[1;32m    103\u001b[0m \u001b[39mdef\u001b[39;00m \u001b[39mpost\u001b[39m(url, data\u001b[39m=\u001b[39m\u001b[39mNone\u001b[39;00m, json\u001b[39m=\u001b[39m\u001b[39mNone\u001b[39;00m, \u001b[39m*\u001b[39m\u001b[39m*\u001b[39mkwargs):\n\u001b[1;32m    104\u001b[0m     \u001b[39mr\u001b[39m\u001b[39m\"\"\"Sends a POST request.\u001b[39;00m\n\u001b[1;32m    105\u001b[0m \n\u001b[1;32m    106\u001b[0m \u001b[39m    :param url: URL for the new :class:`Request` object.\u001b[39;00m\n\u001b[0;32m   (...)\u001b[0m\n\u001b[1;32m    112\u001b[0m \u001b[39m    :rtype: requests.Response\u001b[39;00m\n\u001b[1;32m    113\u001b[0m \u001b[39m    \"\"\"\u001b[39;00m\n\u001b[0;32m--> 115\u001b[0m     \u001b[39mreturn\u001b[39;00m request(\u001b[39m\"\u001b[39;49m\u001b[39mpost\u001b[39;49m\u001b[39m\"\u001b[39;49m, url, data\u001b[39m=\u001b[39;49mdata, json\u001b[39m=\u001b[39;49mjson, \u001b[39m*\u001b[39;49m\u001b[39m*\u001b[39;49mkwargs)\n",
      "File \u001b[0;32m/usr/local/lib/python3.10/site-packages/requests/api.py:59\u001b[0m, in \u001b[0;36mrequest\u001b[0;34m(method, url, **kwargs)\u001b[0m\n\u001b[1;32m     55\u001b[0m \u001b[39m# By using the 'with' statement we are sure the session is closed, thus we\u001b[39;00m\n\u001b[1;32m     56\u001b[0m \u001b[39m# avoid leaving sockets open which can trigger a ResourceWarning in some\u001b[39;00m\n\u001b[1;32m     57\u001b[0m \u001b[39m# cases, and look like a memory leak in others.\u001b[39;00m\n\u001b[1;32m     58\u001b[0m \u001b[39mwith\u001b[39;00m sessions\u001b[39m.\u001b[39mSession() \u001b[39mas\u001b[39;00m session:\n\u001b[0;32m---> 59\u001b[0m     \u001b[39mreturn\u001b[39;00m session\u001b[39m.\u001b[39;49mrequest(method\u001b[39m=\u001b[39;49mmethod, url\u001b[39m=\u001b[39;49murl, \u001b[39m*\u001b[39;49m\u001b[39m*\u001b[39;49mkwargs)\n",
      "File \u001b[0;32m/usr/local/lib/python3.10/site-packages/requests/sessions.py:587\u001b[0m, in \u001b[0;36mSession.request\u001b[0;34m(self, method, url, params, data, headers, cookies, files, auth, timeout, allow_redirects, proxies, hooks, stream, verify, cert, json)\u001b[0m\n\u001b[1;32m    582\u001b[0m send_kwargs \u001b[39m=\u001b[39m {\n\u001b[1;32m    583\u001b[0m     \u001b[39m\"\u001b[39m\u001b[39mtimeout\u001b[39m\u001b[39m\"\u001b[39m: timeout,\n\u001b[1;32m    584\u001b[0m     \u001b[39m\"\u001b[39m\u001b[39mallow_redirects\u001b[39m\u001b[39m\"\u001b[39m: allow_redirects,\n\u001b[1;32m    585\u001b[0m }\n\u001b[1;32m    586\u001b[0m send_kwargs\u001b[39m.\u001b[39mupdate(settings)\n\u001b[0;32m--> 587\u001b[0m resp \u001b[39m=\u001b[39m \u001b[39mself\u001b[39;49m\u001b[39m.\u001b[39;49msend(prep, \u001b[39m*\u001b[39;49m\u001b[39m*\u001b[39;49msend_kwargs)\n\u001b[1;32m    589\u001b[0m \u001b[39mreturn\u001b[39;00m resp\n",
      "File \u001b[0;32m/usr/local/lib/python3.10/site-packages/requests/sessions.py:701\u001b[0m, in \u001b[0;36mSession.send\u001b[0;34m(self, request, **kwargs)\u001b[0m\n\u001b[1;32m    698\u001b[0m start \u001b[39m=\u001b[39m preferred_clock()\n\u001b[1;32m    700\u001b[0m \u001b[39m# Send the request\u001b[39;00m\n\u001b[0;32m--> 701\u001b[0m r \u001b[39m=\u001b[39m adapter\u001b[39m.\u001b[39;49msend(request, \u001b[39m*\u001b[39;49m\u001b[39m*\u001b[39;49mkwargs)\n\u001b[1;32m    703\u001b[0m \u001b[39m# Total elapsed time of the request (approximately)\u001b[39;00m\n\u001b[1;32m    704\u001b[0m elapsed \u001b[39m=\u001b[39m preferred_clock() \u001b[39m-\u001b[39m start\n",
      "File \u001b[0;32m/usr/local/lib/python3.10/site-packages/requests/adapters.py:489\u001b[0m, in \u001b[0;36mHTTPAdapter.send\u001b[0;34m(self, request, stream, timeout, verify, cert, proxies)\u001b[0m\n\u001b[1;32m    487\u001b[0m \u001b[39mtry\u001b[39;00m:\n\u001b[1;32m    488\u001b[0m     \u001b[39mif\u001b[39;00m \u001b[39mnot\u001b[39;00m chunked:\n\u001b[0;32m--> 489\u001b[0m         resp \u001b[39m=\u001b[39m conn\u001b[39m.\u001b[39;49murlopen(\n\u001b[1;32m    490\u001b[0m             method\u001b[39m=\u001b[39;49mrequest\u001b[39m.\u001b[39;49mmethod,\n\u001b[1;32m    491\u001b[0m             url\u001b[39m=\u001b[39;49murl,\n\u001b[1;32m    492\u001b[0m             body\u001b[39m=\u001b[39;49mrequest\u001b[39m.\u001b[39;49mbody,\n\u001b[1;32m    493\u001b[0m             headers\u001b[39m=\u001b[39;49mrequest\u001b[39m.\u001b[39;49mheaders,\n\u001b[1;32m    494\u001b[0m             redirect\u001b[39m=\u001b[39;49m\u001b[39mFalse\u001b[39;49;00m,\n\u001b[1;32m    495\u001b[0m             assert_same_host\u001b[39m=\u001b[39;49m\u001b[39mFalse\u001b[39;49;00m,\n\u001b[1;32m    496\u001b[0m             preload_content\u001b[39m=\u001b[39;49m\u001b[39mFalse\u001b[39;49;00m,\n\u001b[1;32m    497\u001b[0m             decode_content\u001b[39m=\u001b[39;49m\u001b[39mFalse\u001b[39;49;00m,\n\u001b[1;32m    498\u001b[0m             retries\u001b[39m=\u001b[39;49m\u001b[39mself\u001b[39;49m\u001b[39m.\u001b[39;49mmax_retries,\n\u001b[1;32m    499\u001b[0m             timeout\u001b[39m=\u001b[39;49mtimeout,\n\u001b[1;32m    500\u001b[0m         )\n\u001b[1;32m    502\u001b[0m     \u001b[39m# Send the request.\u001b[39;00m\n\u001b[1;32m    503\u001b[0m     \u001b[39melse\u001b[39;00m:\n\u001b[1;32m    504\u001b[0m         \u001b[39mif\u001b[39;00m \u001b[39mhasattr\u001b[39m(conn, \u001b[39m\"\u001b[39m\u001b[39mproxy_pool\u001b[39m\u001b[39m\"\u001b[39m):\n",
      "File \u001b[0;32m/usr/local/lib/python3.10/site-packages/urllib3/connectionpool.py:703\u001b[0m, in \u001b[0;36mHTTPConnectionPool.urlopen\u001b[0;34m(self, method, url, body, headers, retries, redirect, assert_same_host, timeout, pool_timeout, release_conn, chunked, body_pos, **response_kw)\u001b[0m\n\u001b[1;32m    700\u001b[0m     \u001b[39mself\u001b[39m\u001b[39m.\u001b[39m_prepare_proxy(conn)\n\u001b[1;32m    702\u001b[0m \u001b[39m# Make the request on the httplib connection object.\u001b[39;00m\n\u001b[0;32m--> 703\u001b[0m httplib_response \u001b[39m=\u001b[39m \u001b[39mself\u001b[39;49m\u001b[39m.\u001b[39;49m_make_request(\n\u001b[1;32m    704\u001b[0m     conn,\n\u001b[1;32m    705\u001b[0m     method,\n\u001b[1;32m    706\u001b[0m     url,\n\u001b[1;32m    707\u001b[0m     timeout\u001b[39m=\u001b[39;49mtimeout_obj,\n\u001b[1;32m    708\u001b[0m     body\u001b[39m=\u001b[39;49mbody,\n\u001b[1;32m    709\u001b[0m     headers\u001b[39m=\u001b[39;49mheaders,\n\u001b[1;32m    710\u001b[0m     chunked\u001b[39m=\u001b[39;49mchunked,\n\u001b[1;32m    711\u001b[0m )\n\u001b[1;32m    713\u001b[0m \u001b[39m# If we're going to release the connection in ``finally:``, then\u001b[39;00m\n\u001b[1;32m    714\u001b[0m \u001b[39m# the response doesn't need to know about the connection. Otherwise\u001b[39;00m\n\u001b[1;32m    715\u001b[0m \u001b[39m# it will also try to release it and we'll have a double-release\u001b[39;00m\n\u001b[1;32m    716\u001b[0m \u001b[39m# mess.\u001b[39;00m\n\u001b[1;32m    717\u001b[0m response_conn \u001b[39m=\u001b[39m conn \u001b[39mif\u001b[39;00m \u001b[39mnot\u001b[39;00m release_conn \u001b[39melse\u001b[39;00m \u001b[39mNone\u001b[39;00m\n",
      "File \u001b[0;32m/usr/local/lib/python3.10/site-packages/urllib3/connectionpool.py:449\u001b[0m, in \u001b[0;36mHTTPConnectionPool._make_request\u001b[0;34m(self, conn, method, url, timeout, chunked, **httplib_request_kw)\u001b[0m\n\u001b[1;32m    444\u001b[0m             httplib_response \u001b[39m=\u001b[39m conn\u001b[39m.\u001b[39mgetresponse()\n\u001b[1;32m    445\u001b[0m         \u001b[39mexcept\u001b[39;00m \u001b[39mBaseException\u001b[39;00m \u001b[39mas\u001b[39;00m e:\n\u001b[1;32m    446\u001b[0m             \u001b[39m# Remove the TypeError from the exception chain in\u001b[39;00m\n\u001b[1;32m    447\u001b[0m             \u001b[39m# Python 3 (including for exceptions like SystemExit).\u001b[39;00m\n\u001b[1;32m    448\u001b[0m             \u001b[39m# Otherwise it looks like a bug in the code.\u001b[39;00m\n\u001b[0;32m--> 449\u001b[0m             six\u001b[39m.\u001b[39;49mraise_from(e, \u001b[39mNone\u001b[39;49;00m)\n\u001b[1;32m    450\u001b[0m \u001b[39mexcept\u001b[39;00m (SocketTimeout, BaseSSLError, SocketError) \u001b[39mas\u001b[39;00m e:\n\u001b[1;32m    451\u001b[0m     \u001b[39mself\u001b[39m\u001b[39m.\u001b[39m_raise_timeout(err\u001b[39m=\u001b[39me, url\u001b[39m=\u001b[39murl, timeout_value\u001b[39m=\u001b[39mread_timeout)\n",
      "File \u001b[0;32m<string>:3\u001b[0m, in \u001b[0;36mraise_from\u001b[0;34m(value, from_value)\u001b[0m\n",
      "File \u001b[0;32m/usr/local/lib/python3.10/site-packages/urllib3/connectionpool.py:444\u001b[0m, in \u001b[0;36mHTTPConnectionPool._make_request\u001b[0;34m(self, conn, method, url, timeout, chunked, **httplib_request_kw)\u001b[0m\n\u001b[1;32m    441\u001b[0m \u001b[39mexcept\u001b[39;00m \u001b[39mTypeError\u001b[39;00m:\n\u001b[1;32m    442\u001b[0m     \u001b[39m# Python 3\u001b[39;00m\n\u001b[1;32m    443\u001b[0m     \u001b[39mtry\u001b[39;00m:\n\u001b[0;32m--> 444\u001b[0m         httplib_response \u001b[39m=\u001b[39m conn\u001b[39m.\u001b[39;49mgetresponse()\n\u001b[1;32m    445\u001b[0m     \u001b[39mexcept\u001b[39;00m \u001b[39mBaseException\u001b[39;00m \u001b[39mas\u001b[39;00m e:\n\u001b[1;32m    446\u001b[0m         \u001b[39m# Remove the TypeError from the exception chain in\u001b[39;00m\n\u001b[1;32m    447\u001b[0m         \u001b[39m# Python 3 (including for exceptions like SystemExit).\u001b[39;00m\n\u001b[1;32m    448\u001b[0m         \u001b[39m# Otherwise it looks like a bug in the code.\u001b[39;00m\n\u001b[1;32m    449\u001b[0m         six\u001b[39m.\u001b[39mraise_from(e, \u001b[39mNone\u001b[39;00m)\n",
      "File \u001b[0;32m/usr/local/Cellar/python@3.10/3.10.8/Frameworks/Python.framework/Versions/3.10/lib/python3.10/http/client.py:1374\u001b[0m, in \u001b[0;36mHTTPConnection.getresponse\u001b[0;34m(self)\u001b[0m\n\u001b[1;32m   1372\u001b[0m \u001b[39mtry\u001b[39;00m:\n\u001b[1;32m   1373\u001b[0m     \u001b[39mtry\u001b[39;00m:\n\u001b[0;32m-> 1374\u001b[0m         response\u001b[39m.\u001b[39;49mbegin()\n\u001b[1;32m   1375\u001b[0m     \u001b[39mexcept\u001b[39;00m \u001b[39mConnectionError\u001b[39;00m:\n\u001b[1;32m   1376\u001b[0m         \u001b[39mself\u001b[39m\u001b[39m.\u001b[39mclose()\n",
      "File \u001b[0;32m/usr/local/Cellar/python@3.10/3.10.8/Frameworks/Python.framework/Versions/3.10/lib/python3.10/http/client.py:318\u001b[0m, in \u001b[0;36mHTTPResponse.begin\u001b[0;34m(self)\u001b[0m\n\u001b[1;32m    316\u001b[0m \u001b[39m# read until we get a non-100 response\u001b[39;00m\n\u001b[1;32m    317\u001b[0m \u001b[39mwhile\u001b[39;00m \u001b[39mTrue\u001b[39;00m:\n\u001b[0;32m--> 318\u001b[0m     version, status, reason \u001b[39m=\u001b[39m \u001b[39mself\u001b[39;49m\u001b[39m.\u001b[39;49m_read_status()\n\u001b[1;32m    319\u001b[0m     \u001b[39mif\u001b[39;00m status \u001b[39m!=\u001b[39m CONTINUE:\n\u001b[1;32m    320\u001b[0m         \u001b[39mbreak\u001b[39;00m\n",
      "File \u001b[0;32m/usr/local/Cellar/python@3.10/3.10.8/Frameworks/Python.framework/Versions/3.10/lib/python3.10/http/client.py:279\u001b[0m, in \u001b[0;36mHTTPResponse._read_status\u001b[0;34m(self)\u001b[0m\n\u001b[1;32m    278\u001b[0m \u001b[39mdef\u001b[39;00m \u001b[39m_read_status\u001b[39m(\u001b[39mself\u001b[39m):\n\u001b[0;32m--> 279\u001b[0m     line \u001b[39m=\u001b[39m \u001b[39mstr\u001b[39m(\u001b[39mself\u001b[39;49m\u001b[39m.\u001b[39;49mfp\u001b[39m.\u001b[39;49mreadline(_MAXLINE \u001b[39m+\u001b[39;49m \u001b[39m1\u001b[39;49m), \u001b[39m\"\u001b[39m\u001b[39miso-8859-1\u001b[39m\u001b[39m\"\u001b[39m)\n\u001b[1;32m    280\u001b[0m     \u001b[39mif\u001b[39;00m \u001b[39mlen\u001b[39m(line) \u001b[39m>\u001b[39m _MAXLINE:\n\u001b[1;32m    281\u001b[0m         \u001b[39mraise\u001b[39;00m LineTooLong(\u001b[39m\"\u001b[39m\u001b[39mstatus line\u001b[39m\u001b[39m\"\u001b[39m)\n",
      "File \u001b[0;32m/usr/local/Cellar/python@3.10/3.10.8/Frameworks/Python.framework/Versions/3.10/lib/python3.10/socket.py:705\u001b[0m, in \u001b[0;36mSocketIO.readinto\u001b[0;34m(self, b)\u001b[0m\n\u001b[1;32m    703\u001b[0m \u001b[39mwhile\u001b[39;00m \u001b[39mTrue\u001b[39;00m:\n\u001b[1;32m    704\u001b[0m     \u001b[39mtry\u001b[39;00m:\n\u001b[0;32m--> 705\u001b[0m         \u001b[39mreturn\u001b[39;00m \u001b[39mself\u001b[39;49m\u001b[39m.\u001b[39;49m_sock\u001b[39m.\u001b[39;49mrecv_into(b)\n\u001b[1;32m    706\u001b[0m     \u001b[39mexcept\u001b[39;00m timeout:\n\u001b[1;32m    707\u001b[0m         \u001b[39mself\u001b[39m\u001b[39m.\u001b[39m_timeout_occurred \u001b[39m=\u001b[39m \u001b[39mTrue\u001b[39;00m\n",
      "\u001b[0;31mKeyboardInterrupt\u001b[0m: "
     ]
    }
   ],
   "source": [
    "%%jsoniq\n",
    "count(for $i in json-file(\"https://www.rumbledb.org/samples/git-archive-big.json\")\n",
    "return $i)"
   ]
  },
  {
   "cell_type": "code",
   "execution_count": null,
   "metadata": {},
   "outputs": [
    {
     "ename": "KeyboardInterrupt",
     "evalue": "",
     "output_type": "error",
     "traceback": [
      "\u001b[0;31m---------------------------------------------------------------------------\u001b[0m",
      "\u001b[0;31mKeyboardInterrupt\u001b[0m                         Traceback (most recent call last)",
      "Cell \u001b[0;32mIn[7], line 1\u001b[0m\n\u001b[0;32m----> 1\u001b[0m get_ipython()\u001b[39m.\u001b[39;49mrun_cell_magic(\u001b[39m'\u001b[39;49m\u001b[39mjsoniq\u001b[39;49m\u001b[39m'\u001b[39;49m, \u001b[39m'\u001b[39;49m\u001b[39m'\u001b[39;49m, \u001b[39m'\u001b[39;49m\u001b[39mlet $path := \u001b[39;49m\u001b[39m\"\u001b[39;49m\u001b[39mhttps://www.rumbledb.org/samples/git-archive-small.json\u001b[39;49m\u001b[39m\"\u001b[39;49m\u001b[39m\\n\u001b[39;49;00m\u001b[39mreturn json-file($path)[1]\u001b[39;49m\u001b[39m\\n\u001b[39;49;00m\u001b[39m'\u001b[39;49m)\n",
      "File \u001b[0;32m~/Library/Python/3.10/lib/python/site-packages/IPython/core/interactiveshell.py:2417\u001b[0m, in \u001b[0;36mInteractiveShell.run_cell_magic\u001b[0;34m(self, magic_name, line, cell)\u001b[0m\n\u001b[1;32m   2415\u001b[0m \u001b[39mwith\u001b[39;00m \u001b[39mself\u001b[39m\u001b[39m.\u001b[39mbuiltin_trap:\n\u001b[1;32m   2416\u001b[0m     args \u001b[39m=\u001b[39m (magic_arg_s, cell)\n\u001b[0;32m-> 2417\u001b[0m     result \u001b[39m=\u001b[39m fn(\u001b[39m*\u001b[39;49margs, \u001b[39m*\u001b[39;49m\u001b[39m*\u001b[39;49mkwargs)\n\u001b[1;32m   2418\u001b[0m \u001b[39mreturn\u001b[39;00m result\n",
      "File \u001b[0;32m/usr/local/lib/python3.10/site-packages/rumbledb/rumbledb.py:16\u001b[0m, in \u001b[0;36mRumbleDBServerMagic.jsoniq\u001b[0;34m(self, line, cell)\u001b[0m\n\u001b[1;32m     13\u001b[0m     data \u001b[39m=\u001b[39m cell\n\u001b[1;32m     15\u001b[0m start \u001b[39m=\u001b[39m time\u001b[39m.\u001b[39mtime()                                                         \n\u001b[0;32m---> 16\u001b[0m response \u001b[39m=\u001b[39m json\u001b[39m.\u001b[39mloads(requests\u001b[39m.\u001b[39;49mpost(os\u001b[39m.\u001b[39;49menviron[\u001b[39m\"\u001b[39;49m\u001b[39mRUMBLEDB_SERVER\u001b[39;49m\u001b[39m\"\u001b[39;49m], data\u001b[39m=\u001b[39;49mdata)\u001b[39m.\u001b[39mtext)                   \n\u001b[1;32m     17\u001b[0m end \u001b[39m=\u001b[39m time\u001b[39m.\u001b[39mtime()                                                              \n\u001b[1;32m     18\u001b[0m \u001b[39mprint\u001b[39m(\u001b[39m\"\u001b[39m\u001b[39mTook: \u001b[39m\u001b[39m%s\u001b[39;00m\u001b[39m ms\u001b[39m\u001b[39m\"\u001b[39m \u001b[39m%\u001b[39m (end \u001b[39m-\u001b[39m start))\n",
      "File \u001b[0;32m/usr/local/lib/python3.10/site-packages/requests/api.py:115\u001b[0m, in \u001b[0;36mpost\u001b[0;34m(url, data, json, **kwargs)\u001b[0m\n\u001b[1;32m    103\u001b[0m \u001b[39mdef\u001b[39;00m \u001b[39mpost\u001b[39m(url, data\u001b[39m=\u001b[39m\u001b[39mNone\u001b[39;00m, json\u001b[39m=\u001b[39m\u001b[39mNone\u001b[39;00m, \u001b[39m*\u001b[39m\u001b[39m*\u001b[39mkwargs):\n\u001b[1;32m    104\u001b[0m     \u001b[39mr\u001b[39m\u001b[39m\"\"\"Sends a POST request.\u001b[39;00m\n\u001b[1;32m    105\u001b[0m \n\u001b[1;32m    106\u001b[0m \u001b[39m    :param url: URL for the new :class:`Request` object.\u001b[39;00m\n\u001b[0;32m   (...)\u001b[0m\n\u001b[1;32m    112\u001b[0m \u001b[39m    :rtype: requests.Response\u001b[39;00m\n\u001b[1;32m    113\u001b[0m \u001b[39m    \"\"\"\u001b[39;00m\n\u001b[0;32m--> 115\u001b[0m     \u001b[39mreturn\u001b[39;00m request(\u001b[39m\"\u001b[39;49m\u001b[39mpost\u001b[39;49m\u001b[39m\"\u001b[39;49m, url, data\u001b[39m=\u001b[39;49mdata, json\u001b[39m=\u001b[39;49mjson, \u001b[39m*\u001b[39;49m\u001b[39m*\u001b[39;49mkwargs)\n",
      "File \u001b[0;32m/usr/local/lib/python3.10/site-packages/requests/api.py:59\u001b[0m, in \u001b[0;36mrequest\u001b[0;34m(method, url, **kwargs)\u001b[0m\n\u001b[1;32m     55\u001b[0m \u001b[39m# By using the 'with' statement we are sure the session is closed, thus we\u001b[39;00m\n\u001b[1;32m     56\u001b[0m \u001b[39m# avoid leaving sockets open which can trigger a ResourceWarning in some\u001b[39;00m\n\u001b[1;32m     57\u001b[0m \u001b[39m# cases, and look like a memory leak in others.\u001b[39;00m\n\u001b[1;32m     58\u001b[0m \u001b[39mwith\u001b[39;00m sessions\u001b[39m.\u001b[39mSession() \u001b[39mas\u001b[39;00m session:\n\u001b[0;32m---> 59\u001b[0m     \u001b[39mreturn\u001b[39;00m session\u001b[39m.\u001b[39;49mrequest(method\u001b[39m=\u001b[39;49mmethod, url\u001b[39m=\u001b[39;49murl, \u001b[39m*\u001b[39;49m\u001b[39m*\u001b[39;49mkwargs)\n",
      "File \u001b[0;32m/usr/local/lib/python3.10/site-packages/requests/sessions.py:587\u001b[0m, in \u001b[0;36mSession.request\u001b[0;34m(self, method, url, params, data, headers, cookies, files, auth, timeout, allow_redirects, proxies, hooks, stream, verify, cert, json)\u001b[0m\n\u001b[1;32m    582\u001b[0m send_kwargs \u001b[39m=\u001b[39m {\n\u001b[1;32m    583\u001b[0m     \u001b[39m\"\u001b[39m\u001b[39mtimeout\u001b[39m\u001b[39m\"\u001b[39m: timeout,\n\u001b[1;32m    584\u001b[0m     \u001b[39m\"\u001b[39m\u001b[39mallow_redirects\u001b[39m\u001b[39m\"\u001b[39m: allow_redirects,\n\u001b[1;32m    585\u001b[0m }\n\u001b[1;32m    586\u001b[0m send_kwargs\u001b[39m.\u001b[39mupdate(settings)\n\u001b[0;32m--> 587\u001b[0m resp \u001b[39m=\u001b[39m \u001b[39mself\u001b[39;49m\u001b[39m.\u001b[39;49msend(prep, \u001b[39m*\u001b[39;49m\u001b[39m*\u001b[39;49msend_kwargs)\n\u001b[1;32m    589\u001b[0m \u001b[39mreturn\u001b[39;00m resp\n",
      "File \u001b[0;32m/usr/local/lib/python3.10/site-packages/requests/sessions.py:701\u001b[0m, in \u001b[0;36mSession.send\u001b[0;34m(self, request, **kwargs)\u001b[0m\n\u001b[1;32m    698\u001b[0m start \u001b[39m=\u001b[39m preferred_clock()\n\u001b[1;32m    700\u001b[0m \u001b[39m# Send the request\u001b[39;00m\n\u001b[0;32m--> 701\u001b[0m r \u001b[39m=\u001b[39m adapter\u001b[39m.\u001b[39;49msend(request, \u001b[39m*\u001b[39;49m\u001b[39m*\u001b[39;49mkwargs)\n\u001b[1;32m    703\u001b[0m \u001b[39m# Total elapsed time of the request (approximately)\u001b[39;00m\n\u001b[1;32m    704\u001b[0m elapsed \u001b[39m=\u001b[39m preferred_clock() \u001b[39m-\u001b[39m start\n",
      "File \u001b[0;32m/usr/local/lib/python3.10/site-packages/requests/adapters.py:489\u001b[0m, in \u001b[0;36mHTTPAdapter.send\u001b[0;34m(self, request, stream, timeout, verify, cert, proxies)\u001b[0m\n\u001b[1;32m    487\u001b[0m \u001b[39mtry\u001b[39;00m:\n\u001b[1;32m    488\u001b[0m     \u001b[39mif\u001b[39;00m \u001b[39mnot\u001b[39;00m chunked:\n\u001b[0;32m--> 489\u001b[0m         resp \u001b[39m=\u001b[39m conn\u001b[39m.\u001b[39;49murlopen(\n\u001b[1;32m    490\u001b[0m             method\u001b[39m=\u001b[39;49mrequest\u001b[39m.\u001b[39;49mmethod,\n\u001b[1;32m    491\u001b[0m             url\u001b[39m=\u001b[39;49murl,\n\u001b[1;32m    492\u001b[0m             body\u001b[39m=\u001b[39;49mrequest\u001b[39m.\u001b[39;49mbody,\n\u001b[1;32m    493\u001b[0m             headers\u001b[39m=\u001b[39;49mrequest\u001b[39m.\u001b[39;49mheaders,\n\u001b[1;32m    494\u001b[0m             redirect\u001b[39m=\u001b[39;49m\u001b[39mFalse\u001b[39;49;00m,\n\u001b[1;32m    495\u001b[0m             assert_same_host\u001b[39m=\u001b[39;49m\u001b[39mFalse\u001b[39;49;00m,\n\u001b[1;32m    496\u001b[0m             preload_content\u001b[39m=\u001b[39;49m\u001b[39mFalse\u001b[39;49;00m,\n\u001b[1;32m    497\u001b[0m             decode_content\u001b[39m=\u001b[39;49m\u001b[39mFalse\u001b[39;49;00m,\n\u001b[1;32m    498\u001b[0m             retries\u001b[39m=\u001b[39;49m\u001b[39mself\u001b[39;49m\u001b[39m.\u001b[39;49mmax_retries,\n\u001b[1;32m    499\u001b[0m             timeout\u001b[39m=\u001b[39;49mtimeout,\n\u001b[1;32m    500\u001b[0m         )\n\u001b[1;32m    502\u001b[0m     \u001b[39m# Send the request.\u001b[39;00m\n\u001b[1;32m    503\u001b[0m     \u001b[39melse\u001b[39;00m:\n\u001b[1;32m    504\u001b[0m         \u001b[39mif\u001b[39;00m \u001b[39mhasattr\u001b[39m(conn, \u001b[39m\"\u001b[39m\u001b[39mproxy_pool\u001b[39m\u001b[39m\"\u001b[39m):\n",
      "File \u001b[0;32m/usr/local/lib/python3.10/site-packages/urllib3/connectionpool.py:703\u001b[0m, in \u001b[0;36mHTTPConnectionPool.urlopen\u001b[0;34m(self, method, url, body, headers, retries, redirect, assert_same_host, timeout, pool_timeout, release_conn, chunked, body_pos, **response_kw)\u001b[0m\n\u001b[1;32m    700\u001b[0m     \u001b[39mself\u001b[39m\u001b[39m.\u001b[39m_prepare_proxy(conn)\n\u001b[1;32m    702\u001b[0m \u001b[39m# Make the request on the httplib connection object.\u001b[39;00m\n\u001b[0;32m--> 703\u001b[0m httplib_response \u001b[39m=\u001b[39m \u001b[39mself\u001b[39;49m\u001b[39m.\u001b[39;49m_make_request(\n\u001b[1;32m    704\u001b[0m     conn,\n\u001b[1;32m    705\u001b[0m     method,\n\u001b[1;32m    706\u001b[0m     url,\n\u001b[1;32m    707\u001b[0m     timeout\u001b[39m=\u001b[39;49mtimeout_obj,\n\u001b[1;32m    708\u001b[0m     body\u001b[39m=\u001b[39;49mbody,\n\u001b[1;32m    709\u001b[0m     headers\u001b[39m=\u001b[39;49mheaders,\n\u001b[1;32m    710\u001b[0m     chunked\u001b[39m=\u001b[39;49mchunked,\n\u001b[1;32m    711\u001b[0m )\n\u001b[1;32m    713\u001b[0m \u001b[39m# If we're going to release the connection in ``finally:``, then\u001b[39;00m\n\u001b[1;32m    714\u001b[0m \u001b[39m# the response doesn't need to know about the connection. Otherwise\u001b[39;00m\n\u001b[1;32m    715\u001b[0m \u001b[39m# it will also try to release it and we'll have a double-release\u001b[39;00m\n\u001b[1;32m    716\u001b[0m \u001b[39m# mess.\u001b[39;00m\n\u001b[1;32m    717\u001b[0m response_conn \u001b[39m=\u001b[39m conn \u001b[39mif\u001b[39;00m \u001b[39mnot\u001b[39;00m release_conn \u001b[39melse\u001b[39;00m \u001b[39mNone\u001b[39;00m\n",
      "File \u001b[0;32m/usr/local/lib/python3.10/site-packages/urllib3/connectionpool.py:449\u001b[0m, in \u001b[0;36mHTTPConnectionPool._make_request\u001b[0;34m(self, conn, method, url, timeout, chunked, **httplib_request_kw)\u001b[0m\n\u001b[1;32m    444\u001b[0m             httplib_response \u001b[39m=\u001b[39m conn\u001b[39m.\u001b[39mgetresponse()\n\u001b[1;32m    445\u001b[0m         \u001b[39mexcept\u001b[39;00m \u001b[39mBaseException\u001b[39;00m \u001b[39mas\u001b[39;00m e:\n\u001b[1;32m    446\u001b[0m             \u001b[39m# Remove the TypeError from the exception chain in\u001b[39;00m\n\u001b[1;32m    447\u001b[0m             \u001b[39m# Python 3 (including for exceptions like SystemExit).\u001b[39;00m\n\u001b[1;32m    448\u001b[0m             \u001b[39m# Otherwise it looks like a bug in the code.\u001b[39;00m\n\u001b[0;32m--> 449\u001b[0m             six\u001b[39m.\u001b[39;49mraise_from(e, \u001b[39mNone\u001b[39;49;00m)\n\u001b[1;32m    450\u001b[0m \u001b[39mexcept\u001b[39;00m (SocketTimeout, BaseSSLError, SocketError) \u001b[39mas\u001b[39;00m e:\n\u001b[1;32m    451\u001b[0m     \u001b[39mself\u001b[39m\u001b[39m.\u001b[39m_raise_timeout(err\u001b[39m=\u001b[39me, url\u001b[39m=\u001b[39murl, timeout_value\u001b[39m=\u001b[39mread_timeout)\n",
      "File \u001b[0;32m<string>:3\u001b[0m, in \u001b[0;36mraise_from\u001b[0;34m(value, from_value)\u001b[0m\n",
      "File \u001b[0;32m/usr/local/lib/python3.10/site-packages/urllib3/connectionpool.py:444\u001b[0m, in \u001b[0;36mHTTPConnectionPool._make_request\u001b[0;34m(self, conn, method, url, timeout, chunked, **httplib_request_kw)\u001b[0m\n\u001b[1;32m    441\u001b[0m \u001b[39mexcept\u001b[39;00m \u001b[39mTypeError\u001b[39;00m:\n\u001b[1;32m    442\u001b[0m     \u001b[39m# Python 3\u001b[39;00m\n\u001b[1;32m    443\u001b[0m     \u001b[39mtry\u001b[39;00m:\n\u001b[0;32m--> 444\u001b[0m         httplib_response \u001b[39m=\u001b[39m conn\u001b[39m.\u001b[39;49mgetresponse()\n\u001b[1;32m    445\u001b[0m     \u001b[39mexcept\u001b[39;00m \u001b[39mBaseException\u001b[39;00m \u001b[39mas\u001b[39;00m e:\n\u001b[1;32m    446\u001b[0m         \u001b[39m# Remove the TypeError from the exception chain in\u001b[39;00m\n\u001b[1;32m    447\u001b[0m         \u001b[39m# Python 3 (including for exceptions like SystemExit).\u001b[39;00m\n\u001b[1;32m    448\u001b[0m         \u001b[39m# Otherwise it looks like a bug in the code.\u001b[39;00m\n\u001b[1;32m    449\u001b[0m         six\u001b[39m.\u001b[39mraise_from(e, \u001b[39mNone\u001b[39;00m)\n",
      "File \u001b[0;32m/usr/local/Cellar/python@3.10/3.10.8/Frameworks/Python.framework/Versions/3.10/lib/python3.10/http/client.py:1374\u001b[0m, in \u001b[0;36mHTTPConnection.getresponse\u001b[0;34m(self)\u001b[0m\n\u001b[1;32m   1372\u001b[0m \u001b[39mtry\u001b[39;00m:\n\u001b[1;32m   1373\u001b[0m     \u001b[39mtry\u001b[39;00m:\n\u001b[0;32m-> 1374\u001b[0m         response\u001b[39m.\u001b[39;49mbegin()\n\u001b[1;32m   1375\u001b[0m     \u001b[39mexcept\u001b[39;00m \u001b[39mConnectionError\u001b[39;00m:\n\u001b[1;32m   1376\u001b[0m         \u001b[39mself\u001b[39m\u001b[39m.\u001b[39mclose()\n",
      "File \u001b[0;32m/usr/local/Cellar/python@3.10/3.10.8/Frameworks/Python.framework/Versions/3.10/lib/python3.10/http/client.py:318\u001b[0m, in \u001b[0;36mHTTPResponse.begin\u001b[0;34m(self)\u001b[0m\n\u001b[1;32m    316\u001b[0m \u001b[39m# read until we get a non-100 response\u001b[39;00m\n\u001b[1;32m    317\u001b[0m \u001b[39mwhile\u001b[39;00m \u001b[39mTrue\u001b[39;00m:\n\u001b[0;32m--> 318\u001b[0m     version, status, reason \u001b[39m=\u001b[39m \u001b[39mself\u001b[39;49m\u001b[39m.\u001b[39;49m_read_status()\n\u001b[1;32m    319\u001b[0m     \u001b[39mif\u001b[39;00m status \u001b[39m!=\u001b[39m CONTINUE:\n\u001b[1;32m    320\u001b[0m         \u001b[39mbreak\u001b[39;00m\n",
      "File \u001b[0;32m/usr/local/Cellar/python@3.10/3.10.8/Frameworks/Python.framework/Versions/3.10/lib/python3.10/http/client.py:279\u001b[0m, in \u001b[0;36mHTTPResponse._read_status\u001b[0;34m(self)\u001b[0m\n\u001b[1;32m    278\u001b[0m \u001b[39mdef\u001b[39;00m \u001b[39m_read_status\u001b[39m(\u001b[39mself\u001b[39m):\n\u001b[0;32m--> 279\u001b[0m     line \u001b[39m=\u001b[39m \u001b[39mstr\u001b[39m(\u001b[39mself\u001b[39;49m\u001b[39m.\u001b[39;49mfp\u001b[39m.\u001b[39;49mreadline(_MAXLINE \u001b[39m+\u001b[39;49m \u001b[39m1\u001b[39;49m), \u001b[39m\"\u001b[39m\u001b[39miso-8859-1\u001b[39m\u001b[39m\"\u001b[39m)\n\u001b[1;32m    280\u001b[0m     \u001b[39mif\u001b[39;00m \u001b[39mlen\u001b[39m(line) \u001b[39m>\u001b[39m _MAXLINE:\n\u001b[1;32m    281\u001b[0m         \u001b[39mraise\u001b[39;00m LineTooLong(\u001b[39m\"\u001b[39m\u001b[39mstatus line\u001b[39m\u001b[39m\"\u001b[39m)\n",
      "File \u001b[0;32m/usr/local/Cellar/python@3.10/3.10.8/Frameworks/Python.framework/Versions/3.10/lib/python3.10/socket.py:705\u001b[0m, in \u001b[0;36mSocketIO.readinto\u001b[0;34m(self, b)\u001b[0m\n\u001b[1;32m    703\u001b[0m \u001b[39mwhile\u001b[39;00m \u001b[39mTrue\u001b[39;00m:\n\u001b[1;32m    704\u001b[0m     \u001b[39mtry\u001b[39;00m:\n\u001b[0;32m--> 705\u001b[0m         \u001b[39mreturn\u001b[39;00m \u001b[39mself\u001b[39;49m\u001b[39m.\u001b[39;49m_sock\u001b[39m.\u001b[39;49mrecv_into(b)\n\u001b[1;32m    706\u001b[0m     \u001b[39mexcept\u001b[39;00m timeout:\n\u001b[1;32m    707\u001b[0m         \u001b[39mself\u001b[39m\u001b[39m.\u001b[39m_timeout_occurred \u001b[39m=\u001b[39m \u001b[39mTrue\u001b[39;00m\n",
      "\u001b[0;31mKeyboardInterrupt\u001b[0m: "
     ]
    }
   ],
   "source": [
    "%%jsoniq\n",
    "let $path := \"https://www.rumbledb.org/samples/git-archive-small.json\"\n",
    "return json-file($path)[1]\n"
   ]
  },
  {
   "cell_type": "markdown",
   "metadata": {},
   "source": [
    "### Question 1: Which actor commited the most events of the type \"PushEvent\", and how many did they commit? \n",
    "\n",
    "Answer with the actor id, and the frequency of its push events. "
   ]
  },
  {
   "cell_type": "code",
   "execution_count": null,
   "metadata": {},
   "outputs": [
    {
     "ename": "KeyboardInterrupt",
     "evalue": "",
     "output_type": "error",
     "traceback": [
      "\u001b[0;31m---------------------------------------------------------------------------\u001b[0m",
      "\u001b[0;31mKeyboardInterrupt\u001b[0m                         Traceback (most recent call last)",
      "Cell \u001b[0;32mIn[8], line 1\u001b[0m\n\u001b[0;32m----> 1\u001b[0m get_ipython()\u001b[39m.\u001b[39;49mrun_cell_magic(\u001b[39m'\u001b[39;49m\u001b[39mjsoniq\u001b[39;49m\u001b[39m'\u001b[39;49m, \u001b[39m'\u001b[39;49m\u001b[39m'\u001b[39;49m, \u001b[39m'\u001b[39;49m\u001b[39mlet $path := \u001b[39;49m\u001b[39m\"\u001b[39;49m\u001b[39mgit-archive-big.json\u001b[39;49m\u001b[39m\"\u001b[39;49m\u001b[39m\\n\u001b[39;49;00m\u001b[39mfor $event in json-file($path)\u001b[39;49m\u001b[39m\\n\u001b[39;49;00m\u001b[39mgroup by $actor := $event.actor\u001b[39;49m\u001b[39m\\n\u001b[39;49;00m\u001b[39mwhere $event.type = \u001b[39;49m\u001b[39m\"\u001b[39;49m\u001b[39mPushEvent\u001b[39;49m\u001b[39m\"\u001b[39;49m\u001b[39m\\n\u001b[39;49;00m\u001b[39mlet $count := count($event)\u001b[39;49m\u001b[39m\\n\u001b[39;49;00m\u001b[39morder by $count descending\u001b[39;49m\u001b[39m\\n\u001b[39;49;00m\u001b[39mcount $c\u001b[39;49m\u001b[39m\\n\u001b[39;49;00m\u001b[39mwhere $c le 5\u001b[39;49m\u001b[39m\\n\u001b[39;49;00m\u001b[39mreturn \u001b[39;49m\u001b[39m{\u001b[39;49m\u001b[39m\\n\u001b[39;49;00m\u001b[39m\"\u001b[39;49m\u001b[39mid\u001b[39;49m\u001b[39m\"\u001b[39;49m\u001b[39m : $actor,\u001b[39;49m\u001b[39m\\n\u001b[39;49;00m\u001b[39m\"\u001b[39;49m\u001b[39mcount\u001b[39;49m\u001b[39m\"\u001b[39;49m\u001b[39m : $cnt}\u001b[39;49m\u001b[39m\\n\u001b[39;49;00m\u001b[39m'\u001b[39;49m)\n",
      "File \u001b[0;32m~/Library/Python/3.10/lib/python/site-packages/IPython/core/interactiveshell.py:2417\u001b[0m, in \u001b[0;36mInteractiveShell.run_cell_magic\u001b[0;34m(self, magic_name, line, cell)\u001b[0m\n\u001b[1;32m   2415\u001b[0m \u001b[39mwith\u001b[39;00m \u001b[39mself\u001b[39m\u001b[39m.\u001b[39mbuiltin_trap:\n\u001b[1;32m   2416\u001b[0m     args \u001b[39m=\u001b[39m (magic_arg_s, cell)\n\u001b[0;32m-> 2417\u001b[0m     result \u001b[39m=\u001b[39m fn(\u001b[39m*\u001b[39;49margs, \u001b[39m*\u001b[39;49m\u001b[39m*\u001b[39;49mkwargs)\n\u001b[1;32m   2418\u001b[0m \u001b[39mreturn\u001b[39;00m result\n",
      "File \u001b[0;32m/usr/local/lib/python3.10/site-packages/rumbledb/rumbledb.py:16\u001b[0m, in \u001b[0;36mRumbleDBServerMagic.jsoniq\u001b[0;34m(self, line, cell)\u001b[0m\n\u001b[1;32m     13\u001b[0m     data \u001b[39m=\u001b[39m cell\n\u001b[1;32m     15\u001b[0m start \u001b[39m=\u001b[39m time\u001b[39m.\u001b[39mtime()                                                         \n\u001b[0;32m---> 16\u001b[0m response \u001b[39m=\u001b[39m json\u001b[39m.\u001b[39mloads(requests\u001b[39m.\u001b[39;49mpost(os\u001b[39m.\u001b[39;49menviron[\u001b[39m\"\u001b[39;49m\u001b[39mRUMBLEDB_SERVER\u001b[39;49m\u001b[39m\"\u001b[39;49m], data\u001b[39m=\u001b[39;49mdata)\u001b[39m.\u001b[39mtext)                   \n\u001b[1;32m     17\u001b[0m end \u001b[39m=\u001b[39m time\u001b[39m.\u001b[39mtime()                                                              \n\u001b[1;32m     18\u001b[0m \u001b[39mprint\u001b[39m(\u001b[39m\"\u001b[39m\u001b[39mTook: \u001b[39m\u001b[39m%s\u001b[39;00m\u001b[39m ms\u001b[39m\u001b[39m\"\u001b[39m \u001b[39m%\u001b[39m (end \u001b[39m-\u001b[39m start))\n",
      "File \u001b[0;32m/usr/local/lib/python3.10/site-packages/requests/api.py:115\u001b[0m, in \u001b[0;36mpost\u001b[0;34m(url, data, json, **kwargs)\u001b[0m\n\u001b[1;32m    103\u001b[0m \u001b[39mdef\u001b[39;00m \u001b[39mpost\u001b[39m(url, data\u001b[39m=\u001b[39m\u001b[39mNone\u001b[39;00m, json\u001b[39m=\u001b[39m\u001b[39mNone\u001b[39;00m, \u001b[39m*\u001b[39m\u001b[39m*\u001b[39mkwargs):\n\u001b[1;32m    104\u001b[0m     \u001b[39mr\u001b[39m\u001b[39m\"\"\"Sends a POST request.\u001b[39;00m\n\u001b[1;32m    105\u001b[0m \n\u001b[1;32m    106\u001b[0m \u001b[39m    :param url: URL for the new :class:`Request` object.\u001b[39;00m\n\u001b[0;32m   (...)\u001b[0m\n\u001b[1;32m    112\u001b[0m \u001b[39m    :rtype: requests.Response\u001b[39;00m\n\u001b[1;32m    113\u001b[0m \u001b[39m    \"\"\"\u001b[39;00m\n\u001b[0;32m--> 115\u001b[0m     \u001b[39mreturn\u001b[39;00m request(\u001b[39m\"\u001b[39;49m\u001b[39mpost\u001b[39;49m\u001b[39m\"\u001b[39;49m, url, data\u001b[39m=\u001b[39;49mdata, json\u001b[39m=\u001b[39;49mjson, \u001b[39m*\u001b[39;49m\u001b[39m*\u001b[39;49mkwargs)\n",
      "File \u001b[0;32m/usr/local/lib/python3.10/site-packages/requests/api.py:59\u001b[0m, in \u001b[0;36mrequest\u001b[0;34m(method, url, **kwargs)\u001b[0m\n\u001b[1;32m     55\u001b[0m \u001b[39m# By using the 'with' statement we are sure the session is closed, thus we\u001b[39;00m\n\u001b[1;32m     56\u001b[0m \u001b[39m# avoid leaving sockets open which can trigger a ResourceWarning in some\u001b[39;00m\n\u001b[1;32m     57\u001b[0m \u001b[39m# cases, and look like a memory leak in others.\u001b[39;00m\n\u001b[1;32m     58\u001b[0m \u001b[39mwith\u001b[39;00m sessions\u001b[39m.\u001b[39mSession() \u001b[39mas\u001b[39;00m session:\n\u001b[0;32m---> 59\u001b[0m     \u001b[39mreturn\u001b[39;00m session\u001b[39m.\u001b[39;49mrequest(method\u001b[39m=\u001b[39;49mmethod, url\u001b[39m=\u001b[39;49murl, \u001b[39m*\u001b[39;49m\u001b[39m*\u001b[39;49mkwargs)\n",
      "File \u001b[0;32m/usr/local/lib/python3.10/site-packages/requests/sessions.py:587\u001b[0m, in \u001b[0;36mSession.request\u001b[0;34m(self, method, url, params, data, headers, cookies, files, auth, timeout, allow_redirects, proxies, hooks, stream, verify, cert, json)\u001b[0m\n\u001b[1;32m    582\u001b[0m send_kwargs \u001b[39m=\u001b[39m {\n\u001b[1;32m    583\u001b[0m     \u001b[39m\"\u001b[39m\u001b[39mtimeout\u001b[39m\u001b[39m\"\u001b[39m: timeout,\n\u001b[1;32m    584\u001b[0m     \u001b[39m\"\u001b[39m\u001b[39mallow_redirects\u001b[39m\u001b[39m\"\u001b[39m: allow_redirects,\n\u001b[1;32m    585\u001b[0m }\n\u001b[1;32m    586\u001b[0m send_kwargs\u001b[39m.\u001b[39mupdate(settings)\n\u001b[0;32m--> 587\u001b[0m resp \u001b[39m=\u001b[39m \u001b[39mself\u001b[39;49m\u001b[39m.\u001b[39;49msend(prep, \u001b[39m*\u001b[39;49m\u001b[39m*\u001b[39;49msend_kwargs)\n\u001b[1;32m    589\u001b[0m \u001b[39mreturn\u001b[39;00m resp\n",
      "File \u001b[0;32m/usr/local/lib/python3.10/site-packages/requests/sessions.py:701\u001b[0m, in \u001b[0;36mSession.send\u001b[0;34m(self, request, **kwargs)\u001b[0m\n\u001b[1;32m    698\u001b[0m start \u001b[39m=\u001b[39m preferred_clock()\n\u001b[1;32m    700\u001b[0m \u001b[39m# Send the request\u001b[39;00m\n\u001b[0;32m--> 701\u001b[0m r \u001b[39m=\u001b[39m adapter\u001b[39m.\u001b[39;49msend(request, \u001b[39m*\u001b[39;49m\u001b[39m*\u001b[39;49mkwargs)\n\u001b[1;32m    703\u001b[0m \u001b[39m# Total elapsed time of the request (approximately)\u001b[39;00m\n\u001b[1;32m    704\u001b[0m elapsed \u001b[39m=\u001b[39m preferred_clock() \u001b[39m-\u001b[39m start\n",
      "File \u001b[0;32m/usr/local/lib/python3.10/site-packages/requests/adapters.py:489\u001b[0m, in \u001b[0;36mHTTPAdapter.send\u001b[0;34m(self, request, stream, timeout, verify, cert, proxies)\u001b[0m\n\u001b[1;32m    487\u001b[0m \u001b[39mtry\u001b[39;00m:\n\u001b[1;32m    488\u001b[0m     \u001b[39mif\u001b[39;00m \u001b[39mnot\u001b[39;00m chunked:\n\u001b[0;32m--> 489\u001b[0m         resp \u001b[39m=\u001b[39m conn\u001b[39m.\u001b[39;49murlopen(\n\u001b[1;32m    490\u001b[0m             method\u001b[39m=\u001b[39;49mrequest\u001b[39m.\u001b[39;49mmethod,\n\u001b[1;32m    491\u001b[0m             url\u001b[39m=\u001b[39;49murl,\n\u001b[1;32m    492\u001b[0m             body\u001b[39m=\u001b[39;49mrequest\u001b[39m.\u001b[39;49mbody,\n\u001b[1;32m    493\u001b[0m             headers\u001b[39m=\u001b[39;49mrequest\u001b[39m.\u001b[39;49mheaders,\n\u001b[1;32m    494\u001b[0m             redirect\u001b[39m=\u001b[39;49m\u001b[39mFalse\u001b[39;49;00m,\n\u001b[1;32m    495\u001b[0m             assert_same_host\u001b[39m=\u001b[39;49m\u001b[39mFalse\u001b[39;49;00m,\n\u001b[1;32m    496\u001b[0m             preload_content\u001b[39m=\u001b[39;49m\u001b[39mFalse\u001b[39;49;00m,\n\u001b[1;32m    497\u001b[0m             decode_content\u001b[39m=\u001b[39;49m\u001b[39mFalse\u001b[39;49;00m,\n\u001b[1;32m    498\u001b[0m             retries\u001b[39m=\u001b[39;49m\u001b[39mself\u001b[39;49m\u001b[39m.\u001b[39;49mmax_retries,\n\u001b[1;32m    499\u001b[0m             timeout\u001b[39m=\u001b[39;49mtimeout,\n\u001b[1;32m    500\u001b[0m         )\n\u001b[1;32m    502\u001b[0m     \u001b[39m# Send the request.\u001b[39;00m\n\u001b[1;32m    503\u001b[0m     \u001b[39melse\u001b[39;00m:\n\u001b[1;32m    504\u001b[0m         \u001b[39mif\u001b[39;00m \u001b[39mhasattr\u001b[39m(conn, \u001b[39m\"\u001b[39m\u001b[39mproxy_pool\u001b[39m\u001b[39m\"\u001b[39m):\n",
      "File \u001b[0;32m/usr/local/lib/python3.10/site-packages/urllib3/connectionpool.py:703\u001b[0m, in \u001b[0;36mHTTPConnectionPool.urlopen\u001b[0;34m(self, method, url, body, headers, retries, redirect, assert_same_host, timeout, pool_timeout, release_conn, chunked, body_pos, **response_kw)\u001b[0m\n\u001b[1;32m    700\u001b[0m     \u001b[39mself\u001b[39m\u001b[39m.\u001b[39m_prepare_proxy(conn)\n\u001b[1;32m    702\u001b[0m \u001b[39m# Make the request on the httplib connection object.\u001b[39;00m\n\u001b[0;32m--> 703\u001b[0m httplib_response \u001b[39m=\u001b[39m \u001b[39mself\u001b[39;49m\u001b[39m.\u001b[39;49m_make_request(\n\u001b[1;32m    704\u001b[0m     conn,\n\u001b[1;32m    705\u001b[0m     method,\n\u001b[1;32m    706\u001b[0m     url,\n\u001b[1;32m    707\u001b[0m     timeout\u001b[39m=\u001b[39;49mtimeout_obj,\n\u001b[1;32m    708\u001b[0m     body\u001b[39m=\u001b[39;49mbody,\n\u001b[1;32m    709\u001b[0m     headers\u001b[39m=\u001b[39;49mheaders,\n\u001b[1;32m    710\u001b[0m     chunked\u001b[39m=\u001b[39;49mchunked,\n\u001b[1;32m    711\u001b[0m )\n\u001b[1;32m    713\u001b[0m \u001b[39m# If we're going to release the connection in ``finally:``, then\u001b[39;00m\n\u001b[1;32m    714\u001b[0m \u001b[39m# the response doesn't need to know about the connection. Otherwise\u001b[39;00m\n\u001b[1;32m    715\u001b[0m \u001b[39m# it will also try to release it and we'll have a double-release\u001b[39;00m\n\u001b[1;32m    716\u001b[0m \u001b[39m# mess.\u001b[39;00m\n\u001b[1;32m    717\u001b[0m response_conn \u001b[39m=\u001b[39m conn \u001b[39mif\u001b[39;00m \u001b[39mnot\u001b[39;00m release_conn \u001b[39melse\u001b[39;00m \u001b[39mNone\u001b[39;00m\n",
      "File \u001b[0;32m/usr/local/lib/python3.10/site-packages/urllib3/connectionpool.py:449\u001b[0m, in \u001b[0;36mHTTPConnectionPool._make_request\u001b[0;34m(self, conn, method, url, timeout, chunked, **httplib_request_kw)\u001b[0m\n\u001b[1;32m    444\u001b[0m             httplib_response \u001b[39m=\u001b[39m conn\u001b[39m.\u001b[39mgetresponse()\n\u001b[1;32m    445\u001b[0m         \u001b[39mexcept\u001b[39;00m \u001b[39mBaseException\u001b[39;00m \u001b[39mas\u001b[39;00m e:\n\u001b[1;32m    446\u001b[0m             \u001b[39m# Remove the TypeError from the exception chain in\u001b[39;00m\n\u001b[1;32m    447\u001b[0m             \u001b[39m# Python 3 (including for exceptions like SystemExit).\u001b[39;00m\n\u001b[1;32m    448\u001b[0m             \u001b[39m# Otherwise it looks like a bug in the code.\u001b[39;00m\n\u001b[0;32m--> 449\u001b[0m             six\u001b[39m.\u001b[39;49mraise_from(e, \u001b[39mNone\u001b[39;49;00m)\n\u001b[1;32m    450\u001b[0m \u001b[39mexcept\u001b[39;00m (SocketTimeout, BaseSSLError, SocketError) \u001b[39mas\u001b[39;00m e:\n\u001b[1;32m    451\u001b[0m     \u001b[39mself\u001b[39m\u001b[39m.\u001b[39m_raise_timeout(err\u001b[39m=\u001b[39me, url\u001b[39m=\u001b[39murl, timeout_value\u001b[39m=\u001b[39mread_timeout)\n",
      "File \u001b[0;32m<string>:3\u001b[0m, in \u001b[0;36mraise_from\u001b[0;34m(value, from_value)\u001b[0m\n",
      "File \u001b[0;32m/usr/local/lib/python3.10/site-packages/urllib3/connectionpool.py:444\u001b[0m, in \u001b[0;36mHTTPConnectionPool._make_request\u001b[0;34m(self, conn, method, url, timeout, chunked, **httplib_request_kw)\u001b[0m\n\u001b[1;32m    441\u001b[0m \u001b[39mexcept\u001b[39;00m \u001b[39mTypeError\u001b[39;00m:\n\u001b[1;32m    442\u001b[0m     \u001b[39m# Python 3\u001b[39;00m\n\u001b[1;32m    443\u001b[0m     \u001b[39mtry\u001b[39;00m:\n\u001b[0;32m--> 444\u001b[0m         httplib_response \u001b[39m=\u001b[39m conn\u001b[39m.\u001b[39;49mgetresponse()\n\u001b[1;32m    445\u001b[0m     \u001b[39mexcept\u001b[39;00m \u001b[39mBaseException\u001b[39;00m \u001b[39mas\u001b[39;00m e:\n\u001b[1;32m    446\u001b[0m         \u001b[39m# Remove the TypeError from the exception chain in\u001b[39;00m\n\u001b[1;32m    447\u001b[0m         \u001b[39m# Python 3 (including for exceptions like SystemExit).\u001b[39;00m\n\u001b[1;32m    448\u001b[0m         \u001b[39m# Otherwise it looks like a bug in the code.\u001b[39;00m\n\u001b[1;32m    449\u001b[0m         six\u001b[39m.\u001b[39mraise_from(e, \u001b[39mNone\u001b[39;00m)\n",
      "File \u001b[0;32m/usr/local/Cellar/python@3.10/3.10.8/Frameworks/Python.framework/Versions/3.10/lib/python3.10/http/client.py:1374\u001b[0m, in \u001b[0;36mHTTPConnection.getresponse\u001b[0;34m(self)\u001b[0m\n\u001b[1;32m   1372\u001b[0m \u001b[39mtry\u001b[39;00m:\n\u001b[1;32m   1373\u001b[0m     \u001b[39mtry\u001b[39;00m:\n\u001b[0;32m-> 1374\u001b[0m         response\u001b[39m.\u001b[39;49mbegin()\n\u001b[1;32m   1375\u001b[0m     \u001b[39mexcept\u001b[39;00m \u001b[39mConnectionError\u001b[39;00m:\n\u001b[1;32m   1376\u001b[0m         \u001b[39mself\u001b[39m\u001b[39m.\u001b[39mclose()\n",
      "File \u001b[0;32m/usr/local/Cellar/python@3.10/3.10.8/Frameworks/Python.framework/Versions/3.10/lib/python3.10/http/client.py:318\u001b[0m, in \u001b[0;36mHTTPResponse.begin\u001b[0;34m(self)\u001b[0m\n\u001b[1;32m    316\u001b[0m \u001b[39m# read until we get a non-100 response\u001b[39;00m\n\u001b[1;32m    317\u001b[0m \u001b[39mwhile\u001b[39;00m \u001b[39mTrue\u001b[39;00m:\n\u001b[0;32m--> 318\u001b[0m     version, status, reason \u001b[39m=\u001b[39m \u001b[39mself\u001b[39;49m\u001b[39m.\u001b[39;49m_read_status()\n\u001b[1;32m    319\u001b[0m     \u001b[39mif\u001b[39;00m status \u001b[39m!=\u001b[39m CONTINUE:\n\u001b[1;32m    320\u001b[0m         \u001b[39mbreak\u001b[39;00m\n",
      "File \u001b[0;32m/usr/local/Cellar/python@3.10/3.10.8/Frameworks/Python.framework/Versions/3.10/lib/python3.10/http/client.py:279\u001b[0m, in \u001b[0;36mHTTPResponse._read_status\u001b[0;34m(self)\u001b[0m\n\u001b[1;32m    278\u001b[0m \u001b[39mdef\u001b[39;00m \u001b[39m_read_status\u001b[39m(\u001b[39mself\u001b[39m):\n\u001b[0;32m--> 279\u001b[0m     line \u001b[39m=\u001b[39m \u001b[39mstr\u001b[39m(\u001b[39mself\u001b[39;49m\u001b[39m.\u001b[39;49mfp\u001b[39m.\u001b[39;49mreadline(_MAXLINE \u001b[39m+\u001b[39;49m \u001b[39m1\u001b[39;49m), \u001b[39m\"\u001b[39m\u001b[39miso-8859-1\u001b[39m\u001b[39m\"\u001b[39m)\n\u001b[1;32m    280\u001b[0m     \u001b[39mif\u001b[39;00m \u001b[39mlen\u001b[39m(line) \u001b[39m>\u001b[39m _MAXLINE:\n\u001b[1;32m    281\u001b[0m         \u001b[39mraise\u001b[39;00m LineTooLong(\u001b[39m\"\u001b[39m\u001b[39mstatus line\u001b[39m\u001b[39m\"\u001b[39m)\n",
      "File \u001b[0;32m/usr/local/Cellar/python@3.10/3.10.8/Frameworks/Python.framework/Versions/3.10/lib/python3.10/socket.py:705\u001b[0m, in \u001b[0;36mSocketIO.readinto\u001b[0;34m(self, b)\u001b[0m\n\u001b[1;32m    703\u001b[0m \u001b[39mwhile\u001b[39;00m \u001b[39mTrue\u001b[39;00m:\n\u001b[1;32m    704\u001b[0m     \u001b[39mtry\u001b[39;00m:\n\u001b[0;32m--> 705\u001b[0m         \u001b[39mreturn\u001b[39;00m \u001b[39mself\u001b[39;49m\u001b[39m.\u001b[39;49m_sock\u001b[39m.\u001b[39;49mrecv_into(b)\n\u001b[1;32m    706\u001b[0m     \u001b[39mexcept\u001b[39;00m timeout:\n\u001b[1;32m    707\u001b[0m         \u001b[39mself\u001b[39m\u001b[39m.\u001b[39m_timeout_occurred \u001b[39m=\u001b[39m \u001b[39mTrue\u001b[39;00m\n",
      "\u001b[0;31mKeyboardInterrupt\u001b[0m: "
     ]
    }
   ],
   "source": [
    "%%jsoniq\n",
    "let $path := \"git-archive-big.json\"\n",
    "for $event in json-file($path)\n",
    "group by $actor := $event.actor\n",
    "where $event.type = \"PushEvent\"\n",
    "let $count := count($event)\n",
    "order by $count descending\n",
    "count $c\n",
    "where $c le 5\n",
    "return {\n",
    "\"id\" : $actor,\n",
    "\"count\" : $cnt}"
   ]
  },
  {
   "cell_type": "code",
   "execution_count": null,
   "metadata": {},
   "outputs": [
    {
     "ename": "KeyboardInterrupt",
     "evalue": "",
     "output_type": "error",
     "traceback": [
      "\u001b[0;31m---------------------------------------------------------------------------\u001b[0m",
      "\u001b[0;31mKeyboardInterrupt\u001b[0m                         Traceback (most recent call last)",
      "Cell \u001b[0;32mIn[9], line 1\u001b[0m\n\u001b[0;32m----> 1\u001b[0m get_ipython()\u001b[39m.\u001b[39;49mrun_cell_magic(\u001b[39m'\u001b[39;49m\u001b[39mjsoniq\u001b[39;49m\u001b[39m'\u001b[39;49m, \u001b[39m'\u001b[39;49m\u001b[39m'\u001b[39;49m, \u001b[39m'\u001b[39;49m\u001b[39mfor $git in json-file(\u001b[39;49m\u001b[39m\"\u001b[39;49m\u001b[39mgit-archive-big.json\u001b[39;49m\u001b[39m\"\u001b[39;49m\u001b[39m)\u001b[39;49m\u001b[39m\\n\u001b[39;49;00m\u001b[39mlet $actor := $git.actor.id\u001b[39;49m\u001b[39m\\n\u001b[39;49;00m\u001b[39mgroup by $actor\u001b[39;49m\u001b[39m\\n\u001b[39;49;00m\u001b[39mwhere $git.type = \u001b[39;49m\u001b[39m\"\u001b[39;49m\u001b[39mPushEvent\u001b[39;49m\u001b[39m\"\u001b[39;49m\u001b[39m\\n\u001b[39;49;00m\u001b[39mlet $cnt := count($git)\u001b[39;49m\u001b[39m\\n\u001b[39;49;00m\u001b[39morder by $cnt descending\u001b[39;49m\u001b[39m\\n\u001b[39;49;00m\u001b[39mcount $c\u001b[39;49m\u001b[39m\\n\u001b[39;49;00m\u001b[39mwhere $c le 5\u001b[39;49m\u001b[39m\\n\u001b[39;49;00m\u001b[39mreturn \u001b[39;49m\u001b[39m{\u001b[39;49m\u001b[39m\\n\u001b[39;49;00m\u001b[39m\"\u001b[39;49m\u001b[39mid\u001b[39;49m\u001b[39m\"\u001b[39;49m\u001b[39m : $actor,\u001b[39;49m\u001b[39m\\n\u001b[39;49;00m\u001b[39m\"\u001b[39;49m\u001b[39mcount\u001b[39;49m\u001b[39m\"\u001b[39;49m\u001b[39m : $cnt\u001b[39;49m\u001b[39m\\n\u001b[39;49;00m\u001b[39m}\u001b[39;49m\u001b[39m\\n\u001b[39;49;00m\u001b[39m'\u001b[39;49m)\n",
      "File \u001b[0;32m~/Library/Python/3.10/lib/python/site-packages/IPython/core/interactiveshell.py:2417\u001b[0m, in \u001b[0;36mInteractiveShell.run_cell_magic\u001b[0;34m(self, magic_name, line, cell)\u001b[0m\n\u001b[1;32m   2415\u001b[0m \u001b[39mwith\u001b[39;00m \u001b[39mself\u001b[39m\u001b[39m.\u001b[39mbuiltin_trap:\n\u001b[1;32m   2416\u001b[0m     args \u001b[39m=\u001b[39m (magic_arg_s, cell)\n\u001b[0;32m-> 2417\u001b[0m     result \u001b[39m=\u001b[39m fn(\u001b[39m*\u001b[39;49margs, \u001b[39m*\u001b[39;49m\u001b[39m*\u001b[39;49mkwargs)\n\u001b[1;32m   2418\u001b[0m \u001b[39mreturn\u001b[39;00m result\n",
      "File \u001b[0;32m/usr/local/lib/python3.10/site-packages/rumbledb/rumbledb.py:16\u001b[0m, in \u001b[0;36mRumbleDBServerMagic.jsoniq\u001b[0;34m(self, line, cell)\u001b[0m\n\u001b[1;32m     13\u001b[0m     data \u001b[39m=\u001b[39m cell\n\u001b[1;32m     15\u001b[0m start \u001b[39m=\u001b[39m time\u001b[39m.\u001b[39mtime()                                                         \n\u001b[0;32m---> 16\u001b[0m response \u001b[39m=\u001b[39m json\u001b[39m.\u001b[39mloads(requests\u001b[39m.\u001b[39;49mpost(os\u001b[39m.\u001b[39;49menviron[\u001b[39m\"\u001b[39;49m\u001b[39mRUMBLEDB_SERVER\u001b[39;49m\u001b[39m\"\u001b[39;49m], data\u001b[39m=\u001b[39;49mdata)\u001b[39m.\u001b[39mtext)                   \n\u001b[1;32m     17\u001b[0m end \u001b[39m=\u001b[39m time\u001b[39m.\u001b[39mtime()                                                              \n\u001b[1;32m     18\u001b[0m \u001b[39mprint\u001b[39m(\u001b[39m\"\u001b[39m\u001b[39mTook: \u001b[39m\u001b[39m%s\u001b[39;00m\u001b[39m ms\u001b[39m\u001b[39m\"\u001b[39m \u001b[39m%\u001b[39m (end \u001b[39m-\u001b[39m start))\n",
      "File \u001b[0;32m/usr/local/lib/python3.10/site-packages/requests/api.py:115\u001b[0m, in \u001b[0;36mpost\u001b[0;34m(url, data, json, **kwargs)\u001b[0m\n\u001b[1;32m    103\u001b[0m \u001b[39mdef\u001b[39;00m \u001b[39mpost\u001b[39m(url, data\u001b[39m=\u001b[39m\u001b[39mNone\u001b[39;00m, json\u001b[39m=\u001b[39m\u001b[39mNone\u001b[39;00m, \u001b[39m*\u001b[39m\u001b[39m*\u001b[39mkwargs):\n\u001b[1;32m    104\u001b[0m     \u001b[39mr\u001b[39m\u001b[39m\"\"\"Sends a POST request.\u001b[39;00m\n\u001b[1;32m    105\u001b[0m \n\u001b[1;32m    106\u001b[0m \u001b[39m    :param url: URL for the new :class:`Request` object.\u001b[39;00m\n\u001b[0;32m   (...)\u001b[0m\n\u001b[1;32m    112\u001b[0m \u001b[39m    :rtype: requests.Response\u001b[39;00m\n\u001b[1;32m    113\u001b[0m \u001b[39m    \"\"\"\u001b[39;00m\n\u001b[0;32m--> 115\u001b[0m     \u001b[39mreturn\u001b[39;00m request(\u001b[39m\"\u001b[39;49m\u001b[39mpost\u001b[39;49m\u001b[39m\"\u001b[39;49m, url, data\u001b[39m=\u001b[39;49mdata, json\u001b[39m=\u001b[39;49mjson, \u001b[39m*\u001b[39;49m\u001b[39m*\u001b[39;49mkwargs)\n",
      "File \u001b[0;32m/usr/local/lib/python3.10/site-packages/requests/api.py:59\u001b[0m, in \u001b[0;36mrequest\u001b[0;34m(method, url, **kwargs)\u001b[0m\n\u001b[1;32m     55\u001b[0m \u001b[39m# By using the 'with' statement we are sure the session is closed, thus we\u001b[39;00m\n\u001b[1;32m     56\u001b[0m \u001b[39m# avoid leaving sockets open which can trigger a ResourceWarning in some\u001b[39;00m\n\u001b[1;32m     57\u001b[0m \u001b[39m# cases, and look like a memory leak in others.\u001b[39;00m\n\u001b[1;32m     58\u001b[0m \u001b[39mwith\u001b[39;00m sessions\u001b[39m.\u001b[39mSession() \u001b[39mas\u001b[39;00m session:\n\u001b[0;32m---> 59\u001b[0m     \u001b[39mreturn\u001b[39;00m session\u001b[39m.\u001b[39;49mrequest(method\u001b[39m=\u001b[39;49mmethod, url\u001b[39m=\u001b[39;49murl, \u001b[39m*\u001b[39;49m\u001b[39m*\u001b[39;49mkwargs)\n",
      "File \u001b[0;32m/usr/local/lib/python3.10/site-packages/requests/sessions.py:587\u001b[0m, in \u001b[0;36mSession.request\u001b[0;34m(self, method, url, params, data, headers, cookies, files, auth, timeout, allow_redirects, proxies, hooks, stream, verify, cert, json)\u001b[0m\n\u001b[1;32m    582\u001b[0m send_kwargs \u001b[39m=\u001b[39m {\n\u001b[1;32m    583\u001b[0m     \u001b[39m\"\u001b[39m\u001b[39mtimeout\u001b[39m\u001b[39m\"\u001b[39m: timeout,\n\u001b[1;32m    584\u001b[0m     \u001b[39m\"\u001b[39m\u001b[39mallow_redirects\u001b[39m\u001b[39m\"\u001b[39m: allow_redirects,\n\u001b[1;32m    585\u001b[0m }\n\u001b[1;32m    586\u001b[0m send_kwargs\u001b[39m.\u001b[39mupdate(settings)\n\u001b[0;32m--> 587\u001b[0m resp \u001b[39m=\u001b[39m \u001b[39mself\u001b[39;49m\u001b[39m.\u001b[39;49msend(prep, \u001b[39m*\u001b[39;49m\u001b[39m*\u001b[39;49msend_kwargs)\n\u001b[1;32m    589\u001b[0m \u001b[39mreturn\u001b[39;00m resp\n",
      "File \u001b[0;32m/usr/local/lib/python3.10/site-packages/requests/sessions.py:701\u001b[0m, in \u001b[0;36mSession.send\u001b[0;34m(self, request, **kwargs)\u001b[0m\n\u001b[1;32m    698\u001b[0m start \u001b[39m=\u001b[39m preferred_clock()\n\u001b[1;32m    700\u001b[0m \u001b[39m# Send the request\u001b[39;00m\n\u001b[0;32m--> 701\u001b[0m r \u001b[39m=\u001b[39m adapter\u001b[39m.\u001b[39;49msend(request, \u001b[39m*\u001b[39;49m\u001b[39m*\u001b[39;49mkwargs)\n\u001b[1;32m    703\u001b[0m \u001b[39m# Total elapsed time of the request (approximately)\u001b[39;00m\n\u001b[1;32m    704\u001b[0m elapsed \u001b[39m=\u001b[39m preferred_clock() \u001b[39m-\u001b[39m start\n",
      "File \u001b[0;32m/usr/local/lib/python3.10/site-packages/requests/adapters.py:489\u001b[0m, in \u001b[0;36mHTTPAdapter.send\u001b[0;34m(self, request, stream, timeout, verify, cert, proxies)\u001b[0m\n\u001b[1;32m    487\u001b[0m \u001b[39mtry\u001b[39;00m:\n\u001b[1;32m    488\u001b[0m     \u001b[39mif\u001b[39;00m \u001b[39mnot\u001b[39;00m chunked:\n\u001b[0;32m--> 489\u001b[0m         resp \u001b[39m=\u001b[39m conn\u001b[39m.\u001b[39;49murlopen(\n\u001b[1;32m    490\u001b[0m             method\u001b[39m=\u001b[39;49mrequest\u001b[39m.\u001b[39;49mmethod,\n\u001b[1;32m    491\u001b[0m             url\u001b[39m=\u001b[39;49murl,\n\u001b[1;32m    492\u001b[0m             body\u001b[39m=\u001b[39;49mrequest\u001b[39m.\u001b[39;49mbody,\n\u001b[1;32m    493\u001b[0m             headers\u001b[39m=\u001b[39;49mrequest\u001b[39m.\u001b[39;49mheaders,\n\u001b[1;32m    494\u001b[0m             redirect\u001b[39m=\u001b[39;49m\u001b[39mFalse\u001b[39;49;00m,\n\u001b[1;32m    495\u001b[0m             assert_same_host\u001b[39m=\u001b[39;49m\u001b[39mFalse\u001b[39;49;00m,\n\u001b[1;32m    496\u001b[0m             preload_content\u001b[39m=\u001b[39;49m\u001b[39mFalse\u001b[39;49;00m,\n\u001b[1;32m    497\u001b[0m             decode_content\u001b[39m=\u001b[39;49m\u001b[39mFalse\u001b[39;49;00m,\n\u001b[1;32m    498\u001b[0m             retries\u001b[39m=\u001b[39;49m\u001b[39mself\u001b[39;49m\u001b[39m.\u001b[39;49mmax_retries,\n\u001b[1;32m    499\u001b[0m             timeout\u001b[39m=\u001b[39;49mtimeout,\n\u001b[1;32m    500\u001b[0m         )\n\u001b[1;32m    502\u001b[0m     \u001b[39m# Send the request.\u001b[39;00m\n\u001b[1;32m    503\u001b[0m     \u001b[39melse\u001b[39;00m:\n\u001b[1;32m    504\u001b[0m         \u001b[39mif\u001b[39;00m \u001b[39mhasattr\u001b[39m(conn, \u001b[39m\"\u001b[39m\u001b[39mproxy_pool\u001b[39m\u001b[39m\"\u001b[39m):\n",
      "File \u001b[0;32m/usr/local/lib/python3.10/site-packages/urllib3/connectionpool.py:703\u001b[0m, in \u001b[0;36mHTTPConnectionPool.urlopen\u001b[0;34m(self, method, url, body, headers, retries, redirect, assert_same_host, timeout, pool_timeout, release_conn, chunked, body_pos, **response_kw)\u001b[0m\n\u001b[1;32m    700\u001b[0m     \u001b[39mself\u001b[39m\u001b[39m.\u001b[39m_prepare_proxy(conn)\n\u001b[1;32m    702\u001b[0m \u001b[39m# Make the request on the httplib connection object.\u001b[39;00m\n\u001b[0;32m--> 703\u001b[0m httplib_response \u001b[39m=\u001b[39m \u001b[39mself\u001b[39;49m\u001b[39m.\u001b[39;49m_make_request(\n\u001b[1;32m    704\u001b[0m     conn,\n\u001b[1;32m    705\u001b[0m     method,\n\u001b[1;32m    706\u001b[0m     url,\n\u001b[1;32m    707\u001b[0m     timeout\u001b[39m=\u001b[39;49mtimeout_obj,\n\u001b[1;32m    708\u001b[0m     body\u001b[39m=\u001b[39;49mbody,\n\u001b[1;32m    709\u001b[0m     headers\u001b[39m=\u001b[39;49mheaders,\n\u001b[1;32m    710\u001b[0m     chunked\u001b[39m=\u001b[39;49mchunked,\n\u001b[1;32m    711\u001b[0m )\n\u001b[1;32m    713\u001b[0m \u001b[39m# If we're going to release the connection in ``finally:``, then\u001b[39;00m\n\u001b[1;32m    714\u001b[0m \u001b[39m# the response doesn't need to know about the connection. Otherwise\u001b[39;00m\n\u001b[1;32m    715\u001b[0m \u001b[39m# it will also try to release it and we'll have a double-release\u001b[39;00m\n\u001b[1;32m    716\u001b[0m \u001b[39m# mess.\u001b[39;00m\n\u001b[1;32m    717\u001b[0m response_conn \u001b[39m=\u001b[39m conn \u001b[39mif\u001b[39;00m \u001b[39mnot\u001b[39;00m release_conn \u001b[39melse\u001b[39;00m \u001b[39mNone\u001b[39;00m\n",
      "File \u001b[0;32m/usr/local/lib/python3.10/site-packages/urllib3/connectionpool.py:449\u001b[0m, in \u001b[0;36mHTTPConnectionPool._make_request\u001b[0;34m(self, conn, method, url, timeout, chunked, **httplib_request_kw)\u001b[0m\n\u001b[1;32m    444\u001b[0m             httplib_response \u001b[39m=\u001b[39m conn\u001b[39m.\u001b[39mgetresponse()\n\u001b[1;32m    445\u001b[0m         \u001b[39mexcept\u001b[39;00m \u001b[39mBaseException\u001b[39;00m \u001b[39mas\u001b[39;00m e:\n\u001b[1;32m    446\u001b[0m             \u001b[39m# Remove the TypeError from the exception chain in\u001b[39;00m\n\u001b[1;32m    447\u001b[0m             \u001b[39m# Python 3 (including for exceptions like SystemExit).\u001b[39;00m\n\u001b[1;32m    448\u001b[0m             \u001b[39m# Otherwise it looks like a bug in the code.\u001b[39;00m\n\u001b[0;32m--> 449\u001b[0m             six\u001b[39m.\u001b[39;49mraise_from(e, \u001b[39mNone\u001b[39;49;00m)\n\u001b[1;32m    450\u001b[0m \u001b[39mexcept\u001b[39;00m (SocketTimeout, BaseSSLError, SocketError) \u001b[39mas\u001b[39;00m e:\n\u001b[1;32m    451\u001b[0m     \u001b[39mself\u001b[39m\u001b[39m.\u001b[39m_raise_timeout(err\u001b[39m=\u001b[39me, url\u001b[39m=\u001b[39murl, timeout_value\u001b[39m=\u001b[39mread_timeout)\n",
      "File \u001b[0;32m<string>:3\u001b[0m, in \u001b[0;36mraise_from\u001b[0;34m(value, from_value)\u001b[0m\n",
      "File \u001b[0;32m/usr/local/lib/python3.10/site-packages/urllib3/connectionpool.py:444\u001b[0m, in \u001b[0;36mHTTPConnectionPool._make_request\u001b[0;34m(self, conn, method, url, timeout, chunked, **httplib_request_kw)\u001b[0m\n\u001b[1;32m    441\u001b[0m \u001b[39mexcept\u001b[39;00m \u001b[39mTypeError\u001b[39;00m:\n\u001b[1;32m    442\u001b[0m     \u001b[39m# Python 3\u001b[39;00m\n\u001b[1;32m    443\u001b[0m     \u001b[39mtry\u001b[39;00m:\n\u001b[0;32m--> 444\u001b[0m         httplib_response \u001b[39m=\u001b[39m conn\u001b[39m.\u001b[39;49mgetresponse()\n\u001b[1;32m    445\u001b[0m     \u001b[39mexcept\u001b[39;00m \u001b[39mBaseException\u001b[39;00m \u001b[39mas\u001b[39;00m e:\n\u001b[1;32m    446\u001b[0m         \u001b[39m# Remove the TypeError from the exception chain in\u001b[39;00m\n\u001b[1;32m    447\u001b[0m         \u001b[39m# Python 3 (including for exceptions like SystemExit).\u001b[39;00m\n\u001b[1;32m    448\u001b[0m         \u001b[39m# Otherwise it looks like a bug in the code.\u001b[39;00m\n\u001b[1;32m    449\u001b[0m         six\u001b[39m.\u001b[39mraise_from(e, \u001b[39mNone\u001b[39;00m)\n",
      "File \u001b[0;32m/usr/local/Cellar/python@3.10/3.10.8/Frameworks/Python.framework/Versions/3.10/lib/python3.10/http/client.py:1374\u001b[0m, in \u001b[0;36mHTTPConnection.getresponse\u001b[0;34m(self)\u001b[0m\n\u001b[1;32m   1372\u001b[0m \u001b[39mtry\u001b[39;00m:\n\u001b[1;32m   1373\u001b[0m     \u001b[39mtry\u001b[39;00m:\n\u001b[0;32m-> 1374\u001b[0m         response\u001b[39m.\u001b[39;49mbegin()\n\u001b[1;32m   1375\u001b[0m     \u001b[39mexcept\u001b[39;00m \u001b[39mConnectionError\u001b[39;00m:\n\u001b[1;32m   1376\u001b[0m         \u001b[39mself\u001b[39m\u001b[39m.\u001b[39mclose()\n",
      "File \u001b[0;32m/usr/local/Cellar/python@3.10/3.10.8/Frameworks/Python.framework/Versions/3.10/lib/python3.10/http/client.py:318\u001b[0m, in \u001b[0;36mHTTPResponse.begin\u001b[0;34m(self)\u001b[0m\n\u001b[1;32m    316\u001b[0m \u001b[39m# read until we get a non-100 response\u001b[39;00m\n\u001b[1;32m    317\u001b[0m \u001b[39mwhile\u001b[39;00m \u001b[39mTrue\u001b[39;00m:\n\u001b[0;32m--> 318\u001b[0m     version, status, reason \u001b[39m=\u001b[39m \u001b[39mself\u001b[39;49m\u001b[39m.\u001b[39;49m_read_status()\n\u001b[1;32m    319\u001b[0m     \u001b[39mif\u001b[39;00m status \u001b[39m!=\u001b[39m CONTINUE:\n\u001b[1;32m    320\u001b[0m         \u001b[39mbreak\u001b[39;00m\n",
      "File \u001b[0;32m/usr/local/Cellar/python@3.10/3.10.8/Frameworks/Python.framework/Versions/3.10/lib/python3.10/http/client.py:279\u001b[0m, in \u001b[0;36mHTTPResponse._read_status\u001b[0;34m(self)\u001b[0m\n\u001b[1;32m    278\u001b[0m \u001b[39mdef\u001b[39;00m \u001b[39m_read_status\u001b[39m(\u001b[39mself\u001b[39m):\n\u001b[0;32m--> 279\u001b[0m     line \u001b[39m=\u001b[39m \u001b[39mstr\u001b[39m(\u001b[39mself\u001b[39;49m\u001b[39m.\u001b[39;49mfp\u001b[39m.\u001b[39;49mreadline(_MAXLINE \u001b[39m+\u001b[39;49m \u001b[39m1\u001b[39;49m), \u001b[39m\"\u001b[39m\u001b[39miso-8859-1\u001b[39m\u001b[39m\"\u001b[39m)\n\u001b[1;32m    280\u001b[0m     \u001b[39mif\u001b[39;00m \u001b[39mlen\u001b[39m(line) \u001b[39m>\u001b[39m _MAXLINE:\n\u001b[1;32m    281\u001b[0m         \u001b[39mraise\u001b[39;00m LineTooLong(\u001b[39m\"\u001b[39m\u001b[39mstatus line\u001b[39m\u001b[39m\"\u001b[39m)\n",
      "File \u001b[0;32m/usr/local/Cellar/python@3.10/3.10.8/Frameworks/Python.framework/Versions/3.10/lib/python3.10/socket.py:705\u001b[0m, in \u001b[0;36mSocketIO.readinto\u001b[0;34m(self, b)\u001b[0m\n\u001b[1;32m    703\u001b[0m \u001b[39mwhile\u001b[39;00m \u001b[39mTrue\u001b[39;00m:\n\u001b[1;32m    704\u001b[0m     \u001b[39mtry\u001b[39;00m:\n\u001b[0;32m--> 705\u001b[0m         \u001b[39mreturn\u001b[39;00m \u001b[39mself\u001b[39;49m\u001b[39m.\u001b[39;49m_sock\u001b[39m.\u001b[39;49mrecv_into(b)\n\u001b[1;32m    706\u001b[0m     \u001b[39mexcept\u001b[39;00m timeout:\n\u001b[1;32m    707\u001b[0m         \u001b[39mself\u001b[39m\u001b[39m.\u001b[39m_timeout_occurred \u001b[39m=\u001b[39m \u001b[39mTrue\u001b[39;00m\n",
      "\u001b[0;31mKeyboardInterrupt\u001b[0m: "
     ]
    }
   ],
   "source": [
    "%%jsoniq\n",
    "for $git in json-file(\"git-archive-big.json\")\n",
    "let $actor := $git.actor.id\n",
    "group by $actor\n",
    "where $git.type = \"PushEvent\"\n",
    "let $cnt := count($git)\n",
    "order by $cnt descending\n",
    "count $c\n",
    "where $c le 5\n",
    "return {\n",
    "\"id\" : $actor,\n",
    "\"count\" : $cnt\n",
    "}"
   ]
  },
  {
   "cell_type": "markdown",
   "metadata": {},
   "source": [
    "### Question 2: Who is the actor that has committed the largest set of distinct event types? \n",
    "\n",
    "Answer with the actor id.\n",
    "\n",
    "Hint: a priori there could be more than one, but in fact there is only one with the highest number of distinct event types."
   ]
  },
  {
   "cell_type": "code",
   "execution_count": null,
   "metadata": {},
   "outputs": [],
   "source": [
    "   "
   ]
  },
  {
   "cell_type": "markdown",
   "metadata": {},
   "source": [
    "### Question 3: At what time was the most recent fork of the repository \"bitcoin/bitcoin\" created?\n",
    "\n",
    "\n",
    "Important: Provide the hour, minute and seconds of the most recent one as numbers (e.g. if the timestamp is \"2018-01-01T14:20:59Z\" provide only 14 20 59)\n"
   ]
  },
  {
   "cell_type": "code",
   "execution_count": null,
   "metadata": {},
   "outputs": [],
   "source": [
    "  "
   ]
  },
  {
   "cell_type": "markdown",
   "metadata": {},
   "source": [
    "# 4. Creating Parquet documents using RumbleDB and JSound (optional)\n",
    "In this exercise, we will be writing a JSONiq query which validates a document using a JSound schema to create a user defined type, which we can then query! Then, we will output it in the [Parquet](https://parquet.apache.org/) file format. "
   ]
  },
  {
   "cell_type": "markdown",
   "metadata": {},
   "source": [
    "### 4.1 JSound Schema for the Great Language Game\n",
    "The [Great Language Game](http://greatlanguagegame.com/) is a game in which you are given a voice clip to listen, and you are asked to identify the language in which the person was speaking. It is a multiple-choice question–you make your choice out of several alternatives.\n",
    "\n",
    "The following JSON document presents a user's attempt at answering a single question in the game: it contains the identifier of the voice clip, the choices presented to the player, and the player's response. \n",
    "\n",
    "As we see in [exercise06](https://github.com/RumbleDB/bigdata-exercises/blob/47dc2098dd494f25155e449639c41c1bc1d7fd92/Big_Data/exercise06/Exercise06_DataModels_Solution.ipynb), [JSound](http://www.jsound-spec.org/) is a vocabulary that allows you to validate JSON documents. It employs a very simple and intuitive JSON-like syntax.\n",
    "\n",
    "Your task: provide a JSound Schema which will validate this document. \n",
    "```json\n",
    "{\n",
    "  \"guess\": \"Norwegian\",\n",
    "  \"target\": \"Norwegian\", \n",
    "  \"country\": \"AU\",\n",
    "  \"choices\": [ \"Maori\", \"Mandarin\", \"Norwegian\", \"Tongan\" ], \n",
    "  \"sample\": \"48f9c924e0d98c959d8a6f1862b3ce9a\",\n",
    "  \"date\": \"2013-08-19\"\n",
    "}\n",
    "```\n",
    "\n",
    "You can refer to the documentation for [a list of types in JSound](http://www.jsound-spec.org/publish/en-US/JSound/2.0/html-single/JSound/index.html#idm126).\n"
   ]
  },
  {
   "cell_type": "markdown",
   "metadata": {},
   "source": [
    " "
   ]
  },
  {
   "cell_type": "markdown",
   "metadata": {},
   "source": [
    "### 4.2 Validating our first documents\n",
    "Now let's validate the above document with the schema we just wrote:"
   ]
  },
  {
   "cell_type": "code",
   "execution_count": null,
   "metadata": {},
   "outputs": [],
   "source": [
    "%%jsoniq\n",
    "declare type local:attempt as {\n",
    "    // Replace this object with your JSound schema!\n",
    "    // Remember to keep the semi-colon :)\n",
    "};\n",
    "\n",
    "validate type local:attempt* {\n",
    "  {\n",
    "    \"guess\": \"Norwegian\",\n",
    "    \"target\": \"Norwegian\", \n",
    "    \"country\": \"AU\",\n",
    "    \"choices\": [ \"Maori\", \"Mandarin\", \"Norwegian\", \"Tongan\" ], \n",
    "    \"sample\": \"48f9c924e0d98c959d8a6f1862b3ce9a\",\n",
    "    \"date\": \"2013-08-19\"\n",
    "  }\n",
    "}"
   ]
  },
  {
   "cell_type": "markdown",
   "metadata": {},
   "source": [
    "Let's work with a larger version of the Great Language Game (Confusion) dataset, stored in the JSON format. The file should already be in the local directory as `confusion-100000.json`.\n",
    "\n",
    "We can query this file directly on the local disk using Rumble:"
   ]
  },
  {
   "cell_type": "code",
   "execution_count": null,
   "metadata": {},
   "outputs": [],
   "source": [
    "%%jsoniq\n",
    "count(json-file(\"confusion-100000.json\"))"
   ]
  },
  {
   "cell_type": "markdown",
   "metadata": {},
   "source": [
    "Now, let's use our schema to validate the first 10 attempts from the dataset:"
   ]
  },
  {
   "cell_type": "code",
   "execution_count": null,
   "metadata": {
    "scrolled": true
   },
   "outputs": [],
   "source": [
    "%%jsoniq\n",
    "declare type local:attempt as {\n",
    "    // Replace this object with your JSound schema!\n",
    "    // Remember to keep the semi-colon :)\n",
    "};\n",
    "\n",
    "validate type local:attempt* {\n",
    "    json-file(\"confusion-100000.json\")[position() <= 10]\n",
    "}"
   ]
  },
  {
   "cell_type": "markdown",
   "metadata": {},
   "source": [
    "Although it seems like nothing is happening, our query is returning _typed_ objects instead of JSON strings. This means that we can interact with values like dates in more meaningful ways:"
   ]
  },
  {
   "cell_type": "code",
   "execution_count": null,
   "metadata": {},
   "outputs": [],
   "source": [
    "%%jsoniq\n",
    "declare type local:attempt as {\n",
    "    // Replace this object with your JSound schema!\n",
    "    // Remember to keep the semi-colon :)\n",
    "};\n",
    "\n",
    "for $i in validate type local:attempt* {\n",
    "    json-file(\"confusion-100000.json\")[position() <= 10]\n",
    "}\n",
    "let $date := $i.date\n",
    "return month-from-date($date)"
   ]
  },
  {
   "cell_type": "markdown",
   "metadata": {},
   "source": [
    "  "
   ]
  },
  {
   "cell_type": "markdown",
   "metadata": {},
   "source": [
    "### 4.3 From JSON to Parquet\n",
    "Now, let's try validate our entire dataset and output it as a Parquet file! We'll need the shell for this, so let's first create a JSONiq file containing our query. Modify and then copy the following query into a new file called `query.jq`.\n",
    "\n",
    "**Hint:** Date types in JSound can have timezones, but Parquet does not support dates with timezones at the moment. We should instead validate dates as strings for this exercise.\n",
    "\n",
    "```json\n",
    "declare type local:attempt as {\n",
    "    // Replace this object with your JSound schema!\n",
    "    // Remember to keep the semi-colon :)\n",
    "};\n",
    "\n",
    "validate type local:attempt* {\n",
    "    json-file(\"confusion-100000.json\", 10)\n",
    "}\n",
    "```"
   ]
  },
  {
   "cell_type": "markdown",
   "metadata": {},
   "source": [
    "Then, we can run the query through the shell, specifying the output format as Parquet."
   ]
  },
  {
   "cell_type": "markdown",
   "metadata": {},
   "source": [
    "Run the following tests in a shell under the exercise directory of this week, or simply here"
   ]
  },
  {
   "cell_type": "code",
   "execution_count": null,
   "metadata": {},
   "outputs": [],
   "source": [
    "!java -jar rumbledb-1.20.0-standalone.jar run -q '1+1'"
   ]
  },
  {
   "cell_type": "code",
   "execution_count": null,
   "metadata": {},
   "outputs": [],
   "source": [
    "!java -jar rumbledb-1.20.0-standalone.jar run query.jq -o result.out -f parquet -P 1"
   ]
  },
  {
   "cell_type": "markdown",
   "metadata": {},
   "source": [
    "Then let's change the file name to be more representative of its contents:"
   ]
  },
  {
   "cell_type": "code",
   "execution_count": null,
   "metadata": {},
   "outputs": [],
   "source": [
    "!cp `find result.out/part-00000*` greatlanguagegame.parquet"
   ]
  },
  {
   "cell_type": "markdown",
   "metadata": {},
   "source": [
    "Where, if we compare the sizes of the JSONL and Parquet files..."
   ]
  },
  {
   "cell_type": "code",
   "execution_count": null,
   "metadata": {
    "scrolled": true
   },
   "outputs": [],
   "source": [
    "!ls -lh"
   ]
  },
  {
   "cell_type": "markdown",
   "metadata": {},
   "source": [
    "...we can see how much smaller the Parquet file is! Parquet is a column-oriented binary storage format with efficient data compression schemes.\n",
    "\n",
    "Intuitively, reducing the size of a file while maintaining fixed throughput means that we can also scan the file much faster! Keep this in mind next time you need to work with a huge JSON dataset!"
   ]
  },
  {
   "cell_type": "code",
   "execution_count": null,
   "metadata": {},
   "outputs": [],
   "source": [
    "%%jsoniq\n",
    "count(parquet-file(\"greatlanguagegame.parquet\"))"
   ]
  },
  {
   "cell_type": "markdown",
   "metadata": {},
   "source": [
    "### 4.4 Bigger data for a bigger benefit \n",
    "\n",
    "The dataset we used was just a subset of the full great language game dataset. When using a larger dataset, we will observe a much more noticeable decrease in time to scan the dataset in Parquet over JSON!\n",
    "\n",
    "We can download this dataset here:"
   ]
  },
  {
   "cell_type": "code",
   "execution_count": null,
   "metadata": {},
   "outputs": [],
   "source": [
    "!wget -O- http://data.greatlanguagegame.com.s3.amazonaws.com/confusion-2014-03-02.tbz2 | tar -jxv"
   ]
  },
  {
   "cell_type": "markdown",
   "metadata": {},
   "source": [
    "Then, let's try repeat several steps from above with the new dataset:"
   ]
  },
  {
   "cell_type": "code",
   "execution_count": null,
   "metadata": {},
   "outputs": [],
   "source": [
    "%%jsoniq\n",
    "count(json-file(\"confusion-2014-03-02/confusion-2014-03-02.json\"))"
   ]
  },
  {
   "cell_type": "markdown",
   "metadata": {},
   "source": [
    "Including creating a new query file to point to the larger dataset:\n",
    "\n",
    "```json\n",
    "declare type local:my-type as {\n",
    "    // Replace this object with your JSound schema!\n",
    "    // Remember to keep the semi-colon :)\n",
    "};\n",
    "\n",
    "validate type local:my-type* {\n",
    "    json-file(\"confusion-2014-03-02/confusion-2014-03-02.json\", 10)\n",
    "}\n",
    "```\n",
    "\n",
    "which should be named `query-large.jq`."
   ]
  },
  {
   "cell_type": "code",
   "execution_count": null,
   "metadata": {},
   "outputs": [],
   "source": [
    "!java -jar rumbledb-1.20.0-standalone.jar run query-large.jq -o result-large.out -f parquet -P 1"
   ]
  },
  {
   "cell_type": "code",
   "execution_count": null,
   "metadata": {},
   "outputs": [],
   "source": [
    "!cp `find result-large.out/part-00000*` greatlanguagegame-large.parquet"
   ]
  },
  {
   "cell_type": "code",
   "execution_count": null,
   "metadata": {},
   "outputs": [],
   "source": [
    "%%jsoniq\n",
    "count(parquet-file(\"greatlanguagegame-large.parquet\"))"
   ]
  },
  {
   "cell_type": "markdown",
   "metadata": {},
   "source": [
    " "
   ]
  },
  {
   "cell_type": "markdown",
   "metadata": {},
   "source": [
    " "
   ]
  }
 ],
 "metadata": {
  "anaconda-cloud": {},
  "kernelspec": {
   "display_name": "Python 3",
   "language": "python",
   "name": "python3"
  },
  "language_info": {
   "codemirror_mode": {
    "name": "ipython",
    "version": 3
   },
   "file_extension": ".py",
   "mimetype": "text/x-python",
   "name": "python",
   "nbconvert_exporter": "python",
   "pygments_lexer": "ipython3",
   "version": "3.10.8"
  },
  "vscode": {
   "interpreter": {
    "hash": "aee8b7b246df8f9039afb4144a1f6fd8d2ca17a180786b69acc140d282b71a49"
   }
  }
 },
 "nbformat": 4,
 "nbformat_minor": 1
}
