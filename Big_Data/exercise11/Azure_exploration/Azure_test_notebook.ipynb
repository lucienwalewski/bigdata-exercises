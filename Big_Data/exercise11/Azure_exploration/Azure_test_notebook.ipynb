{
 "cells": [
  {
   "cell_type": "code",
   "execution_count": 1,
   "id": "c82758b2",
   "metadata": {},
   "outputs": [
    {
     "name": "stdout",
     "output_type": "stream",
     "text": [
      "Requirement already satisfied: rumbledb in /usr/local/lib/python3.10/site-packages (1.17.3)\n",
      "Requirement already satisfied: jupyter in /usr/local/lib/python3.10/site-packages (from rumbledb) (1.0.0)\n",
      "Requirement already satisfied: requests in /usr/local/lib/python3.10/site-packages (from rumbledb) (2.28.1)\n",
      "Requirement already satisfied: notebook in /usr/local/lib/python3.10/site-packages (from jupyter->rumbledb) (6.5.2)\n",
      "Requirement already satisfied: nbconvert in /usr/local/lib/python3.10/site-packages (from jupyter->rumbledb) (7.2.6)\n",
      "Requirement already satisfied: ipywidgets in /usr/local/lib/python3.10/site-packages (from jupyter->rumbledb) (8.0.3)\n",
      "Requirement already satisfied: qtconsole in /usr/local/lib/python3.10/site-packages (from jupyter->rumbledb) (5.4.0)\n",
      "Requirement already satisfied: jupyter-console in /usr/local/lib/python3.10/site-packages (from jupyter->rumbledb) (6.4.4)\n",
      "Requirement already satisfied: ipykernel in /Users/lucienwalewski/Library/Python/3.10/lib/python/site-packages (from jupyter->rumbledb) (6.19.2)\n",
      "Requirement already satisfied: certifi>=2017.4.17 in /usr/local/lib/python3.10/site-packages (from requests->rumbledb) (2022.12.7)\n",
      "Requirement already satisfied: urllib3<1.27,>=1.21.1 in /usr/local/lib/python3.10/site-packages (from requests->rumbledb) (1.26.13)\n",
      "Requirement already satisfied: idna<4,>=2.5 in /usr/local/lib/python3.10/site-packages (from requests->rumbledb) (3.4)\n",
      "Requirement already satisfied: charset-normalizer<3,>=2 in /usr/local/lib/python3.10/site-packages (from requests->rumbledb) (2.1.1)\n",
      "Requirement already satisfied: pyzmq>=17 in /Users/lucienwalewski/Library/Python/3.10/lib/python/site-packages (from ipykernel->jupyter->rumbledb) (24.0.1)\n",
      "Requirement already satisfied: debugpy>=1.0 in /Users/lucienwalewski/Library/Python/3.10/lib/python/site-packages (from ipykernel->jupyter->rumbledb) (1.6.4)\n",
      "Requirement already satisfied: psutil in /Users/lucienwalewski/Library/Python/3.10/lib/python/site-packages (from ipykernel->jupyter->rumbledb) (5.9.4)\n",
      "Requirement already satisfied: jupyter-client>=6.1.12 in /Users/lucienwalewski/Library/Python/3.10/lib/python/site-packages (from ipykernel->jupyter->rumbledb) (7.4.8)\n",
      "Requirement already satisfied: nest-asyncio in /Users/lucienwalewski/Library/Python/3.10/lib/python/site-packages (from ipykernel->jupyter->rumbledb) (1.5.6)\n",
      "Requirement already satisfied: comm>=0.1.1 in /Users/lucienwalewski/Library/Python/3.10/lib/python/site-packages (from ipykernel->jupyter->rumbledb) (0.1.2)\n",
      "Requirement already satisfied: appnope in /Users/lucienwalewski/Library/Python/3.10/lib/python/site-packages (from ipykernel->jupyter->rumbledb) (0.1.3)\n",
      "Requirement already satisfied: traitlets>=5.4.0 in /Users/lucienwalewski/Library/Python/3.10/lib/python/site-packages (from ipykernel->jupyter->rumbledb) (5.7.1)\n",
      "Requirement already satisfied: ipython>=7.23.1 in /Users/lucienwalewski/Library/Python/3.10/lib/python/site-packages (from ipykernel->jupyter->rumbledb) (8.7.0)\n",
      "Requirement already satisfied: matplotlib-inline>=0.1 in /Users/lucienwalewski/Library/Python/3.10/lib/python/site-packages (from ipykernel->jupyter->rumbledb) (0.1.6)\n",
      "Requirement already satisfied: packaging in /Users/lucienwalewski/Library/Python/3.10/lib/python/site-packages (from ipykernel->jupyter->rumbledb) (22.0)\n",
      "Requirement already satisfied: tornado>=6.1 in /Users/lucienwalewski/Library/Python/3.10/lib/python/site-packages (from ipykernel->jupyter->rumbledb) (6.2)\n",
      "Requirement already satisfied: jupyterlab-widgets~=3.0 in /usr/local/lib/python3.10/site-packages (from ipywidgets->jupyter->rumbledb) (3.0.4)\n",
      "Requirement already satisfied: widgetsnbextension~=4.0 in /usr/local/lib/python3.10/site-packages (from ipywidgets->jupyter->rumbledb) (4.0.4)\n",
      "Requirement already satisfied: pygments in /Users/lucienwalewski/Library/Python/3.10/lib/python/site-packages (from jupyter-console->jupyter->rumbledb) (2.13.0)\n",
      "Requirement already satisfied: prompt-toolkit!=3.0.0,!=3.0.1,<3.1.0,>=2.0.0 in /Users/lucienwalewski/Library/Python/3.10/lib/python/site-packages (from jupyter-console->jupyter->rumbledb) (3.0.36)\n",
      "Requirement already satisfied: bleach in /usr/local/lib/python3.10/site-packages (from nbconvert->jupyter->rumbledb) (5.0.1)\n",
      "Requirement already satisfied: defusedxml in /usr/local/lib/python3.10/site-packages (from nbconvert->jupyter->rumbledb) (0.7.1)\n",
      "Requirement already satisfied: nbclient>=0.5.0 in /usr/local/lib/python3.10/site-packages (from nbconvert->jupyter->rumbledb) (0.7.2)\n",
      "Requirement already satisfied: tinycss2 in /usr/local/lib/python3.10/site-packages (from nbconvert->jupyter->rumbledb) (1.2.1)\n",
      "Requirement already satisfied: jupyterlab-pygments in /usr/local/lib/python3.10/site-packages (from nbconvert->jupyter->rumbledb) (0.2.2)\n",
      "Requirement already satisfied: markupsafe>=2.0 in /usr/local/lib/python3.10/site-packages (from nbconvert->jupyter->rumbledb) (2.1.1)\n",
      "Requirement already satisfied: jupyter-core>=4.7 in /Users/lucienwalewski/Library/Python/3.10/lib/python/site-packages (from nbconvert->jupyter->rumbledb) (5.1.0)\n",
      "Requirement already satisfied: jinja2>=3.0 in /usr/local/lib/python3.10/site-packages (from nbconvert->jupyter->rumbledb) (3.1.2)\n",
      "Requirement already satisfied: mistune<3,>=2.0.3 in /usr/local/lib/python3.10/site-packages (from nbconvert->jupyter->rumbledb) (2.0.4)\n",
      "Requirement already satisfied: nbformat>=5.1 in /usr/local/lib/python3.10/site-packages (from nbconvert->jupyter->rumbledb) (5.7.0)\n",
      "Requirement already satisfied: pandocfilters>=1.4.1 in /usr/local/lib/python3.10/site-packages (from nbconvert->jupyter->rumbledb) (1.5.0)\n",
      "Requirement already satisfied: beautifulsoup4 in /usr/local/lib/python3.10/site-packages (from nbconvert->jupyter->rumbledb) (4.11.1)\n",
      "Requirement already satisfied: argon2-cffi in /usr/local/lib/python3.10/site-packages (from notebook->jupyter->rumbledb) (21.3.0)\n",
      "Requirement already satisfied: Send2Trash>=1.8.0 in /usr/local/lib/python3.10/site-packages (from notebook->jupyter->rumbledb) (1.8.0)\n",
      "Requirement already satisfied: ipython-genutils in /usr/local/lib/python3.10/site-packages (from notebook->jupyter->rumbledb) (0.2.0)\n",
      "Requirement already satisfied: nbclassic>=0.4.7 in /usr/local/lib/python3.10/site-packages (from notebook->jupyter->rumbledb) (0.4.8)\n",
      "Requirement already satisfied: prometheus-client in /usr/local/lib/python3.10/site-packages (from notebook->jupyter->rumbledb) (0.15.0)\n",
      "Requirement already satisfied: terminado>=0.8.3 in /usr/local/lib/python3.10/site-packages (from notebook->jupyter->rumbledb) (0.17.1)\n",
      "Requirement already satisfied: qtpy>=2.0.1 in /usr/local/lib/python3.10/site-packages (from qtconsole->jupyter->rumbledb) (2.3.0)\n",
      "Requirement already satisfied: pexpect>4.3 in /Users/lucienwalewski/Library/Python/3.10/lib/python/site-packages (from ipython>=7.23.1->ipykernel->jupyter->rumbledb) (4.8.0)\n",
      "Requirement already satisfied: decorator in /Users/lucienwalewski/Library/Python/3.10/lib/python/site-packages (from ipython>=7.23.1->ipykernel->jupyter->rumbledb) (5.1.1)\n",
      "Requirement already satisfied: pickleshare in /Users/lucienwalewski/Library/Python/3.10/lib/python/site-packages (from ipython>=7.23.1->ipykernel->jupyter->rumbledb) (0.7.5)\n",
      "Requirement already satisfied: stack-data in /Users/lucienwalewski/Library/Python/3.10/lib/python/site-packages (from ipython>=7.23.1->ipykernel->jupyter->rumbledb) (0.6.2)\n",
      "Requirement already satisfied: backcall in /Users/lucienwalewski/Library/Python/3.10/lib/python/site-packages (from ipython>=7.23.1->ipykernel->jupyter->rumbledb) (0.2.0)\n",
      "Requirement already satisfied: jedi>=0.16 in /Users/lucienwalewski/Library/Python/3.10/lib/python/site-packages (from ipython>=7.23.1->ipykernel->jupyter->rumbledb) (0.18.2)\n",
      "Requirement already satisfied: entrypoints in /Users/lucienwalewski/Library/Python/3.10/lib/python/site-packages (from jupyter-client>=6.1.12->ipykernel->jupyter->rumbledb) (0.4)\n",
      "Requirement already satisfied: python-dateutil>=2.8.2 in /Users/lucienwalewski/Library/Python/3.10/lib/python/site-packages (from jupyter-client>=6.1.12->ipykernel->jupyter->rumbledb) (2.8.2)\n",
      "Requirement already satisfied: platformdirs>=2.5 in /Users/lucienwalewski/Library/Python/3.10/lib/python/site-packages (from jupyter-core>=4.7->nbconvert->jupyter->rumbledb) (2.6.0)\n",
      "Requirement already satisfied: notebook-shim>=0.1.0 in /usr/local/lib/python3.10/site-packages (from nbclassic>=0.4.7->notebook->jupyter->rumbledb) (0.2.2)\n",
      "Requirement already satisfied: jupyter-server>=1.8 in /usr/local/lib/python3.10/site-packages (from nbclassic>=0.4.7->notebook->jupyter->rumbledb) (2.0.1)\n",
      "Requirement already satisfied: fastjsonschema in /usr/local/lib/python3.10/site-packages (from nbformat>=5.1->nbconvert->jupyter->rumbledb) (2.16.2)\n",
      "Requirement already satisfied: jsonschema>=2.6 in /usr/local/lib/python3.10/site-packages (from nbformat>=5.1->nbconvert->jupyter->rumbledb) (4.17.3)\n",
      "Requirement already satisfied: wcwidth in /Users/lucienwalewski/Library/Python/3.10/lib/python/site-packages (from prompt-toolkit!=3.0.0,!=3.0.1,<3.1.0,>=2.0.0->jupyter-console->jupyter->rumbledb) (0.2.5)\n",
      "Requirement already satisfied: ptyprocess in /Users/lucienwalewski/Library/Python/3.10/lib/python/site-packages (from terminado>=0.8.3->notebook->jupyter->rumbledb) (0.7.0)\n",
      "Requirement already satisfied: argon2-cffi-bindings in /usr/local/lib/python3.10/site-packages (from argon2-cffi->notebook->jupyter->rumbledb) (21.2.0)\n",
      "Requirement already satisfied: soupsieve>1.2 in /usr/local/lib/python3.10/site-packages (from beautifulsoup4->nbconvert->jupyter->rumbledb) (2.3.2.post1)\n",
      "Requirement already satisfied: six>=1.9.0 in /Users/lucienwalewski/Library/Python/3.10/lib/python/site-packages (from bleach->nbconvert->jupyter->rumbledb) (1.16.0)\n",
      "Requirement already satisfied: webencodings in /usr/local/lib/python3.10/site-packages (from bleach->nbconvert->jupyter->rumbledb) (0.5.1)\n",
      "Requirement already satisfied: parso<0.9.0,>=0.8.0 in /Users/lucienwalewski/Library/Python/3.10/lib/python/site-packages (from jedi>=0.16->ipython>=7.23.1->ipykernel->jupyter->rumbledb) (0.8.3)\n",
      "Requirement already satisfied: attrs>=17.4.0 in /usr/local/lib/python3.10/site-packages (from jsonschema>=2.6->nbformat>=5.1->nbconvert->jupyter->rumbledb) (22.1.0)\n",
      "Requirement already satisfied: pyrsistent!=0.17.0,!=0.17.1,!=0.17.2,>=0.14.0 in /usr/local/lib/python3.10/site-packages (from jsonschema>=2.6->nbformat>=5.1->nbconvert->jupyter->rumbledb) (0.19.2)\n",
      "Requirement already satisfied: jupyter-server-terminals in /usr/local/lib/python3.10/site-packages (from jupyter-server>=1.8->nbclassic>=0.4.7->notebook->jupyter->rumbledb) (0.4.2)\n",
      "Requirement already satisfied: anyio<4,>=3.1.0 in /usr/local/lib/python3.10/site-packages (from jupyter-server>=1.8->nbclassic>=0.4.7->notebook->jupyter->rumbledb) (3.6.2)\n",
      "Requirement already satisfied: websocket-client in /usr/local/lib/python3.10/site-packages (from jupyter-server>=1.8->nbclassic>=0.4.7->notebook->jupyter->rumbledb) (1.4.2)\n",
      "Requirement already satisfied: jupyter-events>=0.4.0 in /usr/local/lib/python3.10/site-packages (from jupyter-server>=1.8->nbclassic>=0.4.7->notebook->jupyter->rumbledb) (0.5.0)\n",
      "Requirement already satisfied: cffi>=1.0.1 in /usr/local/lib/python3.10/site-packages (from argon2-cffi-bindings->argon2-cffi->notebook->jupyter->rumbledb) (1.15.1)\n",
      "Requirement already satisfied: executing>=1.2.0 in /Users/lucienwalewski/Library/Python/3.10/lib/python/site-packages (from stack-data->ipython>=7.23.1->ipykernel->jupyter->rumbledb) (1.2.0)\n",
      "Requirement already satisfied: asttokens>=2.1.0 in /Users/lucienwalewski/Library/Python/3.10/lib/python/site-packages (from stack-data->ipython>=7.23.1->ipykernel->jupyter->rumbledb) (2.2.1)\n",
      "Requirement already satisfied: pure-eval in /Users/lucienwalewski/Library/Python/3.10/lib/python/site-packages (from stack-data->ipython>=7.23.1->ipykernel->jupyter->rumbledb) (0.2.2)\n",
      "Requirement already satisfied: sniffio>=1.1 in /usr/local/lib/python3.10/site-packages (from anyio<4,>=3.1.0->jupyter-server>=1.8->nbclassic>=0.4.7->notebook->jupyter->rumbledb) (1.3.0)\n",
      "Requirement already satisfied: pycparser in /usr/local/lib/python3.10/site-packages (from cffi>=1.0.1->argon2-cffi-bindings->argon2-cffi->notebook->jupyter->rumbledb) (2.21)\n",
      "Requirement already satisfied: python-json-logger in /usr/local/lib/python3.10/site-packages (from jupyter-events>=0.4.0->jupyter-server>=1.8->nbclassic>=0.4.7->notebook->jupyter->rumbledb) (2.0.4)\n",
      "Requirement already satisfied: pyyaml in /usr/local/lib/python3.10/site-packages (from jupyter-events>=0.4.0->jupyter-server>=1.8->nbclassic>=0.4.7->notebook->jupyter->rumbledb) (6.0)\n",
      "Requirement already satisfied: fqdn in /usr/local/lib/python3.10/site-packages (from jsonschema>=2.6->nbformat>=5.1->nbconvert->jupyter->rumbledb) (1.5.1)\n",
      "Requirement already satisfied: webcolors>=1.11 in /usr/local/lib/python3.10/site-packages (from jsonschema>=2.6->nbformat>=5.1->nbconvert->jupyter->rumbledb) (1.12)\n",
      "Requirement already satisfied: rfc3339-validator in /usr/local/lib/python3.10/site-packages (from jsonschema>=2.6->nbformat>=5.1->nbconvert->jupyter->rumbledb) (0.1.4)\n",
      "Requirement already satisfied: rfc3986-validator>0.1.0 in /usr/local/lib/python3.10/site-packages (from jsonschema>=2.6->nbformat>=5.1->nbconvert->jupyter->rumbledb) (0.1.1)\n",
      "Requirement already satisfied: uri-template in /usr/local/lib/python3.10/site-packages (from jsonschema>=2.6->nbformat>=5.1->nbconvert->jupyter->rumbledb) (1.2.0)\n",
      "Requirement already satisfied: jsonpointer>1.13 in /usr/local/lib/python3.10/site-packages (from jsonschema>=2.6->nbformat>=5.1->nbconvert->jupyter->rumbledb) (2.3)\n",
      "Requirement already satisfied: isoduration in /usr/local/lib/python3.10/site-packages (from jsonschema>=2.6->nbformat>=5.1->nbconvert->jupyter->rumbledb) (20.11.0)\n",
      "Requirement already satisfied: arrow>=0.15.0 in /usr/local/lib/python3.10/site-packages (from isoduration->jsonschema>=2.6->nbformat>=5.1->nbconvert->jupyter->rumbledb) (1.2.3)\n",
      "env: RUMBLEDB_SERVER=http://localhost:8002/jsoniq\n"
     ]
    }
   ],
   "source": [
    "!pip install rumbledb\n",
    "%load_ext rumbledb\n",
    "%env RUMBLEDB_SERVER=http://localhost:8002/jsoniq\n"
   ]
  },
  {
   "cell_type": "code",
   "execution_count": 2,
   "id": "8c16f6e2",
   "metadata": {},
   "outputs": [
    {
     "name": "stdout",
     "output_type": "stream",
     "text": [
      "Took: 1.2943952083587646 ms\n",
      "{\"pi\": 3.14, \"sq2\": 1.4}\n"
     ]
    }
   ],
   "source": [
    "%%jsoniq\n",
    "{ \"pi\" : 3.14, \"sq2\" : 1.4 }"
   ]
  },
  {
   "cell_type": "code",
   "execution_count": 3,
   "id": "b32565c6",
   "metadata": {},
   "outputs": [
    {
     "name": "stdout",
     "output_type": "stream",
     "text": [
      "Took: 31.504942178726196 ms\n",
      "36577\n"
     ]
    }
   ],
   "source": [
    "%%jsoniq\n",
    "count(json-file(\"wasbs://newcontainer@rumbledb.blob.core.windows.net/git-archive.json\"))\n"
   ]
  },
  {
   "cell_type": "code",
   "execution_count": 4,
   "id": "9a8003a9",
   "metadata": {},
   "outputs": [
    {
     "name": "stdout",
     "output_type": "stream",
     "text": [
      "Took: 0.18807125091552734 ms\n",
      "{\"Integer 2\": 4}\n"
     ]
    }
   ],
   "source": [
    "%%jsoniq\n",
    "{ concat(\"Integer \", 2) : 2 * 2 }"
   ]
  },
  {
   "attachments": {},
   "cell_type": "markdown",
   "id": "fcec260a",
   "metadata": {},
   "source": [
    "### Question 1\n",
    "\n",
    "Which actor commited the most events of the type \"PushEvent\", and how many did they commit?"
   ]
  },
  {
   "cell_type": "code",
   "execution_count": 7,
   "id": "d7fc4a69",
   "metadata": {},
   "outputs": [
    {
     "name": "stdout",
     "output_type": "stream",
     "text": [
      "Took: 35.78762078285217 ms\n",
      "{\"id\": 56100, \"count\": 3843}\n",
      "{\"id\": 280212, \"count\": 1832}\n",
      "{\"id\": 2033581, \"count\": 966}\n",
      "{\"id\": 1822073, \"count\": 720}\n",
      "{\"id\": 9201970, \"count\": 673}\n"
     ]
    }
   ],
   "source": [
    "%%jsoniq\n",
    "for $git in json-file(\"wasbs://newcontainer@rumbledb.blob.core.windows.net/git-archive-big.json\")\n",
    "let $actor := $git.actor.id\n",
    "group by $actor\n",
    "where $git.type = \"PushEvent\"\n",
    "let $cnt := count($git)\n",
    "order by $cnt descending\n",
    "count $c\n",
    "where $c le 5\n",
    "return {\n",
    "\"id\" : $actor,\n",
    "\"count\" : $cnt\n",
    "}"
   ]
  },
  {
   "cell_type": "code",
   "execution_count": 11,
   "id": "cd694090",
   "metadata": {},
   "outputs": [
    {
     "name": "stdout",
     "output_type": "stream",
     "text": [
      "Took: 27.963408946990967 ms\n",
      "{\"id\": 56100, \"count\": 3843}\n",
      "{\"id\": 280212, \"count\": 1832}\n",
      "{\"id\": 2033581, \"count\": 966}\n",
      "{\"id\": 1822073, \"count\": 720}\n",
      "{\"id\": 9201970, \"count\": 673}\n"
     ]
    }
   ],
   "source": [
    "%%jsoniq\n",
    "let $path := \"wasbs://newcontainer@rumbledb.blob.core.windows.net/git-archive-big.json\"\n",
    "for $event in json-file($path)\n",
    "group by $actor := $event.actor.id\n",
    "where $event.type = \"PushEvent\"\n",
    "let $count := count($event)\n",
    "order by $count descending\n",
    "count $c\n",
    "where $c le 5\n",
    "return {\n",
    "\"id\" : $actor,\n",
    "\"count\" : $count\n",
    "}"
   ]
  },
  {
   "attachments": {},
   "cell_type": "markdown",
   "id": "0af272c6",
   "metadata": {},
   "source": [
    "### Question 2\n",
    "\n",
    "Which actor has committed the largest set of distinct event types?"
   ]
  },
  {
   "cell_type": "code",
   "execution_count": 14,
   "id": "dce0b718",
   "metadata": {},
   "outputs": [
    {
     "name": "stdout",
     "output_type": "stream",
     "text": [
      "Took: 39.16199207305908 ms\n",
      "{\"id\": 419884, \"count\": 11}\n",
      "{\"id\": 756669, \"count\": 10}\n",
      "{\"id\": 2829600, \"count\": 10}\n",
      "{\"id\": 305268, \"count\": 9}\n",
      "{\"id\": 677518, \"count\": 9}\n"
     ]
    }
   ],
   "source": [
    "%%jsoniq\n",
    "let $path := \"wasbs://newcontainer@rumbledb.blob.core.windows.net/git-archive-big.json\"\n",
    "for $event in json-file($path)\n",
    "group by $actor := $event.actor.id\n",
    "let $count := count(distinct-values($event.type))\n",
    "order by $count descending\n",
    "count $c\n",
    "where $c le 5\n",
    "return {\n",
    "    \"id\" : $actor,\n",
    "    \"count\" : $count\n",
    "}"
   ]
  },
  {
   "attachments": {},
   "cell_type": "markdown",
   "id": "5cd5296b",
   "metadata": {},
   "source": [
    "### Question 3\n",
    "\n",
    "At what time was the most recent fork of the repository \"bitcoin/bitcoin\" created?"
   ]
  },
  {
   "cell_type": "code",
   "execution_count": 18,
   "id": "b17e190a",
   "metadata": {},
   "outputs": [
    {
     "name": "stdout",
     "output_type": "stream",
     "text": [
      "Took: 29.562126874923706 ms\n",
      "{\"name\": \"bitcoin/bitcoin\", \"time\": \"2015-01-01T23:35:35Z\", \"type\": \"ForkEvent\"}\n",
      "{\"name\": \"bitcoin/bitcoin\", \"time\": \"2015-01-01T22:54:30Z\", \"type\": \"ForkEvent\"}\n",
      "{\"name\": \"bitcoin/bitcoin\", \"time\": \"2015-01-01T19:01:34Z\", \"type\": \"ForkEvent\"}\n",
      "{\"name\": \"bitcoin/bitcoin\", \"time\": \"2015-01-01T15:51:15Z\", \"type\": \"ForkEvent\"}\n",
      "{\"name\": \"bitcoin/bitcoin\", \"time\": \"2015-01-01T07:10:09Z\", \"type\": \"ForkEvent\"}\n"
     ]
    }
   ],
   "source": [
    "%%jsoniq\n",
    "let $path := \"wasbs://newcontainer@rumbledb.blob.core.windows.net/git-archive-big.json\"\n",
    "for $event in json-file($path)\n",
    "where $event.repo.name = \"bitcoin/bitcoin\" and $event.type = \"ForkEvent\"\n",
    "order by $event.created_at descending\n",
    "count $c\n",
    "where $c le 5\n",
    "return {\n",
    "    \"name\" : $event.repo.name,\n",
    "    \"time\" : $event.created_at,\n",
    "}"
   ]
  },
  {
   "cell_type": "code",
   "execution_count": null,
   "id": "b28724c7",
   "metadata": {},
   "outputs": [],
   "source": []
  }
 ],
 "metadata": {
  "kernelspec": {
   "display_name": "Python 3",
   "language": "python",
   "name": "python3"
  },
  "language_info": {
   "codemirror_mode": {
    "name": "ipython",
    "version": 3
   },
   "file_extension": ".py",
   "mimetype": "text/x-python",
   "name": "python",
   "nbconvert_exporter": "python",
   "pygments_lexer": "ipython3",
   "version": "3.10.8"
  },
  "vscode": {
   "interpreter": {
    "hash": "aee8b7b246df8f9039afb4144a1f6fd8d2ca17a180786b69acc140d282b71a49"
   }
  }
 },
 "nbformat": 4,
 "nbformat_minor": 5
}
